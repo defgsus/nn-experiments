{
 "cells": [
  {
   "cell_type": "code",
   "execution_count": null,
   "id": "f4d60b40-e306-407e-97f1-17385a68ec7b",
   "metadata": {},
   "outputs": [],
   "source": [
    "from init_notebook import *"
   ]
  },
  {
   "cell_type": "code",
   "execution_count": null,
   "id": "4b0dcc8e-2a39-4f17-98c8-c5e1fb9cba04",
   "metadata": {},
   "outputs": [],
   "source": [
    "class Conv2dPoly(nn.Module):\n",
    "    def __init__(\n",
    "            self,\n",
    "            order: int,\n",
    "            in_channels: int,\n",
    "            out_channels: int,\n",
    "            kernel_size: int,\n",
    "            stride: int = 1,\n",
    "            padding: int = 0,\n",
    "            transpose: bool = False,\n",
    "    ):\n",
    "        super().__init__()\n",
    "        self._order = order\n",
    "        self._in_channels = in_channels\n",
    "\n",
    "        self.conv_split = nn.Conv2d(in_channels, in_channels * order, kernel_size=1, groups=in_channels)\n",
    "        conv_class = nn.ConvTranspose2d if transpose else nn.Conv2d\n",
    "        self.conv_combine = conv_class(in_channels * order, out_channels, kernel_size, stride, padding)\n",
    "\n",
    "    def extra_repr(self):\n",
    "        return f\"order={self._order}\"\n",
    "\n",
    "    def forward(self, x):\n",
    "        y = self.conv_split(x)\n",
    "\n",
    "        y = torch.concat([\n",
    "            y[..., i * self._in_channels: (i + 1) * self._in_channels, :, :] ** (i + 1)\n",
    "            for i in range(self._order)\n",
    "        ], dim=-3)\n",
    "        print(\"Y\", y)\n",
    "\n",
    "        y = self.conv_combine(y)\n",
    "        return y\n",
    "\n",
    "m = Conv2dPoly(3, 3, 10, 3, padding=1)\n",
    "print(f\"params: {num_module_parameters(m):,}\")\n",
    "\n",
    "inp = torch.ones(1, 3, 5, 5)\n",
    "outp = m(inp)\n",
    "print(inp.shape, \"->\", outp.shape)\n",
    "display(outp)\n",
    "m"
   ]
  },
  {
   "cell_type": "code",
   "execution_count": null,
   "id": "f9508f07-2f04-4e77-a2a6-072f2bc6333d",
   "metadata": {},
   "outputs": [],
   "source": [
    "\n"
   ]
  }
 ],
 "metadata": {
  "kernelspec": {
   "display_name": "Python 3 (ipykernel)",
   "language": "python",
   "name": "python3"
  },
  "language_info": {
   "codemirror_mode": {
    "name": "ipython",
    "version": 3
   },
   "file_extension": ".py",
   "mimetype": "text/x-python",
   "name": "python",
   "nbconvert_exporter": "python",
   "pygments_lexer": "ipython3",
   "version": "3.8.0"
  }
 },
 "nbformat": 4,
 "nbformat_minor": 5
}
