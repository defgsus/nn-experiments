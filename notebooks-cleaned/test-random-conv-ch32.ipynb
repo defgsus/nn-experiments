{
 "cells": [
  {
   "cell_type": "code",
   "execution_count": null,
   "id": "47a21f59-3d70-46c7-8fa6-21384c3b7788",
   "metadata": {},
   "outputs": [],
   "source": [
    "from init_notebook import *\n",
    "from src.util.binarydb import BinaryDB"
   ]
  },
  {
   "cell_type": "code",
   "execution_count": null,
   "id": "6679c615-a784-4acc-afa3-43fe05a20874",
   "metadata": {},
   "outputs": [],
   "source": [
    "db = BinaryDB(\n",
    "    config.PROJECT_PATH / \"cache\" / \"random_pca\" / \"db-ch32.sqlite\",\n",
    ")"
   ]
  },
  {
   "cell_type": "code",
   "execution_count": null,
   "id": "6c50143b-133b-41a0-94d3-6eeda0b426c1",
   "metadata": {},
   "outputs": [],
   "source": [
    "param_map = {}\n",
    "for id, meta in db.iter_meta():\n",
    "    param_id = db.to_id(meta[\"params\"])\n",
    "    param_map.setdefault(param_id, []).append(meta)\n",
    "print(len(param_map))"
   ]
  },
  {
   "cell_type": "code",
   "execution_count": null,
   "id": "eaeca0e5-a85c-49df-af45-3b355b32fbe6",
   "metadata": {},
   "outputs": [],
   "source": [
    "rows = []\n",
    "for trials in param_map.values():\n",
    "    if len(trials) < 5:\n",
    "        continue\n",
    "    if not \"val_accuracy\" in trials[0][\"result\"]:\n",
    "        print(\"?\", trials[0][\"result\"])\n",
    "        continue\n",
    "    row = {\n",
    "        **{\n",
    "            f\"{key}-{i}\": v\n",
    "            for key, value in trials[0][\"params\"].items()\n",
    "            for i, v in enumerate(value)\n",
    "            if key not in (\"activation\", \"channels\")\n",
    "        },\n",
    "        **{\n",
    "            key: np.array([t[\"result\"][key] for t in trials]).mean()\n",
    "            for key in trials[0][\"result\"].keys()\n",
    "        },\n",
    "        \"min_val_acc\": min(t[\"result\"][\"val_accuracy\"] for t in trials),\n",
    "        \"max_val_acc\": max(t[\"result\"][\"val_accuracy\"] for t in trials),\n",
    "        \"trials\": len(trials),\n",
    "        \"config\": \", \".join(f\"{key}=\" + \",\".join(str(v) for v in value) for key, value in trials[0][\"params\"].items() if key not in (\"activation\",)),\n",
    "    }\n",
    "    rows.append(row)\n",
    "print(len(rows))\n",
    "df = pd.DataFrame(rows).sort_values(\"val_accuracy\")\n",
    "def _norm(x):\n",
    "    return (x - x.min()) / (x.max() - x.min())\n",
    "df[\"fitness\"] = _norm(df[\"val_accuracy\"]) + .3 * _norm(df[\"throughput\"])\n",
    "df = df.sort_values(\"fitness\")\n",
    "\n",
    "# df = df[df[\"throughput\"] >= 1000]\n",
    "df = df[df[\"ratio\"] <= 1]\n",
    "\n",
    "print(len(df))\n",
    "df_configs = df.pop(\"config\")\n",
    "df.tail(30)"
   ]
  },
  {
   "cell_type": "code",
   "execution_count": null,
   "id": "8984e018-fd20-4dc0-8f32-d11d5d8cd589",
   "metadata": {},
   "outputs": [],
   "source": [
    "corr = df.drop([\"trials\"], axis=1).corr()\n",
    "px.imshow(corr, width=600, height=600, range_color=[-1, 1])"
   ]
  },
  {
   "cell_type": "code",
   "execution_count": null,
   "id": "ea2f8629-af51-44a5-b9b0-532d3e5969a5",
   "metadata": {},
   "outputs": [],
   "source": [
    "model = nn.Sequential(\n",
    "    nn.Conv2d(3, 32, 7, stride=2, dilation=1),\n",
    "    nn.Conv2d(32, 32, 3, stride=1, dilation=2),\n",
    "    nn.Conv2d(32, 32, 5, stride=2, dilation=1),\n",
    ")\n",
    "inp = torch.ones(128, 3, 96, 96)\n",
    "start_time = time.time()\n",
    "outp = model(inp)\n",
    "took = time.time() - start_time\n",
    "print(f\"ratio: {math.prod(outp.shape) / math.prod(inp.shape)}, throughput: {math.prod(inp.shape[:1]) / took:,}\")"
   ]
  },
  {
   "cell_type": "markdown",
   "id": "e8c0b9f5-bc3f-4aa8-92af-d57f11916892",
   "metadata": {},
   "source": [
    "'aggrnyl', 'agsunset', 'algae', 'amp', 'armyrose', 'balance',\n",
    "'blackbody', 'bluered', 'blues', 'blugrn', 'bluyl', 'brbg',\n",
    "'brwnyl', 'bugn', 'bupu', 'burg', 'burgyl', 'cividis', 'curl',\n",
    "'darkmint', 'deep', 'delta', 'dense', 'earth', 'edge', 'electric',\n",
    "'emrld', 'fall', 'geyser', 'gnbu', 'gray', 'greens', 'greys',\n",
    "'haline', 'hot', 'hsv', 'ice', 'icefire', 'inferno', 'jet',\n",
    "'magenta', 'magma', 'matter', 'mint', 'mrybm', 'mygbm', 'oranges',\n",
    "'orrd', 'oryel', 'oxy', 'peach', 'phase', 'picnic', 'pinkyl',\n",
    "'piyg', 'plasma', 'plotly3', 'portland', 'prgn', 'pubu', 'pubugn',\n",
    "'puor', 'purd', 'purp', 'purples', 'purpor', 'rainbow', 'rdbu',\n",
    "'rdgy', 'rdpu', 'rdylbu', 'rdylgn', 'redor', 'reds', 'solar',\n",
    "'spectral', 'speed', 'sunset', 'sunsetdark', 'teal', 'tealgrn',\n",
    "'tealrose', 'tempo', 'temps', 'thermal', 'tropic', 'turbid',\n",
    "'turbo', 'twilight', 'viridis', 'ylgn', 'ylgnbu', 'ylorbr',\n",
    "'ylorrd'"
   ]
  },
  {
   "cell_type": "code",
   "execution_count": null,
   "id": "36478825-52bc-4d8c-834b-98a40e02a864",
   "metadata": {},
   "outputs": [],
   "source": [
    "px.scatter(\n",
    "    df, \n",
    "    x=\"throughput\", y=\"val_accuracy\", \n",
    "    hover_name=df_configs,\n",
    "    color=\"ratio\",\n",
    "    hover_data=(\"fitness\", \"throughput\", \"min_val_acc\", \"max_val_acc\", \"trials\"),\n",
    "    opacity=.5, color_continuous_scale=\"gnbu\",\n",
    "    height=1000,\n",
    "    width=1000,\n",
    ")"
   ]
  },
  {
   "cell_type": "code",
   "execution_count": null,
   "id": "23e4ea57-ba5f-4da5-8105-bc15ac5c665b",
   "metadata": {},
   "outputs": [],
   "source": [
    "[100 - e for e in [36.64, 43.38, 41.76, 40.08, 37.86, 40.08, 37.33, 40.03, 36.09, 42.65]]"
   ]
  },
  {
   "cell_type": "code",
   "execution_count": null,
   "id": "53d9758b-9530-4a49-a9a6-776323627d3b",
   "metadata": {},
   "outputs": [],
   "source": [
    "px.scatter(\n",
    "    df, \n",
    "    #x=\"throughput\", \n",
    "    x=\"ratio\",\n",
    "    y=\"val_accuracy\", \n",
    "    hover_name=df_configs,\n",
    "    color=\"throughput\",\n",
    "    hover_data=(\"fitness\", \"throughput\", \"val_accuracy\", \"min_val_acc\", \"max_val_acc\"),\n",
    "    opacity=.5, color_continuous_scale=\"spectral\",\n",
    ")"
   ]
  },
  {
   "cell_type": "code",
   "execution_count": null,
   "id": "613eded6-0d5c-4651-8d60-2aba417b0aa1",
   "metadata": {},
   "outputs": [],
   "source": []
  },
  {
   "cell_type": "code",
   "execution_count": null,
   "id": "4002c0fa-7059-4a70-9a2a-7c7a21f84fe1",
   "metadata": {},
   "outputs": [],
   "source": [
    "px.scatter(\n",
    "    df, \n",
    "    x=\"throughput\", y=\"ratio\", \n",
    "    hover_name=df_configs,\n",
    "    color=\"val_accuracy\",\n",
    "    hover_data=(\"val_accuracy\", \"fitness\", \"throughput\", \"min_val_acc\", \"max_val_acc\", \"trials\"),\n",
    ")"
   ]
  },
  {
   "cell_type": "code",
   "execution_count": null,
   "id": "5005e5b0-0374-4d33-b853-d64d92ae71f4",
   "metadata": {},
   "outputs": [],
   "source": [
    "px.bar(\n",
    "    df.groupby(\"ratio\").median(),\n",
    "    y=\"val_accuracy\",\n",
    ")"
   ]
  },
  {
   "cell_type": "code",
   "execution_count": null,
   "id": "da7063f4-158e-48a8-b83b-43a6a4320c0b",
   "metadata": {},
   "outputs": [],
   "source": [
    "from sklearn.manifold import TSNE\n",
    "reducer = TSNE(2)\n",
    "df2 = df.loc[:, [\"val_accuracy\", \"ratio\", \"throughput\"]]\n",
    "df2 /= df2.max()\n",
    "xy = reducer.fit_transform(df2)"
   ]
  },
  {
   "cell_type": "code",
   "execution_count": null,
   "id": "758f4b02-7253-4a67-91ec-0e5edd54def6",
   "metadata": {},
   "outputs": [],
   "source": [
    "from sklearn.cluster import KMeans\n",
    "clusterer = KMeans(60)\n",
    "labels = clusterer.fit_predict(df2)"
   ]
  },
  {
   "cell_type": "code",
   "execution_count": null,
   "id": "66ca60a2-58b1-4f46-be95-0b590e4f80bc",
   "metadata": {},
   "outputs": [],
   "source": [
    "px.scatter(\n",
    "    x=xy[:, 0], y=xy[:, 1], \n",
    "    hover_data={\n",
    "        key: df.loc[:, key]\n",
    "        for key in (\"val_accuracy\", \"ratio\", \"throughput\")\n",
    "    },\n",
    "    #color=df.loc[:, \"val_accuracy\"],\n",
    "    color=labels,\n",
    "    #size=df.loc[:, \"val_accuracy\"] - df.loc[:, \"val_accuracy\"].min(),\n",
    "    size_max=10,\n",
    "    height=800,\n",
    ")"
   ]
  },
  {
   "cell_type": "code",
   "execution_count": null,
   "id": "8de4a900-610f-4099-9add-e54c98fcef2e",
   "metadata": {},
   "outputs": [],
   "source": [
    "df3 = df.copy()\n",
    "df3[\"label\"] = labels\n",
    "px.imshow(df3.groupby(\"label\").max().corr())"
   ]
  },
  {
   "cell_type": "code",
   "execution_count": null,
   "id": "8b25b519-52de-467d-9373-12c37ea15685",
   "metadata": {},
   "outputs": [],
   "source": [
    "corr = df.corr(\n",
    "    #\"pearson\"\n",
    "    #\"spearman\"\n",
    "    \"kendall\"\n",
    ")\n",
    "px.imshow(corr, height=700)"
   ]
  },
  {
   "cell_type": "code",
   "execution_count": null,
   "id": "f59fd11c-5be9-4d87-87e9-113de3f4ec61",
   "metadata": {},
   "outputs": [],
   "source": [
    "from sklearn.decomposition import PCA\n",
    "df_one = df# / df.max()\n",
    "pca = PCA(df.shape[1])\n",
    "pca.fit(df_one)"
   ]
  },
  {
   "cell_type": "code",
   "execution_count": null,
   "id": "f2f1eb24-1356-444b-afa2-ace47fbf6791",
   "metadata": {},
   "outputs": [],
   "source": [
    "corr = pd.DataFrame(pca.transform(df_one)).corr()\n",
    "corr[corr.abs() < 0.01] = np.nan\n",
    "px.imshow(corr, height=1000)"
   ]
  },
  {
   "cell_type": "code",
   "execution_count": null,
   "id": "3a42b55e-c8cb-4113-aa0e-de4cb68ffe4e",
   "metadata": {},
   "outputs": [],
   "source": []
  },
  {
   "cell_type": "code",
   "execution_count": null,
   "id": "39e03b74-72e2-4bd2-a5b6-64c7bc60cba7",
   "metadata": {},
   "outputs": [],
   "source": []
  },
  {
   "cell_type": "code",
   "execution_count": null,
   "id": "018ff71c-00db-4289-a0e0-98cb19d7ff6f",
   "metadata": {},
   "outputs": [],
   "source": []
  }
 ],
 "metadata": {
  "kernelspec": {
   "display_name": "Python 3 (ipykernel)",
   "language": "python",
   "name": "python3"
  },
  "language_info": {
   "codemirror_mode": {
    "name": "ipython",
    "version": 3
   },
   "file_extension": ".py",
   "mimetype": "text/x-python",
   "name": "python",
   "nbconvert_exporter": "python",
   "pygments_lexer": "ipython3",
   "version": "3.12.3"
  }
 },
 "nbformat": 4,
 "nbformat_minor": 5
}
