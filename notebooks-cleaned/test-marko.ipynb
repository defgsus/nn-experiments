{
 "cells": [
  {
   "cell_type": "code",
   "execution_count": null,
   "id": "c97e5669-61d7-46a2-a517-53a6439eb6cd",
   "metadata": {},
   "outputs": [],
   "source": [
    "import marko\n",
    "from IPython.display import HTML"
   ]
  },
  {
   "cell_type": "code",
   "execution_count": null,
   "id": "eeb88461-aac2-40ff-99bc-c3625e9dd99a",
   "metadata": {},
   "outputs": [],
   "source": [
    "markdown = \"\"\"\n",
    "# Hello\n",
    "```python\n",
    "def some_func(a):\n",
    "    pass\n",
    "```\n",
    "\"\"\"\n",
    "\n",
    "parser = marko.Markdown(\n",
    "    extensions=[\"gfm\", \"codehilite\"]\n",
    ")\n",
    "html = parser.convert(markdown)\n",
    "print(html)\n",
    "HTML(html)"
   ]
  },
  {
   "cell_type": "code",
   "execution_count": null,
   "id": "296a1542-7d28-46f7-a670-b03e3cf1fc38",
   "metadata": {},
   "outputs": [],
   "source": [
    "doc = parser.parse(markdown)\n",
    "\n",
    "renderer = marko.Markdown(extensions=[\"codehilite\"])\n",
    "renderer._setup_extensions()\n",
    "renderer.renderer\n",
    "#renderer.render(doc)\n",
    "\n",
    "class SomeRenderer(type(renderer.renderer)):\n",
    "    pass\n",
    "\n",
    "SomeRenderer().render(doc)"
   ]
  },
  {
   "cell_type": "code",
   "execution_count": null,
   "id": "2240dd72-b6d3-4681-ae6b-7399fb01806e",
   "metadata": {},
   "outputs": [],
   "source": [
    "import pygments.styles\n",
    "pygments.styles.STYLE_MAP"
   ]
  },
  {
   "cell_type": "code",
   "execution_count": null,
   "id": "f612aa93-acd0-4852-94fd-76e0d878a714",
   "metadata": {},
   "outputs": [],
   "source": [
    "from pygments.formatters import HtmlFormatter\n",
    "#HtmlFormatter?\n",
    "print(HtmlFormatter(style=\"default\").get_style_defs('.highlight'))"
   ]
  },
  {
   "cell_type": "code",
   "execution_count": null,
   "id": "779c446a-7fac-4f79-997f-b3bb49ff5844",
   "metadata": {},
   "outputs": [],
   "source": [
    "HtmlFormatter().get_style_defs?"
   ]
  }
 ],
 "metadata": {
  "kernelspec": {
   "display_name": "Python 3 (ipykernel)",
   "language": "python",
   "name": "python3"
  },
  "language_info": {
   "codemirror_mode": {
    "name": "ipython",
    "version": 3
   },
   "file_extension": ".py",
   "mimetype": "text/x-python",
   "name": "python",
   "nbconvert_exporter": "python",
   "pygments_lexer": "ipython3",
   "version": "3.8.0"
  }
 },
 "nbformat": 4,
 "nbformat_minor": 5
}
