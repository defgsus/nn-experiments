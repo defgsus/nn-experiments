{
 "cells": [
  {
   "cell_type": "code",
   "execution_count": null,
   "id": "7f14f00d-7299-49c9-bf4b-6b7b4140af8f",
   "metadata": {},
   "outputs": [],
   "source": [
    "from init_notebook import *\n",
    "from transformers import (\n",
    "    AutoModelForCausalLM, AutoTokenizer, GenerationConfig, TextStreamer,\n",
    "    GenerationConfig\n",
    ")"
   ]
  },
  {
   "cell_type": "code",
   "execution_count": null,
   "id": "85e4bdea-1d0b-488a-8b41-fbf97b87af02",
   "metadata": {},
   "outputs": [],
   "source": [
    "model = AutoModelForCausalLM.from_pretrained(\n",
    "    \"microsoft/phi-1_5\",\n",
    "    trust_remote_code=True,\n",
    "    load_in_4bit=True,\n",
    ")"
   ]
  },
  {
   "cell_type": "code",
   "execution_count": null,
   "id": "f465a082-936e-4073-983a-95b1ffd0bc5c",
   "metadata": {},
   "outputs": [],
   "source": [
    "model"
   ]
  },
  {
   "cell_type": "code",
   "execution_count": null,
   "id": "04658504-71bd-4985-96c0-015d3b761c49",
   "metadata": {},
   "outputs": [],
   "source": [
    "sum(math.prod(p.shape) for p in model.parameters())"
   ]
  },
  {
   "cell_type": "code",
   "execution_count": null,
   "id": "38c484aa-f297-4d19-938e-a112443f9038",
   "metadata": {},
   "outputs": [],
   "source": [
    "f\"params: {num_module_parameters(model):,}\""
   ]
  },
  {
   "cell_type": "code",
   "execution_count": null,
   "id": "f3812c7e-dce3-46ec-9c98-e1067eb78507",
   "metadata": {},
   "outputs": [],
   "source": [
    "tokenizer = AutoTokenizer.from_pretrained(\"microsoft/phi-1_5\", trust_remote_code=True)"
   ]
  },
  {
   "cell_type": "code",
   "execution_count": null,
   "id": "5261e81b-df81-4f7b-9c8e-22fc327e3917",
   "metadata": {},
   "outputs": [],
   "source": [
    "len(tokenizer.get_vocab())"
   ]
  },
  {
   "cell_type": "code",
   "execution_count": null,
   "id": "d1508cfc-ef12-42e0-82d2-aff57797e637",
   "metadata": {},
   "outputs": [],
   "source": [
    "tokenizer.encode(\"Text1\")"
   ]
  },
  {
   "cell_type": "code",
   "execution_count": null,
   "id": "061b0540-5478-43cd-b3ef-c01c589db906",
   "metadata": {},
   "outputs": [],
   "source": [
    "def generate(prompt: str):\n",
    "    next_id = tokenizer.encode(prompt, return_tensors=\"pt\")\n",
    "    past_key_values = None\n",
    "    while True:\n",
    "        next_logits, past_key_values = model(\n",
    "            next_id, use_cache=True, past_key_values=past_key_values,\n",
    "        ).to_tuple()\n",
    "        \n",
    "        next_logits = next_logits[:, -1:]\n",
    "\n",
    "        sorted = next_logits.argsort(dim=-1)\n",
    "        next_id = next_logits.argmax(dim=-1)\n",
    "        #next_id = random.choice(sorted[..., :2])\n",
    "        #print(next_id)\n",
    "\n",
    "        if next_id == tokenizer.eos_token_id:\n",
    "            break\n",
    "\n",
    "        yield tokenizer.decode(next_id.item())\n",
    "\n",
    "for token in generate(\n",
    "        #\"Question: How to change the temperature of a language model sampler?\\n\",\n",
    "        \"Exercise: Write a representative Python program about Karl Marx's \\\"Capital\\\"\\n\",\n",
    "):\n",
    "    print(token, end=\"\")"
   ]
  },
  {
   "cell_type": "code",
   "execution_count": null,
   "id": "fcf9d307-bcfe-4b29-840b-1c137fc2b8ea",
   "metadata": {},
   "outputs": [],
   "source": [
    "class Streamer:\n",
    "    def put(self, token_ids):\n",
    "        for token_id in token_ids.flatten(0):\n",
    "            print(tokenizer.decode(token_id), end=\"\")\n",
    "    def end(self):\n",
    "        print(\"END\")\n",
    "\n",
    "def generate2(prompt: str):\n",
    "    token_ids = tokenizer.encode(prompt, return_tensors=\"pt\").to(\"cuda\")\n",
    "    model.generate(\n",
    "        inputs=token_ids,\n",
    "        streamer=Streamer(),\n",
    "        generation_config=GenerationConfig(\n",
    "            max_new_tokens=100,\n",
    "            do_sample=True,\n",
    "            temperature=1.,\n",
    "        ),\n",
    "    )\n",
    "    \n",
    "generate2(\n",
    "    \"Question: How to change the temperature of a language model sampler?\\n\",\n",
    "    \n",
    ")\n",
    "#    print(token, end=\"\")"
   ]
  },
  {
   "cell_type": "code",
   "execution_count": null,
   "id": "e0349fa3-2563-4fb2-a3fc-b280b5639eda",
   "metadata": {},
   "outputs": [],
   "source": [
    "GenerationConfig?"
   ]
  },
  {
   "cell_type": "code",
   "execution_count": null,
   "id": "0b4f77c5-66fd-47f1-819c-9c78c7667c96",
   "metadata": {},
   "outputs": [],
   "source": [
    "model.generate?"
   ]
  }
 ],
 "metadata": {
  "kernelspec": {
   "display_name": "Python 3 (ipykernel)",
   "language": "python",
   "name": "python3"
  },
  "language_info": {
   "codemirror_mode": {
    "name": "ipython",
    "version": 3
   },
   "file_extension": ".py",
   "mimetype": "text/x-python",
   "name": "python",
   "nbconvert_exporter": "python",
   "pygments_lexer": "ipython3",
   "version": "3.8.0"
  }
 },
 "nbformat": 4,
 "nbformat_minor": 5
}
