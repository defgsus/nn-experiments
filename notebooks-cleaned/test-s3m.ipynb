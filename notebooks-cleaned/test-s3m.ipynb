{
 "cells": [
  {
   "cell_type": "code",
   "execution_count": null,
   "id": "ba38d659-dc40-41aa-86c7-9d19ebacbb71",
   "metadata": {
    "tags": []
   },
   "outputs": [],
   "source": [
    "import sys\n",
    "sys.path.append(\"..\")\n",
    "\n",
    "import random\n",
    "\n",
    "import time\n",
    "import math\n",
    "import random\n",
    "from io import BytesIO\n",
    "from pathlib import Path\n",
    "from typing import Optional, Callable, List, Tuple, Iterable, Generator\n",
    "\n",
    "from tqdm import tqdm\n",
    "import torch\n",
    "import torch.nn as nn\n",
    "import torch.nn.functional as F\n",
    "from torch.utils.data import Dataset, DataLoader, TensorDataset, IterableDataset\n",
    "import torchvision.transforms as VT\n",
    "import torchvision.transforms.functional as VF\n",
    "from torchvision.utils import make_grid\n",
    "\n",
    "import PIL.Image\n",
    "import PIL.ImageDraw\n",
    "import plotly\n",
    "import plotly.express as px\n",
    "plotly.io.templates.default = \"plotly_dark\"\n",
    "import numpy as np\n",
    "import pandas as pd\n",
    "from IPython.display import display, Audio, HTML\n",
    "\n",
    "from src.datasets import *\n",
    "from src.util import *\n",
    "from src.util.image import * \n",
    "from src.util.audio import *\n",
    "from src.util.s3m import S3m, S3mRenderer\n",
    "from src.algo import *\n",
    "from src.datasets.generative import *\n",
    "from src.models.cnn import *\n",
    "from src.models.encoder import *\n"
   ]
  },
  {
   "cell_type": "code",
   "execution_count": null,
   "id": "072e51e6-6084-4c54-9667-fa4b6728affa",
   "metadata": {
    "tags": []
   },
   "outputs": [],
   "source": [
    "#s3m = S3m.from_file(\"../tests/data/tracker/SOUNNGG.S3M\")\n",
    "s3m = S3m.from_file(\"/home/bergi/Music/MODULE/HIPHOP.S3M\")\n",
    "s3m"
   ]
  },
  {
   "cell_type": "code",
   "execution_count": null,
   "id": "7a5de481-0787-46fb-aa0f-9aec93ca7e78",
   "metadata": {
    "tags": []
   },
   "outputs": [],
   "source": [
    "data = s3m.instruments[1].sample_data\n",
    "#plot_audio(data, (200, 1000))\n",
    "print(data.min(), data.max())\n",
    "o = 0\n",
    "px.line(data[0_000+o:1_000+o])"
   ]
  },
  {
   "cell_type": "code",
   "execution_count": null,
   "id": "f46ae5c1-d899-44ef-90e0-140d71f6dfdb",
   "metadata": {
    "tags": []
   },
   "outputs": [],
   "source": [
    "renderer = S3mRenderer(s3m, samplerate=22050)\n",
    "\n",
    "buffers = []\n",
    "for i in tqdm(range(100)):\n",
    "    buffers.append(renderer.process(1024))\n",
    "buffers = np.concatenate(buffers, 1)"
   ]
  },
  {
   "cell_type": "code",
   "execution_count": null,
   "id": "f07f417b-8d07-4c8a-88f8-71623f208f9e",
   "metadata": {
    "tags": []
   },
   "outputs": [],
   "source": [
    "buffers.min(), buffers.max()"
   ]
  },
  {
   "cell_type": "code",
   "execution_count": null,
   "id": "77049e73-a42a-449d-aa7e-eb12fccb1dd4",
   "metadata": {
    "tags": []
   },
   "outputs": [],
   "source": [
    "Audio(buffers, rate=renderer.samplerate)"
   ]
  },
  {
   "cell_type": "code",
   "execution_count": null,
   "id": "bd722331-50fd-4b02-9592-156db2b9068c",
   "metadata": {
    "tags": []
   },
   "outputs": [],
   "source": [
    "339 * 44100 / 1024"
   ]
  }
 ],
 "metadata": {
  "kernelspec": {
   "display_name": "Python 3 (ipykernel)",
   "language": "python",
   "name": "python3"
  },
  "language_info": {
   "codemirror_mode": {
    "name": "ipython",
    "version": 3
   },
   "file_extension": ".py",
   "mimetype": "text/x-python",
   "name": "python",
   "nbconvert_exporter": "python",
   "pygments_lexer": "ipython3",
   "version": "3.8.0"
  }
 },
 "nbformat": 4,
 "nbformat_minor": 5
}
