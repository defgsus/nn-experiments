{
 "cells": [
  {
   "cell_type": "code",
   "execution_count": null,
   "id": "51729807-896a-4831-8444-459ddb8b537c",
   "metadata": {},
   "outputs": [],
   "source": [
    "import requests\n",
    "import xml\n",
    "import xml.etree.ElementTree as ET"
   ]
  },
  {
   "cell_type": "code",
   "execution_count": null,
   "id": "abbc97a3-5add-4df8-8e3d-9e99c2c4b264",
   "metadata": {},
   "outputs": [],
   "source": [
    "def arxiv_query(query):\n",
    "    \n",
    "    response = requests.get(\n",
    "        \"http://export.arxiv.org/api/query\",\n",
    "        params={\n",
    "            \"search_query\": query,\n",
    "            \"max_results\": 10,\n",
    "            \"start\": 0,\n",
    "            \"sortBy\": \"submittedDate\", #\"relevance\", \"lastUpdatedDate\", \n",
    "            \"sortOrder\": \"ascending\",\n",
    "        }\n",
    "    )\n",
    "    return response.text\n",
    "\n",
    "resp = arxiv_query(\"all:encoder OR all:decoder\")\n",
    "print(resp)"
   ]
  },
  {
   "cell_type": "code",
   "execution_count": null,
   "id": "7c8af0fd-d0fb-46ff-b411-d552ee5311cb",
   "metadata": {},
   "outputs": [],
   "source": [
    "feed = ET.fromstring(resp)\n",
    "feed"
   ]
  },
  {
   "cell_type": "code",
   "execution_count": null,
   "id": "6c32c267-4e94-4320-9557-e6b8130a5734",
   "metadata": {},
   "outputs": [],
   "source": [
    "feed"
   ]
  },
  {
   "cell_type": "code",
   "execution_count": null,
   "id": "fb667097-56f5-4bbb-af89-ef7a8253d8e5",
   "metadata": {},
   "outputs": [],
   "source": [
    "def xml_to_json(xml: str):\n",
    "    def _tag(tag: str) -> str:\n",
    "        return tag.split(\"}\")[-1]\n",
    "        \n",
    "    def _to_json(elem: ET.Element):\n",
    "        sub_elements = list(elem)\n",
    "        if not sub_elements:\n",
    "            data = {\n",
    "                \"text\": elem.text,\n",
    "            }\n",
    "            if elem.attrib:\n",
    "                data[\"attr\"] = elem.attrib\n",
    "            \n",
    "            return data\n",
    "\n",
    "        data = {}\n",
    "        for e in elem:\n",
    "            key = _tag(e.tag)\n",
    "            if key in data:\n",
    "                if not isinstance(data[key], list):\n",
    "                    data[key] = [data[key]]\n",
    "                data[key].append(_to_json(e))\n",
    "            else:\n",
    "                data[key] = _to_json(e)\n",
    "    \n",
    "        return data\n",
    "    \n",
    "    return _to_json(ET.fromstring(resp))\n",
    "    \n",
    "xml_to_json(resp)"
   ]
  },
  {
   "cell_type": "code",
   "execution_count": null,
   "id": "3c2da647-4e01-4e2e-ab4e-6c3124b28508",
   "metadata": {},
   "outputs": [],
   "source": [
    "def arxiv_query(query, page_size: int = 100):\n",
    "    start_offset = 0\n",
    "    while True:\n",
    "        response = requests.get(\n",
    "            \"http://export.arxiv.org/api/query\",\n",
    "            params={\n",
    "                \"search_query\": query,\n",
    "                \"max_results\": page_size,\n",
    "            }\n",
    "        )\n",
    "    return response.text\n",
    "\n",
    "resp = arxiv_query(\"all:encoder\")\n",
    "print(resp)"
   ]
  }
 ],
 "metadata": {
  "kernelspec": {
   "display_name": "Python 3 (ipykernel)",
   "language": "python",
   "name": "python3"
  },
  "language_info": {
   "codemirror_mode": {
    "name": "ipython",
    "version": 3
   },
   "file_extension": ".py",
   "mimetype": "text/x-python",
   "name": "python",
   "nbconvert_exporter": "python",
   "pygments_lexer": "ipython3",
   "version": "3.8.0"
  }
 },
 "nbformat": 4,
 "nbformat_minor": 5
}
