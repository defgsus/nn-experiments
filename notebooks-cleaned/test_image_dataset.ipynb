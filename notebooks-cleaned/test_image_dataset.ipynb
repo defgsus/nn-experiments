{
 "cells": [
  {
   "cell_type": "code",
   "execution_count": null,
   "id": "896580de-dfbd-4fec-9480-fcc6b6ff9d71",
   "metadata": {
    "tags": []
   },
   "outputs": [],
   "source": [
    "import sys\n",
    "sys.path.append(\"..\")\n",
    "\n",
    "from pathlib import Path\n",
    "\n",
    "import torch\n",
    "from torch.utils.data import DataLoader, TensorDataset\n",
    "import torchvision.transforms as VT\n",
    "import torchvision.transforms.functional as VF\n",
    "from torchvision.utils import make_grid\n",
    "\n",
    "from src.datasets import *"
   ]
  },
  {
   "cell_type": "code",
   "execution_count": null,
   "id": "8e3b9d5b-3d87-40f7-a7a3-4860d59255db",
   "metadata": {
    "tags": []
   },
   "outputs": [],
   "source": [
    "def create_augmentation():\n",
    "    return torch.nn.Sequential(\n",
    "        VT.RandomAffine(degrees=20, scale=(.3, 4), translate=(.5, .5)),\n",
    "        VT.RandomPerspective(p=.5, distortion_scale=.7),\n",
    "        VT.RandomInvert(p=.3),\n",
    "        VT.RandomVerticalFlip(),\n",
    "        VT.RandomHorizontalFlip(),\n",
    "    )\n",
    "\n",
    "ds = ImageFolder(\n",
    "    root=Path(\"~/Pictures/__diverse/\").expanduser(),\n",
    ")\n",
    "ds = ImageAugmentation(\n",
    "    ds, \n",
    "    augmentations=[\n",
    "        create_augmentation()\n",
    "        for i in range(3)\n",
    "        #VT.RandomRotation(degrees=20),\n",
    "        #VT.RandomAffine(degrees=20, scale=(.1, 1)),\n",
    "        #VT.RandomAffine(degrees=20, scale=(1, 5)),\n",
    "        #VT.RandomPerspective(),\n",
    "        #VT.RandomPerspective(p=1, distortion_scale=.7),\n",
    "        #VT.RandomPerspective(),\n",
    "    ],\n",
    "    final_shape=(32, 32),\n",
    "    final_channels=3,\n",
    ")\n",
    "#ds = IterableShuffle(ds, max_shuffle=5) \n",
    "dl = DataLoader(ds)#, num_workers=4)"
   ]
  },
  {
   "cell_type": "code",
   "execution_count": null,
   "id": "275c590a-d3a1-45d3-811b-f07d51b16dff",
   "metadata": {
    "tags": []
   },
   "outputs": [],
   "source": [
    "def plot_images(iterable, num: int = 8, nrow: int = 8):\n",
    "    images = []\n",
    "    for image in iterable:\n",
    "        if isinstance(image, (tuple, list)):\n",
    "            image = image[0]\n",
    "        if image.ndim == 4:\n",
    "            image = image.squeeze(0)\n",
    "        #print(image.shape)\n",
    "        images.append(image * 255)#.squeeze())\n",
    "        if len(images) >= num:\n",
    "            break\n",
    "    return VF.to_pil_image(make_grid(images, nrow=nrow))\n",
    "\n",
    "#plot_images(dl, 32)\n",
    "#plot_images(DataLoader(ds2, shuffle=False), 8, 16)\n",
    "plot_images(DataLoader(ds2, shuffle=False), 256, 16)"
   ]
  },
  {
   "cell_type": "code",
   "execution_count": null,
   "id": "bb676d70-d945-4791-8a8a-62c795e7154e",
   "metadata": {},
   "outputs": [],
   "source": []
  },
  {
   "cell_type": "code",
   "execution_count": null,
   "id": "e0d9dc65-2b11-4877-9a7b-02b2a6b78b7d",
   "metadata": {},
   "outputs": [],
   "source": [
    "#torch.load(\"../datasets/ca-64x64-i10-p05.pt\").shape"
   ]
  },
  {
   "cell_type": "code",
   "execution_count": null,
   "id": "df37cfc6-6a15-4323-9eff-896cf9f8025e",
   "metadata": {
    "tags": []
   },
   "outputs": [],
   "source": [
    "#ds2 = TensorDataset(torch.load(\"../datasets/diverse-64x64-aug4.pt\"))\n",
    "ds2 = TensorDataset(torch.load(\"../datasets/ca-64x64-i10-p05.pt\"))\n",
    "len(ds2)"
   ]
  },
  {
   "cell_type": "code",
   "execution_count": null,
   "id": "58c8304e-fccc-48ca-8724-0137939c2b30",
   "metadata": {
    "tags": []
   },
   "outputs": [],
   "source": [
    "plot_images(DataLoader(ds2, shuffle=True), 128, 16)"
   ]
  },
  {
   "cell_type": "code",
   "execution_count": null,
   "id": "6e0c41f0-dca0-4553-a32a-d2801d94e8b9",
   "metadata": {
    "tags": []
   },
   "outputs": [],
   "source": [
    "[torch.randint(0, 1, (1,)) for i in range(10)]"
   ]
  },
  {
   "cell_type": "code",
   "execution_count": null,
   "id": "a9c467f4-5f66-43ae-bc79-952af5de50e6",
   "metadata": {
    "tags": []
   },
   "outputs": [],
   "source": [
    "t = torch.randn(32, 48)\n",
    "t = t.unsqueeze(0)\n",
    "t_neg = (t < 0).squeeze(0)\n",
    "t = t.repeat(3, 1, 1)\n",
    "t[1:, t_neg] = 0\n",
    "t[0, torch.logical_not(t_neg)] = 0\n",
    "VF.to_pil_image(torch.abs(t))"
   ]
  }
 ],
 "metadata": {
  "kernelspec": {
   "display_name": "Python 3 (ipykernel)",
   "language": "python",
   "name": "python3"
  },
  "language_info": {
   "codemirror_mode": {
    "name": "ipython",
    "version": 3
   },
   "file_extension": ".py",
   "mimetype": "text/x-python",
   "name": "python",
   "nbconvert_exporter": "python",
   "pygments_lexer": "ipython3",
   "version": "3.8.0"
  }
 },
 "nbformat": 4,
 "nbformat_minor": 5
}
