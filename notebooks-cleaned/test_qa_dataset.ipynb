{
 "cells": [
  {
   "cell_type": "code",
   "execution_count": null,
   "id": "2626857b-24ed-4031-ab5d-fafd023092b6",
   "metadata": {},
   "outputs": [],
   "source": [
    "from init_notebook import *\n",
    "from src.datasets.generative import *"
   ]
  },
  {
   "cell_type": "code",
   "execution_count": null,
   "id": "75400ac8-3997-4046-b9d2-84c99f7ea7c8",
   "metadata": {},
   "outputs": [],
   "source": [
    "ds, ds_val = TextQAProgramIterableDataset.create_train_and_validation_set(\n",
    "    train_count=100000,\n",
    "    validation_count=10000,\n",
    "    validation_seed=23,\n",
    "    input_length=(2,5),\n",
    "    num_operations=(1,5),\n",
    ")\n",
    "print(\"val: \", len(set(ds_val)))\n",
    "for i, text in zip(range(10), ds_val):\n",
    "    print(f\"{i:2}: {repr(text)}\")\n",
    "print(\"test:\", len(set(tqdm(ds))))\n",
    "for i, text in zip(range(20), ds):\n",
    "    print(f\"{i:2}: {repr(text)}\")"
   ]
  },
  {
   "cell_type": "code",
   "execution_count": null,
   "id": "2ebbef72-bf4f-4a29-a5d1-5335e893e39b",
   "metadata": {},
   "outputs": [],
   "source": [
    "for j in range(10):\n",
    "    for i, text in zip(range(2), ds):\n",
    "        #print(f\"{i:2}: {repr(text)}\")\n",
    "        print(text)"
   ]
  },
  {
   "cell_type": "code",
   "execution_count": null,
   "id": "b2a4c5c9-2336-4547-9aa5-72c2003a732b",
   "metadata": {},
   "outputs": [],
   "source": [
    "ds, ds_val = TextQAProgramIterableDataset.create_train_and_validation_set(\n",
    "    train_count=100000,\n",
    "    validation_count=10000,\n",
    "    validation_seed=23,\n",
    "    input_length=5,\n",
    "    num_operations=[2,5],\n",
    "    operators={\">\": 1},\n",
    ")\n",
    "for i, text in zip(range(20), ds):\n",
    "    #print(f\"{i:2}: {repr(text)}\")\n",
    "    print(text)"
   ]
  },
  {
   "cell_type": "code",
   "execution_count": null,
   "id": "0e9d695d-cd4c-4931-8c7a-42d6eb83b6aa",
   "metadata": {},
   "outputs": [],
   "source": [
    "train_set, validation_set = TextQAMathIterableDataset.create_train_and_validation_set(\n",
    "    train_count=100_000,\n",
    "    validation_count=10_000,\n",
    "    validation_seed=23,\n",
    "    with_masked=True,\n",
    "    max_number=100,\n",
    "    num_operations=3,\n",
    "    validation_num_operations=5,\n",
    "    fixed_answer_width=3*5,\n",
    "    operators=[\"+\", \"-\", \"*\"],\n",
    ")\n",
    "for i, text in zip(range(10), train_set):\n",
    "    print(f\"{i:2}: {repr(text)}\")\n"
   ]
  },
  {
   "cell_type": "code",
   "execution_count": null,
   "id": "8e6da239-0068-4c51-afd3-d50d02e73ca0",
   "metadata": {},
   "outputs": [],
   "source": [
    "class TextQAProgramIterableDataset(TextQABaseIterableDataset):\n",
    "    \"\"\"\n",
    "    Yields things like\n",
    "\n",
    "        ABCD, 0>1 = BACD\n",
    "    \"\"\"\n",
    "    def __init__(\n",
    "            self,\n",
    "            count: int,\n",
    "            input_length: Union[int, Tuple[int, int]] = 4,\n",
    "            num_items: Union[int, Tuple[int, int]] = 26,\n",
    "            num_operations: Union[int, Tuple[int, int]] = 3,\n",
    "            seed: Optional[int] = None,\n",
    "            exclude: Optional[Iterable[str]] = None,\n",
    "            with_masked: bool = False,\n",
    "    ):\n",
    "        super().__init__(\n",
    "            count=count, seed=seed, exclude=exclude, with_masked=with_masked,\n",
    "            fixed_answer_width=max(input_length) if isinstance(input_length, (tuple, list)) else input_length,\n",
    "        )\n",
    "        self._count = count\n",
    "        self._input_length = input_length\n",
    "        self._num_items = num_items\n",
    "        self._num_operations = num_operations\n",
    "        self._seed = seed\n",
    "        self._exclude = None if exclude is None else set(exclude)\n",
    "        self._with_masked = with_masked\n",
    "\n",
    "    def iter_question_answer(self, rng: random.Random) -> Generator[Tuple[str, str], None, None]:\n",
    "        duplicates_set = set()\n",
    "        while True:\n",
    "\n",
    "            input_length = self._input_length\n",
    "            if isinstance(input_length, (tuple, list)):\n",
    "                input_length = rng.randint(*input_length)\n",
    "\n",
    "            num_items = self._num_items\n",
    "            if isinstance(num_items, (tuple, list)):\n",
    "                num_items = rng.randint(*num_items)\n",
    "\n",
    "            num_ops = self._num_operations\n",
    "            if isinstance(num_ops, (tuple, list)):\n",
    "                num_ops = rng.randint(*num_ops)\n",
    "\n",
    "            items = [chr(ord('A') + i) for i in range(num_items)]\n",
    "            rng.shuffle(items)\n",
    "            cells = items[:input_length]\n",
    "            program_input = cells.copy()\n",
    "\n",
    "            stack = []\n",
    "            ops = []\n",
    "            while cells and len(ops) < num_ops:\n",
    "                op = rng.choices(\n",
    "                    [\">\", \"-\", \"+\"],\n",
    "                    weights=[1, 1/3, 1/3],\n",
    "                )[0]\n",
    "                if op == \"-\":\n",
    "                    idx = rng.randrange(len(cells))\n",
    "                    stack.append(cells.pop(idx))\n",
    "                    ops.append(f\"{op}{idx+1}\")\n",
    "                elif op == \"+\" and len(stack):\n",
    "                    idx = rng.randrange(len(cells))\n",
    "                    cells.insert(idx, stack.pop())\n",
    "                    ops.append(f\"{op}{idx+1}\")\n",
    "                elif op == \">\" and len(cells) >= 2:\n",
    "                    indices = list(range(len(cells)))\n",
    "                    rng.shuffle(indices)\n",
    "                    idx1, idx2 = indices[:2]\n",
    "                    cells[idx1], cells[idx2] = cells[idx2], cells[idx1]\n",
    "                    ops.append(f\"{idx1+1}{op}{idx2+1}\")\n",
    "\n",
    "            question = (\n",
    "                    \"\".join(program_input) + \": \"\n",
    "                    + \", \".join(ops)\n",
    "            )\n",
    "            if question in duplicates_set:\n",
    "                continue\n",
    "            duplicates_set.add(question)\n",
    "\n",
    "            answer = \"\".join(cells)\n",
    "            yield question, answer\n",
    "\n",
    "ds = TextQAProgramIterableDataset(count=1000, seed=23)\n",
    "len(set(ds))\n",
    "for i, text in zip(range(20), ds):\n",
    "    print(f\"{i:2}: {repr(text)}\")"
   ]
  },
  {
   "cell_type": "code",
   "execution_count": null,
   "id": "3e095e5b-61fb-4acc-a7a1-33868c0ef57b",
   "metadata": {},
   "outputs": [],
   "source": []
  },
  {
   "cell_type": "code",
   "execution_count": null,
   "id": "8dd65d09-9308-46e5-b571-d105a0448c9f",
   "metadata": {},
   "outputs": [],
   "source": [
    "m = nn.LSTM(20, 30, batch_first=True)\n",
    "m(torch.ones(1, 20))[0].shape"
   ]
  },
  {
   "cell_type": "code",
   "execution_count": null,
   "id": "28271780-24cc-4f37-9376-b99323603657",
   "metadata": {},
   "outputs": [],
   "source": [
    "ch, l = 64, 100 \n",
    "weight = torch.randn(ch, 1)\n",
    "input = torch.rand(ch, l)\n",
    "print(weight.shape, input.shape)\n",
    "#print(weight[:, None].shape)\n",
    "weight * input\n",
    "#conv = nn.Conv1d(ch, ch, 3, padding=1)"
   ]
  },
  {
   "cell_type": "code",
   "execution_count": null,
   "id": "ddb06caf-77a1-43d0-a313-981930dc1e0b",
   "metadata": {},
   "outputs": [],
   "source": [
    "class PositionEmbedding1d(nn.Module):\n",
    "    def __init__(\n",
    "            self,\n",
    "            period: float = 20.,\n",
    "    ):\n",
    "        super().__init__()\n",
    "        self.period = period\n",
    "\n",
    "    def forward(self, length: int) -> torch.Tensor:\n",
    "        phase = torch.arange(0, length) / self.period * math.pi * 2\n",
    "        phase = phase * (1 + .02 * phase)\n",
    "        return torch.stack([phase.sin(), phase.cos()])\n",
    "\n",
    "m = PositionEmbedding1d()\n",
    "px.imshow(m(100))\n",
    "   "
   ]
  },
  {
   "cell_type": "code",
   "execution_count": null,
   "id": "bb986b0f-bd89-459c-ac61-3b3a372e4d3b",
   "metadata": {},
   "outputs": [],
   "source": []
  },
  {
   "cell_type": "code",
   "execution_count": null,
   "id": "b72cd6cd-d8f1-490e-b889-4ac310397ba6",
   "metadata": {},
   "outputs": [],
   "source": [
    "a = nn.MultiheadAttention(\n",
    "    embed_dim=64,\n",
    "    num_heads=4,\n",
    "    batch_first=True,\n",
    ")\n",
    "print(f\"params: {num_module_parameters(a):,}\")\n",
    "for n, p in a.named_parameters():\n",
    "    print(p.shape, n)"
   ]
  },
  {
   "cell_type": "code",
   "execution_count": null,
   "id": "21ae8b3d-439b-4ed9-91c4-3cede5a8eea3",
   "metadata": {},
   "outputs": [],
   "source": []
  },
  {
   "cell_type": "code",
   "execution_count": null,
   "id": "ee6363ac-6f6c-424d-bdec-539fcb29195e",
   "metadata": {},
   "outputs": [],
   "source": [
    "class LinearSelfAttention2d(nn.Module):\n",
    "    \"\"\"\n",
    "    from https://github.com/idiap/fast-transformers/blob/master/fast_transformers/attention/linear_attention.py\n",
    "    \"\"\"\n",
    "    def __init__(self, eps: float = 1e-6):\n",
    "        super().__init__()\n",
    "        self.eps = eps\n",
    "\n",
    "    def forward(self, Q, K, V):\n",
    "        # Compute the KV matrix, namely the dot product of keys and values so\n",
    "        # that we never explicitly compute the attention matrix and thus\n",
    "        # decrease the complexity\n",
    "        KV = torch.einsum(\"nshd,nshm->nhmd\", K, V)\n",
    "\n",
    "        # Compute the normalizer\n",
    "        Z = 1. / (torch.einsum(\"nlhd,nhd->nlh\", Q, K.sum(dim=1)) + self.eps)\n",
    "\n",
    "        # Finally compute and return the new values\n",
    "        V = torch.einsum(\"nlhd,nhmd,nlh->nlhm\", Q, KV, Z)\n",
    "\n",
    "        return V.contiguous()\n",
    "\n",
    "m = LinearSelfAttention2d()\n",
    "m(torch.ones(1, 32, 100, 90), torch.ones(1, 32, 100, 90), torch.ones(1, 32, 100, 90)).shape"
   ]
  },
  {
   "cell_type": "code",
   "execution_count": null,
   "id": "9bd764af-dc55-4858-8491-3b3f2b2df966",
   "metadata": {},
   "outputs": [],
   "source": [
    "class SelfAttention1d(nn.Module):\n",
    "    def __init__(self):\n",
    "        super().__init__()\n",
    "\n",
    "    def forward(self, Q, K, V):\n",
    "        # Compute the KV matrix, namely the dot product of keys and values so\n",
    "        # that we never explicitly compute the attention matrix and thus\n",
    "        # decrease the complexity\n",
    "        KV = torch.einsum(\"nshd,nshm->nhmd\", K, V)\n",
    "\n",
    "        # Compute the normalizer\n",
    "        Z = 1. / (torch.einsum(\"nlhd,nhd->nlh\", Q, K.sum(dim=1)) + self.eps)\n",
    "\n",
    "        # Finally compute and return the new values\n",
    "        V = torch.einsum(\"nlhd,nhmd,nlh->nlhm\", Q, KV, Z)\n",
    "\n",
    "        return V.contiguous()\n",
    "\n",
    "a1 = nn.MultiheadAttention(3, 1, bias=False)\n",
    "print(\"params\", num_module_parameters(a1))\n",
    "qkv = torch.arange(0, 9 * 5).view(1, 9, 5).float() / (9*5)\n",
    "q, k, v = torch.split(qkv.permute(0, 2, 1), 3, dim=2)\n",
    "a1(q, k, v)\n",
    "#m = LinearSelfAttention2d()\n",
    "#m(torch.ones(1, 32, 100, 90), torch.ones(1, 32, 100, 90), torch.ones(1, 32, 100, 90)).shape"
   ]
  },
  {
   "cell_type": "code",
   "execution_count": null,
   "id": "f0506ed7-2002-4590-baf6-655d0b4e14f5",
   "metadata": {},
   "outputs": [],
   "source": [
    "f = dpfp\n",
    "#f = lambda x: F.elu(x) + 1\n",
    "\n",
    "v1 = f(q) @ (f(k).permute(0, 2, 1) @ v) / (v.shape[-1] * v.shape[-2])\n",
    "print(v1.shape)\n",
    "v1"
   ]
  },
  {
   "cell_type": "code",
   "execution_count": null,
   "id": "06eed8a8-43d7-459a-be57-da4d956c520e",
   "metadata": {},
   "outputs": [],
   "source": [
    "k @ v.permute(0, 2, 1)"
   ]
  },
  {
   "cell_type": "code",
   "execution_count": null,
   "id": "6525e825-236d-494f-b01f-76e4346deaa1",
   "metadata": {},
   "outputs": [],
   "source": [
    "#q @ (k.permute(0, 2, 1) @ v)"
   ]
  },
  {
   "cell_type": "code",
   "execution_count": null,
   "id": "250d9e1f-6fd2-4cf0-9d4b-c3444a8593ff",
   "metadata": {},
   "outputs": [],
   "source": [
    "x=torch.linspace(-10, 10, 100)\n",
    "px.line(x=x, y=torch.sigmoid(x)) "
   ]
  },
  {
   "cell_type": "code",
   "execution_count": null,
   "id": "fd81fbe9-4443-401b-9cd2-dd996c8bec80",
   "metadata": {},
   "outputs": [],
   "source": [
    "import graphviz\n",
    "graphviz.Digraph?"
   ]
  },
  {
   "cell_type": "code",
   "execution_count": null,
   "id": "f9dce953-7ec2-410f-84d1-9727e36b711f",
   "metadata": {},
   "outputs": [],
   "source": [
    "g = graphviz.Digraph(engine=\"dot\")\n",
    "#g.edge(\"in\", \"out\", label=\"B,C,L\")\n",
    "g.edge(\"in\", \"conv C,2C\", label=\"B,C,L\")\n",
    "g.edge(\"conv C,2C\", \"split\", label=\"B,2C,L\")\n",
    "g.edge(\"split\", \"Kᵀ dot V\", label=\"B,C,L\")\n",
    "g.edge(\"in\", \"Kᵀ dot V\", label=\"B,C,L\")\n",
    "g.edge(\"Kᵀ dot V\", \"Q dot (Kᵀ dot V)\", label=\"B,L,L\")\n",
    "g.edge(\"split\", \"Q dot (Kᵀ dot V)\", label=\"B,C,L\")\n",
    "g.edge(\"Q dot (Kᵀ dot V)\", \"act\", label=\"B,C,L\")\n",
    "g.edge(\"act\", \"out\", label=\"B,C,L\")\n",
    "\n",
    "#g.edge(\"in B,C,L\", \"out B,C,L\", label=\"x\")\n",
    "#g.edge(\"in B,C,L\", \"conv B,C,L -> B,2C,L\")\n",
    "g#.edge?"
   ]
  },
  {
   "cell_type": "code",
   "execution_count": null,
   "id": "ad02a5c2-05f5-4755-887a-d4a54aae2b5e",
   "metadata": {},
   "outputs": [],
   "source": [
    "B, C, L = 1, 32, 100\n",
    "v = torch.ones(B, C, L)\n",
    "(v @ (v.permute(0, 2, 1) @ v)).shape"
   ]
  },
  {
   "cell_type": "code",
   "execution_count": null,
   "id": "bce75191-0f7b-468f-b10e-6b5314a62c2b",
   "metadata": {},
   "outputs": [],
   "source": [
    "import itertools\n",
    "list(\"\".join(p) for p in itertools.permutations(\"QKV\"))\n",
    "#for t in (\"QK\", \"QV\", \"KV\", \"QKV\"):\n",
    "#print(sorted(t))"
   ]
  },
  {
   "cell_type": "code",
   "execution_count": null,
   "id": "d790a796-91fc-491d-8546-86e2b17d9ddc",
   "metadata": {},
   "outputs": [],
   "source": [
    "df = pd.DataFrame({\n",
    "    \"trial\": [1, 2, 1, 2],\n",
    "    \"b\": [1, 1, 3, 5],\n",
    "    \"c\": [1, 1, 1, 1.5],\n",
    "    \"s\": [\"s\", \"s\", \"s\", \"s\"],\n",
    "}, index=[\"bla-trial:1-bla\", \"bla-trial:2-bla\", \"blub-trial:1-bla\", \"blub-trial:2-bla\"])\n",
    "df\n",
    "df.groupby(\"trial\").mean(numeric_only=True)#.apply(lambda x: x)\n",
    "df.groupby(\"trial\").max()#numeric_only=True)"
   ]
  },
  {
   "cell_type": "code",
   "execution_count": null,
   "id": "499e7275-0ee3-4b4b-be62-176e3b7126b5",
   "metadata": {},
   "outputs": [],
   "source": [
    "df = pd.DataFrame({\n",
    "    \"trial\": [1, 2, 1, 2],\n",
    "    \"b\": [1, 1, 3, 5],\n",
    "    \"bumm\": [\"a\", \"a\", \"b\", \"b\"],\n",
    "    \"c\": [1, 1, 1, 1.5],\n",
    "    \"s\": [\"s\", \"s\", \"s\", \"s\"],\n",
    "}, index=[\"bla-trial:1-bla\", \"bla-trial:2-bla\", \"blub-trial:1-bla\", \"blub-trial:2-bla\"])\n",
    "def _remove_trial(x):\n",
    "    for t in df[\"trial\"].unique():\n",
    "        x = x.replace(f\"trial:{t}\", \"\")\n",
    "    return x\n",
    "df[\"id_without\"] = df.index.map(_remove_trial)\n",
    "display(df)\n",
    "df2 = df.groupby(\"id_without\").mean(numeric_only=True)\n",
    "df3 = df.groupby(\"id_without\").max()\n",
    "for c in df3.columns:\n",
    "    if c not in df2.columns:\n",
    "        df2.loc[:, c] = df3.loc[:, c]\n",
    "#df2.loc[:, df2.columns] = df2.loc[:, df3.columns]\n",
    "#df2#.columns\n",
    "pd.DataFrame({\n",
    "    c: df2.loc[:, c]\n",
    "    for c in df3.columns\n",
    "}).reset_index()"
   ]
  },
  {
   "cell_type": "code",
   "execution_count": null,
   "id": "fe620b88-39ad-42af-9c20-ebb7c2a81bc5",
   "metadata": {},
   "outputs": [],
   "source": [
    "def _():\n",
    "    for i in range(2**5):\n",
    "        yield [\n",
    "            0 if (i >> j) & 1 == 0 else True\n",
    "            for j in range(5)\n",
    "        ]\n",
    "for s in _():\n",
    "    print(\"-\", list(reversed(s)))"
   ]
  },
  {
   "cell_type": "code",
   "execution_count": null,
   "id": "c8664de5-0061-4749-9e37-f7bc6bf0704b",
   "metadata": {},
   "outputs": [],
   "source": [
    "def dpfp(x, nu=1):\n",
    "    x = torch.cat([F.relu(x), F.relu(-x)], dim=-1)\n",
    "    x_rolled = torch.cat([\n",
    "        x.roll(shifts=j, dims=-1)\n",
    "        for j in range(1, nu+1)\n",
    "    ], dim=-1)\n",
    "    x_repeat = torch.cat([x] * nu, dim=-1)\n",
    "    return x_repeat * x_rolled\n",
    "\n",
    "x = torch.arange(0, 2*3*5).view(6, 5) -10#- (2*3*5)//2\n",
    "display(x)\n",
    "dpfp(x, nu=1).shape\n",
    "#x.roll(shifts=1, dims=-1) * x"
   ]
  },
  {
   "cell_type": "code",
   "execution_count": null,
   "id": "a8c53078-1e17-4192-9735-83e5f8a51b15",
   "metadata": {},
   "outputs": [],
   "source": [
    "class DepthWiseConv1d(nn.Module):\n",
    "    def __init__(\n",
    "        self,\n",
    "        channels_in: int,\n",
    "        channels_out: int,\n",
    "        kernel_size: int = 3,\n",
    "        stride: int = 1,\n",
    "        padding: int = 0,\n",
    "        bias: bool = False,\n",
    "    ):\n",
    "        super().__init__()\n",
    "        self.depth_conv = nn.Conv1d(\n",
    "            channels_in, channels_in, kernel_size, stride=stride, padding=padding,\n",
    "            groups=channels_in,\n",
    "            bias=bias,\n",
    "        )\n",
    "        self.point_conv = nn.Conv1d(\n",
    "            channels_in, channels_out, 1,\n",
    "            bias=bias,\n",
    "        )\n",
    "    \n",
    "    def forward(self, x: torch.Tensor):\n",
    "        y = self.depth_conv(x)\n",
    "        y = self.point_conv(y)\n",
    "        return y\n",
    "\n",
    "m = DepthWiseConv1d(1, 3, kernel_size=7, padding=3)\n",
    "print(f\"params: {num_module_parameters(m):,}\")\n",
    "inp = torch.ones(1, 1, 10)\n",
    "outp = m(inp)\n",
    "print(inp.shape, \"->\", outp.shape)\n",
    "outp"
   ]
  },
  {
   "cell_type": "code",
   "execution_count": null,
   "id": "e893fa00-b6ac-452c-b360-1bd63a4b6338",
   "metadata": {},
   "outputs": [],
   "source": [
    "def diagonal_matrix(shape: Union[int, Tuple[int, int]]) -> torch.Tensor:\n",
    "    if isinstance(shape, int):\n",
    "        shape = (shape, shape)\n",
    "    if shape[-2] < shape[-1]:\n",
    "        return diagonal_matrix((shape[-1], shape[-2])).T\n",
    "    x_range = torch.arange(0, shape[-1]).float()\n",
    "    y_range = torch.linspace(0, shape[-1] - 1, shape[-2])\n",
    "    m_x = x_range.unsqueeze(0).repeat(shape[-2], 1)\n",
    "    m_y = y_range.unsqueeze(0).repeat(shape[-1], 1)\n",
    "    m = 1 - (m_x - m_y.T).abs().clamp(0, 1)\n",
    "    return m #/ torch.norm(m, dim=-1, keepdim=True)\n",
    "\n",
    "diagonal_matrix((2, 5))"
   ]
  },
  {
   "cell_type": "code",
   "execution_count": null,
   "id": "69625ba3-eba0-4258-9f6a-9841fb6c8649",
   "metadata": {},
   "outputs": [],
   "source": [
    "grid = []\n",
    "for i in range(1, 11):\n",
    "    for j in range(1, 11):\n",
    "        m = diagonal_matrix((j, i))\n",
    "        m = F.pad(m, (0, 10-i, 0, 10-j), value=.2)\n",
    "        grid.append(m.unsqueeze(0))\n",
    "        \n",
    "VF.to_pil_image(resize(make_grid(grid, nrow=10, pad_value=.2, padding=1), 7))"
   ]
  },
  {
   "cell_type": "code",
   "execution_count": null,
   "id": "6caa25d6-20f6-4429-9bd3-c7f3c4b287b3",
   "metadata": {},
   "outputs": [],
   "source": [
    "e = nn.Embedding(10, 5)\n",
    "with torch.no_grad():\n",
    "    e.weight[:] = diagonal_matrix(e.weight.shape)\n",
    "e(torch.arange(0, 10))"
   ]
  },
  {
   "cell_type": "code",
   "execution_count": null,
   "id": "4970f139-2f29-471e-a0d5-fa303cc1a9cf",
   "metadata": {},
   "outputs": [],
   "source": []
  }
 ],
 "metadata": {
  "kernelspec": {
   "display_name": "Python 3 (ipykernel)",
   "language": "python",
   "name": "python3"
  },
  "language_info": {
   "codemirror_mode": {
    "name": "ipython",
    "version": 3
   },
   "file_extension": ".py",
   "mimetype": "text/x-python",
   "name": "python",
   "nbconvert_exporter": "python",
   "pygments_lexer": "ipython3",
   "version": "3.8.0"
  }
 },
 "nbformat": 4,
 "nbformat_minor": 5
}
