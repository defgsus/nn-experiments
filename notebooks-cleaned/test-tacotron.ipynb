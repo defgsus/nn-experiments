{
 "cells": [
  {
   "cell_type": "code",
   "execution_count": null,
   "id": "dec5b05e-44db-4950-b233-6f749c66c622",
   "metadata": {
    "tags": []
   },
   "outputs": [],
   "source": [
    "import sys\n",
    "sys.path.append(\"..\")\n",
    "\n",
    "import random\n",
    "import math\n",
    "import itertools\n",
    "from copy import deepcopy\n",
    "from io import BytesIO\n",
    "from pathlib import Path\n",
    "from typing import Optional, Callable, List, Tuple, Iterable, Generator, Union, Dict\n",
    "\n",
    "import PIL.Image\n",
    "import PIL.ImageDraw\n",
    "import plotly\n",
    "import plotly.express as px\n",
    "import plotly.graph_objects as go\n",
    "plotly.io.templates.default = \"plotly_dark\"\n",
    "import numpy as np\n",
    "import pandas as pd\n",
    "pd.options.plotting.backend = \"plotly\"\n",
    "from sklearn.manifold import TSNE\n",
    "\n",
    "from tqdm import tqdm\n",
    "import torch\n",
    "import torch.nn as nn\n",
    "import torch.nn.functional as F\n",
    "from torch.utils.data import Dataset, DataLoader, TensorDataset, IterableDataset, RandomSampler\n",
    "import torchvision.transforms as VT\n",
    "import torchvision.transforms.functional as VF\n",
    "from torchvision.utils import make_grid\n",
    "from IPython.display import display, Audio\n",
    "import torchaudio\n",
    "from torchaudio.io import StreamReader\n",
    "\n",
    "from src.datasets import *\n",
    "from src.algo import GreedyLibrary\n",
    "from src.util.image import *\n",
    "from src.util import to_torch_device, iter_batches\n",
    "from src.patchdb import PatchDB, PatchDBIndex\n",
    "from src.models.encoder import *\n",
    "from src.util.audio import *\n",
    "from src.util.files import *\n",
    "from src.util.embedding import *\n",
    "from scripts.train_vae_audio import VAEAudioConv"
   ]
  },
  {
   "cell_type": "code",
   "execution_count": null,
   "id": "3a77717b-c866-453a-9491-7c30253febe5",
   "metadata": {
    "tags": []
   },
   "outputs": [],
   "source": [
    "symbols = \"_-!'(),.:;? abcdefghijklmnopqrstuvwxyz\"\n",
    "look_up = {s: i for i, s in enumerate(symbols)}\n",
    "symbols = set(symbols)\n",
    "\n",
    "\n",
    "def text_to_sequence(text):\n",
    "    text = text.lower()\n",
    "    return [look_up[s] for s in text if s in symbols]\n",
    "\n",
    "\n",
    "text = \"Hello world! Text to speech!\"\n",
    "print(text_to_sequence(text))"
   ]
  },
  {
   "cell_type": "code",
   "execution_count": null,
   "id": "fe862415-8adc-4ae5-8e5b-d77f5711bec5",
   "metadata": {
    "tags": []
   },
   "outputs": [],
   "source": [
    "processor = torchaudio.pipelines.TACOTRON2_WAVERNN_CHAR_LJSPEECH.get_text_processor()\n",
    "\n",
    "text = \"Hello world! Text to speech!\"\n",
    "processed, lengths = processor(text)\n",
    "\n",
    "print(processed)\n",
    "print(lengths)"
   ]
  },
  {
   "cell_type": "code",
   "execution_count": null,
   "id": "37a82ebe-be93-4bc4-a12e-ea2310c7d425",
   "metadata": {
    "tags": []
   },
   "outputs": [],
   "source": [
    "bundle = torchaudio.pipelines.TACOTRON2_WAVERNN_PHONE_LJSPEECH\n",
    "\n",
    "processor = bundle.get_text_processor()\n",
    "\n",
    "text = \"Hello world! Text to speech!\"\n",
    "with torch.inference_mode():\n",
    "    processed, lengths = processor(text)\n",
    "\n",
    "print(processed)\n",
    "print(lengths)"
   ]
  },
  {
   "cell_type": "code",
   "execution_count": null,
   "id": "77710093-82f4-4fe9-9997-7f5cc8a428a5",
   "metadata": {
    "tags": []
   },
   "outputs": [],
   "source": [
    "bundle = torchaudio.pipelines.TACOTRON2_WAVERNN_PHONE_LJSPEECH\n",
    "processor = bundle.get_text_processor()\n",
    "tacotron2 = bundle.get_tacotron2()#.to(device)\n",
    "\n",
    "text = \"Hello world! Text to speech!\"\n",
    "\n",
    "with torch.inference_mode():\n",
    "    processed, lengths = processor(text)\n",
    "    spec, _, _ = tacotron2.infer(processed, lengths)\n",
    "\n",
    "\n",
    "px.imshow(spec[0].cpu().detach())"
   ]
  },
  {
   "cell_type": "code",
   "execution_count": null,
   "id": "14fe0e43-fde3-4ab4-b5e2-bc6bd79945c7",
   "metadata": {
    "tags": []
   },
   "outputs": [],
   "source": [
    "bundle = torchaudio.pipelines.TACOTRON2_WAVERNN_PHONE_LJSPEECH\n",
    "\n",
    "processor = bundle.get_text_processor()\n",
    "tacotron2 = bundle.get_tacotron2()#.to(device)\n",
    "vocoder = bundle.get_vocoder()#.to(device)"
   ]
  },
  {
   "cell_type": "code",
   "execution_count": null,
   "id": "ad41f45d-dccf-467d-8858-c79c631ac543",
   "metadata": {
    "tags": []
   },
   "outputs": [],
   "source": [
    "\n",
    "text = \"You regged sinner, utterly unworthy of God's love!\"\n",
    "\n",
    "with torch.inference_mode():\n",
    "    processed, lengths = processor(text)\n",
    "    #processed = processed.to(device)\n",
    "    #lengths = lengths.to(device)\n",
    "    spec, spec_lengths, _ = tacotron2.infer(processed, lengths)\n",
    "    display(px.imshow(spec[0].cpu().detach()))\n",
    "    waveforms, lengths = vocoder(spec, spec_lengths)\n",
    "    display(Audio(waveforms[0], rate=vocoder.sample_rate))"
   ]
  },
  {
   "cell_type": "code",
   "execution_count": null,
   "id": "6ec85692-f681-4a4c-b516-d047db452cf8",
   "metadata": {
    "tags": []
   },
   "outputs": [],
   "source": [
    "vocoder"
   ]
  },
  {
   "cell_type": "code",
   "execution_count": null,
   "id": "a8cecc6a-16d4-43ae-9cca-46909e2f52f6",
   "metadata": {},
   "outputs": [],
   "source": []
  }
 ],
 "metadata": {
  "kernelspec": {
   "display_name": "Python 3 (ipykernel)",
   "language": "python",
   "name": "python3"
  },
  "language_info": {
   "codemirror_mode": {
    "name": "ipython",
    "version": 3
   },
   "file_extension": ".py",
   "mimetype": "text/x-python",
   "name": "python",
   "nbconvert_exporter": "python",
   "pygments_lexer": "ipython3",
   "version": "3.8.0"
  }
 },
 "nbformat": 4,
 "nbformat_minor": 5
}
