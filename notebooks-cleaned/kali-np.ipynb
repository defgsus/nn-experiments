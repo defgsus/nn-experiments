{
 "cells": [
  {
   "cell_type": "code",
   "execution_count": null,
   "id": "abandoned-angola",
   "metadata": {
    "tags": []
   },
   "outputs": [],
   "source": [
    "from io import BytesIO\n",
    "from tqdm import tqdm\n",
    "import scipy.stats\n",
    "import plotly\n",
    "import plotly.express as px\n",
    "plotly.io.templates.default = \"plotly_dark\"\n",
    "\n",
    "from kaliset import *"
   ]
  },
  {
   "cell_type": "code",
   "execution_count": null,
   "id": "julian-president",
   "metadata": {},
   "outputs": [],
   "source": [
    "def get_high_freq_strict(k: np.ndarray, verbose: bool = False) -> float:\n",
    "    if k.ndim > 2:\n",
    "        k = k[:, :, 0]\n",
    "    #k = np.clip(k, 0, k.mean())\n",
    "    k = (k - k.mean())\n",
    "    #k = np.clip(k, -1, 10)\n",
    "    #k = (k > 0).astype(np.int)\n",
    "    if verbose:\n",
    "        px.imshow(k, title=\"grid\").show()\n",
    "    k = np.fft.fft2(k).real.sum(axis=1)\n",
    "    k = k[:k.shape[0]//2]\n",
    "    k = np.abs(k)\n",
    "    k = k / k.max()\n",
    "    k *= (np.linspace(0, 1, k.shape[0]) ** 2)\n",
    "    if verbose:\n",
    "        #print((k * 100).astype(int))\n",
    "        px.line(y=k, title=\"high freqs\").show()\n",
    "    k = np.abs(k)\n",
    "    return k.mean()\n",
    "\n",
    "def get_high_freq(k: np.ndarray, verbose: bool = False) -> float:\n",
    "    if k.ndim > 2:\n",
    "        k = k[:, :, 0]\n",
    "    #k = np.clip(k, 0, k.mean())\n",
    "    k = (k - k.mean())\n",
    "    #k = np.clip(k, -1, 10)\n",
    "    #k = (k > 0).astype(np.int)\n",
    "    if verbose:\n",
    "        px.imshow(k, title=\"grid\").show()\n",
    "    k = np.fft.fft2(k).real.sum(axis=1)\n",
    "    k = k[:k.shape[0]//2]\n",
    "    k = np.abs(k)\n",
    "    #k = k / k.max()\n",
    "    k *= (np.linspace(0, 1, k.shape[0]) ** 2)\n",
    "    if verbose:\n",
    "        #print((k * 100).astype(int))\n",
    "        px.line(y=k, title=\"high freqs\").show()\n",
    "    k = np.abs(k)\n",
    "    return k.mean()\n",
    "\n",
    "def get_entropy(k: np.ndarray, verbose: bool = False) -> float:\n",
    "    if k.ndim > 2:\n",
    "        k = k[:, :, 0]\n",
    "    k = k.flatten().round(3)\n",
    "    k = np.clip(k - k.mean(), -1, 1)\n",
    "    hist, _ = np.histogram(k, bins=1000)\n",
    "    hist = hist[1:-1]\n",
    "    hist = np.clip(hist - 1, 0, 1)\n",
    "    if verbose:\n",
    "        px.line(y=hist, title=\"histogram\").show()\n",
    "    return hist.mean()\n",
    "    #return scipy.stats.entropy(hist)\n",
    "\n",
    "def get_compression_ratio(data: np.ndarray, color_scale: float = 100, verbose: bool = False):\n",
    "    img = ndarray_to_image(data, color_scale=color_scale)\n",
    "    fp = BytesIO()\n",
    "    img.save(fp, \"png\")\n",
    "    memory_size = img.size[0] * img.size[1] * 3\n",
    "    compress_size = fp.tell()\n",
    "    return compress_size / memory_size\n",
    "\n",
    "def get_edges(k: np.ndarray, verbose: bool = False) -> float:\n",
    "    if k.ndim > 2:\n",
    "        k = k[:, :, 0]\n",
    "\n",
    "    conv_weights = [\n",
    "        [-1, -1, -1],\n",
    "        [-1, 8, -1],\n",
    "        [-1, -1, -1],\n",
    "    ]\n",
    "    conv = scipy.ndimage.convolve(k, conv_weights)#print(get_compression_ratio(data))\n",
    "    conv = np.clip(conv.flatten(), 0, 1)\n",
    "    if verbose:\n",
    "        px.line(y=conv).show()\n",
    "    return conv.mean()\n",
    "\n",
    "def get_freq_entropy(k: np.ndarray, verbose: bool = False) -> float:\n",
    "    if k.ndim > 2:\n",
    "        k = k[:, :, 0]\n",
    "    #k = np.clip(k, 0, k.mean())\n",
    "    k = (k - k.mean())\n",
    "    #k = np.clip(k, -1, 1)\n",
    "    #k = (k > 0).astype(np.int)\n",
    "    if verbose:\n",
    "        px.imshow(k, title=\"grid\").show()\n",
    "    k = np.fft.fft(k.reshape((-1,))).real\n",
    "    #k = k / k.max()\n",
    "    k = k[2:k.shape[0]//2]\n",
    "    k, _ = np.histogram(k, bins=32)\n",
    "    #k = np.abs(k)\n",
    "    #k = (k / k.max() * 100).astype(np.uint8) \n",
    "    if verbose:\n",
    "        #print((k * 100).astype(int))\n",
    "        px.line(y=k, title=\"quantized freqs\").show()\n",
    "    k = scipy.stats.entropy(k)\n",
    "    return k\n",
    "\n",
    "def get_interesting(k: np.ndarray, verbose: bool = False) -> float:\n",
    "    #high_freq = get_high_freq(k, verbose=verbose)\n",
    "    #entropy = get_entropy(k, verbose=verbose)\n",
    "    edges = get_edges(k, verbose=verbose)\n",
    "    compression = get_compression_ratio(k, verbose=verbose)\n",
    "    #return entropy * high_freq\n",
    "    return edges * compression"
   ]
  },
  {
   "cell_type": "code",
   "execution_count": null,
   "id": "prime-chick",
   "metadata": {},
   "outputs": [],
   "source": [
    "for param in (\n",
    "    [.86, 0.22],\n",
    "    [.49, 0.26],\n",
    "    [.72, .72],\n",
    "    [.72, .33],\n",
    "    [.52, .4],\n",
    "    [.89, .23],\n",
    "    [.52, .92],\n",
    "    [.93, .57],\n",
    "):\n",
    "    #space = KaliSpace()#position=(.5, -.5), scale=.01)\n",
    "    space = KaliSpace(position=(.5, -.5), scale=.05)\n",
    "    kset = KaliSet(param, 11)\n",
    "    print(\"\\nparam:\", param)\n",
    "    kset.display(space, size=[200, 200], color_scale=100)\n",
    "    print(get_high_freq(kset(space.uv((32, 32)))[:, :, 0], verbose=True))\n",
    "    "
   ]
  },
  {
   "cell_type": "code",
   "execution_count": null,
   "id": "super-magnitude",
   "metadata": {},
   "outputs": [],
   "source": [
    "d = np.asarray([1, 0, 1, 0])\n",
    "np.fft.fft(d).real"
   ]
  },
  {
   "cell_type": "code",
   "execution_count": null,
   "id": "advance-trout",
   "metadata": {},
   "outputs": [],
   "source": [
    "def sample_params(space, size, func, param_min=(0, 0), param_max=(1, 1)):\n",
    "    result = np.zeros([size[1]+1, size[0]+1])\n",
    "    for y in tqdm(range(size[1]+1)):\n",
    "        for x in range(size[0]+1):\n",
    "            param = [\n",
    "                (x / size[0]) * (param_max[0] - param_min[0]) + param_min[0], \n",
    "                (y / size[1]) * (param_max[1] - param_min[1]) + param_min[1], \n",
    "                .8\n",
    "            ]\n",
    "            kset = KaliSet(param, 11)\n",
    "            k = kset(space.uv((32, 32), dimensions=len(param)))\n",
    "            #k = k[:, :, 0]\n",
    "            result[y, x] = func(k)\n",
    "            #if result[y, x] > 100:\n",
    "            #    kset.display(space, (64, 64), color_scale=100)\n",
    "    return result\n",
    "\n",
    "def sample_param_plot(space, size, func, param_min=(0, 0), param_max=(1, 1)):\n",
    "    result = sample_params(space, size, func, param_min, param_max)\n",
    "    labels = {\n",
    "        \"x\": f\"{param_min[0]} - {param_max[0]}\",\n",
    "        \"y\": f\"{param_min[1]} - {param_max[1]}\",\n",
    "        \"color\": \"interestingness\",\n",
    "        #\"x\": [str((x / size[0]) * (param_max[0] - param_min[0]) + param_min[0]) for x in range(size[0]+1)],\n",
    "        #\"y\": [str((x / size[1]) * (param_max[1] - param_min[1]) + param_min[1]) for x in range(size[1]+1)],\n",
    "    }\n",
    "    px.imshow(np.clip(result, 0, 50), labels=labels).show()#, hovertext=labels)"
   ]
  },
  {
   "cell_type": "code",
   "execution_count": null,
   "id": "black-sacrifice",
   "metadata": {},
   "outputs": [],
   "source": [
    "space = KaliSpace(position=(.5, .5, .5), scale=.1)\n",
    "#space = KaliSpace()\n",
    "sample_param_plot(space, (100, 100), get_compression_ratio, param_min=(0., 0.), param_max=(2., 2.))#.round()\n",
    "#sample_param_plot(space, (30, 30), get_high_freq)"
   ]
  },
  {
   "cell_type": "code",
   "execution_count": null,
   "id": "secret-orchestra",
   "metadata": {},
   "outputs": [],
   "source": [
    "\n",
    "space = KaliSpace(position=(1, 1), scale=1.)\n",
    "kset = KaliSet([0.5, 0.5], 11)\n",
    "data = kset(space.uv((128, 128)))\n",
    "print(get_edges(data))\n",
    "#ndarray_to_image(conv, color_scale=100)\n",
    "#px.imshow(np.clip(result, 8, 50))"
   ]
  },
  {
   "cell_type": "code",
   "execution_count": null,
   "id": "closing-score",
   "metadata": {},
   "outputs": [],
   "source": [
    "\n",
    "kset = KaliSet([0.97, 0.97], 11)\n",
    "kset = KaliSet([0.86, 0.32], 11)\n",
    "#kset = KaliSet([0.905, 0.952], 11)\n",
    "kset = KaliSet([0.95, 0.78], 11)\n",
    "#kset = KaliSet([0.72, 0.59], 11)\n",
    "#kset = KaliSet([0.651, 0.562], 11)\n",
    "#kset = KaliSet([0.45, 0.06], 11)\n",
    "kset.display(space, size=(128, 128), color_scale=100)\n",
    "print(get_interesting(kset(space.uv((32, 32)))[:, :, 0], verbose=True))"
   ]
  },
  {
   "cell_type": "code",
   "execution_count": null,
   "id": "duplicate-currency",
   "metadata": {},
   "outputs": [],
   "source": [
    "for a in np.linspace(0.5, 1, 5):\n",
    "    space = KaliSpace()#position=(.5, -.5), scale=.01)\n",
    "    kset = KaliSet([a, .5], 11)\n",
    "    k = kset(space.uv((32, 32)))\n",
    "    \n",
    "    k = k[:, :, 0]\n",
    "    #value = get_high_freq(k)\n",
    "    #if value < 10:\n",
    "    #    continue\n",
    "    #print(value)\n",
    "    \n",
    "    k = (k - k.mean())\n",
    "    k = (k > 0).astype(np.int)\n",
    "    px.imshow(k).show()\n",
    "    k = np.fft.fft(k.reshape((-1,))).real\n",
    "    k = np.abs(k)\n",
    "    print(k)\n",
    "    print(k[k.shape[0]//2:].sum())\n",
    "    # print(k.max())\n",
    "    #k = (k - k.mean())\n",
    "    #k = (k > 0).astype(np.int)\n",
    "    #for l in k.tolist():\n",
    "    #    print(l)\n",
    "    #k = k[:, :, 0].reshape((-1,))\n",
    "    #k = np.fft.fft(k.reshape((-1,))).real\n",
    "    #k = np.abs(k)\n",
    "    #k = scipy.stats.entropy(k.reshape((-1,)))\n",
    "    #print(k[5:].mean())#axis=0))\n",
    "    print(kset.param)\n",
    "    kset.display(space, size=[128, 128], color_scale=100)\n"
   ]
  },
  {
   "cell_type": "code",
   "execution_count": null,
   "id": "female-vertex",
   "metadata": {},
   "outputs": [],
   "source": [
    "class KaliSet2(KaliSet):\n",
    "    def acc_start(self, space: np.ndarray) -> Any:\n",
    "        return np.ones(space.shape, dtype=space.dtype)\n",
    "\n",
    "    def accumulate(self, acc: Any, space: np.ndarray, dot_product: np.ndarray):\n",
    "        acc = np.min(acc, space)\n",
    "\n",
    "    def acc_end(self, acc: Any, space: np.ndarray) -> Any:\n",
    "        return acc# / self.iterations\n",
    "KaliSet2([.5, .5], 11).img(space, size=[200, 200], color_scale=100)"
   ]
  },
  {
   "cell_type": "code",
   "execution_count": null,
   "id": "auburn-consumption",
   "metadata": {},
   "outputs": [],
   "source": [
    "help(np.fft)"
   ]
  },
  {
   "cell_type": "code",
   "execution_count": null,
   "id": "prerequisite-strap",
   "metadata": {},
   "outputs": [],
   "source": []
  },
  {
   "cell_type": "code",
   "execution_count": null,
   "id": "intensive-killer",
   "metadata": {},
   "outputs": [],
   "source": [
    "help(PIL.Image.fromarray)"
   ]
  },
  {
   "cell_type": "code",
   "execution_count": null,
   "id": "charitable-bulgarian",
   "metadata": {},
   "outputs": [],
   "source": [
    "\n",
    "#uv = np.linspace([[-1, -1]], [[1, 1]], 5, axis=2)\n",
    "uv = get_uv(10, 10)\n",
    "param = np.asarray([.5, .5])\n",
    "k = kali(uv, param, 7)#.round(2)\n",
    "px.imshow(np.clip(k[:,:,0], 0, 50))#(rgb)\n"
   ]
  },
  {
   "cell_type": "code",
   "execution_count": null,
   "id": "noted-hebrew",
   "metadata": {},
   "outputs": [],
   "source": [
    "#img = PIL.Image.new(\"RGB\", (32, 32))\n",
    "kk2 = kk.copy()\n",
    "kk2.k.apply_along_axis\n",
    "#kk.reshape((-1, ))\n",
    "#img\n",
    "#PIL.Image.MODES"
   ]
  },
  {
   "cell_type": "code",
   "execution_count": null,
   "id": "shaped-nirvana",
   "metadata": {},
   "outputs": [],
   "source": [
    "dir(PIL.ImageMode)\n",
    "#help(PIL.ImageMode)"
   ]
  },
  {
   "cell_type": "code",
   "execution_count": null,
   "id": "alive-vitamin",
   "metadata": {},
   "outputs": [],
   "source": [
    "c = np.asarray([[1,2], [3,4]])\n",
    "np.append(c, [[0], [0]], axis=-1)"
   ]
  },
  {
   "cell_type": "code",
   "execution_count": null,
   "id": "found-congress",
   "metadata": {},
   "outputs": [],
   "source": [
    "k = kali(uv, param, 30)#.round(2)\n",
    "#rgb = np.apply_along_axis(lambda c: np.append(c, [0]), -1, k)\n",
    "k[:,:,0]\n",
    "px.imshow(np.clip(k[:,:,0], 0, 50))#(rgb)\n",
    "#from scipy.io import ndimage\n",
    "#ndimage.save"
   ]
  },
  {
   "cell_type": "code",
   "execution_count": null,
   "id": "sunrise-cross",
   "metadata": {},
   "outputs": [],
   "source": [
    "[n for n in dir(np.ndarray) if \"type\" in n]"
   ]
  },
  {
   "cell_type": "code",
   "execution_count": null,
   "id": "controlled-nursing",
   "metadata": {},
   "outputs": [],
   "source": [
    "help(np.apply_along_axis)"
   ]
  },
  {
   "cell_type": "code",
   "execution_count": null,
   "id": "automated-boutique",
   "metadata": {},
   "outputs": [],
   "source": [
    "np.linspace([0, 0], [10, 20]).reshape([10, 5, 2])"
   ]
  }
 ],
 "metadata": {
  "kernelspec": {
   "display_name": "Python 3 (ipykernel)",
   "language": "python",
   "name": "python3"
  },
  "language_info": {
   "codemirror_mode": {
    "name": "ipython",
    "version": 3
   },
   "file_extension": ".py",
   "mimetype": "text/x-python",
   "name": "python",
   "nbconvert_exporter": "python",
   "pygments_lexer": "ipython3",
   "version": "3.8.0"
  }
 },
 "nbformat": 4,
 "nbformat_minor": 5
}
