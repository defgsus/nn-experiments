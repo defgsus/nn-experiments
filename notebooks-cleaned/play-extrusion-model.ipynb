{
 "cells": [
  {
   "cell_type": "code",
   "execution_count": null,
   "id": "e20d7805-5073-4601-8a5c-4cc209a4f5a2",
   "metadata": {},
   "outputs": [],
   "source": [
    "from init_notebook import *\n",
    "from src.train.experiment import load_experiment_trainer\n",
    "from functools import partial"
   ]
  },
  {
   "cell_type": "code",
   "execution_count": null,
   "id": "e938945c-8b94-4b44-afaa-0510d7f7b177",
   "metadata": {},
   "outputs": [],
   "source": [
    "def plot(ds, count=16*16):\n",
    "    batch = next(iter(DataLoader(ds, batch_size=count)))\n",
    "    if isinstance(batch, (tuple, list)):\n",
    "        images = batch[0]\n",
    "        for b in batch[1:]:\n",
    "            if isinstance(b, torch.Tensor) and b.shape[-3:] == images.shape[-3:]:\n",
    "                images = torch.cat([images, b], dim=0)\n",
    "    else:\n",
    "        images = batch\n",
    "        \n",
    "    display(VF.to_pil_image(make_grid(images, nrow=int(math.sqrt(count)))))\n"
   ]
  },
  {
   "cell_type": "code",
   "execution_count": null,
   "id": "dcf9deb4-6d46-49c9-b840-dd7eca369e49",
   "metadata": {},
   "outputs": [],
   "source": []
  },
  {
   "cell_type": "markdown",
   "id": "0acca63f-10b1-4be5-85a2-472b57ebab55",
   "metadata": {},
   "source": [
    "## play with model"
   ]
  },
  {
   "cell_type": "code",
   "execution_count": null,
   "id": "6b4967e9-d93a-4791-a095-8854b8d3f972",
   "metadata": {},
   "outputs": [],
   "source": [
    "trainer = load_experiment_trainer(\"../experiments/img2img/extrusion/extrusion-simple.yml\", device=\"cpu\")\n",
    "assert trainer.load_checkpoint(\"snapshot\")\n",
    "model = trainer.model"
   ]
  },
  {
   "cell_type": "code",
   "execution_count": null,
   "id": "cda96505-52b6-4075-9abd-de33ae59b69b",
   "metadata": {},
   "outputs": [],
   "source": [
    "from PIL import ImageDraw, ImageFont"
   ]
  },
  {
   "cell_type": "code",
   "execution_count": null,
   "id": "035f0606-63fd-48f0-aebf-e928cb35ea27",
   "metadata": {},
   "outputs": [],
   "source": [
    "image_v = PIL.Image.open(\"../datasets/extrusion/validation/source/008.png\")\n",
    "image_v = VF.to_tensor(image_v)[:, 200:400, 200:400]\n",
    "VF.to_pil_image(image_v)"
   ]
  },
  {
   "cell_type": "code",
   "execution_count": null,
   "id": "7edb134e-f784-4086-a60f-79c28407092f",
   "metadata": {},
   "outputs": [],
   "source": [
    "fonts_and_sizes = [\n",
    "    (\"/home/bergi/.local/share/fonts/LEMONMILK-LIGHTITALIC.OTF\", 20),\n",
    "    (\"/home/bergi/.local/share/fonts/LEMONMILK-MEDIUMITALIC.OTF\", 20),\n",
    "    #(\"/home/bergi/.local/share/fonts/unscii-16-full.ttf\", 25),\n",
    "    (\"/usr/share/fonts/truetype/dejavu/DejaVuSerif.ttf\", 25),\n",
    "    (\"/usr/share/fonts/truetype/open-sans/OpenSans-ExtraBold.ttf\", 25),\n",
    "    (\"/usr/share/fonts/truetype/open-sans/OpenSans-ExtraBold.ttf\", 40),\n",
    "]\n",
    "fonts = [\n",
    "    ImageFont.truetype(file, int(size * 1.3))\n",
    "    for file, size in fonts_and_sizes\n",
    "]\n",
    "image = PIL.Image.new(\"RGB\", (200, 40 * len(fonts) + 24))\n",
    "draw = ImageDraw.ImageDraw(image)\n",
    "for i, font in enumerate(fonts):\n",
    "    draw.text((6, 40 * i + 2), \"hello world\", font=font, fill=(255, 255, 255))\n",
    "image = VF.to_tensor(image)\n",
    "VF.to_pil_image(image)"
   ]
  },
  {
   "cell_type": "code",
   "execution_count": null,
   "id": "6118810b-ee3a-4757-adc9-0a442d546e04",
   "metadata": {},
   "outputs": [],
   "source": [
    "with torch.no_grad():\n",
    "    noisy_image = (image - image * torch.randn_like(image[:1]) * .2).clamp(0, 1)\n",
    "    model.eval()\n",
    "    output1 = model(image.unsqueeze(0)).squeeze(0).clamp(0, 1)\n",
    "    output2 = model(noisy_image.unsqueeze(0)).squeeze(0).clamp(0, 1)\n",
    "    grid = make_grid([image, noisy_image, output1, output2], nrow=2).clamp(0, 1)\n",
    "    display(VF.to_pil_image(resize(grid, 3)))"
   ]
  },
  {
   "cell_type": "code",
   "execution_count": null,
   "id": "32d0b194-ce52-46bf-9c98-65ae209e4683",
   "metadata": {},
   "outputs": [],
   "source": [
    "from scripts.extrusion_dataset.render import get_light_map\n",
    "normals = output1.numpy() * 2 - 1\n",
    "light = torch.Tensor(get_light_map(normals, [-1, 2, 3])).unsqueeze(0).repeat(3, 1, 1)\n",
    "#light *= image\n",
    "#light = (light * 255).to(torch.int)\n",
    "resize(VF.to_pil_image(light), 3)"
   ]
  },
  {
   "cell_type": "code",
   "execution_count": null,
   "id": "5aef9a42-eb9a-4bba-8575-78b95622ac41",
   "metadata": {},
   "outputs": [],
   "source": []
  },
  {
   "cell_type": "code",
   "execution_count": null,
   "id": "fb4a9e8b-bd37-4449-ad0c-7b97fc59200b",
   "metadata": {},
   "outputs": [],
   "source": []
  },
  {
   "cell_type": "code",
   "execution_count": null,
   "id": "d0827020-d632-4a32-94a4-c0c0189e1e7e",
   "metadata": {},
   "outputs": [],
   "source": []
  },
  {
   "cell_type": "code",
   "execution_count": null,
   "id": "6c70e2e7-586a-4b12-b38a-56c19d0d03e8",
   "metadata": {},
   "outputs": [],
   "source": [
    "image2 = VF.to_tensor(PIL.Image.open(\"/home/bergi/Pictures/eisenach/wartburg.jpg\"))\n",
    "image2 = resize(image2, .25, VF.InterpolationMode.BICUBIC)\n",
    "image2 = (1. - image2).clamp(0, 1)\n",
    "VF.to_pil_image(image2)"
   ]
  },
  {
   "cell_type": "code",
   "execution_count": null,
   "id": "e12286b4-1490-4277-bfc5-c4dbad95db97",
   "metadata": {},
   "outputs": [],
   "source": [
    "with torch.no_grad():\n",
    "    output = model(image2.unsqueeze(0)).squeeze(0)\n",
    "    display(VF.to_pil_image(resize(make_grid([image2, output.clamp(0, 1)], nrow=1), 2)))"
   ]
  },
  {
   "cell_type": "code",
   "execution_count": null,
   "id": "f83874d2-73ea-4cc2-b3b6-495e3fe9b7fc",
   "metadata": {},
   "outputs": [],
   "source": [
    "images = []\n",
    "for p in (\n",
    "    f\"../datasets/extrusion/validation/source/tubes-01.png\",\n",
    "    f\"../datasets/extrusion/validation/target/tubes-01.png\"\n",
    "):\n",
    "    i1 = PIL.Image.open(p)\n",
    "    i1 = VF.to_tensor(i1)[:, :256, :256]\n",
    "    images.append(i1)\n",
    "VF.to_pil_image(make_grid(images, padding=10))"
   ]
  },
  {
   "cell_type": "code",
   "execution_count": null,
   "id": "6fdfea96-25e6-4610-a7c4-84ea76732d61",
   "metadata": {},
   "outputs": [],
   "source": []
  }
 ],
 "metadata": {
  "kernelspec": {
   "display_name": "Python 3 (ipykernel)",
   "language": "python",
   "name": "python3"
  },
  "language_info": {
   "codemirror_mode": {
    "name": "ipython",
    "version": 3
   },
   "file_extension": ".py",
   "mimetype": "text/x-python",
   "name": "python",
   "nbconvert_exporter": "python",
   "pygments_lexer": "ipython3",
   "version": "3.8.0"
  }
 },
 "nbformat": 4,
 "nbformat_minor": 5
}
