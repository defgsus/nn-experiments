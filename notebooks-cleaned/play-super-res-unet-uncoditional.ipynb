{
 "cells": [
  {
   "cell_type": "code",
   "execution_count": null,
   "id": "9feeac3b-023c-46d9-9972-0338001b193d",
   "metadata": {},
   "outputs": [],
   "source": [
    "from init_notebook import *\n",
    "\n",
    "import diffusers\n",
    "\n",
    "from experiments.datasets import *\n",
    "\n",
    "clip_device = \"cpu\""
   ]
  },
  {
   "cell_type": "code",
   "execution_count": null,
   "id": "0de48be3-9143-4ea2-9c31-a1f66eccda04",
   "metadata": {},
   "outputs": [],
   "source": [
    "SHAPE = (3, 32, 32)\n",
    "\n",
    "class Module(nn.Module):\n",
    "    def __init__(self):\n",
    "        super().__init__()\n",
    "        self.model = diffusers.UNet2DModel(\n",
    "            sample_size=SHAPE[-1],  # the target image resolution\n",
    "            in_channels=SHAPE[0],  # the number of input channels, 3 for RGB images\n",
    "            out_channels=SHAPE[0],  # the number of output channels\n",
    "            # class_embed_type=\"identity\",\n",
    "            act_fn=\"silu\",\n",
    "            layers_per_block=2,  # how many ResNet layers to use per UNet block\n",
    "            block_out_channels=(512 // 4, 128, 128, 128),\n",
    "      \n",
    "            down_block_types=(\n",
    "                \"DownBlock2D\",\n",
    "                \"DownBlock2D\",\n",
    "                \"AttnDownBlock2D\",\n",
    "                \"AttnDownBlock2D\",\n",
    "            ),\n",
    "      \n",
    "            up_block_types=(\n",
    "                \"AttnUpBlock2D\",\n",
    "                \"AttnUpBlock2D\",\n",
    "                \"UpBlock2D\",\n",
    "                \"UpBlock2D\",\n",
    "            ),\n",
    "        )\n",
    "\n",
    "    def forward(self, x, condition=None):\n",
    "        output = self.model(x * 2. - 1., 0, condition).sample\n",
    "        return (output * .5 + .5).clamp(0, 1)\n",
    "\n",
    "model = Module()\n",
    "model.load_state_dict(torch.load(\n",
    "    \"../checkpoints/super-res/unet_all_srf-4_aa-True_act-silu/snapshot.pt\"\n",
    "    #\"../checkpoints/super-res/unet_all_srf-2_aa-True_act-silu/snapshot.pt\"\n",
    ")[\"state_dict\"])\n",
    "model.eval()\n",
    "print(f\"params: {num_module_parameters(model):,}\")"
   ]
  },
  {
   "cell_type": "code",
   "execution_count": null,
   "id": "012c4118-46e1-418d-81eb-49ce9ff9e63a",
   "metadata": {},
   "outputs": [],
   "source": [
    "ds = PixelartDataset((3, 32, 32), with_clip_embedding=True)"
   ]
  },
  {
   "cell_type": "code",
   "execution_count": null,
   "id": "e882bc52-9385-42c0-b9eb-26abf8a11cb2",
   "metadata": {},
   "outputs": [],
   "source": [
    "fac = 4\n",
    "\n",
    "input = ds.shuffle(13).sample(8)[0]\n",
    "input = resize(input, 1/fac)\n",
    "display(VF.to_pil_image(make_grid(input)))\n",
    "\n",
    "with torch.no_grad():\n",
    "    output = model(resize(input, fac))\n",
    "    display(VF.to_pil_image(make_grid(output)))\n",
    "\n",
    "    output = model(resize(output, fac))\n",
    "    display(VF.to_pil_image(make_grid(output)))\n"
   ]
  },
  {
   "cell_type": "code",
   "execution_count": null,
   "id": "09dc138c-79af-4383-8f3f-1eac1f264d0c",
   "metadata": {},
   "outputs": [],
   "source": [
    "input = (torch.randn(4, SHAPE[0], 4, 4) * .3 + .3).clamp(0, 1)\n",
    "with torch.no_grad():\n",
    "    for i in range(5):\n",
    "        input = resize(input, 2)\n",
    "        output = model(input)\n",
    "        display(VF.to_pil_image(make_grid(output)))\n",
    "        input = output"
   ]
  },
  {
   "cell_type": "code",
   "execution_count": null,
   "id": "eab39ccc-210d-444a-8e59-7e98e61a0cb8",
   "metadata": {},
   "outputs": [],
   "source": [
    "image = VF.to_tensor(PIL.Image.open(\n",
    "    \"/home/bergi/Pictures/bob/Bobdobbs_square.png\"\n",
    "    #\"/home/bergi/Pictures/photos/katjacam/101MSDCF/DSC00471.JPG\",\n",
    ").convert(\"RGB\"))\n",
    "image = image_maximum_size(image, 32)\n",
    "display(VF.to_pil_image(image))\n",
    "image = image[None, :]\n",
    "with torch.no_grad():\n",
    "    for i in range(2):\n",
    "        output = model(resize(image, 4))\n",
    "        display(VF.to_pil_image(make_grid(output)))\n",
    "        image = output\n"
   ]
  },
  {
   "cell_type": "code",
   "execution_count": null,
   "id": "fcb2bec4-b971-4616-b127-88aabc3b5594",
   "metadata": {},
   "outputs": [],
   "source": [
    "ds_ca = TotalCADataset((64, 64), seed=1, wrap=True, init_prob=.5, num_iterations=3)\n",
    "input = ds_ca.offset(10).sample(4)[0].unsqueeze(1).repeat(1, 3, 1, 1).float()\n",
    "input = resize(input, 4)\n",
    "display(VF.to_pil_image(make_grid(input)))\n",
    "#print(input)\n",
    "with torch.no_grad():\n",
    "    for i in range(1):\n",
    "        output = model(input)\n",
    "        display(VF.to_pil_image(make_grid(output)))\n",
    "        input = resize(output, 2)\n"
   ]
  },
  {
   "cell_type": "code",
   "execution_count": null,
   "id": "28119129-fdaf-4ed8-a92c-f7e40bb6a8e8",
   "metadata": {},
   "outputs": [],
   "source": []
  },
  {
   "cell_type": "code",
   "execution_count": null,
   "id": "9b18484d-c0e2-4e6a-822d-11cc43313f4c",
   "metadata": {},
   "outputs": [],
   "source": []
  },
  {
   "cell_type": "code",
   "execution_count": null,
   "id": "4a14a085-472a-4f55-bc40-333ebd86aa7b",
   "metadata": {},
   "outputs": [],
   "source": [
    "ds = InterleaveIterableDataset((\n",
    "    PixelartDataset(shape=(SHAPE[0], 32, 32)).offset(3000).shuffle(23).limit(20_000)\n",
    "        .transform([VT.RandomCrop(SHAPE[-1])]),\n",
    "    WrapDataset(TensorDataset(torch.load(f\"../datasets/photos-64x64-bcr03.pt\")))\n",
    "        .transform([VT.RandomCrop(SHAPE[-1])]), #, lambda x: x.float() / 255.])\n",
    "    WrapDataset(TensorDataset(torch.load(f\"../datasets/kali-uint8-64x64.pt\")))\n",
    "        .transform([VT.RandomCrop(SHAPE[-1]), lambda x: x.float() / 255.]),\n",
    "    WrapDataset(TensorDataset(torch.load(f\"../datasets/diverse-64x64-aug4.pt\")))\n",
    "        .transform([VT.RandomCrop(SHAPE[-1])]),\n",
    "    #WrapDataset(TensorDataset(torch.load(f\"../datasets/ifs-1x128x128-uint8-1000x16.pt\")))\n",
    "    #    .transform([VT.RandomCrop(SHAPE[-1]), lambda x: set_image_channels(x, SHAPE[0]).float() / 255., VT.RandomInvert(p=.5)])\n",
    "))\n",
    "VF.to_pil_image(make_grid(ds.sample(64)[0]))"
   ]
  },
  {
   "cell_type": "code",
   "execution_count": null,
   "id": "a9919021-a278-4fdc-b164-1102f28f58ea",
   "metadata": {},
   "outputs": [],
   "source": []
  },
  {
   "cell_type": "code",
   "execution_count": null,
   "id": "5f1630b4-010e-4370-9697-fc48aba8fb83",
   "metadata": {},
   "outputs": [],
   "source": []
  }
 ],
 "metadata": {
  "kernelspec": {
   "display_name": "Python 3 (ipykernel)",
   "language": "python",
   "name": "python3"
  },
  "language_info": {
   "codemirror_mode": {
    "name": "ipython",
    "version": 3
   },
   "file_extension": ".py",
   "mimetype": "text/x-python",
   "name": "python",
   "nbconvert_exporter": "python",
   "pygments_lexer": "ipython3",
   "version": "3.8.0"
  }
 },
 "nbformat": 4,
 "nbformat_minor": 5
}
