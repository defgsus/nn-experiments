{
 "cells": [
  {
   "cell_type": "code",
   "execution_count": null,
   "id": "fe6f0ff9-c4cf-41df-8890-7957cc588ba5",
   "metadata": {
    "tags": []
   },
   "outputs": [],
   "source": [
    "import sys\n",
    "sys.path.append(\"..\")\n",
    "\n",
    "from pathlib import Path\n",
    "\n",
    "import torch\n",
    "from torch.utils.data import DataLoader, TensorDataset\n",
    "import torchvision.transforms as VT\n",
    "import torchvision.transforms.functional as VF\n",
    "from torchvision.utils import make_grid\n",
    "\n",
    "from src.datasets import *\n",
    "from src.models.cnn import *"
   ]
  },
  {
   "cell_type": "code",
   "execution_count": null,
   "id": "872dd51f-62b1-4b2f-a0f5-1f3aa2aaefc1",
   "metadata": {
    "tags": []
   },
   "outputs": [],
   "source": [
    "channels = list(map(int, torch.linspace(3, 10, 9)))\n",
    "print(channels)\n",
    "block = Conv2dBlock(channels, kernel_size=5, transpose=False)\n",
    "print(block.get_output_shape((64, 64)))\n",
    "block"
   ]
  },
  {
   "cell_type": "code",
   "execution_count": null,
   "id": "c0d239e8-f300-486a-8647-2b61f4084d6f",
   "metadata": {
    "tags": []
   },
   "outputs": [],
   "source": [
    "x = torch.rand(3, 64, 64)\n",
    "block.forward(x).shape"
   ]
  },
  {
   "cell_type": "code",
   "execution_count": null,
   "id": "f1bfa9ef-d305-42d8-9a42-5618e647e5ba",
   "metadata": {
    "tags": []
   },
   "outputs": [],
   "source": [
    "Conv2dBlock([10, 10], kernel_size=5).get_output_shape((32, 32))"
   ]
  }
 ],
 "metadata": {
  "kernelspec": {
   "display_name": "Python 3 (ipykernel)",
   "language": "python",
   "name": "python3"
  },
  "language_info": {
   "codemirror_mode": {
    "name": "ipython",
    "version": 3
   },
   "file_extension": ".py",
   "mimetype": "text/x-python",
   "name": "python",
   "nbconvert_exporter": "python",
   "pygments_lexer": "ipython3",
   "version": "3.8.0"
  }
 },
 "nbformat": 4,
 "nbformat_minor": 5
}
