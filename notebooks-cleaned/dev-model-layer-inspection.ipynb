{
 "cells": [
  {
   "cell_type": "code",
   "execution_count": null,
   "id": "e20d7805-5073-4601-8a5c-4cc209a4f5a2",
   "metadata": {},
   "outputs": [],
   "source": [
    "from init_notebook import *\n",
    "from src.train.experiment import load_experiment_trainer\n",
    "from experiments.denoise.resconv import *\n",
    "from functools import partial"
   ]
  },
  {
   "cell_type": "code",
   "execution_count": null,
   "id": "03381e8b-e64b-4470-ab0c-7caa190ab426",
   "metadata": {},
   "outputs": [],
   "source": [
    "def dump_module_stacktrace(model: nn.Module, *input):\n",
    "    stack = []\n",
    "    def _hook(model, args, kwargs=None, name: str=\"\"):\n",
    "        stack.append({\n",
    "            \"module\": name,\n",
    "            \"input\": \", \".join([\n",
    "                str(arg.shape) if isinstance(arg, torch.Tensor) else type(arg).__name__\n",
    "                for arg in args\n",
    "            ]),\n",
    "            \"params\": model.extra_repr(),\n",
    "            \n",
    "        })\n",
    "        \n",
    "    hooks = []\n",
    "    def _register_hooks(model, path: List[str], idx: int):\n",
    "        hooks.append(\n",
    "            model.register_forward_pre_hook(partial(_hook, name=\".\".join(path)))\n",
    "        )\n",
    "        for name, child in model.named_children():\n",
    "            _register_hooks(child, path + [name], idx + 1)\n",
    "\n",
    "    _register_hooks(model, [type(model).__name__], 0)\n",
    "    with torch.no_grad():\n",
    "        model(*input)\n",
    "    \n",
    "    for hook in hooks:\n",
    "        hook.remove()\n",
    "\n",
    "    if stack:\n",
    "        df = pd.DataFrame(stack)\n",
    "        print(df.to_markdown(index=False))\n",
    "    #for s in stack:\n",
    "    #    print(\"{name:40} {input}\".format(**s))\n",
    "\n",
    "\n",
    "model = ResConv(3, num_layers=3, stride=2)\n",
    "_ = dump_module_stacktrace(model, torch.randn(1, 3, 32, 32))"
   ]
  },
  {
   "cell_type": "code",
   "execution_count": null,
   "id": "891c5d00-d8cc-4686-b6df-2bc2e5639457",
   "metadata": {},
   "outputs": [],
   "source": []
  },
  {
   "cell_type": "code",
   "execution_count": null,
   "id": "857ca3bd-b1fa-4250-81fc-3d37e1522360",
   "metadata": {},
   "outputs": [],
   "source": []
  }
 ],
 "metadata": {
  "kernelspec": {
   "display_name": "Python 3 (ipykernel)",
   "language": "python",
   "name": "python3"
  },
  "language_info": {
   "codemirror_mode": {
    "name": "ipython",
    "version": 3
   },
   "file_extension": ".py",
   "mimetype": "text/x-python",
   "name": "python",
   "nbconvert_exporter": "python",
   "pygments_lexer": "ipython3",
   "version": "3.8.0"
  }
 },
 "nbformat": 4,
 "nbformat_minor": 5
}
