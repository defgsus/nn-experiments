{
 "cells": [
  {
   "cell_type": "code",
   "execution_count": null,
   "id": "6101993a-07f2-4cdc-9c51-987532ba6681",
   "metadata": {},
   "outputs": [],
   "source": [
    "from init_notebook import *"
   ]
  },
  {
   "cell_type": "code",
   "execution_count": null,
   "id": "49bb3515-f119-4d13-b79c-94f4ffe708e6",
   "metadata": {},
   "outputs": [],
   "source": [
    "from src.clipig.transformations.value_trans import Denoising\n",
    "print(next(filter(lambda p: p[\"name\"] == \"model\", Denoising.PARAMS))[\"choices\"])"
   ]
  },
  {
   "cell_type": "code",
   "execution_count": null,
   "id": "75ee7b73-d71a-4f3a-95ba-3d040f66c0cd",
   "metadata": {},
   "outputs": [],
   "source": [
    "denoiser = Denoising(\n",
    "    #model=\"degradient-mid-64x64-150k\",\n",
    "    #model=\"degradient-strong-64x64-230k\",\n",
    "    #model=\"denoise-mid-64x64-150k\",\n",
    "    #model=\"declip-1\",\n",
    "    model=\"denoise-heavy-2\",\n",
    "    mix=1.,\n",
    ")\n",
    "denoiser"
   ]
  },
  {
   "cell_type": "code",
   "execution_count": null,
   "id": "57f84dcb-1f90-483a-9b6c-a95465080a6c",
   "metadata": {},
   "outputs": [],
   "source": [
    "@torch.no_grad()\n",
    "def denoise_loop(\n",
    "    image: torch.Tensor,\n",
    "):\n",
    "    images = []\n",
    "    for i in tqdm(range(8*8)):\n",
    "        image = image - image.min()\n",
    "        image = image / image.max()\n",
    "        #print(image.min(), image.max())\n",
    "\n",
    "        image = denoiser.model(image.unsqueeze(0))[0]\n",
    "        images.append(image)\n",
    "        image = (image * 1.01 - 0.01)\n",
    "        #image = image + .8 * torch.randn_like(image)\n",
    "        image = image.clamp(0, 1)\n",
    "\n",
    "    display(VF.to_pil_image(make_grid(images)))\n",
    "\n",
    "denoise_loop(\n",
    "    #torch.rand(3, 128, 128)\n",
    "    torch.randn(3, 128, 128).abs()\n",
    ")\n"
   ]
  }
 ],
 "metadata": {
  "kernelspec": {
   "display_name": "Python 3 (ipykernel)",
   "language": "python",
   "name": "python3"
  },
  "language_info": {
   "codemirror_mode": {
    "name": "ipython",
    "version": 3
   },
   "file_extension": ".py",
   "mimetype": "text/x-python",
   "name": "python",
   "nbconvert_exporter": "python",
   "pygments_lexer": "ipython3",
   "version": "3.8.0"
  }
 },
 "nbformat": 4,
 "nbformat_minor": 5
}
