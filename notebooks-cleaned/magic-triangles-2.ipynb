{
 "cells": [
  {
   "cell_type": "code",
   "execution_count": null,
   "id": "ccbf3ed7-23df-499a-a55c-95255b5c41ea",
   "metadata": {},
   "outputs": [],
   "source": [
    "from typing import List, Tuple\n",
    "import itertools\n",
    "import math\n",
    "import time\n",
    "import PIL.Image\n",
    "import PIL.ImageDraw\n",
    "import PIL.ImageFont\n",
    "from IPython.display import HTML\n",
    "from tqdm import tqdm"
   ]
  },
  {
   "cell_type": "code",
   "execution_count": null,
   "id": "ac4d64de-599c-49eb-adb5-b769e3700c40",
   "metadata": {},
   "outputs": [],
   "source": [
    "itertools.combinations?"
   ]
  },
  {
   "cell_type": "code",
   "execution_count": null,
   "id": "22736639-c3d5-4d40-b3dd-ca24f4ee73c2",
   "metadata": {},
   "outputs": [],
   "source": [
    "\n",
    "\n",
    "def iter_triangles(\n",
    "    edge_length: int,\n",
    "    start_offset: int = 1,\n",
    "    exponent: int = 1,\n",
    "):\n",
    "    num_items = (edge_length - 1) * 3\n",
    "    set_3 = set()\n",
    "    for corners in itertools.combinations(range(num_items), 3):\n",
    "        rest_numbers = set(i for i in range(num_items) if i not in corners)\n",
    "        for edge1 in itertools.combinations(sorted(rest_numbers), (edge_length - 2)):\n",
    "            for edge2 in itertools.combinations(sorted(rest_numbers - set(edge1)), (edge_length - 2)):\n",
    "                for edge3 in itertools.combinations(sorted(rest_numbers - set(edge1) - set(edge2)), (edge_length - 2)):\n",
    "                    #print(corners, edge1, edge2, edge3)\n",
    "                    tri_3 = (corners[0], sum(edge1), corners[1], sum(edge2), corners[2], sum(edge3))\n",
    "                    if tri_3 in set_3:\n",
    "                        continue\n",
    "                    set_3.add(tri_3)\n",
    "                    set_3.add((*tri_3[edge_length-1:], *tri_3[:edge_length-1]))\n",
    "                    set_3.add((*tri_3[-edge_length+1:], *tri_3[:-edge_length+1]))\n",
    "                    \n",
    "                    yield tuple(\n",
    "                        (v + start_offset) ** exponent\n",
    "                        for v in (corners[0], *edge1, corners[1], *edge2, corners[2], *edge3)          \n",
    "                    )\n",
    "                \n",
    "len(set(tqdm(iter_triangles(5))))"
   ]
  },
  {
   "cell_type": "code",
   "execution_count": null,
   "id": "be32817f-b7fb-47db-92b8-e6ccec226b6c",
   "metadata": {},
   "outputs": [],
   "source": [
    "len(list(itertools.combinations(range(4), 4)))"
   ]
  },
  {
   "cell_type": "code",
   "execution_count": null,
   "id": "3ae497e6-c39c-4858-8ee5-3ef9ef26b93f",
   "metadata": {},
   "outputs": [],
   "source": [
    "math.factorial(6), 6**3"
   ]
  },
  {
   "cell_type": "code",
   "execution_count": null,
   "id": "fe986f2b-aabf-4601-a81e-cfc957161689",
   "metadata": {},
   "outputs": [],
   "source": [
    "\n",
    "def draw_triangle(image: PIL.Image.Image, indices: Tuple[int, ...], offset=(0, 0), scale=50):\n",
    "    edge_length = len(indices)//3 + 1\n",
    "    draw = PIL.ImageDraw.ImageDraw(image)\n",
    "    font = PIL.ImageFont.truetype(\"/usr/share/fonts/truetype/freefont/FreeSans.ttf\", scale / 4)\n",
    "    for i, e in enumerate(indices):\n",
    "        if i < edge_length:\n",
    "            tx, ty = i, i\n",
    "        elif i < edge_length * 2 - 1:\n",
    "            tx, ty = i, edge_length * 2 - i - 2\n",
    "        else:\n",
    "            tx, ty = (edge_length - (i-edge_length*2)*2 - max(0, 6-edge_length) - max(0, len(str(e))-1.5)), 0\n",
    "        draw.text((\n",
    "            offset[0] + tx * scale / edge_length, \n",
    "            offset[1] + scale - scale/4+3 - ty * scale / edge_length\n",
    "        ), str(e), fill=255, font=font)\n",
    "\n",
    "image = PIL.Image.new(\"L\", (100, 50), 0)\n",
    "draw_triangle(image, list(range(1, 16)))\n",
    "image"
   ]
  },
  {
   "cell_type": "code",
   "execution_count": null,
   "id": "c2cc99b8-cad1-4bb7-aeda-86abf51bf757",
   "metadata": {},
   "outputs": [],
   "source": [
    "def find_magic_triangles(\n",
    "        edge_length: int = 3,\n",
    "        start_offset: int = 1,\n",
    "        scale: int = 50,\n",
    "        exponent: int = 1,\n",
    "        verbose: bool = True,\n",
    "):\n",
    "    num_items = (edge_length - 1) * 3\n",
    "    magics = {}\n",
    "    num_triangles = 0\n",
    "    try:\n",
    "        for indices in tqdm(\n",
    "                iter_triangles(edge_length=edge_length, start_offset=start_offset, exponent=exponent), \n",
    "                disable=not verbose,\n",
    "        ):\n",
    "            num_triangles += 1\n",
    "            edge1 = indices[:edge_length]\n",
    "            edge2 = indices[edge_length - 1: edge_length * 2 - 1]\n",
    "            sum1 = sum(edge1)\n",
    "            sum2 = sum(edge2)\n",
    "            if sum2 != sum1:\n",
    "                continue\n",
    "            edge3 = indices[edge_length * 2 - 2:] + indices[:1]\n",
    "            sum3 = sum(edge3)\n",
    "            if sum3 != sum1:\n",
    "                continue\n",
    "            magics.setdefault(sum1, []).append(indices)\n",
    "    except KeyboardInterrupt:\n",
    "        print(\"INTERRUPTED!\")\n",
    "        pass\n",
    "    #magics = {0: [(1, 2, 3, 4, 5, 6)]}\n",
    "    if verbose:\n",
    "        time.sleep(.5)\n",
    "    display(HTML(\n",
    "        f\"\"\"<h3>Seitenlänge: {edge_length}, Zahlen: {start_offset} - {num_items - 1 + start_offset},\n",
    "        Magische Dreiecke: {sum(len(t) for t in magics.values())}</h3><h4>aus {num_triangles:,} ungespiegelten/unrotierten\n",
    "        von {math.factorial(num_items):,} möglichen Dreiecken</h4>\"\"\"\n",
    "    ))\n",
    "    for key in sorted(magics):\n",
    "        edges = magics[key]\n",
    "        corner_sums = set()\n",
    "        for edge in edges:\n",
    "            corner_sums.add(edge[0] + edge[edge_length-1] + edge[-edge_length+1])\n",
    "        display(HTML(f\"Kantensumme: <b>{key}</b>, Magische Dreiecke: <b>{len(edges)}</b>, Eckensumme: <b>{', '.join(str(s) for s in sorted(corner_sums))}</b>\"))\n",
    "\n",
    "        num_x = min(10, len(edges))\n",
    "        num_y = (len(edges) + num_x - 1) // num_x\n",
    "        image = PIL.Image.new(\"L\", (scale * num_x * 2, int(scale * num_y * 1.2)), 0)\n",
    "        for j, edge in enumerate(edges):\n",
    "            ox = (j % num_x) * scale * 2\n",
    "            oy = (j // num_x) * scale * 1.2\n",
    "            draw_triangle(image, edge, offset=(ox, oy), scale=scale)\n",
    "            #draw.text((ox * scale * 2 + tx * scale / edge_length, scale - 12 - ty * scale / edge_length), str(e), fill=255)\n",
    "                    \n",
    "        display(image)\n",
    "find_magic_triangles(4, exponent=1, start_offset=1)"
   ]
  },
  {
   "cell_type": "code",
   "execution_count": null,
   "id": "f0ebd589-46d6-4b5e-8cb3-532c9975c169",
   "metadata": {},
   "outputs": [],
   "source": []
  },
  {
   "cell_type": "code",
   "execution_count": null,
   "id": "57dc8775-81d0-4022-b928-10038f959795",
   "metadata": {},
   "outputs": [],
   "source": []
  },
  {
   "cell_type": "code",
   "execution_count": null,
   "id": "adf9a2d0-5bdd-457a-9126-a1d6f0d64255",
   "metadata": {},
   "outputs": [],
   "source": []
  },
  {
   "cell_type": "code",
   "execution_count": null,
   "id": "5c424abd-3cda-4825-b8a4-bcb19a63ae7c",
   "metadata": {},
   "outputs": [],
   "source": []
  },
  {
   "cell_type": "code",
   "execution_count": null,
   "id": "25762bbc-eb17-4e15-bfc1-ce8b07fc7b61",
   "metadata": {},
   "outputs": [],
   "source": []
  },
  {
   "cell_type": "code",
   "execution_count": null,
   "id": "fee43d1d-8a43-499c-be5a-21a1a6fec8aa",
   "metadata": {},
   "outputs": [],
   "source": []
  },
  {
   "cell_type": "code",
   "execution_count": null,
   "id": "fc398bcb-387d-4e88-99f8-fcff34dc7757",
   "metadata": {},
   "outputs": [],
   "source": []
  },
  {
   "cell_type": "code",
   "execution_count": null,
   "id": "0120bce4-71d8-4649-a315-4ebfb10e3d92",
   "metadata": {},
   "outputs": [],
   "source": []
  },
  {
   "cell_type": "code",
   "execution_count": null,
   "id": "1cb76313-3fd3-48cb-9ee8-5a28a94f1943",
   "metadata": {},
   "outputs": [],
   "source": []
  },
  {
   "cell_type": "code",
   "execution_count": null,
   "id": "90109197-dd95-408a-bf65-9366c6ebf23b",
   "metadata": {},
   "outputs": [],
   "source": []
  },
  {
   "cell_type": "code",
   "execution_count": null,
   "id": "772eea37-ea0e-4ef1-a8a6-99a2b41ba28a",
   "metadata": {},
   "outputs": [],
   "source": []
  },
  {
   "cell_type": "code",
   "execution_count": null,
   "id": "c07ebca7-8620-43c2-9a1b-9d2c7770a361",
   "metadata": {},
   "outputs": [],
   "source": []
  },
  {
   "cell_type": "code",
   "execution_count": null,
   "id": "47fb5d0e-ec5a-48a0-9934-babf964021fc",
   "metadata": {},
   "outputs": [],
   "source": [
    "find_magic_triangles(3, exponent=1, start_offset=1, verbose=False)\n",
    "find_magic_triangles(4, exponent=1, start_offset=1, verbose=False)\n",
    "find_magic_triangles(5, exponent=1, start_offset=1, verbose=False)"
   ]
  },
  {
   "cell_type": "code",
   "execution_count": null,
   "id": "c42ed994-e3a7-49d0-a028-cf68b7c67a8c",
   "metadata": {},
   "outputs": [],
   "source": [
    "find_magic_triangles(6, exponent=1, start_offset=1, verbose=False)"
   ]
  },
  {
   "cell_type": "code",
   "execution_count": null,
   "id": "e5de48cc-274b-4453-b225-d7c1a0edc900",
   "metadata": {},
   "outputs": [],
   "source": [
    "for i in [3, 4, 5, 6]:\n",
    "    find_magic_triangles(i, exponent=3, start_offset=1, verbose=False)"
   ]
  },
  {
   "cell_type": "code",
   "execution_count": null,
   "id": "b56aaeb7-1b2b-4ff5-bdf3-c4da57e8d7bd",
   "metadata": {},
   "outputs": [],
   "source": []
  }
 ],
 "metadata": {
  "kernelspec": {
   "display_name": "Python 3 (ipykernel)",
   "language": "python",
   "name": "python3"
  },
  "language_info": {
   "codemirror_mode": {
    "name": "ipython",
    "version": 3
   },
   "file_extension": ".py",
   "mimetype": "text/x-python",
   "name": "python",
   "nbconvert_exporter": "python",
   "pygments_lexer": "ipython3",
   "version": "3.12.3"
  }
 },
 "nbformat": 4,
 "nbformat_minor": 5
}
