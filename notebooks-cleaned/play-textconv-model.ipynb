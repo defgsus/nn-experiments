{
 "cells": [
  {
   "cell_type": "code",
   "execution_count": null,
   "id": "6bf420d0-aff0-4b66-9d4a-6a031a6bb853",
   "metadata": {},
   "outputs": [],
   "source": [
    "from init_notebook import *\n",
    "from src.train.experiment import load_experiment_trainer"
   ]
  },
  {
   "cell_type": "code",
   "execution_count": null,
   "id": "2ebea789-2e98-407d-b781-aaf4dd92bc8e",
   "metadata": {},
   "outputs": [],
   "source": [
    "trainer = load_experiment_trainer(\"../experiments/textmask/autoregressive/convtext-mask-alice.yml\", device=\"cpu\")"
   ]
  },
  {
   "cell_type": "code",
   "execution_count": null,
   "id": "3c69995b-2bb3-4641-adc0-b78987aa1725",
   "metadata": {},
   "outputs": [],
   "source": [
    "trainer.model.eval()\n",
    "trainer.model"
   ]
  },
  {
   "cell_type": "code",
   "execution_count": null,
   "id": "9075e12c-f1ff-45fb-bdd7-a7b468105151",
   "metadata": {},
   "outputs": [],
   "source": [
    "def weight_image(w: torch.Tensor):\n",
    "    w = (w - w.min()) / (w.max() - w.min())\n",
    "    return w\n",
    "    \n",
    "VF.to_pil_image(resize(weight_image(\n",
    "    trainer.model.embedding.weight[None, ...]\n",
    "), 3))"
   ]
  },
  {
   "cell_type": "code",
   "execution_count": null,
   "id": "6d5275ae-bbb1-42ca-875b-16ff700e8ffa",
   "metadata": {},
   "outputs": [],
   "source": [
    "grid = make_grid(\n",
    "    [\n",
    "        weight_image(w) for w in \n",
    "        list(trainer.model.layers)[0].conv.weight[:, None, :, :].permute(0, 1, 3, 2)\n",
    "    ],\n",
    "    nrow=1\n",
    ")\n",
    "\n",
    "VF.to_pil_image(resize(grid, 3))"
   ]
  },
  {
   "cell_type": "code",
   "execution_count": null,
   "id": "e828c81b-c30e-4b9c-96b7-7327f67ccd28",
   "metadata": {},
   "outputs": [],
   "source": [
    "print(\"\".join(chr(c) for c in trainer.generate_text(\n",
    "    #\"The question arises\"\n",
    "    #\"The president of the United States\"\n",
    "    \"The pink and blue\"\n",
    ", keep_length=True, length=500)[0]))\n"
   ]
  }
 ],
 "metadata": {
  "kernelspec": {
   "display_name": "Python 3 (ipykernel)",
   "language": "python",
   "name": "python3"
  },
  "language_info": {
   "codemirror_mode": {
    "name": "ipython",
    "version": 3
   },
   "file_extension": ".py",
   "mimetype": "text/x-python",
   "name": "python",
   "nbconvert_exporter": "python",
   "pygments_lexer": "ipython3",
   "version": "3.8.0"
  }
 },
 "nbformat": 4,
 "nbformat_minor": 5
}
