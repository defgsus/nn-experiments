{
 "cells": [
  {
   "cell_type": "code",
   "execution_count": null,
   "id": "98de9900-984b-4d1e-8c11-524f7066af48",
   "metadata": {
    "tags": []
   },
   "outputs": [],
   "source": [
    "import sys\n",
    "sys.path.append(\"..\")\n",
    "\n",
    "import random\n",
    "import math\n",
    "from pathlib import Path\n",
    "from typing import Optional, Callable, List, Tuple, Iterable\n",
    "\n",
    "from tqdm import tqdm\n",
    "import torch\n",
    "import torch.nn as nn\n",
    "import torch.nn.functional as F\n",
    "from torch.utils.data import DataLoader, TensorDataset\n",
    "import torchvision.transforms as VT\n",
    "import torchvision.transforms.functional as VF\n",
    "from torchvision.utils import make_grid\n",
    "from sklearn.decomposition import PCA\n",
    "import plotly\n",
    "import plotly.express as px\n",
    "plotly.io.templates.default = \"plotly_dark\"\n",
    "\n",
    "from src.datasets import *\n",
    "from src.util.image import * \n",
    "from src.models.rbm import RBM"
   ]
  },
  {
   "cell_type": "code",
   "execution_count": null,
   "id": "72e73890-83d2-48d5-a8d8-0ecf1d0851a6",
   "metadata": {
    "tags": []
   },
   "outputs": [],
   "source": [
    "dataset = torch.load(\"../datasets/fonts-regular-32x32.pt\")\n",
    "dataset = torch.load(\"../datasets/diverse-32x32-std01.pt\")\n",
    "dataset = dataset[:, :1, :, :]\n",
    "shape = dataset[0].shape\n",
    "dataset.shape"
   ]
  },
  {
   "cell_type": "code",
   "execution_count": null,
   "id": "94127a0f-10e0-4e55-b296-0f37aa552e0a",
   "metadata": {
    "tags": []
   },
   "outputs": [],
   "source": [
    "def plot_pca(vector):\n",
    "    pca = PCA(2)\n",
    "    positions = pca.fit_transform(vector)\n",
    "    px.scatter(x=positions[:,0], y=positions[:,1], height=1000).show()"
   ]
  },
  {
   "cell_type": "code",
   "execution_count": null,
   "id": "0fee0550-7122-4680-9e14-ec716f7566c5",
   "metadata": {
    "tags": []
   },
   "outputs": [],
   "source": [
    "plot_pca(dataset.flatten(1))"
   ]
  },
  {
   "cell_type": "code",
   "execution_count": null,
   "id": "4d1f9297-ef26-42d5-8b01-2174dcc0ca48",
   "metadata": {
    "tags": []
   },
   "outputs": [],
   "source": [
    "model = RBM(math.prod(shape), 256)\n",
    "model.load_state_dict(torch.load(\"../checkpoints/rbm1x32x256-fontsc/snapshot.pt\")[\"state_dict\"])"
   ]
  },
  {
   "cell_type": "code",
   "execution_count": null,
   "id": "6c1ef149-5588-4a6a-b6dc-ffbf9a9bf543",
   "metadata": {
    "tags": []
   },
   "outputs": [],
   "source": [
    "with torch.no_grad():\n",
    "    plot_pca(model(dataset))"
   ]
  },
  {
   "cell_type": "code",
   "execution_count": null,
   "id": "d25b1158-753a-4f32-b186-c66f1d45b7d5",
   "metadata": {
    "tags": []
   },
   "outputs": [],
   "source": [
    "model2 = RBM(math.prod(shape), 2)\n",
    "model2.load_state_dict(torch.load(\"../checkpoints/rbm1x32x2-fonts/snapshot.pt\")[\"state_dict\"])"
   ]
  },
  {
   "cell_type": "code",
   "execution_count": null,
   "id": "6788d5b7-b3aa-4448-917c-5a0782f0a16a",
   "metadata": {
    "tags": []
   },
   "outputs": [],
   "source": [
    "with torch.no_grad():\n",
    "    vector = model2(dataset)\n",
    "    px.scatter(x=vector[:,0], y=vector[:,1]).show()"
   ]
  }
 ],
 "metadata": {
  "kernelspec": {
   "display_name": "Python 3 (ipykernel)",
   "language": "python",
   "name": "python3"
  },
  "language_info": {
   "codemirror_mode": {
    "name": "ipython",
    "version": 3
   },
   "file_extension": ".py",
   "mimetype": "text/x-python",
   "name": "python",
   "nbconvert_exporter": "python",
   "pygments_lexer": "ipython3",
   "version": "3.8.0"
  }
 },
 "nbformat": 4,
 "nbformat_minor": 5
}
