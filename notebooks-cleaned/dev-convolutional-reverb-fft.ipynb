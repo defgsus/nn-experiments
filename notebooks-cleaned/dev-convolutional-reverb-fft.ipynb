{
 "cells": [
  {
   "cell_type": "code",
   "execution_count": null,
   "id": "89f2efb5-256e-46bb-8367-f0b98b6a481c",
   "metadata": {},
   "outputs": [],
   "source": [
    "from init_notebook import *"
   ]
  },
  {
   "cell_type": "code",
   "execution_count": null,
   "id": "8aca250b-6d07-4db4-982a-065b48a3393c",
   "metadata": {},
   "outputs": [],
   "source": [
    "t = torch.linspace(0, 1, 1000)\n",
    "sound = (\n",
    "    (t*100).sin() * .2\n",
    "  + (t*150).sin() * .2\n",
    ") * t * (1-t.pow(10))\n",
    "px.line(sound)"
   ]
  },
  {
   "cell_type": "code",
   "execution_count": null,
   "id": "69d9e363-11ba-42ed-b992-c165d6bcdb83",
   "metadata": {},
   "outputs": [],
   "source": [
    "t = torch.linspace(0, 1, 2000)\n",
    "noise = (torch.rand(2000) - .5) * (1-t)\n",
    "px.line(noise)"
   ]
  },
  {
   "cell_type": "code",
   "execution_count": null,
   "id": "1b4656dc-a832-442a-857c-15922c00af43",
   "metadata": {},
   "outputs": [],
   "source": [
    "sound_pad = F.pad(sound, (0, noise.shape[-1] - sound.shape[-1]))\n",
    "sound_f = torch.fft.fft(sound_pad)\n",
    "noise_f = torch.fft.fft(noise)\n",
    "px.line(pd.DataFrame({\n",
    "    \"sound_r\": sound_f.real,\n",
    "    \"sound_i\": sound_f.imag,\n",
    "    \"noise_r\": noise_f.real,\n",
    "    \"noise_i\": noise_f.imag,\n",
    "}))"
   ]
  },
  {
   "cell_type": "code",
   "execution_count": null,
   "id": "763c170d-ba3b-4c79-884c-95f125ac0b8f",
   "metadata": {},
   "outputs": [],
   "source": [
    "conv_f = sound_f * noise_f\n",
    "px.line(pd.DataFrame({\n",
    "    \"conv_r\": conv_f.real,\n",
    "    \"conv_i\": conv_f.imag,\n",
    "}))"
   ]
  },
  {
   "cell_type": "code",
   "execution_count": null,
   "id": "99044075-d5eb-43a8-bd82-1246f719377d",
   "metadata": {},
   "outputs": [],
   "source": [
    "conv = torch.fft.ifft(conv_f).real\n",
    "px.line(conv)"
   ]
  },
  {
   "cell_type": "code",
   "execution_count": null,
   "id": "857a09b9-d592-49f6-9939-3064bc637dea",
   "metadata": {},
   "outputs": [],
   "source": [
    "from torchaudio.functional import fftconvolve\n",
    "px.line(fftconvolve(sound_pad, noise))\n"
   ]
  },
  {
   "cell_type": "code",
   "execution_count": null,
   "id": "ed0a135b-7832-4caf-8985-dc94dafac8e8",
   "metadata": {},
   "outputs": [],
   "source": [
    "px.line(fftconvolve(\n",
    "    torch.Tensor([1] + [0] * 999),\n",
    "    noise\n",
    "))"
   ]
  },
  {
   "cell_type": "code",
   "execution_count": null,
   "id": "8f7a6565-850c-41fb-b21d-91a214eb1c1c",
   "metadata": {},
   "outputs": [],
   "source": [
    "s = torch.rand((1, 3, 100)).bernoulli()\n",
    "px.line(fftconvolve(s, s)[0].T)"
   ]
  }
 ],
 "metadata": {
  "kernelspec": {
   "display_name": "Python 3 (ipykernel)",
   "language": "python",
   "name": "python3"
  },
  "language_info": {
   "codemirror_mode": {
    "name": "ipython",
    "version": 3
   },
   "file_extension": ".py",
   "mimetype": "text/x-python",
   "name": "python",
   "nbconvert_exporter": "python",
   "pygments_lexer": "ipython3",
   "version": "3.8.0"
  }
 },
 "nbformat": 4,
 "nbformat_minor": 5
}
