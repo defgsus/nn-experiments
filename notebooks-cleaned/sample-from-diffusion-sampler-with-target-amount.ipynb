{
 "cells": [
  {
   "cell_type": "code",
   "execution_count": null,
   "id": "4294b2c6-5915-4277-a418-546e0f27921e",
   "metadata": {},
   "outputs": [],
   "source": [
    "from init_notebook import *"
   ]
  },
  {
   "cell_type": "code",
   "execution_count": null,
   "id": "daaf6a44-c6a2-481e-a1dc-d239d29d3bce",
   "metadata": {},
   "outputs": [],
   "source": [
    "img = VF.to_tensor(PIL.Image.open(\"/home/bergi/Pictures/__diverse/capitalism2.jpg\"))"
   ]
  },
  {
   "cell_type": "code",
   "execution_count": null,
   "id": "966adeec-331a-427d-bcda-e71f24cc2c3b",
   "metadata": {},
   "outputs": [],
   "source": [
    "from src.functional import soft_histogram\n",
    "images = torch.cat([img[None, :, :100, :100], img[None, :, 100:200, :100]])\n",
    "images = images.view(2 * 3, 100, 100)\n",
    "h = soft_histogram(images, 128, 0, 1, sigma=100)\n",
    "h = h.view(2, 3, 128).mean(0)\n",
    "px.line(h.T)"
   ]
  },
  {
   "cell_type": "code",
   "execution_count": null,
   "id": "a2481e81-4a29-4b19-9c93-28e72e35061b",
   "metadata": {},
   "outputs": [],
   "source": [
    "from experiments.datasets.classic import _dataset\n",
    "from src.datasets import WrapDataset\n",
    "import torchvision\n",
    "from functools import partial\n",
    "\n",
    "def flowers102_dataset(\n",
    "        train: bool,\n",
    "        shape: Tuple[int, int, int] = (3, 96, 96),\n",
    "        interpolation: bool = True,\n",
    ") -> Dataset:\n",
    "    ds = torchvision.datasets.Flowers102(\n",
    "        \"~/prog/data/datasets/\", split=\"train\" if train else \"test\", #download=True,\n",
    "    )\n",
    "    def cropper(item):\n",
    "        return image_resize_crop(\n",
    "            item, \n",
    "            shape=shape[-2:], \n",
    "            interpolation=VF.InterpolationMode.BILINEAR if interpolation else VF.InterpolationMode.NEAREST,\n",
    "        )\n",
    "        \n",
    "    return (\n",
    "        WrapDataset(ds)\n",
    "        .transform([\n",
    "            VF.to_tensor,\n",
    "            cropper,\n",
    "        ])\n",
    "    )\n",
    "\n",
    "ds = flowers102_dataset(True)\n",
    "VF.to_pil_image(ds[0][0])"
   ]
  },
  {
   "cell_type": "code",
   "execution_count": null,
   "id": "de2f5cdf-85f3-4d4d-8646-54af05187706",
   "metadata": {},
   "outputs": [],
   "source": [
    "VF.to_pil_image(make_grid(\n",
    "    [ds[i][0] for i in range(8*8)]\n",
    "))"
   ]
  },
  {
   "cell_type": "code",
   "execution_count": null,
   "id": "5ddfedd2-7b70-4480-8da0-1514a4ef05bf",
   "metadata": {},
   "outputs": [],
   "source": []
  },
  {
   "cell_type": "code",
   "execution_count": null,
   "id": "d0f62b27-bbc8-479d-baa8-e99aab284b1e",
   "metadata": {},
   "outputs": [],
   "source": [
    "trainer = load_experiment_trainer(\n",
    "    #\"../experiments/diffusion/blurdiffusion2.yml\", \n",
    "    \"../experiments/diffusion/noisediff-vit-class.yml\", \n",
    "    device=\"cpu\",\n",
    ")\n",
    "trainer"
   ]
  },
  {
   "cell_type": "code",
   "execution_count": null,
   "id": "d9bf8d7a-cbf4-42f6-8cf4-41e38e4384ee",
   "metadata": {},
   "outputs": [],
   "source": [
    "# print(trainer.checkpoint_path)\n",
    "trainer.load_checkpoint()"
   ]
  },
  {
   "cell_type": "code",
   "execution_count": null,
   "id": "8a249ff2-4fab-4e5b-9550-c0ac5aee8d6c",
   "metadata": {},
   "outputs": [],
   "source": [
    "from experiments.diffusion.trainer import DiffusionModelInput\n",
    "\n",
    "def generate(steps: int = 10, shape=(3, 32, 32), seed=None):\n",
    "    image_list = []\n",
    "    with torch.no_grad():\n",
    "\n",
    "        init_image = torch.ones((1, *shape)) * -1\n",
    "        o = shape[-1] // 3\n",
    "        init_image[:, :, o:-o, o:-o] = torch.rand((1, shape[0], shape[1]-2*o, shape[2]-2*o), generator=seed)\n",
    "        \n",
    "        classes = trainer.num_class_logits\n",
    "        images, noise_amounts = trainer.diffusion_sampler.add_noise(\n",
    "            init_image.repeat(classes, 1, 1, 1).to(trainer.device),\n",
    "            torch.ones(classes, 1).to(trainer.device) * .5,\n",
    "            seed=seed,\n",
    "        )\n",
    "        class_logits = torch.tensor([\n",
    "            [10 if i == j else 0 for j in range(classes)]\n",
    "            for i in range(classes)\n",
    "        ], dtype=torch.int).to(trainer.device)\n",
    "        \n",
    "        for step in range(steps):\n",
    "            image_list += list(images.clamp(-1, 1) * .5 + .5)\n",
    "            \n",
    "            target_noise_amounts = noise_amounts * .9\n",
    "            predicted_noise = trainer.model(DiffusionModelInput(images, noise_amounts, class_logits)).noise\n",
    "            a = 1\n",
    "            images = images * (1-a) + a * trainer.diffusion_sampler.remove_noise(\n",
    "                images, \n",
    "                predicted_noise,\n",
    "                #target_noise_amounts,\n",
    "            )\n",
    "            noise_amounts = target_noise_amounts\n",
    "            \n",
    "        display(VF.to_pil_image(make_grid(image_list, nrow=classes)))\n",
    "\n",
    "generate(shape=(3, 32, 32))"
   ]
  },
  {
   "cell_type": "code",
   "execution_count": null,
   "id": "5766291a-0f3e-4415-9c9c-7467ad233cdd",
   "metadata": {},
   "outputs": [],
   "source": []
  },
  {
   "cell_type": "code",
   "execution_count": null,
   "id": "6810a08a-20ac-4966-bb0c-e4d1b407819d",
   "metadata": {},
   "outputs": [],
   "source": [
    "from experiments.datasets.classic import *\n",
    "from experiments.diffusion.sampler import *\n",
    "ds = ClassLogitsDataset(cifar10_dataset(False), tuple_position=1)\n",
    "images = torch.cat([ds[i][0].unsqueeze(0) for i in range(8*8)])\n",
    "classes = torch.cat([ds[i][1].unsqueeze(0) for i in range(8*8)])\n",
    "display(VF.to_pil_image(make_grid(images)))"
   ]
  },
  {
   "cell_type": "code",
   "execution_count": null,
   "id": "f69a7597-e4c4-4ffa-ba4a-03993dbbe356",
   "metadata": {},
   "outputs": [],
   "source": [
    "c = torchvision.datasets.CIFAR10(\"/home/bergi/prog/data/datasets\")\n",
    "c.classes"
   ]
  },
  {
   "cell_type": "code",
   "execution_count": null,
   "id": "a033903c-756b-4da1-9e3f-1006dbc663f1",
   "metadata": {},
   "outputs": [],
   "source": [
    "noisy_images, amounts = trainer.diffusion_sampler.add_noise(images * 2 - 1, .95 *torch.ones(images.shape[0], 1).to(images))\n",
    "grids = [make_grid(noisy_images * .5 + .5)]\n",
    "with torch.no_grad():\n",
    "    noise = trainer.model(DiffusionModelInput(noisy_images, amounts, classes)).noise\n",
    "    denoised = trainer.diffusion_sampler.remove_noise(noisy_images, noise)\n",
    "    denoised = (denoised * .5 + .5).clamp(0, 1)\n",
    "    grids.append(make_grid(denoised))\n",
    "\n",
    "    classes2 = classes[1:2].repeat(classes.shape[0], 1)\n",
    "    noise = trainer.model(DiffusionModelInput(noisy_images, amounts, classes2)).noise\n",
    "    denoised = trainer.diffusion_sampler.remove_noise(noisy_images, noise)\n",
    "    denoised = (denoised * .5 + .5).clamp(0, 1)\n",
    "    grids.append(make_grid(denoised))\n",
    "    \n",
    "display(VF.to_pil_image(make_grid(grids)))"
   ]
  },
  {
   "cell_type": "code",
   "execution_count": null,
   "id": "ad0f2222-6143-46d4-9132-eee94cae7fe6",
   "metadata": {},
   "outputs": [],
   "source": []
  },
  {
   "cell_type": "code",
   "execution_count": null,
   "id": "7e08401d-99a0-4450-a635-b09709a5263b",
   "metadata": {},
   "outputs": [],
   "source": [
    "def generate_one(size=128, seed=None, steps=10):\n",
    "    with torch.no_grad():\n",
    "        shape = (3, size, size)\n",
    "        classes = trainer.num_class_logits\n",
    "        images, noise_amounts = trainer.diffusion_sampler.add_noise(\n",
    "            torch.randn((1, *shape), generator=seed).repeat(classes, 1, 1, 1).to(trainer.device),\n",
    "            torch.ones(1, 1).to(trainer.device) * .5,\n",
    "            seed=seed,\n",
    "        )\n",
    "        images = images.clamp(-1, 1)\n",
    "        class_logits = torch.tensor([\n",
    "            [10 if i == j else 0 for j in range(classes)]\n",
    "            for i in range(1)\n",
    "        ], dtype=torch.int).to(trainer.device)\n",
    "\n",
    "        image_list = []\n",
    "        for step in range(steps):\n",
    "            \n",
    "            predicted_noise = trainer.model(DiffusionModelInput(images, noise_amounts, class_logits)).noise\n",
    "            a = .9\n",
    "            images = images * (1-a) + a * trainer.diffusion_sampler.remove_noise(\n",
    "                images, \n",
    "                predicted_noise,\n",
    "                noise_amounts,\n",
    "            )\n",
    "            if step % 4 == 0:\n",
    "                image_list += list(images.clamp(-1, 1) * .5 + .5)\n",
    "            #noise_amounts -= noise_amounts * .1\n",
    "            images, _ = trainer.diffusion_sampler.add_noise(\n",
    "                images,\n",
    "                torch.ones(1, 1).to(trainer.device) * .5,\n",
    "                seed=seed,\n",
    "            )\n",
    "            images += .1 * torch.randn_like(images)\n",
    "            \n",
    "        display(VF.to_pil_image(make_grid(image_list, nrow=4)))\n",
    "\n",
    "generate_one(steps=16*3)"
   ]
  },
  {
   "cell_type": "code",
   "execution_count": null,
   "id": "5dd00390-2a07-46e5-bc22-7f578d067d1f",
   "metadata": {},
   "outputs": [],
   "source": [
    "def process(filename, seed=None, steps=6):\n",
    "    filename = Path(filename).expanduser()\n",
    "    \n",
    "    with torch.no_grad():\n",
    "        image = VF.to_tensor(PIL.Image.open(filename).convert(\"RGB\")) * 2. - 1.\n",
    "        \n",
    "        images, noise_amounts = trainer.diffusion_sampler.add_noise(\n",
    "            image.unsqueeze(0).to(trainer.device),\n",
    "            torch.ones(1, 1).to(trainer.device),\n",
    "            seed=seed,\n",
    "        )\n",
    "        images = images.clamp(-1, 1)\n",
    "        class_logits = torch.tensor([\n",
    "            [10 if i == j else 0 for j in range(trainer.num_class_logits)]\n",
    "            for i in range(1)\n",
    "        ], dtype=torch.int).to(trainer.device)\n",
    "\n",
    "        image_list = []\n",
    "        for step in range(steps):\n",
    "            image_list += list(images.clamp(-1, 1) * .5 + .5)\n",
    "            \n",
    "            predicted_noise = trainer.model(DiffusionModelInput(images, noise_amounts, class_logits)).noise\n",
    "            a = 1\n",
    "            images = images * (1-a) + a * trainer.diffusion_sampler.remove_noise(\n",
    "                images, \n",
    "                predicted_noise,\n",
    "                noise_amounts,\n",
    "            )\n",
    "            #noise_amounts -= noise_amounts * a\n",
    "\n",
    "            images, _ = trainer.diffusion_sampler.add_noise(\n",
    "                images,\n",
    "                torch.ones(1, 1).to(trainer.device) * .5,\n",
    "                seed=seed,\n",
    "            )\n",
    "            \n",
    "        display(VF.to_pil_image(make_grid(image_list, nrow=1)))\n",
    "\n",
    "process(\n",
    "    \"/home/bergi/Pictures/__diverse/_1983018_orson_150.jpg\"\n",
    "    #\"/home/bergi/Pictures/__diverse/2NATO50thAnniversaryLogo01.jpg\"\n",
    ")"
   ]
  },
  {
   "cell_type": "code",
   "execution_count": null,
   "id": "cbce2740-76f5-461b-91a9-9b6dd3faf7df",
   "metadata": {},
   "outputs": [],
   "source": []
  },
  {
   "cell_type": "code",
   "execution_count": null,
   "id": "46022bfb-3d91-4e23-abc1-89784a527b75",
   "metadata": {},
   "outputs": [],
   "source": []
  },
  {
   "cell_type": "code",
   "execution_count": null,
   "id": "5b195a9c-7c61-4bb0-a28a-25f30ed4e60e",
   "metadata": {},
   "outputs": [],
   "source": []
  }
 ],
 "metadata": {
  "kernelspec": {
   "display_name": "Python 3 (ipykernel)",
   "language": "python",
   "name": "python3"
  },
  "language_info": {
   "codemirror_mode": {
    "name": "ipython",
    "version": 3
   },
   "file_extension": ".py",
   "mimetype": "text/x-python",
   "name": "python",
   "nbconvert_exporter": "python",
   "pygments_lexer": "ipython3",
   "version": "3.8.0"
  }
 },
 "nbformat": 4,
 "nbformat_minor": 5
}
