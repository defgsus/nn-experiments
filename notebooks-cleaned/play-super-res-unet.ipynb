{
 "cells": [
  {
   "cell_type": "code",
   "execution_count": null,
   "id": "9feeac3b-023c-46d9-9972-0338001b193d",
   "metadata": {},
   "outputs": [],
   "source": [
    "from init_notebook import *\n",
    "\n",
    "import diffusers\n",
    "\n",
    "from experiments.datasets import *\n",
    "\n",
    "clip_device = \"cpu\""
   ]
  },
  {
   "cell_type": "code",
   "execution_count": null,
   "id": "0de48be3-9143-4ea2-9c31-a1f66eccda04",
   "metadata": {},
   "outputs": [],
   "source": [
    "SHAPE = (3, 32, 32)\n",
    "\n",
    "class Module(nn.Module):\n",
    "    def __init__(self):\n",
    "        super().__init__()\n",
    "        self.model = diffusers.UNet2DModel(\n",
    "            sample_size=SHAPE[-1],  # the target image resolution\n",
    "            in_channels=SHAPE[0],  # the number of input channels, 3 for RGB images\n",
    "            out_channels=SHAPE[0],  # the number of output channels\n",
    "            class_embed_type=\"identity\",\n",
    "            act_fn=\"silu\",\n",
    "            layers_per_block=2,  # how many ResNet layers to use per UNet block\n",
    "            block_out_channels=(512 // 4, 128, 128, 128),\n",
    "      \n",
    "            down_block_types=(\n",
    "                \"DownBlock2D\",\n",
    "                \"DownBlock2D\",\n",
    "                \"AttnDownBlock2D\",\n",
    "                \"AttnDownBlock2D\",\n",
    "            ),\n",
    "      \n",
    "            up_block_types=(\n",
    "                \"AttnUpBlock2D\",\n",
    "                \"AttnUpBlock2D\",\n",
    "                \"UpBlock2D\",\n",
    "                \"UpBlock2D\",\n",
    "            ),\n",
    "        )\n",
    "\n",
    "    def forward(self, x, condition):\n",
    "        return self.model(x, 0, condition).sample.clamp(0, 1)\n",
    "\n",
    "model = Module()\n",
    "model.load_state_dict(torch.load(\n",
    "    #\"../checkpoints/super-res/unet_pix1k_srf-4_aa-True_act-silu/snapshot.pt\"\n",
    "    \"../checkpoints/super-res/unet_pix60k_srf-4_aa-True_act-silu/snapshot.pt\"\n",
    ")[\"state_dict\"])\n",
    "model.eval()\n",
    "print(f\"params: {num_module_parameters(model):,}\")"
   ]
  },
  {
   "cell_type": "code",
   "execution_count": null,
   "id": "012c4118-46e1-418d-81eb-49ce9ff9e63a",
   "metadata": {},
   "outputs": [],
   "source": [
    "ds = PixelartDataset((3, 32, 32), with_clip_embedding=True)"
   ]
  },
  {
   "cell_type": "code",
   "execution_count": null,
   "id": "e882bc52-9385-42c0-b9eb-26abf8a11cb2",
   "metadata": {},
   "outputs": [],
   "source": [
    "input, condition = ds.shuffle(13).sample(8)\n",
    "input = resize(input, 1/4)\n",
    "display(VF.to_pil_image(make_grid(input)))\n",
    "\n",
    "with torch.no_grad():\n",
    "    output = model(resize(input, 4), condition)\n",
    "    display(VF.to_pil_image(make_grid(output)))\n",
    "\n",
    "    output = model(resize(output, 4), condition)\n",
    "    display(VF.to_pil_image(make_grid(output)))\n"
   ]
  },
  {
   "cell_type": "code",
   "execution_count": null,
   "id": "09dc138c-79af-4383-8f3f-1eac1f264d0c",
   "metadata": {},
   "outputs": [],
   "source": [
    "input = (torch.randn(1, SHAPE[0], 4, 4).repeat(4, 1, 1, 1) * .3 + .3).clamp(0, 1)\n",
    "condition = ds.sample(4)[1]\n",
    "#condition = ClipSingleton.encode_text([\n",
    "#    \"cobblestone\", \"brick wall\", \"fire\", \"water\",\n",
    "#], device=clip_device)\n",
    "with torch.no_grad():\n",
    "    for i in range(5):\n",
    "        input = resize(input, 2)\n",
    "        output = model(input, condition)\n",
    "        display(VF.to_pil_image(make_grid(output)))\n",
    "        input = output"
   ]
  },
  {
   "cell_type": "code",
   "execution_count": null,
   "id": "eab39ccc-210d-444a-8e59-7e98e61a0cb8",
   "metadata": {},
   "outputs": [],
   "source": [
    "image = VF.to_tensor(PIL.Image.open(\n",
    "    #\"/home/bergi/Pictures/bob/Bobdobbs_square.png\"\n",
    "    \"/home/bergi/Pictures/photos/katjacam/101MSDCF/DSC00471.JPG\",\n",
    ").convert(\"RGB\"))\n",
    "image = image_maximum_size(image, 32)\n",
    "condition = ClipSingleton.encode_text([\n",
    "    \"cobblestone\", \"brick wall\", \"fire\", \"water\",\n",
    "], device=clip_device)\n",
    "display(VF.to_pil_image(image))\n",
    "image = image[None, :].repeat(condition.shape[0], 1, 1, 1)\n",
    "with torch.no_grad():\n",
    "    output = model(resize(image, 4), condition)\n",
    "    display(VF.to_pil_image(make_grid(output)))\n"
   ]
  }
 ],
 "metadata": {
  "kernelspec": {
   "display_name": "Python 3 (ipykernel)",
   "language": "python",
   "name": "python3"
  },
  "language_info": {
   "codemirror_mode": {
    "name": "ipython",
    "version": 3
   },
   "file_extension": ".py",
   "mimetype": "text/x-python",
   "name": "python",
   "nbconvert_exporter": "python",
   "pygments_lexer": "ipython3",
   "version": "3.8.0"
  }
 },
 "nbformat": 4,
 "nbformat_minor": 5
}
