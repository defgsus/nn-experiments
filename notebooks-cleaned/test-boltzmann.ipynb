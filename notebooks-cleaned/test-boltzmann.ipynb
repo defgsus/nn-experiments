{
 "cells": [
  {
   "cell_type": "code",
   "execution_count": null,
   "id": "91036e4e-abea-4036-8de8-b0da0b5e4648",
   "metadata": {
    "tags": []
   },
   "outputs": [],
   "source": [
    "import sys\n",
    "sys.path.append(\"..\")\n",
    "\n",
    "from pathlib import Path\n",
    "from typing import Optional, Callable, List, Tuple, Iterable\n",
    "\n",
    "import torch\n",
    "import torch.nn as nn\n",
    "import torch.nn.functional as F\n",
    "from torch.utils.data import DataLoader, TensorDataset\n",
    "import torchvision.transforms as VT\n",
    "import torchvision.transforms.functional as VF\n",
    "from torchvision.utils import make_grid\n",
    "\n",
    "from src.datasets import *\n",
    "from src.models.rbm import *"
   ]
  },
  {
   "cell_type": "code",
   "execution_count": null,
   "id": "7a29cb85-0228-40be-9f06-9e909a8af8cd",
   "metadata": {
    "tags": []
   },
   "outputs": [],
   "source": [
    "model = RBM(10, 5)\n",
    "x = torch.Tensor([1, 0, 0, 1, 1, 0, 0, 0, 1, 1])\n",
    "\n",
    "model.contrastive_divergence(x, 1)"
   ]
  },
  {
   "cell_type": "code",
   "execution_count": null,
   "id": "c6f8fcaf-8581-4573-9994-eba26858d062",
   "metadata": {},
   "outputs": [],
   "source": [
    "\n"
   ]
  }
 ],
 "metadata": {
  "kernelspec": {
   "display_name": "Python 3 (ipykernel)",
   "language": "python",
   "name": "python3"
  },
  "language_info": {
   "codemirror_mode": {
    "name": "ipython",
    "version": 3
   },
   "file_extension": ".py",
   "mimetype": "text/x-python",
   "name": "python",
   "nbconvert_exporter": "python",
   "pygments_lexer": "ipython3",
   "version": "3.8.0"
  }
 },
 "nbformat": 4,
 "nbformat_minor": 5
}
