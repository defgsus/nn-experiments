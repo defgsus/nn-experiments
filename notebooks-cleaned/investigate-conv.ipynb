{
 "cells": [
  {
   "cell_type": "code",
   "execution_count": null,
   "id": "be344936-2eea-4851-829b-e3040fe27afb",
   "metadata": {
    "tags": []
   },
   "outputs": [],
   "source": [
    "import sys\n",
    "sys.path.append(\"..\")\n",
    "\n",
    "import random\n",
    "import math\n",
    "import itertools\n",
    "from copy import deepcopy\n",
    "from io import BytesIO\n",
    "from pathlib import Path\n",
    "from collections import OrderedDict\n",
    "from typing import Optional, Callable, List, Tuple, Iterable, Generator, Union, Dict\n",
    "\n",
    "import PIL.Image\n",
    "import PIL.ImageDraw\n",
    "import plotly\n",
    "import plotly.express as px\n",
    "import plotly.graph_objects as go\n",
    "plotly.io.templates.default = \"plotly_dark\"\n",
    "import numpy as np\n",
    "import pandas as pd\n",
    "pd.options.plotting.backend = \"plotly\"\n",
    "\n",
    "from tqdm import tqdm\n",
    "import torch\n",
    "import torch.nn as nn\n",
    "import torch.nn.functional as F\n",
    "from torch.utils.data import Dataset, DataLoader, TensorDataset, IterableDataset, RandomSampler\n",
    "import torchvision.transforms as VT\n",
    "import torchvision.transforms.functional as VF\n",
    "from torchvision.utils import make_grid\n",
    "from IPython.display import display\n",
    "\n",
    "from src.datasets import *\n",
    "from src.util.image import *\n",
    "from src.util import to_torch_device\n",
    "from src.models.cnn import *\n",
    "from src.models.encoder import *"
   ]
  },
  {
   "cell_type": "code",
   "execution_count": null,
   "id": "aadb01e0-7345-40de-88a0-1053937da7b2",
   "metadata": {
    "tags": []
   },
   "outputs": [],
   "source": [
    "def show_image(image, min_size: int = 200):\n",
    "    new_shape = None\n",
    "    size = min(image.shape[-2:])\n",
    "    if size < min_size:\n",
    "        if image.shape[-2] < image.shape[-1]:\n",
    "            new_shape = [min_size, int(image.shape[-1] / image.shape[-2] * min_size)]\n",
    "        else:\n",
    "            new_shape = [int(image.shape[-2] / image.shape[-1] * min_size), min_size]\n",
    "    if new_shape:\n",
    "        image = VF.resize(image, new_shape, VF.InterpolationMode.NEAREST)\n",
    "    display(VF.to_pil_image(image))"
   ]
  },
  {
   "cell_type": "code",
   "execution_count": null,
   "id": "8b50004b-b884-47b2-b259-b99ddd20fe4b",
   "metadata": {
    "tags": []
   },
   "outputs": [],
   "source": [
    "image = VF.to_tensor(PIL.Image.open(\"/home/bergi/Pictures/kali2.png\"))\n",
    "print(image.shape)\n",
    "image = VF.resize(image, (50, 50))\n",
    "image = image[:1]\n",
    "show_image(image)"
   ]
  },
  {
   "cell_type": "code",
   "execution_count": null,
   "id": "e4e5e3ca-14f9-46da-9edd-fd58e6f939cc",
   "metadata": {
    "tags": []
   },
   "outputs": [],
   "source": [
    "c1 = nn.Conv2d(1, 4*4, kernel_size=5, stride=3)"
   ]
  },
  {
   "cell_type": "code",
   "execution_count": null,
   "id": "c6d984f2-a18c-4b95-9172-93c1886375e1",
   "metadata": {
    "tags": []
   },
   "outputs": [],
   "source": [
    "convs = c1(image)\n",
    "convs = convs.view(-1, 1, *convs.shape[-2:])\n",
    "#show_image(signed_to_image(make_grid(convs, normalize=False, nrow=4)), min_size=600)\n",
    "show_image(make_grid(convs, normalize=True, nrow=4), min_size=600)"
   ]
  },
  {
   "cell_type": "code",
   "execution_count": null,
   "id": "a30edb0f-08e4-4297-a055-1d1e1ee86cfd",
   "metadata": {
    "tags": []
   },
   "outputs": [],
   "source": [
    "pools = nn.MaxPool2d(5)(convs) - nn.AvgPool2d(5)(convs)\n",
    "pools = pools.view(-1, 1, *pools.shape[-2:])\n",
    "show_image(make_grid(pools, normalize=True, nrow=4), min_size=600)"
   ]
  },
  {
   "cell_type": "code",
   "execution_count": null,
   "id": "c23cda4a-97da-4ea9-bdd5-05d76c9efbdd",
   "metadata": {},
   "outputs": [],
   "source": []
  }
 ],
 "metadata": {
  "kernelspec": {
   "display_name": "Python 3 (ipykernel)",
   "language": "python",
   "name": "python3"
  },
  "language_info": {
   "codemirror_mode": {
    "name": "ipython",
    "version": 3
   },
   "file_extension": ".py",
   "mimetype": "text/x-python",
   "name": "python",
   "nbconvert_exporter": "python",
   "pygments_lexer": "ipython3",
   "version": "3.8.0"
  }
 },
 "nbformat": 4,
 "nbformat_minor": 5
}
