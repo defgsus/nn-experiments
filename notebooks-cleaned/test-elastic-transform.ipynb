{
 "cells": [
  {
   "cell_type": "code",
   "execution_count": null,
   "id": "fc679d01-f0be-4037-b19c-97e60beb19c5",
   "metadata": {},
   "outputs": [],
   "source": [
    "from init_notebook import *\n",
    "from experiments.datasets import *"
   ]
  },
  {
   "cell_type": "code",
   "execution_count": null,
   "id": "f5926cca-3e81-45f2-92a2-52737b0d3fa0",
   "metadata": {},
   "outputs": [],
   "source": [
    "ds = stl10_dataset(train=True)"
   ]
  },
  {
   "cell_type": "code",
   "execution_count": null,
   "id": "402e67c6-4378-483f-b23e-0bbb2459bf32",
   "metadata": {},
   "outputs": [],
   "source": [
    "images = torch.concat([t[0].unsqueeze(0) for t in ds.limit(31)])\n",
    "VF.to_pil_image(make_grid(images))"
   ]
  },
  {
   "cell_type": "code",
   "execution_count": null,
   "id": "e9bb858d-576a-413e-9185-4592c05502c2",
   "metadata": {},
   "outputs": [],
   "source": [
    "t_images = VT.ElasticTransform(alpha=200., sigma=15.0)(images)\n",
    "VF.to_pil_image(make_grid(t_images))"
   ]
  },
  {
   "cell_type": "code",
   "execution_count": null,
   "id": "4f16f356-afde-436f-8423-1c5904acc786",
   "metadata": {},
   "outputs": [],
   "source": [
    "5000*3*96*96*4/1024/1024"
   ]
  },
  {
   "cell_type": "code",
   "execution_count": null,
   "id": "3a7d9bc3-6c1c-4c95-9434-d3bc1d9e025d",
   "metadata": {},
   "outputs": [],
   "source": [
    "tr = VT.TrivialAugmentWide()\n",
    "t_images = (images * 255).to(torch.uint8)\n",
    "t_images = torch.concat([tr(i).unsqueeze(0) for i in t_images]).float() / 255.\n",
    "VF.to_pil_image(make_grid(t_images))"
   ]
  },
  {
   "cell_type": "code",
   "execution_count": null,
   "id": "e79e3929-2758-406a-927f-132a23c990f4",
   "metadata": {},
   "outputs": [],
   "source": [
    "tr = VT.Compose((\n",
    "    VT.Pad(12),\n",
    "    VT.RandomCrop((96, 96)),\n",
    "    VT.RandomErasing(),\n",
    "    VT.RandomHorizontalFlip(),\n",
    "))\n",
    "t_images = (images * 255).to(torch.uint8)\n",
    "t_images = torch.concat([tr(i).unsqueeze(0) for i in t_images]).float() / 255.\n",
    "VF.to_pil_image(make_grid(t_images))"
   ]
  }
 ],
 "metadata": {
  "kernelspec": {
   "display_name": "Python 3 (ipykernel)",
   "language": "python",
   "name": "python3"
  },
  "language_info": {
   "codemirror_mode": {
    "name": "ipython",
    "version": 3
   },
   "file_extension": ".py",
   "mimetype": "text/x-python",
   "name": "python",
   "nbconvert_exporter": "python",
   "pygments_lexer": "ipython3",
   "version": "3.12.3"
  }
 },
 "nbformat": 4,
 "nbformat_minor": 5
}
