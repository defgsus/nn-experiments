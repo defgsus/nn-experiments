{
 "cells": [
  {
   "cell_type": "code",
   "execution_count": null,
   "id": "896580de-dfbd-4fec-9480-fcc6b6ff9d71",
   "metadata": {
    "tags": []
   },
   "outputs": [],
   "source": [
    "import sys\n",
    "sys.path.append(\"..\")\n",
    "\n",
    "from pathlib import Path\n",
    "import math\n",
    "\n",
    "from tqdm import tqdm\n",
    "import numpy as np\n",
    "import torch\n",
    "from torch.utils.data import DataLoader, TensorDataset\n",
    "import torchvision.transforms as VT\n",
    "import torchvision.transforms.functional as VF\n",
    "from torchvision.utils import make_grid\n",
    "\n",
    "from src.datasets.ca imiiport *\n",
    "from src.models.rbm import RBM"
   ]
  },
  {
   "cell_type": "code",
   "execution_count": null,
   "id": "8e3b9d5b-3d87-40f7-a7a3-4860d59255db",
   "metadata": {
    "tags": []
   },
   "outputs": [],
   "source": [
    "ds = TotalCADataset(\n",
    "    (32, 32), \n",
    "    seed=23,\n",
    "    #num_repetitions=8,\n",
    "    #num_iterations=[1, 20],\n",
    "    #init_prob=[0, 1],\n",
    "    #rules=[\"3-23\", \"124-45\"],\n",
    ")\n",
    "len(ds)"
   ]
  },
  {
   "cell_type": "code",
   "execution_count": null,
   "id": "275c590a-d3a1-45d3-811b-f07d51b16dff",
   "metadata": {
    "tags": []
   },
   "outputs": [],
   "source": [
    "def plot_images(iterable, num: int = 8, nrow: int = 8):\n",
    "    images = []\n",
    "    for image, rule in iterable:\n",
    "        if isinstance(image, tuple):\n",
    "            image = image[0]\n",
    "        images.append(image)\n",
    "        if len(images) >= num:\n",
    "            break\n",
    "    return VF.to_pil_image(make_grid(images, nrow=nrow))\n",
    "\n",
    "dl = DataLoader(ds)\n",
    "plot_images(dl, 256, nrow=16)"
   ]
  },
  {
   "cell_type": "code",
   "execution_count": null,
   "id": "bb676d70-d945-4791-8a8a-62c795e7154e",
   "metadata": {},
   "outputs": [],
   "source": [
    "model = RBM(math.prod(ds.shape), 32)\n",
    "model.load_state_dict(torch.load(\"../checkpoints/ca32x32/snapshot.pt\")[\"state_dict\"])"
   ]
  },
  {
   "cell_type": "code",
   "execution_count": null,
   "id": "e0d9dc65-2b11-4877-9a7b-02b2a6b78b7d",
   "metadata": {},
   "outputs": [],
   "source": [
    "# store ca -> features\n",
    "\n",
    "dl = DataLoader(ds, batch_size=100, num_workers=5)\n",
    "features = []\n",
    "for batch in tqdm(dl):\n",
    "    images, rules = batch\n",
    "    features.append(model(images))\n",
    "    #if len(features) > 2:\n",
    "    #    break\n",
    "features = torch.cat(features)\n",
    "torch.save(features, \"../checkpoints/ca32x32/ca-features.pt\")\n",
    "features.shape"
   ]
  },
  {
   "cell_type": "code",
   "execution_count": null,
   "id": "9419acd4-e202-472c-a237-72c62a540d1c",
   "metadata": {},
   "outputs": [],
   "source": []
  },
  {
   "cell_type": "code",
   "execution_count": null,
   "id": "16c75b3e-6473-4334-be87-255a92f13ebf",
   "metadata": {
    "tags": []
   },
   "outputs": [],
   "source": [
    "from sklearn.manifold import TSNE\n",
    "tsne = TSNE(2, verbose=True)\n",
    "xy = tsne.fit_transform(features.detach())"
   ]
  },
  {
   "cell_type": "code",
   "execution_count": null,
   "id": "6f2a0467-f790-48ea-8a8b-8f8a28dc6e73",
   "metadata": {
    "tags": []
   },
   "outputs": [],
   "source": [
    "np.save(\"../checkpoints/ca32x32.npy\", xy)"
   ]
  },
  {
   "cell_type": "code",
   "execution_count": null,
   "id": "c94637af-31aa-461d-88ff-7be3dc60cc37",
   "metadata": {
    "tags": []
   },
   "outputs": [],
   "source": [
    "from sklearn.decomposition import PCA\n",
    "pca = PCA(3)\n",
    "rgb = pca.fit_transform(features.detach())\n",
    "rgb -= rgb.min()\n",
    "rgb /= rgb.max()\n",
    "rgb.shape, rgb.min(), rgb.max()"
   ]
  },
  {
   "cell_type": "code",
   "execution_count": null,
   "id": "23aa5e1c-d72c-4a4a-9f92-c8740c07f414",
   "metadata": {
    "tags": []
   },
   "outputs": [],
   "source": [
    "colors = [\n",
    "    \"#\" + \"\".join(\n",
    "        \"%02x\" % max(0, min(255, int(50 + v*205)))\n",
    "        for v in row\n",
    "    )\n",
    "    for row in rgb\n",
    "]\n",
    "colors[:3]"
   ]
  },
  {
   "cell_type": "code",
   "execution_count": null,
   "id": "77010eea-440c-4b2c-b911-c8483bfafd8f",
   "metadata": {
    "tags": []
   },
   "outputs": [],
   "source": [
    "import plotly\n",
    "import plotly.express as px\n",
    "plotly.io.templates.default = \"plotly_dark\"\n",
    "\n",
    "#plotly.graph_objs.Scattergl(\n",
    "p = px.scatter(\n",
    "    x=xy[:, 0], y=xy[:, 1],\n",
    "    height=1000,\n",
    "    color=colors,\n",
    "    color_discrete_map=\"identity\",\n",
    ")\n",
    "p.update_layout({\"margin\": {\"l\": 0, \"r\": 0, \"t\": 0, \"b\": 0}}, overwrite=True)\n",
    "p#.layout."
   ]
  },
  {
   "cell_type": "code",
   "execution_count": null,
   "id": "e91c1e82-7a5a-4791-b3e8-2578bcb4a6e0",
   "metadata": {
    "tags": []
   },
   "outputs": [],
   "source": []
  },
  {
   "cell_type": "code",
   "execution_count": null,
   "id": "8100973c-0085-4b27-821b-7a4c19c723ef",
   "metadata": {},
   "outputs": [],
   "source": []
  }
 ],
 "metadata": {
  "kernelspec": {
   "display_name": "Python 3 (ipykernel)",
   "language": "python",
   "name": "python3"
  },
  "language_info": {
   "codemirror_mode": {
    "name": "ipython",
    "version": 3
   },
   "file_extension": ".py",
   "mimetype": "text/x-python",
   "name": "python",
   "nbconvert_exporter": "python",
   "pygments_lexer": "ipython3",
   "version": "3.8.0"
  }
 },
 "nbformat": 4,
 "nbformat_minor": 5
}
