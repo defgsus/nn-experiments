{
 "cells": [
  {
   "cell_type": "code",
   "execution_count": null,
   "id": "dad530fe-227c-45bd-8984-4a18421a69f2",
   "metadata": {
    "tags": []
   },
   "outputs": [],
   "source": [
    "import sys\n",
    "sys.path.append(\"..\")\n",
    "\n",
    "import random\n",
    "import math\n",
    "import time\n",
    "from io import BytesIO\n",
    "from pathlib import Path\n",
    "from collections import OrderedDict\n",
    "from typing import Optional, Callable, List, Tuple, Iterable, Generator, Union\n",
    "\n",
    "import PIL.Image\n",
    "import PIL.ImageDraw\n",
    "\n",
    "from tqdm import tqdm\n",
    "import torch\n",
    "import torch.nn as nn\n",
    "import torch.nn.functional as F\n",
    "from torch.utils.data import Dataset, DataLoader, TensorDataset, IterableDataset\n",
    "import torchvision.transforms as VT\n",
    "import torchvision.transforms.functional as VF\n",
    "from torchvision.utils import make_grid\n",
    "from IPython.display import display\n",
    "\n",
    "from src.datasets import *\n",
    "from src.util.image import *\n",
    "from src.util import *\n",
    "from src.algo import *\n",
    "from src.models.decoder import *"
   ]
  },
  {
   "cell_type": "code",
   "execution_count": null,
   "id": "f3170978-5d9c-40ed-8ae8-a0b4b22497f8",
   "metadata": {
    "tags": []
   },
   "outputs": [],
   "source": [
    "from torchvision.datasets import MNIST\n",
    "from itertools import permutations"
   ]
  },
  {
   "cell_type": "code",
   "execution_count": null,
   "id": "bef11255-c11c-4af0-8b6e-b82be7e704fc",
   "metadata": {
    "tags": []
   },
   "outputs": [],
   "source": [
    "ds = MNIST(\"/home/bergi/prog/data/datasets/\")"
   ]
  },
  {
   "cell_type": "code",
   "execution_count": null,
   "id": "f329d304-1eaf-4957-964f-eb01c32a543c",
   "metadata": {
    "tags": []
   },
   "outputs": [],
   "source": [
    "ds."
   ]
  },
  {
   "cell_type": "code",
   "execution_count": null,
   "id": "fe73e955-156c-454c-851d-f173b8e08564",
   "metadata": {
    "tags": []
   },
   "outputs": [],
   "source": [
    "matrix = {\n",
    "    \"a\": [0, 1],\n",
    "    \"b\": [10, 11],\n",
    "    \"c\": [100],\n",
    "}\n",
    "values = []\n",
    "for k, v in matrix.items():\n",
    "    for i in range(len(v)):\n",
    "        values.append((k, i))\n",
    "print(values)\n",
    "#list(permutations(values))"
   ]
  },
  {
   "cell_type": "code",
   "execution_count": null,
   "id": "9ae7b724-4521-4c32-b522-bb13fa270908",
   "metadata": {
    "tags": []
   },
   "outputs": [],
   "source": [
    "def iter_matrix_permutations(matrix: dict, exclude_keys: Tuple[str] = tuple()):\n",
    "    for key in matrix.keys():\n",
    "        if key not in exclude_keys:\n",
    "            values = matrix[key]\n",
    "    \n",
    "            for v in values:\n",
    "                entry = {key: v}\n",
    "                # print(key, entry)\n",
    "                yielded = False\n",
    "                for data in iter_matrix_permutations(matrix, exclude_keys + (key,)):\n",
    "                    yield {\n",
    "                        **entry,\n",
    "                        **data,\n",
    "                    }\n",
    "                    yielded = True\n",
    "                if not yielded:\n",
    "                    yield entry\n",
    "                    \n",
    "            break #exclude_keys = exclude_keys + (key, )\n",
    "\n",
    "list(iter_matrix_permutations(matrix))"
   ]
  },
  {
   "cell_type": "code",
   "execution_count": null,
   "id": "0a2b89b3-eff4-489e-a7d0-8157c3348847",
   "metadata": {
    "tags": []
   },
   "outputs": [],
   "source": [
    "getattr(torch.optim, \"Adam\")"
   ]
  },
  {
   "cell_type": "code",
   "execution_count": null,
   "id": "f4fe8177-98f6-4006-bc71-f13b8e1d288d",
   "metadata": {
    "tags": []
   },
   "outputs": [],
   "source": [
    "int(math.ceil(math.log10(99)))"
   ]
  },
  {
   "cell_type": "code",
   "execution_count": null,
   "id": "a538852a-3880-4313-ab2f-c664bfb4ccf4",
   "metadata": {},
   "outputs": [],
   "source": []
  }
 ],
 "metadata": {
  "kernelspec": {
   "display_name": "Python 3 (ipykernel)",
   "language": "python",
   "name": "python3"
  },
  "language_info": {
   "codemirror_mode": {
    "name": "ipython",
    "version": 3
   },
   "file_extension": ".py",
   "mimetype": "text/x-python",
   "name": "python",
   "nbconvert_exporter": "python",
   "pygments_lexer": "ipython3",
   "version": "3.8.0"
  }
 },
 "nbformat": 4,
 "nbformat_minor": 5
}
