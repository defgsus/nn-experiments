{
 "cells": [
  {
   "cell_type": "code",
   "execution_count": null,
   "id": "704a53e4-6871-4fad-8ef3-637651c19cb6",
   "metadata": {},
   "outputs": [],
   "source": [
    "import sys\n",
    "sys.path.append(\"..\")\n",
    "\n",
    "import io\n",
    "import os\n",
    "import random\n",
    "import math\n",
    "import time\n",
    "import json\n",
    "import shutil\n",
    "from io import BytesIO\n",
    "from pathlib import Path\n",
    "from collections import OrderedDict\n",
    "from typing import Optional, Callable, List, Tuple, Iterable, Generator, Union\n",
    "\n",
    "import PIL.Image\n",
    "import PIL.ImageDraw\n",
    "import plotly\n",
    "import plotly.express as px\n",
    "plotly.io.templates.default = \"plotly_dark\"\n",
    "\n",
    "from tqdm import tqdm\n",
    "import torch\n",
    "import torch.nn as nn\n",
    "import torch.nn.functional as F\n",
    "from torch.utils.data import Dataset, DataLoader, TensorDataset, IterableDataset\n",
    "import torchvision.transforms as VT\n",
    "import torchvision.transforms.functional as VF\n",
    "from torchvision.utils import make_grid\n",
    "from IPython.display import display\n",
    "\n",
    "from src.datasets import *\n",
    "from src.util.image import *\n",
    "from src.util import *\n",
    "from src.algo import *\n",
    "from src.models.decoder import *\n",
    "from src.models.transform import *\n",
    "from src.models.util import *\n",
    "from experiments import datasets\n",
    "from experiments.denoise.resconv import ResConv\n",
    "from src.algo.wangtiles import *\n",
    "\n",
    "def resize(img, scale: float, mode: VF.InterpolationMode = VF.InterpolationMode.NEAREST):\n",
    "    if isinstance(img, PIL.Image.Image):\n",
    "        shape = (img.height, img.width)\n",
    "    else:\n",
    "        shape = img.shape[-2:]\n",
    "    return VF.resize(img, [max(1, int(s * scale)) for s in shape], mode, antialias=False)"
   ]
  },
  {
   "cell_type": "code",
   "execution_count": null,
   "id": "cf5b09a0-26ea-452a-bdc0-731fb172e28c",
   "metadata": {},
   "outputs": [],
   "source": [
    "tiles = WangTiles2E()\n",
    "tiles"
   ]
  },
  {
   "cell_type": "code",
   "execution_count": null,
   "id": "6cf82a93-e28e-4a9d-a3d6-5b3337905ea9",
   "metadata": {},
   "outputs": [],
   "source": [
    "template = tiles.create_template((32, 32))\n",
    "template.image = VF.to_tensor(PIL.Image.open(\n",
    "    #\"/home/bergi/Pictures/wang-tiling-clipae-2dscroller-1-template.png\"\n",
    "    #\"/home/bergi/Pictures/wang-tiling-clipae-ropes-1-template.png\"\n",
    "    #\"/home/bergi/Pictures/wang-tiling-clipae-ropes-1-template.png\"\n",
    "    \"/home/bergi/Pictures/wang-tiling-clipae-mountaintops-1-template.png\"\n",
    "))\n",
    "print(template)\n",
    "display(VF.to_pil_image(template.image))\n",
    "print(template.indices)\n"
   ]
  },
  {
   "cell_type": "code",
   "execution_count": null,
   "id": "dd5badfc-a7c2-468f-b3f1-7a1399f525a4",
   "metadata": {},
   "outputs": [],
   "source": [
    "map = wang_map_stochastic_scanline(\n",
    "    tiles,\n",
    "    (32, 32),\n",
    "    probabilities={0: 4, 1: 5, 11: .3},\n",
    ")\n",
    "VF.to_pil_image(template.render_map(map))"
   ]
  },
  {
   "cell_type": "code",
   "execution_count": null,
   "id": "dc0d8e3e-8797-4667-8119-9708eda7dad5",
   "metadata": {},
   "outputs": [],
   "source": []
  }
 ],
 "metadata": {
  "kernelspec": {
   "display_name": "Python 3 (ipykernel)",
   "language": "python",
   "name": "python3"
  },
  "language_info": {
   "codemirror_mode": {
    "name": "ipython",
    "version": 3
   },
   "file_extension": ".py",
   "mimetype": "text/x-python",
   "name": "python",
   "nbconvert_exporter": "python",
   "pygments_lexer": "ipython3",
   "version": "3.8.0"
  }
 },
 "nbformat": 4,
 "nbformat_minor": 5
}
