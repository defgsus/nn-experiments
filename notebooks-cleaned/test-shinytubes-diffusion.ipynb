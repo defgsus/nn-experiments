{
 "cells": [
  {
   "cell_type": "code",
   "execution_count": null,
   "id": "6d6074e0-6b8b-426b-9f63-8b2d2b165f99",
   "metadata": {},
   "outputs": [],
   "source": [
    "from init_notebook import *\n",
    "from src.train.experiment import load_experiment_trainer"
   ]
  },
  {
   "cell_type": "code",
   "execution_count": null,
   "id": "8a255f6b-e8b9-490e-8a52-11a230f3fc01",
   "metadata": {},
   "outputs": [],
   "source": [
    "trainer = load_experiment_trainer(\"../experiments/img2img/shinytubes/diffusion/shinytubes-spikes-diffusion.yml\", device=\"cuda\")\n",
    "trainer.model.eval()"
   ]
  },
  {
   "cell_type": "code",
   "execution_count": null,
   "id": "f0e2bd29-357d-42c1-9344-d1337aca8d8f",
   "metadata": {},
   "outputs": [],
   "source": [
    "source_batch, target_batch, amount_batch = next(iter(trainer.data_loader))"
   ]
  },
  {
   "cell_type": "code",
   "execution_count": null,
   "id": "e4303603-0cd8-45b7-9e2d-a8718840aadc",
   "metadata": {},
   "outputs": [],
   "source": [
    "VF.to_pil_image(make_grid(source_batch.clamp(0, 1)))"
   ]
  },
  {
   "cell_type": "code",
   "execution_count": null,
   "id": "9ee7945b-b141-45d6-a967-b2183ceed078",
   "metadata": {},
   "outputs": [],
   "source": [
    "with torch.no_grad():\n",
    "    recon_batch = trainer.model(source_batch.to(trainer.device), amount_batch.to(trainer.device))\n",
    "\n",
    "VF.to_pil_image(make_grid(recon_batch.clamp(0, 1)))"
   ]
  },
  {
   "cell_type": "code",
   "execution_count": null,
   "id": "17234627-ac0b-43e7-9950-83a0f8006582",
   "metadata": {},
   "outputs": [],
   "source": []
  },
  {
   "cell_type": "code",
   "execution_count": null,
   "id": "01c3bd49-c132-42fc-9d4b-66148f39e522",
   "metadata": {},
   "outputs": [],
   "source": [
    "with torch.no_grad():\n",
    "    recon_batch = trainer.model(\n",
    "        source_batch.to(trainer.device), \n",
    "        torch.ones(source_batch.shape[0]).to(trainer.device) * .1,\n",
    "    )\n",
    "\n",
    "VF.to_pil_image(make_grid(recon_batch.clamp(0, 1)))"
   ]
  },
  {
   "cell_type": "code",
   "execution_count": null,
   "id": "d47648a3-80cc-46ac-9c36-f2d91ce9b0f3",
   "metadata": {},
   "outputs": [],
   "source": [
    "with torch.no_grad():\n",
    "    NUM = 8\n",
    "    x = source_batch.to(trainer.device)\n",
    "    noise = torch.rand_like(x)\n",
    "    for i in range(NUM):\n",
    "        t = (NUM - i) / NUM\n",
    "        x = trainer.model(\n",
    "            x, \n",
    "            torch.ones(x.shape[0]).to(trainer.device) * .5,\n",
    "        ).clamp(0, 1)\n",
    "        if i + 1 < NUM:\n",
    "            x = x + t * (noise - x) * .2\n",
    "\n",
    "VF.to_pil_image(resize(make_grid(x.clamp(0, 1)), 3))"
   ]
  },
  {
   "cell_type": "code",
   "execution_count": null,
   "id": "41fbcee5-5505-45bf-b3a3-bd47e5701a47",
   "metadata": {},
   "outputs": [],
   "source": []
  },
  {
   "cell_type": "code",
   "execution_count": null,
   "id": "5bc566b0-e662-419e-a666-6ef3fd64be05",
   "metadata": {},
   "outputs": [],
   "source": [
    "from PIL import ImageFont, ImageDraw\n",
    "scale = 1\n",
    "font = ImageFont.truetype(\n",
    "    \"/home/bergi/.local/share/fonts/LEMONMILK-LIGHTITALIC.OTF\", 20 * scale\n",
    "    #\"/home/bergi/.local/share/fonts/LEMONMILK-MEDIUMITALIC.OTF\", 20 * scale\n",
    "    #\"/home/bergi/.local/share/fonts/unscii-16-full.ttf\", 25 * scale\n",
    "    #\"/usr/share/fonts/truetype/open-sans/OpenSans-ExtraBold.ttf\", 25 * scale\n",
    "    #\"/usr/share/fonts/truetype/dejavu/DejaVuSerif.ttf\", 25 * scale\n",
    ")\n",
    "image = PIL.Image.new(\"RGB\", (250 * scale, 40 * scale))\n",
    "draw = ImageDraw.ImageDraw(image)\n",
    "draw.text((30, 7), \"h e l l o  w o r l d\", font=font, fill=(255, 255, 255))\n",
    "image = VF.to_tensor(image)\n",
    "VF.to_pil_image(image)"
   ]
  },
  {
   "cell_type": "code",
   "execution_count": null,
   "id": "4b1c9a1b-b084-4a1b-bdc9-f27412ba4585",
   "metadata": {},
   "outputs": [],
   "source": [
    "with torch.no_grad():\n",
    "    NUM = 10\n",
    "    x = image.unsqueeze(0).to(trainer.device)\n",
    "    noise = torch.rand_like(x)\n",
    "    noise = noise.mean(dim=-3, keepdim=True).repeat(1, 3, 1, 1)\n",
    "    out_batch = []\n",
    "    for i in range(NUM):\n",
    "        t = (NUM - i) / NUM\n",
    "        x = trainer.model(\n",
    "            x, \n",
    "            torch.ones(x.shape[0]).to(trainer.device) * .45 * (.8 + .2*t),\n",
    "        ).clamp(0, 1)\n",
    "        out_batch.append(x[0])\n",
    "        if i + 1 < NUM:\n",
    "            #noise = torch.rand_like(x)\n",
    "            x = x + (noise - x) * .4 #* t\n",
    "            #out_batch.append(x[0])\n",
    "\n",
    "VF.to_pil_image(resize(make_grid(out_batch, nrow=1), 2))"
   ]
  },
  {
   "cell_type": "code",
   "execution_count": null,
   "id": "4b61d786-d052-425a-bf34-fd40eb797cff",
   "metadata": {},
   "outputs": [],
   "source": []
  },
  {
   "cell_type": "code",
   "execution_count": null,
   "id": "364a818b-60f2-4696-9b22-31540768855e",
   "metadata": {},
   "outputs": [],
   "source": []
  },
  {
   "cell_type": "code",
   "execution_count": null,
   "id": "e8f215b6-5bb3-4139-ab3b-f426a2608fd6",
   "metadata": {},
   "outputs": [],
   "source": []
  },
  {
   "cell_type": "code",
   "execution_count": null,
   "id": "c51d9ece-fb4c-4adc-8d93-de7b19503a49",
   "metadata": {},
   "outputs": [],
   "source": []
  }
 ],
 "metadata": {
  "kernelspec": {
   "display_name": "Python 3 (ipykernel)",
   "language": "python",
   "name": "python3"
  },
  "language_info": {
   "codemirror_mode": {
    "name": "ipython",
    "version": 3
   },
   "file_extension": ".py",
   "mimetype": "text/x-python",
   "name": "python",
   "nbconvert_exporter": "python",
   "pygments_lexer": "ipython3",
   "version": "3.8.0"
  }
 },
 "nbformat": 4,
 "nbformat_minor": 5
}
