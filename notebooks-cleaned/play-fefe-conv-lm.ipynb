{
 "cells": [
  {
   "cell_type": "code",
   "execution_count": null,
   "id": "56b23180-fbdb-4a9f-bfd7-fdc99a696a1a",
   "metadata": {},
   "outputs": [],
   "source": [
    "from init_notebook import *\n",
    "from src.train.experiment import load_experiment_trainer"
   ]
  },
  {
   "cell_type": "code",
   "execution_count": null,
   "id": "942f2f45-7ab0-4ad7-ba9e-5e7ffb3b5d0d",
   "metadata": {},
   "outputs": [],
   "source": [
    "trainer = load_experiment_trainer(\"../experiments/nexttoken//fefe2.yml\", device=\"cpu\")\n",
    "trainer.model.eval()"
   ]
  },
  {
   "cell_type": "code",
   "execution_count": null,
   "id": "a37532b2-074e-4de1-90c4-84238217a73e",
   "metadata": {},
   "outputs": [],
   "source": [
    "def generate(input_text: Union[str, torch.LongTensor]):\n",
    "    tokenizer = trainer._tokenizer\n",
    "    if isinstance(input_text, str):\n",
    "        token_ids = tokenizer(input_text, return_tensors=\"pt\").input_ids[0]\n",
    "    else:\n",
    "        token_ids = input_text\n",
    "    if token_ids.shape[0] < trainer._seq_length:\n",
    "        token_ids = torch.cat([\n",
    "            torch.ones((trainer._seq_length - token_ids.shape[0],), dtype=token_ids.dtype) * tokenizer.pad_token_id,\n",
    "            token_ids,\n",
    "        ])\n",
    "    \n",
    "    print(trainer.decode(token_ids).replace(\"[PAD]\", \"\"), end=\"\")\n",
    "    for i in range(500):\n",
    "        logits = trainer.model(token_ids.unsqueeze(0))[0]\n",
    "        best_ids = logits.argsort()[-2:]\n",
    "        next_id = random.choice(best_ids).unsqueeze(0)\n",
    "        token_ids = torch.cat([token_ids[1:], next_id])\n",
    "        print(trainer.decode(next_id), end=\"\")\n",
    "\n",
    "generate(\n",
    "    #\"!!1!\",\n",
    "    #\"Die Erklärung lautet: \",\n",
    "    \"Faschisten\",\n",
    "    #\"Cinderella hat ein U-Boot gesprengt\"\n",
    ")"
   ]
  },
  {
   "cell_type": "code",
   "execution_count": null,
   "id": "74b5a000-412a-455c-b3f5-923383c82426",
   "metadata": {},
   "outputs": [],
   "source": [
    "fefe_tokens, _ = next(iter(trainer.data_loader.dataset))"
   ]
  },
  {
   "cell_type": "code",
   "execution_count": null,
   "id": "0ad622e5-c618-412a-b5a1-6f853d59ff64",
   "metadata": {},
   "outputs": [],
   "source": [
    "generate(fefe_tokens)"
   ]
  },
  {
   "cell_type": "code",
   "execution_count": null,
   "id": "4a90ba49-a8a9-4c76-9b5b-fcf34ee4a160",
   "metadata": {},
   "outputs": [],
   "source": []
  },
  {
   "cell_type": "code",
   "execution_count": null,
   "id": "e6307a9e-4d38-4ada-a270-48a049c46439",
   "metadata": {},
   "outputs": [],
   "source": []
  },
  {
   "cell_type": "code",
   "execution_count": null,
   "id": "db82333e-b90c-4f6d-a800-862aae760bb5",
   "metadata": {},
   "outputs": [],
   "source": [
    "for i, (tokens, next_token) in enumerate(trainer.data_loader.dataset):\n",
    "    if i % 100 == 0:\n",
    "        print(f\"---- {i} -----\")\n",
    "        predicted = trainer.model(tokens.unsqueeze(0)).argmax(-1)\n",
    "        print(f\"{trainer.decode(tokens)}:[{trainer.decode(next_token)}]/[{trainer.decode(predicted)}]\")\n",
    "    if i > 100*10:\n",
    "        break"
   ]
  },
  {
   "cell_type": "code",
   "execution_count": null,
   "id": "29b1e1bb-f67f-4034-b99e-3808089d82c2",
   "metadata": {},
   "outputs": [],
   "source": []
  },
  {
   "cell_type": "code",
   "execution_count": null,
   "id": "64dee6f3-1acf-422b-95ed-074fb28a41e4",
   "metadata": {},
   "outputs": [],
   "source": []
  },
  {
   "cell_type": "code",
   "execution_count": null,
   "id": "ce51d1fd-f133-47e6-aff1-85a608806e3e",
   "metadata": {},
   "outputs": [],
   "source": []
  }
 ],
 "metadata": {
  "kernelspec": {
   "display_name": "Python 3 (ipykernel)",
   "language": "python",
   "name": "python3"
  },
  "language_info": {
   "codemirror_mode": {
    "name": "ipython",
    "version": 3
   },
   "file_extension": ".py",
   "mimetype": "text/x-python",
   "name": "python",
   "nbconvert_exporter": "python",
   "pygments_lexer": "ipython3",
   "version": "3.8.0"
  }
 },
 "nbformat": 4,
 "nbformat_minor": 5
}
