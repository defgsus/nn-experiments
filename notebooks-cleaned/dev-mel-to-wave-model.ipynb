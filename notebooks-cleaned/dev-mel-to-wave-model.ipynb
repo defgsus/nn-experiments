{
 "cells": [
  {
   "cell_type": "code",
   "execution_count": null,
   "id": "7ff601d1-5ef5-44c4-8e70-f2fc637d6494",
   "metadata": {
    "tags": []
   },
   "outputs": [],
   "source": [
    "import sys\n",
    "sys.path.append(\"..\")\n",
    "\n",
    "import random\n",
    "import math\n",
    "import itertools\n",
    "from copy import deepcopy\n",
    "from io import BytesIO\n",
    "from pathlib import Path\n",
    "from typing import Optional, Callable, List, Tuple, Iterable, Generator, Union, Dict\n",
    "\n",
    "import PIL.Image\n",
    "import PIL.ImageDraw\n",
    "import plotly\n",
    "import plotly.express as px\n",
    "import plotly.graph_objects as go\n",
    "plotly.io.templates.default = \"plotly_dark\"\n",
    "import numpy as np\n",
    "import pandas as pd\n",
    "pd.options.plotting.backend = \"plotly\"\n",
    "from sklearn.manifold import TSNE\n",
    "from sklearn.decomposition import IncrementalPCA\n",
    "\n",
    "from tqdm import tqdm\n",
    "import torch\n",
    "import torch.nn as nn\n",
    "import torch.nn.functional as F\n",
    "from torch.utils.data import Dataset, DataLoader, TensorDataset, IterableDataset, RandomSampler\n",
    "import torchvision.transforms as VT\n",
    "import torchvision.transforms.functional as VF\n",
    "import torchaudio.transforms as AT\n",
    "import torchaudio.functional as AF\n",
    "from torchvision.utils import make_grid\n",
    "from IPython.display import display, Audio\n",
    "import torchaudio\n",
    "from torchaudio.io import StreamReader\n",
    "\n",
    "from src.datasets import *\n",
    "from src.algo import GreedyLibrary\n",
    "from src.util.image import *\n",
    "from src.util import to_torch_device, iter_batches\n",
    "from src.patchdb import PatchDB, PatchDBIndex\n",
    "from src.models.encoder import *\n",
    "from src.models.cnn import *\n",
    "from src.models.util import *\n",
    "from src.util.audio import *\n",
    "from src.util.files import *\n",
    "from src.util.embedding import *\n",
    "from scripts import datasets\n",
    "from src.algo import AudioUnderstander \n",
    "\n",
    "def resize(img, scale: float, mode: VF.InterpolationMode = VF.InterpolationMode.NEAREST):\n",
    "    return VF.resize(img, [max(1, int(s * scale)) for s in img.shape[-2:]], mode, antialias=False)"
   ]
  },
  {
   "cell_type": "code",
   "execution_count": null,
   "id": "c308e757-d841-41b7-8d95-b7b07ff1bdd0",
   "metadata": {
    "tags": []
   },
   "outputs": [],
   "source": [
    "wave, rate = torchaudio.load(\"/home/bergi/Music/olli/24.07.19 eberhardt finaaaaaal.wav\")\n",
    "wave.shape, rate"
   ]
  },
  {
   "cell_type": "code",
   "execution_count": null,
   "id": "43f428be-3a35-49bc-9c5c-92979beb1ad3",
   "metadata": {
    "tags": []
   },
   "outputs": [],
   "source": [
    "wave_slice = wave[:1, rate:rate * 2]\n",
    "print(wave_slice.shape)\n",
    "speccer = AT.MelSpectrogram(\n",
    "    n_mels=128,\n",
    "    n_fft=2048,\n",
    "    win_length=rate // 200,\n",
    "    #hop_length=220,\n",
    "    power=1.,\n",
    "    f_max=rate // 2,\n",
    "    sample_rate=rate,\n",
    ")\n",
    "\n",
    "spec = speccer(wave_slice)\n",
    "print(spec.shape)\n",
    "display(VF.to_pil_image(VF.vflip(spec) / spec.max()))\n",
    "display(Audio(wave_slice, rate=rate))"
   ]
  },
  {
   "cell_type": "code",
   "execution_count": null,
   "id": "378153ce-a492-408f-aae6-ec13f83309a0",
   "metadata": {
    "tags": []
   },
   "outputs": [],
   "source": [
    "class SpecToWave(nn.Module):\n",
    "    \n",
    "    def __init__(\n",
    "            self, \n",
    "            spec_shape: Tuple[int, int],\n",
    "            out_size: int,\n",
    "            n_bands: int,\n",
    "    ):\n",
    "        super().__init__()\n",
    "        self.spec_shape = tuple(spec_shape)\n",
    "        self.out_size = out_size\n",
    "        self.n_bands = n_bands\n",
    "        self.conv = Conv1dBlock((spec_shape[0], spec_shape[0], 1), kernel_size=5)\n",
    "        out_shape = self.conv.get_output_shape(self.spec_shape)\n",
    "        self.linear = nn.Linear(math.prod(out_shape), self.n_bands * 3)\n",
    "        \n",
    "    def forward(self, spec: torch.Tensor) -> torch.Tensor:\n",
    "        if spec.ndim == 2:\n",
    "            spec = spec.unsqueeze(0)\n",
    "        bs = spec.shape[0]\n",
    "        \n",
    "        c = self.conv(spec)\n",
    "        b = self.linear(c).view(-1, self.n_bands, 3)\n",
    "        \n",
    "        t = torch.linspace(0, 1, self.out_size).to(c.dtype).to(c.device).view(1, 1, -1).expand(bs, self.n_bands, -1)\n",
    "        \n",
    "        freq = b[..., 0].unsqueeze(-1) * 100\n",
    "        phase = b[..., 1].unsqueeze(-1) \n",
    "        amp = b[..., 2].unsqueeze(-1)\n",
    "        wave = torch.sin((t * freq + phase) * 6.28) * amp\n",
    "        return wave.mean(-2)\n",
    "\n",
    "model = SpecToWave(spec.shape[-2:], 10000, 10)\n",
    "print(f\"params: {num_module_parameters(model):,}\")\n",
    "with torch.no_grad():\n",
    "    audio = model(spec)\n",
    "print(audio.shape)\n",
    "display(plot_audio(audio, (128, 128)))\n",
    "Audio(audio, rate=rate)"
   ]
  },
  {
   "cell_type": "code",
   "execution_count": null,
   "id": "b373472c-5d4d-4510-8876-2ada92c88cf7",
   "metadata": {
    "tags": []
   },
   "outputs": [],
   "source": [
    "20_000 * 128 * 128 // 1024**2"
   ]
  },
  {
   "cell_type": "code",
   "execution_count": null,
   "id": "1e27175d-815c-4a96-98cf-46ada9b05b0f",
   "metadata": {},
   "outputs": [],
   "source": []
  }
 ],
 "metadata": {
  "kernelspec": {
   "display_name": "Python 3 (ipykernel)",
   "language": "python",
   "name": "python3"
  },
  "language_info": {
   "codemirror_mode": {
    "name": "ipython",
    "version": 3
   },
   "file_extension": ".py",
   "mimetype": "text/x-python",
   "name": "python",
   "nbconvert_exporter": "python",
   "pygments_lexer": "ipython3",
   "version": "3.8.0"
  }
 },
 "nbformat": 4,
 "nbformat_minor": 5
}
