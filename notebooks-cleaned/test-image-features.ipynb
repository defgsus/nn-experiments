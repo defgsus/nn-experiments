{
 "cells": [
  {
   "cell_type": "code",
   "execution_count": null,
   "id": "19db4088-ebb5-4a57-b418-5f25e91c3c1f",
   "metadata": {
    "tags": []
   },
   "outputs": [],
   "source": [
    "import sys\n",
    "sys.path.append(\"..\")\n",
    "\n",
    "import random\n",
    "import math\n",
    "from io import BytesIO\n",
    "from pathlib import Path\n",
    "from collections import OrderedDict\n",
    "from typing import Optional, Callable, List, Tuple, Iterable, Generator, Union\n",
    "\n",
    "import PIL.Image\n",
    "import PIL.ImageDraw\n",
    "import plotly\n",
    "import plotly.express as px\n",
    "plotly.io.templates.default = \"plotly_dark\"\n",
    "\n",
    "import numpy as np\n",
    "import pandas as pd\n",
    "from tqdm import tqdm\n",
    "import torch\n",
    "import torch.nn as nn\n",
    "import torch.nn.functional as F\n",
    "from torch.utils.data import Dataset, DataLoader, TensorDataset, IterableDataset, RandomSampler\n",
    "import torchvision.transforms as VT\n",
    "import torchvision.transforms.functional as VF\n",
    "from torchvision.utils import make_grid\n",
    "from IPython.display import display\n",
    "\n",
    "from src.datasets import *\n",
    "from src.util.image import *\n",
    "from src.util import *\n",
    "from src.algo import *\n",
    "from src.models.cnn import *"
   ]
  },
  {
   "cell_type": "code",
   "execution_count": null,
   "id": "82de8aad-c70c-479b-b265-b12d5aa811d3",
   "metadata": {
    "tags": []
   },
   "outputs": [],
   "source": [
    "SHAPE = (3, 64, 64)\n",
    "dataset = TensorDataset(torch.load(f\"../datasets/kali-uint8-{SHAPE[-2]}x{SHAPE[-1]}.pt\"))\n",
    "dataset = TransformDataset(dataset, dtype=torch.float, multiply=1./255.)\n",
    "features = pd.read_pickle(f\"../datasets/kali-uint8-{SHAPE[-2]}x{SHAPE[-1]}-features.df\")"
   ]
  },
  {
   "cell_type": "code",
   "execution_count": null,
   "id": "f9fb4e9f-74e2-492c-8b70-bfeb4fa44717",
   "metadata": {
    "tags": []
   },
   "outputs": [],
   "source": [
    "px.line(features.iloc[:100])"
   ]
  },
  {
   "cell_type": "code",
   "execution_count": null,
   "id": "c8ddbe6e-c151-4da2-93b6-79439fd4d390",
   "metadata": {
    "tags": []
   },
   "outputs": [],
   "source": [
    "px.imshow(features.corr())"
   ]
  },
  {
   "cell_type": "code",
   "execution_count": null,
   "id": "eeea2c0e-f225-4816-8dd8-d62688928a7a",
   "metadata": {
    "tags": []
   },
   "outputs": [],
   "source": [
    "for key in features.columns:\n",
    "    df = features.sort_values(key, ascending=False)\n",
    "    print(key)\n",
    "    display(VF.to_pil_image(make_grid(\n",
    "        [dataset[i][0] for i in df.index[:24]], nrow=24\n",
    "    )))"
   ]
  },
  {
   "cell_type": "code",
   "execution_count": null,
   "id": "0aff787e-d698-401e-8464-3cce949d870a",
   "metadata": {},
   "outputs": [],
   "source": []
  },
  {
   "cell_type": "code",
   "execution_count": null,
   "id": "9a430d55-10d8-407b-8da4-e90f0fb74705",
   "metadata": {
    "tags": []
   },
   "outputs": [],
   "source": [
    "rows = []\n",
    "for i in range(100):\n",
    "    img = VF.to_pil_image(dataset[i][0])\n",
    "    row = {}\n",
    "    for q in range(0, 20, 1):\n",
    "        row[f\"q{q}\"] = compressed_size(img, \"jpeg\", quality=q)\n",
    "    rows.append(row)\n",
    "df = pd.DataFrame(rows)\n",
    "#px.line(df)\n",
    "px.imshow(df.corr())"
   ]
  },
  {
   "cell_type": "code",
   "execution_count": null,
   "id": "ccce7861-1e30-4b79-a2b9-995b3e9d8946",
   "metadata": {
    "tags": []
   },
   "outputs": [],
   "source": [
    "rows = []\n",
    "for i in range(100):\n",
    "    img = VF.to_pil_image(dataset[i][0])\n",
    "    row = {}\n",
    "    for q, o in (\n",
    "        (0, False), (1, False), (1, True), (4, False), (4, True), (9, False), (9, True),\n",
    "    ):\n",
    "        row[f\"q{q}{o}\"] = compressed_size(img, \"png\", compress_level=q, optimize=o)\n",
    "    rows.append(row)\n",
    "df = pd.DataFrame(rows)\n",
    "df"
   ]
  },
  {
   "cell_type": "code",
   "execution_count": null,
   "id": "52a25140-8be5-43dc-91aa-a6d90f83bf80",
   "metadata": {},
   "outputs": [],
   "source": []
  },
  {
   "cell_type": "code",
   "execution_count": null,
   "id": "8576116a-d479-4036-8c3c-648775912e93",
   "metadata": {
    "tags": []
   },
   "outputs": [],
   "source": [
    "px.line(df)"
   ]
  },
  {
   "cell_type": "code",
   "execution_count": null,
   "id": "78bce93e-d2a3-4863-a5cd-4f4a1328a8fa",
   "metadata": {
    "tags": []
   },
   "outputs": [],
   "source": [
    "img=VF.to_pil_image(dataset[118][0])\n",
    "img"
   ]
  },
  {
   "cell_type": "code",
   "execution_count": null,
   "id": "c4ea1023-ceb2-4643-8ccd-1ef2a834852f",
   "metadata": {
    "tags": []
   },
   "outputs": [],
   "source": [
    "rows = []\n",
    "ratioer = ImageCompressionRatio()\n",
    "for i in range(1000, 2000):\n",
    "    img = VF.to_pil_image(dataset[i][0])\n",
    "    row = ratioer.all(img)\n",
    "    row.update(ratioer.all(\n",
    "        VF.gaussian_blur(img, kernel_size=[21, 21], sigma=10),\n",
    "        suffix=\"-blur\",\n",
    "    ))\n",
    "    rows.append(row)\n",
    "df = pd.DataFrame(rows)\n",
    "display(px.line(df))\n",
    "px.imshow(df.corr())"
   ]
  },
  {
   "cell_type": "code",
   "execution_count": null,
   "id": "70f73c84-e031-451b-8433-a683f266acb9",
   "metadata": {
    "tags": []
   },
   "outputs": [],
   "source": [
    "df2 = df.loc[df[\"png-low-blur\"] < df[\"jpeg-low\"]].copy()\n",
    "df2.loc[:, \"diff\"] = df[\"jpeg-low\"] - df[\"png-high\"]\n",
    "df2 = df2.sort_values(\"diff\")\n",
    "#df2\n",
    "#px.line(df2)\n",
    "VF.to_pil_image(make_grid([dataset[i][0] for i in df2.index]))"
   ]
  }
 ],
 "metadata": {
  "kernelspec": {
   "display_name": "Python 3 (ipykernel)",
   "language": "python",
   "name": "python3"
  },
  "language_info": {
   "codemirror_mode": {
    "name": "ipython",
    "version": 3
   },
   "file_extension": ".py",
   "mimetype": "text/x-python",
   "name": "python",
   "nbconvert_exporter": "python",
   "pygments_lexer": "ipython3",
   "version": "3.8.0"
  }
 },
 "nbformat": 4,
 "nbformat_minor": 5
}
