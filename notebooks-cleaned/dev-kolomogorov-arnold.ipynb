{
 "cells": [
  {
   "cell_type": "code",
   "execution_count": null,
   "id": "880fb4aa-bb4a-47cb-bf3f-5402f8851392",
   "metadata": {},
   "outputs": [],
   "source": [
    "from init_notebook import *"
   ]
  },
  {
   "cell_type": "code",
   "execution_count": null,
   "id": "acef09e0-02d9-4071-906d-84e6b28234ea",
   "metadata": {},
   "outputs": [],
   "source": [
    "class KAELayer(nn.Module):\n",
    "    \"\"\"\n",
    "    from https://github.com/SciYu/KAE/blob/main/DenseLayerPack/KAE.py\n",
    "    \"\"\"\n",
    "    def __init__(\n",
    "            self, \n",
    "            input_dim: int, \n",
    "            out_dim: int, \n",
    "            order: int, \n",
    "            bias: bool = True,\n",
    "            activation: Union[None, str, Callable] = None,\n",
    "    ):\n",
    "        super(KAELayer, self).__init__()\n",
    "        self.input_dim = input_dim\n",
    "        self.out_dim = out_dim\n",
    "        self.order = order\n",
    "        self.coeffs = nn.Parameter(torch.randn(out_dim, input_dim, order) * 0.01)\n",
    "        self.bias = None\n",
    "        if bias:\n",
    "            self.bias = nn.Parameter(torch.zeros(1, out_dim))\n",
    "        self.act = activation_to_module(activation)\n",
    "\n",
    "    def extra_repr(self):\n",
    "        return f\"input_dim={self.input_dim}, out_dim={self.out_dim}, order={self.order}, bias={self.bias is not None}\"\n",
    "        \n",
    "    def forward(self, x: torch.Tensor) -> torch.Tensor:\n",
    "\n",
    "        x_expanded = x.unsqueeze(1).expand(-1, self.out_dim, -1)\n",
    "        \n",
    "        y = torch.zeros((x.shape[0], self.out_dim), device=x.device, dtype=x.dtype)\n",
    "\n",
    "        for i in range(self.order):\n",
    "            term = (x_expanded**i) * self.coeffs[:, :, i]\n",
    "            y += term.sum(dim=-1)\n",
    "\n",
    "        if self.bias is not None:\n",
    "            y = y + self.bias\n",
    "\n",
    "        if self.act is not None:\n",
    "            y = self.act(y)\n",
    "        \n",
    "        return y\n",
    "\n",
    "m = KAELayer(3, 10, 3)\n",
    "display(m)\n",
    "inp = torch.ones(1, 3)\n",
    "outp = m(inp)\n",
    "outp"
   ]
  },
  {
   "cell_type": "code",
   "execution_count": null,
   "id": "a017e043-0cb4-485a-935b-f8984152d112",
   "metadata": {},
   "outputs": [],
   "source": []
  }
 ],
 "metadata": {
  "kernelspec": {
   "display_name": "Python 3 (ipykernel)",
   "language": "python",
   "name": "python3"
  },
  "language_info": {
   "codemirror_mode": {
    "name": "ipython",
    "version": 3
   },
   "file_extension": ".py",
   "mimetype": "text/x-python",
   "name": "python",
   "nbconvert_exporter": "python",
   "pygments_lexer": "ipython3",
   "version": "3.8.0"
  }
 },
 "nbformat": 4,
 "nbformat_minor": 5
}
