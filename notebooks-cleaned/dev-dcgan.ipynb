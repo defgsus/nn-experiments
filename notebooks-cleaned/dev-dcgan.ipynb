{
 "cells": [
  {
   "cell_type": "code",
   "execution_count": null,
   "id": "9ecd98f9-1013-456d-a94e-89845d424e6f",
   "metadata": {
    "tags": []
   },
   "outputs": [],
   "source": [
    "import sys\n",
    "sys.path.append(\"..\")\n",
    "\n",
    "import random\n",
    "import math\n",
    "import time\n",
    "from io import BytesIO\n",
    "from pathlib import Path\n",
    "from collections import OrderedDict\n",
    "from typing import Optional, Callable, List, Tuple, Iterable, Generator, Union\n",
    "\n",
    "import PIL.Image\n",
    "import PIL.ImageDraw\n",
    "\n",
    "from tqdm import tqdm\n",
    "import torch\n",
    "import torch.nn as nn\n",
    "import torch.nn.functional as F\n",
    "from torch.utils.data import Dataset, DataLoader, TensorDataset, IterableDataset\n",
    "import torchvision.transforms as VT\n",
    "import torchvision.transforms.functional as VF\n",
    "from torchvision.utils import make_grid\n",
    "from IPython.display import display\n",
    "\n",
    "from src.datasets import *\n",
    "from src.util.image import *\n",
    "from src.util import *\n",
    "from src.algo import *\n",
    "from src.models.decoder import *\n",
    "from src.models.transform import *\n",
    "\n",
    "def resize(img, scale: float, mode: VF.InterpolationMode = VF.InterpolationMode.NEAREST):\n",
    "    return VF.resize(img, [max(1, int(s * scale)) for s in img.shape[-2:]], mode, antialias=False)\n",
    "\n",
    "def plot_samples(\n",
    "        iterable, \n",
    "        total: int = 32, \n",
    "        nrow: int = 8, \n",
    "        return_image: bool = False, \n",
    "        show_compression_ratio: bool = False,\n",
    "        label: Optional[Callable] = None,\n",
    "):\n",
    "    samples = []\n",
    "    labels = []\n",
    "    f = ImageFilter()\n",
    "    try:\n",
    "        for idx, entry in enumerate(tqdm(iterable, total=total)):\n",
    "            image = entry\n",
    "            if isinstance(entry, (list, tuple)):\n",
    "                image = entry[0]\n",
    "            if image.ndim == 4:\n",
    "                image = image.squeeze(0)\n",
    "            samples.append(image)\n",
    "            if show_compression_ratio:\n",
    "                labels.append(round(f.calc_compression_ratio(image), 3))\n",
    "            elif label is not None:\n",
    "                labels.append(label(entry) if callable(label) else idx)\n",
    "                \n",
    "            if len(samples) >= total:\n",
    "                break\n",
    "    except KeyboardInterrupt:\n",
    "        pass\n",
    "    \n",
    "    if labels:\n",
    "        image = VF.to_pil_image(make_grid_labeled(samples, nrow=nrow, labels=labels))\n",
    "    else:\n",
    "        image = VF.to_pil_image(make_grid(samples, nrow=nrow))\n",
    "    if return_image:\n",
    "        return image\n",
    "    display(image)"
   ]
  },
  {
   "cell_type": "code",
   "execution_count": null,
   "id": "c5623176-db9c-4da6-b91d-08fb45db785e",
   "metadata": {
    "tags": []
   },
   "outputs": [],
   "source": []
  },
  {
   "cell_type": "code",
   "execution_count": null,
   "id": "d2b5e75a-37a4-4e2e-b592-eb55e6119a9b",
   "metadata": {
    "tags": []
   },
   "outputs": [],
   "source": [
    "class DCGAN(nn.Module):\n",
    "    def __init__(\n",
    "            self,\n",
    "            num_input: int = 100,\n",
    "            channels: int = 128,\n",
    "            channels_out: int = 3,\n",
    "    ):\n",
    "        super().__init__()\n",
    "        self.num_input = num_input\n",
    "        self.layers = nn.Sequential()\n",
    "        self.layers.add_module(\"project\", nn.Linear(self.num_input, channels * 8 * 4 * 4))\n",
    "        self.layers.add_module(\"reshape\", Reshape((channels * 8, 4, 4)))\n",
    "        \n",
    "        self.layers.add_module(\"conv1\", nn.ConvTranspose2d(channels * 8, channels * 4, kernel_size=2, stride=2))\n",
    "        self.layers.add_module(\"bn1\", nn.BatchNorm2d(channels * 4))\n",
    "        self.layers.add_module(\"act1\", nn.LeakyReLU())\n",
    "        \n",
    "        self.layers.add_module(\"conv2\", nn.ConvTranspose2d(channels * 4, channels * 2, kernel_size=2, stride=2))\n",
    "        self.layers.add_module(\"bn2\", nn.BatchNorm2d(channels * 2))\n",
    "        self.layers.add_module(\"act2\", nn.LeakyReLU())\n",
    "        \n",
    "        self.layers.add_module(\"conv3\", nn.ConvTranspose2d(channels * 2, channels_out, kernel_size=2, stride=2))\n",
    "        self.layers.add_module(\"act3\", nn.Tanh())\n",
    "        \n",
    "    def forward(self, x: torch.Tensor) -> torch.Tensor:\n",
    "        return self.layers(x)\n",
    "\n",
    "\n",
    "model = DCGAN()\n",
    "print(f\"params: {num_module_parameters(model):,}\")\n",
    "print(model(torch.randn(100)).shape)\n",
    "model"
   ]
  },
  {
   "cell_type": "code",
   "execution_count": null,
   "id": "c3ea0b64-c19c-4783-b8c2-d6f60aded496",
   "metadata": {},
   "outputs": [],
   "source": [
    "VF.to_pil_image(make_grid(model(torch.randn(32, 100))))\n"
   ]
  },
  {
   "cell_type": "code",
   "execution_count": null,
   "id": "7f3af4a5-c8d5-421f-bf93-b77dd0d79f86",
   "metadata": {},
   "outputs": [],
   "source": [
    "nn.Softmax(dim=-1)(torch.Tensor([[-2, 3]]))"
   ]
  },
  {
   "cell_type": "code",
   "execution_count": null,
   "id": "f9ed7688-9c7e-484d-a6bc-79b2e532d220",
   "metadata": {},
   "outputs": [],
   "source": []
  }
 ],
 "metadata": {
  "kernelspec": {
   "display_name": "Python 3 (ipykernel)",
   "language": "python",
   "name": "python3"
  },
  "language_info": {
   "codemirror_mode": {
    "name": "ipython",
    "version": 3
   },
   "file_extension": ".py",
   "mimetype": "text/x-python",
   "name": "python",
   "nbconvert_exporter": "python",
   "pygments_lexer": "ipython3",
   "version": "3.8.0"
  }
 },
 "nbformat": 4,
 "nbformat_minor": 5
}
