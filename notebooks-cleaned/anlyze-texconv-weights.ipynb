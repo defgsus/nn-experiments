{
 "cells": [
  {
   "cell_type": "code",
   "execution_count": null,
   "id": "6bf420d0-aff0-4b66-9d4a-6a031a6bb853",
   "metadata": {},
   "outputs": [],
   "source": [
    "from init_notebook import *\n",
    "from src.train.experiment import load_experiment_trainer"
   ]
  },
  {
   "cell_type": "code",
   "execution_count": null,
   "id": "2ebea789-2e98-407d-b781-aaf4dd92bc8e",
   "metadata": {},
   "outputs": [],
   "source": [
    "trainer = load_experiment_trainer(\"../experiments/textmask/autoregressive/convtext-mask-alice.yml\", device=\"cpu\")"
   ]
  },
  {
   "cell_type": "code",
   "execution_count": null,
   "id": "3c69995b-2bb3-4641-adc0-b78987aa1725",
   "metadata": {},
   "outputs": [],
   "source": [
    "trainer.model"
   ]
  },
  {
   "cell_type": "code",
   "execution_count": null,
   "id": "9075e12c-f1ff-45fb-bdd7-a7b468105151",
   "metadata": {},
   "outputs": [],
   "source": [
    "def weight_image(w: torch.Tensor):\n",
    "    w = (w - w.min()) / (w.max() - w.min())\n",
    "    return w\n",
    "    \n",
    "VF.to_pil_image(resize(weight_image(\n",
    "    trainer.model.embedding.weight[None, ...]\n",
    "), 3))"
   ]
  },
  {
   "cell_type": "code",
   "execution_count": null,
   "id": "6d5275ae-bbb1-42ca-875b-16ff700e8ffa",
   "metadata": {},
   "outputs": [],
   "source": [
    "grid = make_grid(\n",
    "    [\n",
    "        weight_image(w) for w in \n",
    "        list(trainer.model.layers)[0].conv.weight[:, None, :, :].permute(0, 1, 3, 2)\n",
    "    ],\n",
    "    nrow=1\n",
    ")\n",
    "\n",
    "VF.to_pil_image(resize(grid, 3))\n",
    "\n"
   ]
  },
  {
   "cell_type": "markdown",
   "id": "258ae81e-ea3d-4ba8-b37a-c35d8c6b300a",
   "metadata": {},
   "source": [
    "## cheap deapthwise conv"
   ]
  },
  {
   "cell_type": "code",
   "execution_count": null,
   "id": "868ddef2-2856-4703-a895-0c768438664e",
   "metadata": {},
   "outputs": [],
   "source": [
    "list(trainer.model.layers)[0].conv.point_conv.weight.shape"
   ]
  },
  {
   "cell_type": "code",
   "execution_count": null,
   "id": "2e32b583-7a94-4087-8f85-94d5ff9889d6",
   "metadata": {},
   "outputs": [],
   "source": [
    "grid = make_grid(\n",
    "    [\n",
    "        weight_image(\n",
    "            layer.conv.depth_conv.weight.permute(1, 2, 0)\n",
    "        )\n",
    "        for layer in trainer.model.layers\n",
    "    ],\n",
    "    nrow=1\n",
    ")\n",
    "display(VF.to_pil_image(resize(grid, 3)))\n",
    "\n",
    "grid = make_grid(\n",
    "    [\n",
    "        weight_image(\n",
    "            layer.conv.point_conv.weight.permute(2, 0, 1)[:, :256, :256]\n",
    "        )\n",
    "        for layer in trainer.model.layers\n",
    "    ],\n",
    "    nrow=1\n",
    ")\n",
    "display(VF.to_pil_image(resize(grid, 3)))\n"
   ]
  },
  {
   "cell_type": "code",
   "execution_count": null,
   "id": "ad20c1a1-a2e3-4706-9e58-0bfdd3c9dc9e",
   "metadata": {},
   "outputs": [],
   "source": [
    "!ls /home/bergi/.cache/torch/text/datasets/EnWik9"
   ]
  }
 ],
 "metadata": {
  "kernelspec": {
   "display_name": "Python 3 (ipykernel)",
   "language": "python",
   "name": "python3"
  },
  "language_info": {
   "codemirror_mode": {
    "name": "ipython",
    "version": 3
   },
   "file_extension": ".py",
   "mimetype": "text/x-python",
   "name": "python",
   "nbconvert_exporter": "python",
   "pygments_lexer": "ipython3",
   "version": "3.8.0"
  }
 },
 "nbformat": 4,
 "nbformat_minor": 5
}
