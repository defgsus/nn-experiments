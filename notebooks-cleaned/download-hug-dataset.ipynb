{
 "cells": [
  {
   "cell_type": "code",
   "execution_count": null,
   "id": "c8886d18-5c47-4255-88a3-b9b2e0b8b709",
   "metadata": {},
   "outputs": [],
   "source": [
    "from init_notebook import *\n",
    "import datasets"
   ]
  },
  {
   "cell_type": "code",
   "execution_count": null,
   "id": "a47c0fab-78bf-4fcc-af19-33a22581feb7",
   "metadata": {},
   "outputs": [],
   "source": [
    "while True:\n",
    "    try:\n",
    "        datasets.load_dataset(\n",
    "            \"benjamin-paine/imagenet-1k\",\n",
    "            cache_dir=str(config.BIG_DATASETS_PATH / \"hug\"),\n",
    "            download_config=datasets.DownloadConfig(\n",
    "                #cache_dir=str(config.BIG_DATASETS_PATH / \"hug\"),\n",
    "                cache_dir=\"/media/bergi/52f979bd-4272-4b93-b66a-e35de6931f5e/borgi-backup/.cache/huggingface/hub\",\n",
    "                resume_download=True,\n",
    "            ),\n",
    "        )\n",
    "        raise KeyboardInterrupt\n",
    "    except KeyboardInterrupt:\n",
    "        break\n",
    "    except Exception as e:\n",
    "        print(\"failed\", e)\n",
    "        pass"
   ]
  },
  {
   "cell_type": "code",
   "execution_count": null,
   "id": "2601c6dd-dea2-40bb-9cc6-663a8bcdf8c7",
   "metadata": {},
   "outputs": [],
   "source": [
    "datasets.load_dataset?"
   ]
  }
 ],
 "metadata": {
  "kernelspec": {
   "display_name": "Python 3 (ipykernel)",
   "language": "python",
   "name": "python3"
  },
  "language_info": {
   "codemirror_mode": {
    "name": "ipython",
    "version": 3
   },
   "file_extension": ".py",
   "mimetype": "text/x-python",
   "name": "python",
   "nbconvert_exporter": "python",
   "pygments_lexer": "ipython3",
   "version": "3.12.3"
  }
 },
 "nbformat": 4,
 "nbformat_minor": 5
}
