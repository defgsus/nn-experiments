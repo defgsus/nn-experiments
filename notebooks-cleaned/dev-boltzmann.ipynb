{
 "cells": [
  {
   "cell_type": "code",
   "execution_count": null,
   "id": "b006fb96-34a1-4bc5-8bbd-cdd663419a0e",
   "metadata": {
    "tags": []
   },
   "outputs": [],
   "source": [
    "import sys\n",
    "sys.path.append(\"..\")\n",
    "\n",
    "from pathlib import Path\n",
    "from typing import Optional, Callable, List, Tuple, Iterable\n",
    "\n",
    "import torch\n",
    "import torch.nn as nn\n",
    "import torch.nn.functional as F\n",
    "from torch.utils.data import DataLoader, TensorDataset\n",
    "import torchvision.transforms as VT\n",
    "import torchvision.transforms.functional as VF\n",
    "from torchvision.utils import make_grid\n",
    "\n",
    "from src.datasets import *\n",
    "from src.util.image import \n",
    "#from src.models.cnn import *\n",
    "\n",
    "torch.autograd.set_detect_anomaly(True)"
   ]
  },
  {
   "cell_type": "code",
   "execution_count": null,
   "id": "1e931114-d0aa-4b29-a9d1-7a255b4f74f4",
   "metadata": {
    "tags": []
   },
   "outputs": [],
   "source": [
    "t = torch.rand(10)\n",
    "n = torch.rand(10)"
   ]
  },
  {
   "cell_type": "code",
   "execution_count": null,
   "id": "e0b50ca1-de28-410c-b8bf-601d3c735753",
   "metadata": {
    "tags": []
   },
   "outputs": [],
   "source": [
    "print(t)\n",
    "print(n)\n",
    "(t >= n).to(t)\n",
    "for x in range(10):\n",
    "    print(t.bernoulli())\n",
    "#-F.threshold(-F.threshold(t, .5, 0.), -0.0001, -1.)"
   ]
  },
  {
   "cell_type": "code",
   "execution_count": null,
   "id": "0a70f760-7135-4b69-8e60-76fd5288e7f4",
   "metadata": {
    "tags": []
   },
   "outputs": [],
   "source": [
    "class RBM(nn.Module):\n",
    "    def __init__(\n",
    "            self,\n",
    "            num_in: int,\n",
    "            num_out: int,\n",
    "            act_fn: Optional[Callable] = torch.sigmoid,\n",
    "            bias: bool = True,\n",
    "    ):\n",
    "        super().__init__()\n",
    "        self.num_in = num_in\n",
    "        self.num_out = num_out\n",
    "        self.act_fn = act_fn\n",
    "\n",
    "        self.bias_visible = nn.Parameter(torch.randn(1, self.num_in))\n",
    "        self.bias_hidden = nn.Parameter(torch.randn(1, self.num_out))\n",
    "        self.weight = nn.Parameter(torch.randn(self.num_out, self.num_in))\n",
    "\n",
    "    def forward(self, x: torch.Tensor) -> torch.Tensor:\n",
    "        x = x.reshape(-1, self.num_in)\n",
    "        y = F.linear(x, self.weight, self.bias_hidden)\n",
    "        if self.act_fn is not None:\n",
    "            y = self.act_fn(y)\n",
    "        return y\n",
    "\n",
    "    def visible_to_hidden(self, x: torch.Tensor) -> torch.Tensor:\n",
    "        x = x.reshape(-1, self.num_in)\n",
    "        y = F.linear(x, self.weight, self.bias_hidden)\n",
    "        if self.act_fn is not None:\n",
    "            y = self.act_fn(y)\n",
    "        return y.bernoulli()\n",
    "\n",
    "    def hidden_to_visible(self, x: torch.Tensor) -> torch.Tensor:\n",
    "        x = x.reshape(-1, self.num_out)\n",
    "        y = F.linear(x, self.weight.t(), self.bias_visible)\n",
    "        if self.act_fn is not None:\n",
    "            y = self.act_fn(y)\n",
    "        return y.bernoulli()\n",
    "\n",
    "    def contrastive_divergence(\n",
    "            self,\n",
    "            x: torch.Tensor,\n",
    "            num_steps: int = 1,\n",
    "    ) -> Tuple[torch.Tensor, torch.Tensor]:\n",
    "        x = x_out = x.reshape(-1, self.num_in)\n",
    "\n",
    "        state = self.visible_to_hidden(x)\n",
    "        for step in range(num_steps):\n",
    "            x_out = self.hidden_to_visible(state)\n",
    "            if step < num_steps - 1:\n",
    "                state = self.visible_to_hidden(x_out)\n",
    "        return x, x_out\n",
    "\n",
    "    def weight_images(self) -> List[torch.Tensor]:\n",
    "        return [self.weight]\n",
    "\n",
    "    def free_energy(self, x):\n",
    "        v_term = torch.matmul(x, self.bias_visible.t())\n",
    "        w_x_h = F.linear(x, self.weight, self.bias_hidden)\n",
    "        h_term = torch.sum(F.softplus(w_x_h), dim=1)\n",
    "        return torch.mean(-h_term - v_term)\n",
    "\n",
    "    def train_step(self, input_batch) -> torch.Tensor:\n",
    "        if isinstance(input_batch, (tuple, list)):\n",
    "            input_batch = input_batch[0]\n",
    "\n",
    "        first_state, last_state = self.contrastive_divergence(input_batch)\n",
    "        loss = (self.free_energy(first_state) - self.free_energy(last_state)) / self.num_out\n",
    "        #loss = F.mse_loss(first_state, last_state)\n",
    "        return loss\n",
    "    \n",
    "    \n",
    "model = RBM(10, 5)\n",
    "x = torch.rand(1, 10)\n",
    "model.forward(x)\n",
    "print(x)\n",
    "#print(model.random_threshold(x))\n",
    "model.contrastive_divergence(x)\n",
    "model.free_energy(x)"
   ]
  },
  {
   "cell_type": "code",
   "execution_count": null,
   "id": "f1d032d0-afc2-4641-9af5-f9dc58c0237b",
   "metadata": {
    "tags": []
   },
   "outputs": [],
   "source": [
    "model = RBM(5, 3)\n",
    "with torch.no_grad():\n",
    "    for i in range(20):\n",
    "        x = torch.rand(1, 5)\n",
    "        y = model.forward(x)\n",
    "        _, x2 = model.contrastive_divergence(x)\n",
    "        print(x, y, x2)\n"
   ]
  },
  {
   "cell_type": "code",
   "execution_count": null,
   "id": "255b646d-b8f7-4e74-8945-58d00c394650",
   "metadata": {
    "tags": []
   },
   "outputs": [],
   "source": [
    "dataset = TensorDataset(torch.load(\"../datasets/diverse-32x32-aug16.pt\"))\n",
    "VF.to_pil_image(make_grid([\n",
    "    dataset[0][0], dataset[0][0].bernoulli()\n",
    "]))"
   ]
  },
  {
   "cell_type": "code",
   "execution_count": null,
   "id": "0ef3d164-7cd3-47a6-a3a7-a6b9e17e6f45",
   "metadata": {
    "tags": []
   },
   "outputs": [],
   "source": [
    "model = RBM(3*32*32, 100)\n",
    "optimizer = torch.optim.Adadelta(model.parameters(), .1)\n",
    "\n",
    "def train_step(batch):\n",
    "    first_state, last_state = model.contrastive_divergence(batch)\n",
    "    loss = (model.free_energy(first_state) - model.free_energy(last_state)) / model.num_out\n",
    "    model.zero_grad()\n",
    "    loss.backward()\n",
    "    return loss\n",
    "\n",
    "for batch, in DataLoader(dataset, batch_size=10):\n",
    "    batch = batch.reshape(-1, 3*32*32)\n",
    "    loss = train_step(batch)\n",
    "    print(round(float(loss), 2), end=\" \")"
   ]
  },
  {
   "cell_type": "code",
   "execution_count": null,
   "id": "e902c7b2-d45d-486a-9ce3-b562ab6062de",
   "metadata": {},
   "outputs": [],
   "source": []
  },
  {
   "cell_type": "code",
   "execution_count": null,
   "id": "8c4f1ccc-79b6-4ffb-9d12-2bf990cec129",
   "metadata": {},
   "outputs": [],
   "source": []
  },
  {
   "cell_type": "code",
   "execution_count": null,
   "id": "94c01034-ee89-4c31-afc6-eb3c1afca2a6",
   "metadata": {},
   "outputs": [],
   "source": []
  },
  {
   "cell_type": "code",
   "execution_count": null,
   "id": "aee7430a-cbd0-4847-b141-fbe89847b682",
   "metadata": {
    "tags": []
   },
   "outputs": [],
   "source": [
    "t = torch.load(\"../datasets/diverse-32x32-aug16.pt\")\n",
    "#torch.save(t.clamp(0, 1), \"../datasets/diverse-32x32-aug16.pt\")"
   ]
  },
  {
   "cell_type": "code",
   "execution_count": null,
   "id": "8183b1c0-4b44-487f-aa0d-cb7469de8713",
   "metadata": {},
   "outputs": [],
   "source": []
  }
 ],
 "metadata": {
  "kernelspec": {
   "display_name": "Python 3 (ipykernel)",
   "language": "python",
   "name": "python3"
  },
  "language_info": {
   "codemirror_mode": {
    "name": "ipython",
    "version": 3
   },
   "file_extension": ".py",
   "mimetype": "text/x-python",
   "name": "python",
   "nbconvert_exporter": "python",
   "pygments_lexer": "ipython3",
   "version": "3.8.0"
  }
 },
 "nbformat": 4,
 "nbformat_minor": 5
}
