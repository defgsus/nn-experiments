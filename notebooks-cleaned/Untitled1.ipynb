{
 "cells": [
  {
   "cell_type": "code",
   "execution_count": null,
   "id": "d0ccd8e0-d34d-469a-a8ee-e1baa0bfe8f4",
   "metadata": {},
   "outputs": [],
   "source": [
    "import random"
   ]
  },
  {
   "cell_type": "code",
   "execution_count": null,
   "id": "77a736f0-d046-4fb7-9d69-4f6b1bc5b0a8",
   "metadata": {},
   "outputs": [],
   "source": [
    "emojis = [\n",
    "    chr(0x1f300 + i)\n",
    "    for i in range(1950)\n",
    "]\n",
    "\"\".join(emojis)"
   ]
  },
  {
   "cell_type": "code",
   "execution_count": null,
   "id": "0fcc4916-fa39-4054-8e26-b24cebc832f2",
   "metadata": {},
   "outputs": [],
   "source": [
    "\"\".join(random.choices(emojis, k=128))"
   ]
  },
  {
   "cell_type": "code",
   "execution_count": null,
   "id": "5c1e2a5a-5b3f-40a2-8959-d18089918aa9",
   "metadata": {},
   "outputs": [],
   "source": [
    "\"\".join(random.choices(\"🟥🟦🟧🟨🟩🟪🟫\", k=128))"
   ]
  },
  {
   "cell_type": "code",
   "execution_count": null,
   "id": "b78a53ad-0d92-4368-8bfb-d1d36867dd24",
   "metadata": {},
   "outputs": [],
   "source": []
  },
  {
   "cell_type": "code",
   "execution_count": null,
   "id": "4843e0bf-08ad-426a-b82a-b69923031d7d",
   "metadata": {},
   "outputs": [],
   "source": [
    "import unicodedata\n",
    "from tqdm import tqdm "
   ]
  },
  {
   "cell_type": "code",
   "execution_count": null,
   "id": "05c60bb5-d6f3-4e2f-a7a1-9b07be3894f6",
   "metadata": {},
   "outputs": [],
   "source": [
    "unicodedata.lookup?"
   ]
  },
  {
   "cell_type": "code",
   "execution_count": null,
   "id": "61e4f67c-d070-4a7f-a088-111df7ee901d",
   "metadata": {},
   "outputs": [],
   "source": [
    "unicodedata.category(\"🙃\")"
   ]
  },
  {
   "cell_type": "code",
   "execution_count": null,
   "id": "a83f408f-c7e5-4bb5-9d3b-f7126f9d41fb",
   "metadata": {},
   "outputs": [],
   "source": [
    "categories = set()\n",
    "emojis = {}\n",
    "for c in tqdm(range(32, 0x110000)):\n",
    "    cat = unicodedata.category(chr(c))\n",
    "    categories.add(cat)\n",
    "    try:\n",
    "        name = unicodedata.name(chr(c))\n",
    "        if cat == \"So\":\n",
    "            emojis[name] = chr(c)\n",
    "    except ValueError:\n",
    "        pass\n",
    "categories"
   ]
  },
  {
   "cell_type": "code",
   "execution_count": null,
   "id": "0d93eab4-7e88-4d01-95ce-cba2c920f463",
   "metadata": {},
   "outputs": [],
   "source": [
    "len(emojis)"
   ]
  },
  {
   "cell_type": "code",
   "execution_count": null,
   "id": "1752060a-92fe-4578-96fd-746a6e9f419a",
   "metadata": {},
   "outputs": [],
   "source": []
  },
  {
   "cell_type": "code",
   "execution_count": null,
   "id": "bb3c4373-34a5-48fd-88b1-dc781e3a02a6",
   "metadata": {},
   "outputs": [],
   "source": [
    "\"\".join(chr(i % 26 + 64) for i in [5, 9, 84, 201])"
   ]
  },
  {
   "cell_type": "code",
   "execution_count": null,
   "id": "95df676f-c417-4e38-9f91-f152c1144105",
   "metadata": {},
   "outputs": [],
   "source": []
  },
  {
   "cell_type": "code",
   "execution_count": null,
   "id": "764a4c48-de57-40d1-8c4c-e4702ae49d55",
   "metadata": {},
   "outputs": [],
   "source": [
    "class Emojify:\n",
    "\n",
    "    def __init__():\n",
    "        categories = set()\n",
    "        self._emoji_map = {}\n",
    "        for c in tqdm(range(32, 0x110000)):\n",
    "            cat = unicodedata.category(chr(c))\n",
    "            categories.add(cat)\n",
    "            try:\n",
    "                name = unicodedata.name(chr(c))\n",
    "                if cat == \"So\":\n",
    "                    emojis[name] = chr(c)\n",
    "            except ValueError:\n",
    "                pass"
   ]
  },
  {
   "cell_type": "code",
   "execution_count": null,
   "id": "35d58d97-36f0-4cf4-95e0-248f796d72b2",
   "metadata": {},
   "outputs": [],
   "source": [
    "import re\n",
    "re.compile(r\"(:[0-9]+:)\").sub(\"x\", \"abc:123:def\")"
   ]
  },
  {
   "cell_type": "code",
   "execution_count": null,
   "id": "47d0f462-3ee3-464e-b1e3-8d79dfc70e4b",
   "metadata": {},
   "outputs": [],
   "source": [
    "print(sorted([\n",
    "    \"bi\", \"ko\", \"du\", \"ra\", \"bo\", \"le\", \"ku\", \"da\", \"st\", \"uh\", \"vi\", \"ma\", \"nu\", \n",
    "    \"le\", \"la\", \"lu\", \"\"\n",
    "]))"
   ]
  }
 ],
 "metadata": {
  "kernelspec": {
   "display_name": "Python 3 (ipykernel)",
   "language": "python",
   "name": "python3"
  },
  "language_info": {
   "codemirror_mode": {
    "name": "ipython",
    "version": 3
   },
   "file_extension": ".py",
   "mimetype": "text/x-python",
   "name": "python",
   "nbconvert_exporter": "python",
   "pygments_lexer": "ipython3",
   "version": "3.8.0"
  }
 },
 "nbformat": 4,
 "nbformat_minor": 5
}
