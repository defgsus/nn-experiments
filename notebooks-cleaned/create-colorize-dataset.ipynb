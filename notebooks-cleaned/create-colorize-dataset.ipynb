{
 "cells": [
  {
   "cell_type": "code",
   "execution_count": null,
   "id": "e20d7805-5073-4601-8a5c-4cc209a4f5a2",
   "metadata": {},
   "outputs": [],
   "source": [
    "from init_notebook import *\n",
    "from src.train.experiment import load_experiment_trainer\n",
    "from functools import partial"
   ]
  },
  {
   "cell_type": "code",
   "execution_count": null,
   "id": "891c5d00-d8cc-4686-b6df-2bc2e5639457",
   "metadata": {},
   "outputs": [],
   "source": [
    "from experiments.datasets import *\n"
   ]
  },
  {
   "cell_type": "code",
   "execution_count": null,
   "id": "857ca3bd-b1fa-4250-81fc-3d37e1522360",
   "metadata": {},
   "outputs": [],
   "source": [
    "def plot(ds, count=16*16):\n",
    "    batch = next(iter(DataLoader(ds, batch_size=count)))\n",
    "    if isinstance(batch, (tuple, list)):\n",
    "        batch = batch[0]\n",
    "    display(VF.to_pil_image(make_grid(batch, nrow=int(math.sqrt(count)))))\n",
    "\n",
    "ds = cifar10_dataset(True)\n",
    "plot(ds)"
   ]
  },
  {
   "cell_type": "code",
   "execution_count": null,
   "id": "cf2e0d79-b521-4db5-922c-5d55f3fc1160",
   "metadata": {},
   "outputs": [],
   "source": [
    "def is_colorful(args):\n",
    "    pic = args\n",
    "    if isinstance(args, (tuple, list)):\n",
    "        pic = args[0]\n",
    "    pic = pic.flatten(1)\n",
    "    s = pic.std(dim=1, keepdim=True)\n",
    "    c = pic.mean(dim=1, keepdim=True)\n",
    "    return s.mean().item() > .1 and c.std().item() > .05\n",
    "\n",
    "dsf = ds.filter(is_colorful)\n",
    "#print(len(list(dsf)))\n",
    "plot(dsf, 32*32)\n"
   ]
  },
  {
   "cell_type": "code",
   "execution_count": null,
   "id": "6fb9346d-b3c9-4880-aec0-ee9b9e8b6552",
   "metadata": {},
   "outputs": [],
   "source": [
    "ds2 = (\n",
    "    all_image_patch_dataset(shape=(3, 64, 64))\n",
    "    .filter(is_colorful)\n",
    "    .shuffle(1000)\n",
    ")\n",
    "\n",
    "plot(ds2, 32*32)"
   ]
  },
  {
   "cell_type": "code",
   "execution_count": null,
   "id": "1d8a9bcf-a886-402f-a56d-4e952d4aef4c",
   "metadata": {},
   "outputs": [],
   "source": []
  },
  {
   "cell_type": "code",
   "execution_count": null,
   "id": "858d8b3f-e11d-458e-9396-d3623341a619",
   "metadata": {},
   "outputs": [],
   "source": []
  },
  {
   "cell_type": "code",
   "execution_count": null,
   "id": "f07e3d7d-bf7b-4e1d-bdd0-a2e54f65fae6",
   "metadata": {},
   "outputs": [],
   "source": [
    "FILENAME = f\"../datasets/colorful-uint-64x64.pt\"\n",
    "\n",
    "def store_dataset(\n",
    "        images: Iterable,\n",
    "        output_filename=FILENAME,\n",
    "        max_megabyte=4_000,\n",
    "):\n",
    "    tensor_batch = []\n",
    "    tensor_size = 0\n",
    "    last_print_size = 0\n",
    "    try:\n",
    "        with tqdm(images) as progress:\n",
    "            for image in images:\n",
    "                if isinstance(image, (list, tuple)):\n",
    "                    image = image[0]\n",
    "                if len(image.shape) < 4:\n",
    "                    image = image.unsqueeze(0)\n",
    "\n",
    "                image = (image.clamp(0, 1) * 255).to(torch.uint8)\n",
    "                tensor_batch.append(image)\n",
    "                tensor_size += math.prod(image.shape) * 1\n",
    "\n",
    "                progress.desc = f\"{tensor_size:,}\"\n",
    "                progress.update()\n",
    "                if tensor_size >= max_megabyte * 1024 * 1024:\n",
    "                    break\n",
    "    except KeyboardInterrupt:\n",
    "        pass\n",
    "    tensor_batch = torch.cat(tensor_batch)\n",
    "    torch.save(tensor_batch, output_filename)\n",
    "\n",
    "store_dataset(ds2)"
   ]
  },
  {
   "cell_type": "code",
   "execution_count": null,
   "id": "593ef201-9629-4c69-8c21-421f3445a1ed",
   "metadata": {},
   "outputs": [],
   "source": []
  }
 ],
 "metadata": {
  "kernelspec": {
   "display_name": "Python 3 (ipykernel)",
   "language": "python",
   "name": "python3"
  },
  "language_info": {
   "codemirror_mode": {
    "name": "ipython",
    "version": 3
   },
   "file_extension": ".py",
   "mimetype": "text/x-python",
   "name": "python",
   "nbconvert_exporter": "python",
   "pygments_lexer": "ipython3",
   "version": "3.8.0"
  }
 },
 "nbformat": 4,
 "nbformat_minor": 5
}
