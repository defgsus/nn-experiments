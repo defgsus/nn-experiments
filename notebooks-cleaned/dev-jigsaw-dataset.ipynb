{
 "cells": [
  {
   "cell_type": "code",
   "execution_count": null,
   "id": "4a4f983b-4dc4-42da-ac80-6bf85789eb8a",
   "metadata": {},
   "outputs": [],
   "source": [
    "from init_notebook import *"
   ]
  },
  {
   "cell_type": "code",
   "execution_count": null,
   "id": "b3a156f4-0420-49e1-8991-389c9f5626fb",
   "metadata": {},
   "outputs": [],
   "source": [
    "from experiments.datasets import *"
   ]
  },
  {
   "cell_type": "code",
   "execution_count": null,
   "id": "d878c43f-cb14-47a2-abf8-1b6f169a2eba",
   "metadata": {},
   "outputs": [],
   "source": [
    "image_ds = ImageFolderIterableDataset(\n",
    "    \"~/Pictures/__diverse\",\n",
    "    recursive=True,\n",
    "    force_channels=3,\n",
    ")\n",
    "for image in image_ds.limit(10):\n",
    "    display(VF.to_pil_image(image))"
   ]
  },
  {
   "cell_type": "code",
   "execution_count": null,
   "id": "e63c2f0c-858f-487a-ba2a-f1783a1d6c40",
   "metadata": {},
   "outputs": [],
   "source": [
    "class ImageJigsawDataset(BaseIterableDataset):\n",
    "    def __init__(\n",
    "            self,\n",
    "            image_dataset: Union[Dataset, IterableDataset],\n",
    "            puzzle_size: Tuple[int, int],\n",
    "            tile_size: Tuple[int, int],\n",
    "            random_spacing: int = 0,\n",
    "            num_permutation_classes: int = 10,\n",
    "            num_permutations_per_image: int = 1,\n",
    "            seed: Optional[int] = None,\n",
    "            permutation_class_seed: int = 23,\n",
    "    ):\n",
    "        super().__init__()\n",
    "        self._image_dataset = image_dataset\n",
    "        self._puzzle_size = puzzle_size\n",
    "        self._tile_size = tile_size\n",
    "        self._random_spacing = random_spacing\n",
    "        self._num_permutation_classes = num_permutation_classes\n",
    "        self._num_permutations_per_image = num_permutations_per_image\n",
    "        self._permutations: Optional[List] = None\n",
    "        self._permutation_class_seed = permutation_class_seed\n",
    "        if seed is None:\n",
    "            self._rng = random\n",
    "        else:\n",
    "            self._rng = random.Random(seed)\n",
    "        \n",
    "    def __iter__(self):\n",
    "        if self._permutations is None:\n",
    "            self._permutations = self._create_permutations()\n",
    "        for image in self._image_dataset:\n",
    "            if isinstance(image, (list, tuple)):\n",
    "                image = image[0]\n",
    "            # display(VF.to_pil_image(image))\n",
    "            perm_classes = [i % self._num_permutation_classes for i in range(self._num_permutations_per_image)]\n",
    "            self._rng.shuffle(perm_classes)\n",
    "            for perm_class in perm_classes:\n",
    "                perm_class = self._rng.randrange(self._num_permutation_classes)\n",
    "                crops = self._create_puzzle_crops(image, perm_class)\n",
    "                yield crops, perm_class\n",
    "                \n",
    "    def _create_permutations(self):\n",
    "        num_tiles = self._puzzle_size[0] * self._puzzle_size[1]\n",
    "        if self._num_permutation_classes > math.factorial(num_tiles):\n",
    "            raise ValueError(f\"num_classes ({self._num_permutation_classes}) is too large for {num_tiles} puzzle tiles\")\n",
    "        classes = set()\n",
    "        rng = random.Random(self._permutation_class_seed)\n",
    "        while len(classes) < self._num_permutation_classes:\n",
    "            indices = list(range(num_tiles))\n",
    "            rng.shuffle(indices)\n",
    "            classes.add(tuple(indices))\n",
    "        return sorted(classes)\n",
    "\n",
    "    def _create_puzzle_crops(self, image: torch.Tensor, permutation_class: int):\n",
    "        crop_shape = (\n",
    "            self._puzzle_size[0] * (self._tile_size[0] + self._random_spacing),\n",
    "            self._puzzle_size[1] * (self._tile_size[1] + self._random_spacing),\n",
    "        )\n",
    "        image = image_maximum_size(image, max(crop_shape[-1], crop_shape[-2]) + self._rng.randrange(10, 1000))\n",
    "        image = image_minimum_size(image, crop_shape[-1] + 5, crop_shape[-2] + 5, whole_steps=False)\n",
    "        xo = self._rng.randrange(image.shape[-1] - crop_shape[-1])\n",
    "        yo = self._rng.randrange(image.shape[-2] - crop_shape[-2])\n",
    "        image = image[..., yo: yo + crop_shape[-2], xo: xo + crop_shape[-1]]\n",
    "        #image = image_resize_crop(image, (crop_shape[0] + 20, crop_shape[1] + 20))\n",
    "        \n",
    "        #display(VF.to_pil_image(image))\n",
    "        crops = []\n",
    "        for tile_index in self._permutations[permutation_class]:\n",
    "            x = tile_index % self._puzzle_size[-1]\n",
    "            y = tile_index // self._puzzle_size[-1]\n",
    "            x = x * (self._tile_size[-1] + self._random_spacing) + self._rng.randrange(self._random_spacing + 1)\n",
    "            y = y * (self._tile_size[-2] + self._random_spacing) + self._rng.randrange(self._random_spacing + 1)\n",
    "            crops.append(image[..., y: y + self._tile_size[-2], x: x + self._tile_size[-1]].unsqueeze(0))\n",
    "            \n",
    "        return torch.concat(crops)\n",
    "\n",
    "        \n",
    "ds = ImageJigsawDataset(\n",
    "    #UnsplashDataset(max_size=160).shuffle(),\n",
    "    image_ds,\n",
    "    puzzle_size=(3, 3),\n",
    "    tile_size=(64, 64),\n",
    "    random_spacing=2,\n",
    "    num_permutations_per_image=4,\n",
    ")\n",
    "crops, p = next(iter(ds))\n",
    "display(ds._permutations)\n",
    "print(p, crops.shape)\n",
    "grid = []\n",
    "for crops, p in ds.limit(20*ds._num_permutations_per_image):\n",
    "    grid.append(make_grid(crops, nrow=ds._puzzle_size[-1]))\n",
    "    \n",
    "display(VF.to_pil_image(make_grid(grid, nrow=ds._num_permutations_per_image)))"
   ]
  },
  {
   "cell_type": "code",
   "execution_count": null,
   "id": "3a1467dc-eba1-41d0-a7be-20630e1fbc44",
   "metadata": {},
   "outputs": [],
   "source": []
  },
  {
   "cell_type": "code",
   "execution_count": null,
   "id": "cce2d580-dcea-4780-ad8c-c18a3011a5da",
   "metadata": {},
   "outputs": [],
   "source": [
    "grid = []\n",
    "for crops, cls in ds.limit(2*ds._num_permutations_per_image):\n",
    "    perm = ds._permutations[cls]\n",
    "    ordered_crops = [None] * len(perm)\n",
    "    for i, p in enumerate(perm):\n",
    "        ordered_crops[p] = crops[i]\n",
    "\n",
    "    grid.append(make_grid(crops, nrow=ds._puzzle_size[-1]))\n",
    "    grid.append(make_grid(ordered_crops, nrow=ds._puzzle_size[-1]))\n",
    "\n",
    "display(VF.to_pil_image(make_grid(grid, nrow=ds._num_permutations_per_image)))"
   ]
  },
  {
   "cell_type": "code",
   "execution_count": null,
   "id": "af6bc909-a752-4fb4-a640-2b2a318183c3",
   "metadata": {},
   "outputs": [],
   "source": [
    "make_grid?"
   ]
  },
  {
   "cell_type": "code",
   "execution_count": null,
   "id": "6942c120-fcf3-47de-b926-22b752934177",
   "metadata": {},
   "outputs": [],
   "source": [
    "\n"
   ]
  }
 ],
 "metadata": {
  "kernelspec": {
   "display_name": "Python 3 (ipykernel)",
   "language": "python",
   "name": "python3"
  },
  "language_info": {
   "codemirror_mode": {
    "name": "ipython",
    "version": 3
   },
   "file_extension": ".py",
   "mimetype": "text/x-python",
   "name": "python",
   "nbconvert_exporter": "python",
   "pygments_lexer": "ipython3",
   "version": "3.12.3"
  }
 },
 "nbformat": 4,
 "nbformat_minor": 5
}
