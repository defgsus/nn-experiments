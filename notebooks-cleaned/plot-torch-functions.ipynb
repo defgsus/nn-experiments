{
 "cells": [
  {
   "cell_type": "code",
   "execution_count": null,
   "id": "ddd85e5b-8dfa-4d8a-b5d2-45bd21c537e4",
   "metadata": {
    "tags": []
   },
   "outputs": [],
   "source": [
    "import sys\n",
    "sys.path.append(\"..\")\n",
    "\n",
    "import random\n",
    "import math\n",
    "import itertools\n",
    "from io import BytesIO\n",
    "from pathlib import Path\n",
    "from typing import Optional, Callable, List, Tuple, Iterable, Generator, Union\n",
    "\n",
    "import PIL.Image\n",
    "import PIL.ImageDraw\n",
    "import plotly\n",
    "import plotly.express as px\n",
    "import plotly.graph_objects as go\n",
    "plotly.io.templates.default = \"plotly_dark\"\n",
    "import numpy as np\n",
    "import pandas as pd\n",
    "pd.options.plotting.backend = \"plotly\"\n",
    "\n",
    "from tqdm import tqdm\n",
    "import torch\n",
    "import torch.nn as nn\n",
    "import torch.nn.functional as F\n",
    "from torch.utils.data import Dataset, DataLoader, TensorDataset, IterableDataset, RandomSampler\n",
    "import torchvision.transforms as VT\n",
    "import torchvision.transforms.functional as VF\n",
    "from torchvision.utils import make_grid\n",
    "from IPython.display import display"
   ]
  },
  {
   "cell_type": "code",
   "execution_count": null,
   "id": "3909e4e8-9bd4-443d-8fc5-79161be2a22f",
   "metadata": {
    "tags": []
   },
   "outputs": [],
   "source": [
    "[n for n in dir(F) if \"lu\" in n]"
   ]
  },
  {
   "cell_type": "code",
   "execution_count": null,
   "id": "cdfbf0b1-9247-4cc9-9a1f-953d38723cf7",
   "metadata": {
    "tags": []
   },
   "outputs": [],
   "source": [
    "32*32 // 500"
   ]
  },
  {
   "cell_type": "code",
   "execution_count": null,
   "id": "8e5f2bcd-a988-43c2-9f8c-f017d3fb599f",
   "metadata": {
    "tags": []
   },
   "outputs": [],
   "source": [
    "function_map = {\n",
    "    \"celu\": torch.nn.functional.celu,\n",
    "    \"elu\": torch.nn.functional.elu,\n",
    "    \"gelu\": torch.nn.functional.gelu,\n",
    "    #\"glu\": torch.nn.functional.glu,\n",
    "    \"leaky_relu\": torch.nn.functional.leaky_relu,\n",
    "    #\"prelu\": torch.nn.functional.prelu,\n",
    "    \"relu\": torch.nn.functional.relu,\n",
    "    \"relu6\": torch.nn.functional.relu6,\n",
    "    \"rrelu\": torch.nn.functional.rrelu,\n",
    "    \"selu\": torch.nn.functional.selu,\n",
    "    \"silu\": torch.nn.functional.silu,\n",
    "    \"sigmoid\": torch.sigmoid,\n",
    "}"
   ]
  },
  {
   "cell_type": "code",
   "execution_count": null,
   "id": "86b26946-d6a1-47e0-8cdd-98bddeb48ddc",
   "metadata": {
    "tags": []
   },
   "outputs": [],
   "source": [
    "x = torch.linspace(-5, 5, 100)\n",
    "df = pd.DataFrame(index=x.numpy())\n",
    "for name, func in function_map.items():\n",
    "    try:\n",
    "        df[name] = func(x)\n",
    "    except Exception as e:\n",
    "        raise RuntimeError(f\"At {name}: {type(e).__name__}: {e}\")\n",
    "    #p = px.line(x=x, y=y, title=name)\n",
    "    #fig.add_trace(p.data[0])\n",
    "df.plot(width=800, height=800)"
   ]
  },
  {
   "cell_type": "code",
   "execution_count": null,
   "id": "701db160-7612-4ea8-a449-03be8f0cac48",
   "metadata": {
    "tags": []
   },
   "outputs": [],
   "source": [
    "t = px.line(x=x, y=y, title=name)\n",
    "t.data"
   ]
  }
 ],
 "metadata": {
  "kernelspec": {
   "display_name": "Python 3 (ipykernel)",
   "language": "python",
   "name": "python3"
  },
  "language_info": {
   "codemirror_mode": {
    "name": "ipython",
    "version": 3
   },
   "file_extension": ".py",
   "mimetype": "text/x-python",
   "name": "python",
   "nbconvert_exporter": "python",
   "pygments_lexer": "ipython3",
   "version": "3.8.0"
  }
 },
 "nbformat": 4,
 "nbformat_minor": 5
}
