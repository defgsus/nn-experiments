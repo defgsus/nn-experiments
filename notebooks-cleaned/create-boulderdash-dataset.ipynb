{
 "cells": [
  {
   "cell_type": "code",
   "execution_count": null,
   "id": "b6579962-e53f-47e4-a4ea-ced7fca4a97f",
   "metadata": {},
   "outputs": [],
   "source": [
    "from init_notebook import *\n",
    "from src.algo.boulderdash import *"
   ]
  },
  {
   "cell_type": "code",
   "execution_count": null,
   "id": "1586a795-c589-46f7-afaf-97ec98a29c65",
   "metadata": {},
   "outputs": [],
   "source": [
    "SIZE = 32\n",
    "COUNT = 60_000    \n",
    "PRE_STEPS = 1\n",
    "PREDICTION_STEPS = 1"
   ]
  },
  {
   "cell_type": "code",
   "execution_count": null,
   "id": "62f9a686-ff5f-4478-bcba-a2c2e6411c1a",
   "metadata": {},
   "outputs": [],
   "source": [
    "ds_test = BoulderDashIterableDataset(\n",
    "    count=COUNT, shape=(SIZE, SIZE), pre_steps=PRE_STEPS, prediction_steps=PREDICTION_STEPS, dtype=torch.int8,\n",
    ")\n",
    "\n",
    "\n",
    "for map1, map2 in ds_test:\n",
    "    size_in_bytes = map1.nbytes * 2 * COUNT\n",
    "    image1, image2 = BoulderDash.from_tensor(map1).to_image(16), BoulderDash.from_tensor(map2).to_image(16)\n",
    "    break\n",
    "\n",
    "print(f\"size in bytes: {size_in_bytes:,}\")\n",
    "VF.to_pil_image(make_grid([torch.from_numpy(image1), torch.from_numpy(image2)], padding=8))"
   ]
  },
  {
   "cell_type": "markdown",
   "id": "58a9e932-2a7d-4644-8645-164e4e28af3d",
   "metadata": {},
   "source": [
    "# store tensors"
   ]
  },
  {
   "cell_type": "code",
   "execution_count": null,
   "id": "77fca390-0dc0-4dac-a2b2-5555560c63d7",
   "metadata": {},
   "outputs": [],
   "source": [
    "filename_part = f\"../datasets/boulderdash-{SIZE}x{SIZE}-{COUNT}\"\n",
    "\n",
    "map1_batch = []\n",
    "map2_batch = []\n",
    "for map1, map2 in tqdm(ds_test):\n",
    "    map1_batch.append(map1.unsqueeze(0))\n",
    "    map2_batch.append(map2.unsqueeze(0))\n",
    "    #if len(map1_batch) >= 10:\n",
    "    #    break\n",
    "\n",
    "map1_batch = torch.concat(map1_batch)\n",
    "map2_batch = torch.concat(map2_batch)\n",
    "torch.save(map1_batch, f\"{filename_part}-map1.pt\")\n",
    "torch.save(map2_batch, f\"{filename_part}-map2.pt\")"
   ]
  },
  {
   "cell_type": "markdown",
   "id": "a1ddabdb-6a91-4846-99b6-806784350de2",
   "metadata": {},
   "source": [
    "## test"
   ]
  },
  {
   "cell_type": "code",
   "execution_count": null,
   "id": "15105b11-c8f9-493b-893b-ad20f3e18c8e",
   "metadata": {},
   "outputs": [],
   "source": [
    "ds = TensorDataset(\n",
    "    torch.load(f\"{filename_part}-map1.pt\"),\n",
    "    torch.load(f\"{filename_part}-map2.pt\"),\n",
    ")\n",
    "print(len(ds))\n",
    "print([i.shape for i in ds[0]])"
   ]
  },
  {
   "cell_type": "code",
   "execution_count": null,
   "id": "56473929-e826-4cdc-be77-97c6685d72ae",
   "metadata": {},
   "outputs": [],
   "source": []
  },
  {
   "cell_type": "code",
   "execution_count": null,
   "id": "dc7d312c-ebbf-4d4e-877d-e0a7f7a026cf",
   "metadata": {},
   "outputs": [],
   "source": []
  },
  {
   "cell_type": "code",
   "execution_count": null,
   "id": "d3483aa9-6a3e-4b3c-b31f-5e9a17662800",
   "metadata": {},
   "outputs": [],
   "source": [
    "from src.transforms import *\n",
    "\n",
    "def boulderdash_dataset_32x32(\n",
    "        validation: bool,\n",
    "):\n",
    "    path = Path(\"..\") / \"datasets\"\n",
    "    if validation:\n",
    "        filename_part = \"boulderdash-32x32-5000-validation\"\n",
    "        return WrapDataset(TensorDataset(\n",
    "            torch.load(path / f\"{filename_part}-map1.pt\"),\n",
    "            torch.load(path / f\"{filename_part}-map2.pt\"),\n",
    "        )).transform(dtype=torch.float, transform_all=True)\n",
    "\n",
    "    filename_part = \"boulderdash-64x64-20000\"\n",
    "    ds = WrapDataset(TensorDataset(\n",
    "        torch.load(path / f\"{filename_part}-map1.pt\"),\n",
    "        torch.load(path / f\"{filename_part}-map2.pt\"),\n",
    "    ))\n",
    "    ds = ds.transform([RandomCropTuple(32)], dtype=torch.float, transform_all=True, num_repeat=4)\n",
    "        \n",
    "    return ds\n",
    "\n",
    "for _ in tqdm(boulderdash_dataset_32x32(validation=False)):\n",
    "    pass"
   ]
  },
  {
   "cell_type": "code",
   "execution_count": null,
   "id": "5783975f-eea7-4d41-8005-d518c8258f82",
   "metadata": {},
   "outputs": [],
   "source": [
    "from experiments.datasets import boulderdash_dataset_32x32\n",
    "ds = boulderdash_dataset_32x32(validation=False)\n",
    "map1, map2 = ds[0]\n",
    "display(VF.to_pil_image(make_grid([\n",
    "    torch.from_numpy(BoulderDash.from_tensor(map1).to_image()),\n",
    "    torch.from_numpy(BoulderDash.from_tensor(map2).to_image()),\n",
    "], padding=8)))\n",
    "print(map1)\n",
    "print(map2)"
   ]
  },
  {
   "cell_type": "code",
   "execution_count": null,
   "id": "54c8f2a4-9ff7-4015-a2e9-b22eaeceffb0",
   "metadata": {},
   "outputs": [],
   "source": []
  }
 ],
 "metadata": {
  "kernelspec": {
   "display_name": "Python 3 (ipykernel)",
   "language": "python",
   "name": "python3"
  },
  "language_info": {
   "codemirror_mode": {
    "name": "ipython",
    "version": 3
   },
   "file_extension": ".py",
   "mimetype": "text/x-python",
   "name": "python",
   "nbconvert_exporter": "python",
   "pygments_lexer": "ipython3",
   "version": "3.8.0"
  }
 },
 "nbformat": 4,
 "nbformat_minor": 5
}
