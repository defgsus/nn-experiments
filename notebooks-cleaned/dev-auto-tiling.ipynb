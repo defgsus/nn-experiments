{
 "cells": [
  {
   "cell_type": "code",
   "execution_count": null,
   "id": "87440a04-ebea-498a-98bc-5b7c7fd025cb",
   "metadata": {},
   "outputs": [],
   "source": [
    "from init_notebook import *"
   ]
  },
  {
   "cell_type": "code",
   "execution_count": null,
   "id": "682dba70-3af1-4f98-a384-ccb9600cde47",
   "metadata": {},
   "outputs": [],
   "source": [
    "from experiments.datasets import PixelartDataset\n",
    "\n",
    "ds = PixelartDataset(with_meta=True)\n",
    "ds[0][1]"
   ]
  },
  {
   "cell_type": "code",
   "execution_count": null,
   "id": "0ef0bf3c-e5ec-40a2-80bd-c3d6feaa16a4",
   "metadata": {},
   "outputs": [],
   "source": [
    "tiles = []\n",
    "for tile, meta in ds.offset(461):\n",
    "    if meta[\"opaque_ratio\"] > .9:\n",
    "        tiles.append(tile[None, ...])\n",
    "        if len(tiles) >= 58:\n",
    "            break\n",
    "tiles = torch.concat(tiles)\n",
    "VF.to_pil_image(make_grid(tiles, nrow=32))"
   ]
  },
  {
   "cell_type": "code",
   "execution_count": null,
   "id": "5faf46b9-23b6-4b46-b2b3-62bb965aeb30",
   "metadata": {},
   "outputs": [],
   "source": [
    "LEFT, TOP, BOTTOM, RIGHT = range(4)\n",
    "match_map = {}\n",
    "try:\n",
    "    tiles_mean= tiles.mean()\n",
    "    for i, tile1 in enumerate(tqdm(tiles)):\n",
    "        tile1 = tile1 - tiles_mean\n",
    "        slices1 = [\n",
    "            #tile1[..., :, 0], tile1[..., 0, :], tile1[..., -1, :], tile1[..., :, -1]\n",
    "            tile1[..., :, :2], tile1[..., :2, :], tile1[..., -2:, :], tile1[..., :, -2:]\n",
    "        ]\n",
    "        for j in range(i, len(tiles)):\n",
    "            tile2 = tiles[j] - tiles_mean\n",
    "            slices2 = [\n",
    "                #tile2[..., :, -1], tile2[..., -1, :], tile2[..., 0, :], tile2[..., :, 0]\n",
    "                tile2[..., :, -2:], tile2[..., -2:, :], tile2[..., :2, :], tile2[..., :, :2]\n",
    "            ]\n",
    "    \n",
    "            for k, (slice1, slice2) in enumerate(zip(slices1, slices2)):\n",
    "                diff = (slice1 - slice2).pow(2).mean().sqrt()\n",
    "                diff = torch.corrcoef(slice1 * slice2)\n",
    "                if diff > .9:\n",
    "                    match_map.setdefault(i, {}).setdefault(j, set()).add(k)\n",
    "                    match_map.setdefault(j, {}).setdefault(i, set()).add(3 - k)\n",
    "                    \n",
    "except KeyboardInterrupt:\n",
    "    pass\n",
    "num_matches = sum(sum(len(s) for s in v.values()) for v in match_map.values())\n",
    "print(len(match_map))\n",
    "print(f\"matches {num_matches}, {num_matches / (len(tiles) ** 2 * 4)}\")\n",
    "match_map    "
   ]
  },
  {
   "cell_type": "code",
   "execution_count": null,
   "id": "698308fa-9ec2-4b74-ac1c-70c221d7938f",
   "metadata": {},
   "outputs": [],
   "source": [
    "def render_map(size=(32, 32)):\n",
    "    map = [[-1] * size[0] for _ in range(size[1])]\n",
    "    candidates = list(match_map)\n",
    "    for y in range(size[1]):\n",
    "        for x in range(size[0]):\n",
    "            random.shuffle(candidates)\n",
    "            for idx1 in candidates:\n",
    "                if x > 0:\n",
    "                    idx2 = map[y][x - 1]\n",
    "                    if idx2 >= 0 and LEFT not in match_map[idx1].get(idx2, []):\n",
    "                        continue\n",
    "                if y > 0:\n",
    "                    idx2 = map[y - 1][x]\n",
    "                    if idx2 >= 0 and TOP not in match_map[idx1].get(idx2, []):\n",
    "                        continue\n",
    "\n",
    "                map[y][x] = idx1\n",
    "                break\n",
    "\n",
    "    map_tiles = []\n",
    "    for row in map:\n",
    "        for idx in row:\n",
    "            if idx < 0:\n",
    "                map_tiles.append(torch.zeros(3, 32, 32))\n",
    "            else:\n",
    "                map_tiles.append(tiles[idx])\n",
    "    return VF.to_pil_image(make_grid(map_tiles, nrow=size[0], padding=0))\n",
    "\n",
    "render_map()"
   ]
  }
 ],
 "metadata": {
  "kernelspec": {
   "display_name": "Python 3 (ipykernel)",
   "language": "python",
   "name": "python3"
  },
  "language_info": {
   "codemirror_mode": {
    "name": "ipython",
    "version": 3
   },
   "file_extension": ".py",
   "mimetype": "text/x-python",
   "name": "python",
   "nbconvert_exporter": "python",
   "pygments_lexer": "ipython3",
   "version": "3.8.0"
  }
 },
 "nbformat": 4,
 "nbformat_minor": 5
}
