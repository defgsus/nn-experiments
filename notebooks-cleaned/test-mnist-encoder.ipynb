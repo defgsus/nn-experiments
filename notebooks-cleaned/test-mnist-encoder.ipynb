{
 "cells": [
  {
   "cell_type": "code",
   "execution_count": null,
   "id": "d062b4f7-c0d9-4db9-8032-cd4916827549",
   "metadata": {
    "tags": []
   },
   "outputs": [],
   "source": [
    "import sys\n",
    "sys.path.append(\"..\")\n",
    "\n",
    "import random\n",
    "import math\n",
    "import time\n",
    "from io import BytesIO\n",
    "from pathlib import Path\n",
    "from collections import OrderedDict\n",
    "from typing import Optional, Callable, List, Tuple, Iterable, Generator, Union, Dict\n",
    "\n",
    "import PIL.Image\n",
    "import PIL.ImageDraw\n",
    "\n",
    "from tqdm import tqdm\n",
    "import torch\n",
    "import torch.nn as nn\n",
    "import torch.nn.functional as F\n",
    "from torch.utils.data import Dataset, DataLoader, TensorDataset, IterableDataset\n",
    "import torchvision.transforms as VT\n",
    "import torchvision.transforms.functional as VF\n",
    "from torchvision.utils import make_grid\n",
    "from IPython.display import display\n",
    "\n",
    "from src.datasets import *\n",
    "from src.util.image import *\n",
    "from src.util import *\n",
    "from src.algo import *\n",
    "from src.models.encoder import *\n",
    "from src.models.decoder import *\n",
    "from src.models.util import *\n",
    "from experiments import datasets"
   ]
  },
  {
   "cell_type": "markdown",
   "id": "601585d3-a7d4-4529-ae82-7b297c695038",
   "metadata": {},
   "source": [
    "# load dataset"
   ]
  },
  {
   "cell_type": "code",
   "execution_count": null,
   "id": "9d888a8d-08e1-4da1-a9b5-7548fe02e515",
   "metadata": {
    "tags": []
   },
   "outputs": [],
   "source": [
    "SHAPE=(1, 28, 28)\n",
    "ds = datasets.mnist_dataset(train=False, shape=SHAPE)"
   ]
  },
  {
   "cell_type": "markdown",
   "id": "0bc182a2-6277-4fd5-9725-9683e8ca6ad1",
   "metadata": {},
   "source": [
    "# load model"
   ]
  },
  {
   "cell_type": "code",
   "execution_count": null,
   "id": "2fef584c-2b95-45de-b067-da6162b30186",
   "metadata": {},
   "outputs": [],
   "source": [
    "model = EncoderConv2d(SHAPE, code_size=128, channels=(16, 16, 16), kernel_size=7, dropout=0.)\n",
    "#model.load_state_dict(torch.load(\"../checkpoints/aug/rot1_ks-7_ch-16,16,16_drop-0.0/snapshot.pt\")[\"state_dict\"])\n",
    "print(f\"{num_module_parameters(model):,}\")"
   ]
  },
  {
   "cell_type": "markdown",
   "id": "5389348e-c4d3-4257-94cc-380053609cc0",
   "metadata": {},
   "source": [
    "## dataset -> features"
   ]
  },
  {
   "cell_type": "code",
   "execution_count": null,
   "id": "663cdfd9-6ce1-4ab1-a246-cf5ddbf0bda3",
   "metadata": {
    "tags": []
   },
   "outputs": [],
   "source": [
    "labels = []\n",
    "with torch.no_grad():\n",
    "    features = []\n",
    "    for batch in tqdm(DataLoader(ds, batch_size=128)):\n",
    "        features.append(\n",
    "            model(batch[0])\n",
    "        )\n",
    "        labels.append(batch[1])\n",
    "    features = torch.concat(features)\n",
    "    labels = torch.concat(labels)\n",
    "features.shape, labels.shape"
   ]
  },
  {
   "cell_type": "markdown",
   "id": "3c1f6406-4b3d-41da-8703-ae4201bfff2c",
   "metadata": {
    "tags": []
   },
   "source": [
    "# fit labels"
   ]
  },
  {
   "cell_type": "code",
   "execution_count": null,
   "id": "4ba3ca96-ff58-4c9e-9049-b9d95ed613c8",
   "metadata": {
    "tags": []
   },
   "outputs": [],
   "source": [
    "from sklearn.svm import SVC, SVR\n",
    "\n",
    "classifier = SVC()\n",
    "classifier.fit(features, labels)"
   ]
  },
  {
   "cell_type": "code",
   "execution_count": null,
   "id": "2d0c229e-eb04-45f8-a0e8-a5944c3ae8c2",
   "metadata": {
    "tags": []
   },
   "outputs": [],
   "source": [
    "classifier.score(features, labels)\n",
    "#classifier.predict(features)"
   ]
  },
  {
   "cell_type": "code",
   "execution_count": null,
   "id": "7b1d3051-90c1-4bf9-9776-f5f60c0782e9",
   "metadata": {
    "tags": []
   },
   "outputs": [],
   "source": [
    "classifier.score?"
   ]
  },
  {
   "cell_type": "code",
   "execution_count": null,
   "id": "9e28282c-f608-400e-b127-a8f806fed6fa",
   "metadata": {},
   "outputs": [],
   "source": []
  },
  {
   "cell_type": "code",
   "execution_count": null,
   "id": "8687042b-87fc-4454-8c43-2f6e040e5743",
   "metadata": {},
   "outputs": [],
   "source": []
  },
  {
   "cell_type": "code",
   "execution_count": null,
   "id": "5ca910a1-7c6d-45ba-9da5-2ad8de162697",
   "metadata": {},
   "outputs": [],
   "source": []
  },
  {
   "cell_type": "code",
   "execution_count": null,
   "id": "ec661d75-3819-437d-8e57-5f92ba053640",
   "metadata": {},
   "outputs": [],
   "source": []
  },
  {
   "cell_type": "code",
   "execution_count": null,
   "id": "53697527-bccb-4b03-92ff-469834730a55",
   "metadata": {
    "tags": []
   },
   "outputs": [],
   "source": []
  },
  {
   "cell_type": "code",
   "execution_count": null,
   "id": "57d4bebb-f53d-46ed-95fb-ba97c731813e",
   "metadata": {},
   "outputs": [],
   "source": []
  },
  {
   "cell_type": "code",
   "execution_count": null,
   "id": "b6e01424-4134-41df-a658-3a707031a75d",
   "metadata": {
    "tags": []
   },
   "outputs": [],
   "source": [
    "[i for i in range(1, 29) if 28/i == 28//i] "
   ]
  },
  {
   "cell_type": "code",
   "execution_count": null,
   "id": "277759a2-46ed-4c46-a014-c0edc460eb55",
   "metadata": {
    "tags": []
   },
   "outputs": [],
   "source": [
    "from torchvision.models.vision_transformer import vit_h_14\n",
    "model = vit_h_14()\n",
    "print(f\"{num_module_parameters(model):,}\")\n",
    "model"
   ]
  },
  {
   "cell_type": "code",
   "execution_count": null,
   "id": "219d7205-71bf-4313-996b-d729742cccb9",
   "metadata": {},
   "outputs": [],
   "source": []
  }
 ],
 "metadata": {
  "kernelspec": {
   "display_name": "Python 3 (ipykernel)",
   "language": "python",
   "name": "python3"
  },
  "language_info": {
   "codemirror_mode": {
    "name": "ipython",
    "version": 3
   },
   "file_extension": ".py",
   "mimetype": "text/x-python",
   "name": "python",
   "nbconvert_exporter": "python",
   "pygments_lexer": "ipython3",
   "version": "3.8.0"
  }
 },
 "nbformat": 4,
 "nbformat_minor": 5
}
