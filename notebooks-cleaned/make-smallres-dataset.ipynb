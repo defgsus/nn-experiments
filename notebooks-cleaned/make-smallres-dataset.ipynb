{
 "cells": [
  {
   "cell_type": "code",
   "execution_count": null,
   "id": "601d4868-054a-4a4e-9de0-9079a37a5ab7",
   "metadata": {},
   "outputs": [],
   "source": [
    "from init_notebook import *"
   ]
  },
  {
   "cell_type": "code",
   "execution_count": null,
   "id": "eb1c4bc4-cd2d-4280-9693-2e76c84c920d",
   "metadata": {},
   "outputs": [],
   "source": [
    "PATHS = [\n",
    "    \"~/Pictures/diffusion\",\n",
    "    \"~/prog/python/github/magic-pen/results/\",\n",
    "]\n",
    "SIZE = 32"
   ]
  },
  {
   "cell_type": "code",
   "execution_count": null,
   "id": "0f989940-bccd-479e-96e8-527a174f6f88",
   "metadata": {},
   "outputs": [],
   "source": [
    "def iter_files():\n",
    "    for path in PATHS:\n",
    "        path = Path(path).expanduser()\n",
    "        for filename in sorted(path.rglob(\"**/*.*\")):\n",
    "            if filename.suffix.lower() in (\".png\", \".jpg\", \".jpeg\"):\n",
    "                yield filename\n",
    "\n",
    "total = 0\n",
    "for f in tqdm(iter_files()):\n",
    "    total += 1"
   ]
  },
  {
   "cell_type": "code",
   "execution_count": null,
   "id": "1e9e5784-d021-4512-83ba-394d31e86186",
   "metadata": {},
   "outputs": [],
   "source": [
    "patches = []\n",
    "for f in tqdm(iter_files(), total=total):\n",
    "    image = PIL.Image.open(f).convert(\"RGB\")\n",
    "    image = VF.resize(image, (SIZE, SIZE))\n",
    "    patches.append(VF.to_tensor(image))"
   ]
  },
  {
   "cell_type": "code",
   "execution_count": null,
   "id": "feeb5cc9-f953-4bfe-aff6-e7850003e60a",
   "metadata": {},
   "outputs": [],
   "source": [
    "nrow = int(math.ceil(math.sqrt(len(patches))))\n",
    "grid = make_grid(patches, padding=0, nrow=nrow)"
   ]
  },
  {
   "cell_type": "code",
   "execution_count": null,
   "id": "1195b646-57be-494b-988e-adfdf24ccf93",
   "metadata": {},
   "outputs": [],
   "source": [
    "grid_pil = VF.to_pil_image(grid)"
   ]
  },
  {
   "cell_type": "code",
   "execution_count": null,
   "id": "5bb66801-93e4-4d04-a4ac-9223528d0c6b",
   "metadata": {},
   "outputs": [],
   "source": [
    "grid_pil.save(f\"../datasets/stablediffusion-3x{SIZE}x{SIZE}-{total}.png\")"
   ]
  },
  {
   "cell_type": "code",
   "execution_count": null,
   "id": "f8ac0c03-7273-46bc-88e5-459afb1b3581",
   "metadata": {},
   "outputs": [],
   "source": []
  }
 ],
 "metadata": {
  "kernelspec": {
   "display_name": "Python 3 (ipykernel)",
   "language": "python",
   "name": "python3"
  },
  "language_info": {
   "codemirror_mode": {
    "name": "ipython",
    "version": 3
   },
   "file_extension": ".py",
   "mimetype": "text/x-python",
   "name": "python",
   "nbconvert_exporter": "python",
   "pygments_lexer": "ipython3",
   "version": "3.8.0"
  }
 },
 "nbformat": 4,
 "nbformat_minor": 5
}
