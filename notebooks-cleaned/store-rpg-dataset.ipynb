{
 "cells": [
  {
   "cell_type": "code",
   "execution_count": null,
   "id": "280e756b-0958-430a-9647-d3106ca48e80",
   "metadata": {
    "tags": []
   },
   "outputs": [],
   "source": [
    "import sys\n",
    "sys.path.append(\"..\")\n",
    "\n",
    "import random\n",
    "\n",
    "import time\n",
    "import math\n",
    "import random\n",
    "from io import BytesIO\n",
    "from pathlib import Path\n",
    "from typing import Optional, Callable, List, Tuple, Iterable, Generator, Optional, Union\n",
    "\n",
    "from tqdm import tqdm\n",
    "import torch\n",
    "import torch.nn as nn\n",
    "import torch.nn.functional as F\n",
    "from torch.utils.data import Dataset, DataLoader, TensorDataset, IterableDataset\n",
    "import torchvision.transforms as VT\n",
    "import torchvision.transforms.functional as VF\n",
    "from torchvision.utils import make_grid\n",
    "from sklearn.decomposition import PCA, FactorAnalysis\n",
    "from sklearn.cluster import KMeans\n",
    "\n",
    "import PIL.Image\n",
    "import PIL.ImageDraw\n",
    "import plotly\n",
    "import plotly.express as px\n",
    "plotly.io.templates.default = \"plotly_dark\"\n",
    "import numpy as np\n",
    "import pandas as pd\n",
    "\n",
    "from src.datasets import *\n",
    "from src.util import *\n",
    "from src.util.image import * \n",
    "from src.algo import Space2d, IFS\n",
    "from src.datasets import *\n",
    "from src.models.cnn import *\n",
    "from src.util.embedding import *\n",
    "from src.models.clip import ClipSingleton"
   ]
  },
  {
   "cell_type": "code",
   "execution_count": null,
   "id": "091f806c-0919-4dc6-befa-fe101487dfd1",
   "metadata": {
    "tags": []
   },
   "outputs": [],
   "source": [
    "def plot_samples(\n",
    "        iterable, \n",
    "        total: int = 32, \n",
    "        nrow: int = 8, \n",
    "        return_image: bool = False, \n",
    "        show_compression_ratio: bool = False,\n",
    "        label: Optional[Callable] = None,\n",
    "):\n",
    "    samples = []\n",
    "    labels = []\n",
    "    f = ImageFilter()\n",
    "    try:\n",
    "        for idx, entry in enumerate(tqdm(iterable, total=total)):\n",
    "            image = entry\n",
    "            if isinstance(entry, (list, tuple)):\n",
    "                image = entry[0]\n",
    "            if image.ndim == 4:\n",
    "                image = image.squeeze(0)\n",
    "            samples.append(image)\n",
    "            if show_compression_ratio:\n",
    "                labels.append(round(f.calc_compression_ratio(image), 3))\n",
    "            elif label is not None:\n",
    "                labels.append(label(entry) if callable(label) else idx)\n",
    "                \n",
    "            if len(samples) >= total:\n",
    "                break\n",
    "    except KeyboardInterrupt:\n",
    "        pass\n",
    "    \n",
    "    if labels:\n",
    "        image = VF.to_pil_image(make_grid_labeled(samples, nrow=nrow, labels=labels))\n",
    "    else:\n",
    "        image = VF.to_pil_image(make_grid(samples, nrow=nrow, pad_value=0))\n",
    "    if return_image:\n",
    "        return image\n",
    "    display(image)"
   ]
  },
  {
   "cell_type": "code",
   "execution_count": null,
   "id": "d9bf7b38-6ff0-4830-995f-3decd468c2fe",
   "metadata": {
    "tags": []
   },
   "outputs": [],
   "source": [
    "SHAPE = (3, 32, 32)\n",
    "ds = RpgTileIterableDataset(shape=SHAPE, interleave=True)\n",
    "ds = IterableShuffle(ds, 100_000, seed=23)"
   ]
  },
  {
   "cell_type": "code",
   "execution_count": null,
   "id": "202af043-f311-4692-abbb-30b0030127f3",
   "metadata": {
    "tags": []
   },
   "outputs": [],
   "source": [
    "images_train = []\n",
    "images_test = []\n",
    "for i, image in enumerate(tqdm(ds)):\n",
    "    image = (image.clamp(0, 1) * 255).to(torch.uint8).unsqueeze(0)\n",
    "    if i % 20 == 0:\n",
    "        images_test.append(image)\n",
    "    else:\n",
    "        images_train.append(image)"
   ]
  },
  {
   "cell_type": "code",
   "execution_count": null,
   "id": "7b3b5219-ceac-476b-8cc8-812e246010be",
   "metadata": {
    "tags": []
   },
   "outputs": [],
   "source": [
    "print(f\"train: {len(images_train)}, test: {len(images_test)}\")"
   ]
  },
  {
   "cell_type": "code",
   "execution_count": null,
   "id": "d3c5244e-05a2-459d-853c-9df2d649b68f",
   "metadata": {
    "tags": []
   },
   "outputs": [],
   "source": [
    "display(plot_samples(images_train))\n",
    "display(plot_samples(images_test))"
   ]
  },
  {
   "cell_type": "code",
   "execution_count": null,
   "id": "3862f7ce-b3d0-46a0-85ce-de145951e1ea",
   "metadata": {
    "tags": []
   },
   "outputs": [],
   "source": [
    "shape_str = \"x\".join(str(s) for s in SHAPE)\n",
    "torch.save(torch.concat(images_train), f\"../datasets/rpg-{shape_str}-uint-train.pt\")\n",
    "torch.save(torch.concat(images_test), f\"../datasets/rpg-{shape_str}-uint-test.pt\")"
   ]
  },
  {
   "cell_type": "code",
   "execution_count": null,
   "id": "5f77a933-516d-450c-bab5-81badbe036f0",
   "metadata": {},
   "outputs": [],
   "source": []
  },
  {
   "cell_type": "code",
   "execution_count": null,
   "id": "0cdeacde-e917-4ee6-a325-8e2162fe217c",
   "metadata": {},
   "outputs": [],
   "source": []
  },
  {
   "cell_type": "code",
   "execution_count": null,
   "id": "53583e78-512d-40eb-8202-d39be28163e3",
   "metadata": {
    "tags": []
   },
   "outputs": [],
   "source": [
    "from experiments.datasets import mnist_dataset, fmnist_dataset"
   ]
  },
  {
   "cell_type": "code",
   "execution_count": null,
   "id": "df282dbb-571c-48ad-8d87-ee08148640a2",
   "metadata": {
    "tags": []
   },
   "outputs": [],
   "source": [
    "def plot_resizings(image, size: int):\n",
    "    def _big(x):\n",
    "        return VF.to_pil_image(VF.resize(x, [s * 6 for s in x.shape[-2:]], VF.InterpolationMode.NEAREST, antialias=False))\n",
    "    display(_big(image))\n",
    "    display(_big(VF.resize(image, (size, size), VF.InterpolationMode.NEAREST, antialias=False)))\n",
    "    display(_big(VF.resize(image, (size, size), VF.InterpolationMode.BILINEAR, antialias=True)))\n",
    "    \n",
    "\n",
    "dsm = fmnist_dataset(train=False)\n",
    "plot_resizings(dsm[122][0], 32)"
   ]
  },
  {
   "cell_type": "code",
   "execution_count": null,
   "id": "2c7e4fa6-9633-497a-ba74-ab51f882b58f",
   "metadata": {},
   "outputs": [],
   "source": [
    "\n",
    "\n",
    "\n"
   ]
  }
 ],
 "metadata": {
  "kernelspec": {
   "display_name": "Python 3 (ipykernel)",
   "language": "python",
   "name": "python3"
  },
  "language_info": {
   "codemirror_mode": {
    "name": "ipython",
    "version": 3
   },
   "file_extension": ".py",
   "mimetype": "text/x-python",
   "name": "python",
   "nbconvert_exporter": "python",
   "pygments_lexer": "ipython3",
   "version": "3.8.0"
  }
 },
 "nbformat": 4,
 "nbformat_minor": 5
}
