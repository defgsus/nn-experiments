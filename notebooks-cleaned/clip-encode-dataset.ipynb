{
 "cells": [
  {
   "cell_type": "code",
   "execution_count": null,
   "id": "88d9e225-efc2-4358-bdd7-4357f0e23d07",
   "metadata": {},
   "outputs": [],
   "source": [
    "from init_notebook import *\n",
    "\n",
    "from src.models.clip import ClipSingleton"
   ]
  },
  {
   "cell_type": "code",
   "execution_count": null,
   "id": "a09cf9c8-335d-4d9b-86d0-407371adf500",
   "metadata": {},
   "outputs": [],
   "source": [
    "from experiments.datasets import PixelartDataset\n",
    "ds = PixelartDataset()"
   ]
  },
  {
   "cell_type": "code",
   "execution_count": null,
   "id": "32a93ca3-d6bb-40a3-9b4d-fe36d19e80b4",
   "metadata": {},
   "outputs": [],
   "source": [
    "\n",
    "embeddings = []\n",
    "for batch, label in tqdm(DataLoader(ds, batch_size=32)):\n",
    "    batch = VF.resize(batch, (224, 224), VF.InterpolationMode.BILINEAR, antialias=True)\n",
    "    embedding_batch = ClipSingleton.encode_image(batch)\n",
    "    embeddings.append(embedding_batch.cpu())\n",
    "    #break\n",
    "\n",
    "embeddings = torch.concat(embeddings)\n",
    "print(embeddings.shape)"
   ]
  },
  {
   "cell_type": "code",
   "execution_count": null,
   "id": "47d33113-400e-407f-824d-8750e0fef776",
   "metadata": {},
   "outputs": [],
   "source": [
    "torch.save(embeddings, \"../../pixelart-dataset/datasets/v1/clip-vit-b32-embeddings.pt\")"
   ]
  },
  {
   "cell_type": "code",
   "execution_count": null,
   "id": "a3c3f27a-2f57-4ccd-8649-fcc6e69764ee",
   "metadata": {},
   "outputs": [],
   "source": []
  },
  {
   "cell_type": "markdown",
   "id": "8c8e1d8b-72f2-41b6-902f-a1ec38b21a82",
   "metadata": {},
   "source": [
    "# use"
   ]
  },
  {
   "cell_type": "code",
   "execution_count": null,
   "id": "02dd2f3b-e9c3-4938-bf60-1952f83c837c",
   "metadata": {},
   "outputs": [],
   "source": [
    "embeddings = torch.load(\"../../pixelart-dataset/datasets/v2/clip-vit-b32-embeddings.pt\")\n",
    "embeddings = normalize_embedding(embeddings).float()"
   ]
  },
  {
   "cell_type": "code",
   "execution_count": null,
   "id": "285f718f-4b5b-4c1e-99e8-8fb60477fd2e",
   "metadata": {},
   "outputs": [],
   "source": [
    "prompts = [\n",
    "    \"brick wall\", \"stone\", \"water\", \"grass\", \"sky\", \"sword\", \"monster\", \"dragon\", \"women\", \"fire\",\n",
    "]\n",
    "prompt_embeddings = ClipSingleton.encode_text(prompts, device=\"cpu\", normalize=True)\n",
    "print(prompt_embeddings.shape)\n",
    "\n",
    "sim = prompt_embeddings @ embeddings.T\n",
    "print(sim.shape)\n",
    "\n",
    "indices = sim.argsort(dim=1, descending=True)\n",
    "grid = [\n",
    "    ds[int(i)][0] for i in indices[:, :16].T.flatten(0)\n",
    "]\n",
    "VF.to_pil_image(make_grid(grid, nrow=indices.shape[0]))"
   ]
  },
  {
   "cell_type": "code",
   "execution_count": null,
   "id": "024c9fe0-cde1-4c86-8d21-8942fea2a598",
   "metadata": {},
   "outputs": [],
   "source": []
  },
  {
   "cell_type": "code",
   "execution_count": null,
   "id": "1dd8a551-feb7-444d-8939-bce7967e1f88",
   "metadata": {},
   "outputs": [],
   "source": []
  }
 ],
 "metadata": {
  "kernelspec": {
   "display_name": "Python 3 (ipykernel)",
   "language": "python",
   "name": "python3"
  },
  "language_info": {
   "codemirror_mode": {
    "name": "ipython",
    "version": 3
   },
   "file_extension": ".py",
   "mimetype": "text/x-python",
   "name": "python",
   "nbconvert_exporter": "python",
   "pygments_lexer": "ipython3",
   "version": "3.8.0"
  }
 },
 "nbformat": 4,
 "nbformat_minor": 5
}
