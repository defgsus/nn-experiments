{
 "cells": [
  {
   "cell_type": "code",
   "execution_count": null,
   "id": "a9327e2e-00e0-4b86-9f3d-43d8c176bedd",
   "metadata": {},
   "outputs": [],
   "source": [
    "import sys\n",
    "sys.path.append(\"..\")\n",
    "\n",
    "import random\n",
    "import math\n",
    "import time\n",
    "import json\n",
    "from io import BytesIO\n",
    "from pathlib import Path\n",
    "from collections import OrderedDict\n",
    "from typing import Optional, Callable, List, Tuple, Iterable, Generator, Union\n",
    "\n",
    "import PIL.Image\n",
    "import PIL.ImageDraw\n",
    "import plotly\n",
    "import plotly.express as px\n",
    "plotly.io.templates.default = \"plotly_dark\"\n",
    "\n",
    "from tqdm import tqdm\n",
    "import torch\n",
    "import torch.nn as nn\n",
    "import torch.nn.functional as F\n",
    "from torch.utils.data import Dataset, DataLoader, TensorDataset, IterableDataset\n",
    "import torchvision.transforms as VT\n",
    "import torchvision.transforms.functional as VF\n",
    "from torchvision.utils import make_grid\n",
    "from IPython.display import display\n",
    "\n",
    "from src.datasets import *\n",
    "from src.util.image import *\n",
    "from src.util import *\n",
    "from src.algo import *\n",
    "from src.models.decoder import *\n",
    "from src.models.transform import *\n",
    "from src.models.util import *\n",
    "from experiments import datasets\n",
    "from experiments.denoise.resconv import ResConv\n",
    "\n",
    "def resize(img, scale: float, mode: VF.InterpolationMode = VF.InterpolationMode.NEAREST):\n",
    "    return VF.resize(img, [max(1, int(s * scale)) for s in img.shape[-2:]], mode, antialias=False)"
   ]
  },
  {
   "cell_type": "code",
   "execution_count": null,
   "id": "67a3b2da-3b35-4a5f-8179-9b45d821dc32",
   "metadata": {},
   "outputs": [],
   "source": [
    "kernel_size = []\n",
    "padding = []\n",
    "for i in range(11):\n",
    "    t = i / (11 - 1)\n",
    "    ks = 3 * (1. - t) + t * 9\n",
    "    ks = int(ks / 2) * 2 + 1\n",
    "    kernel_size.append(ks)\n",
    "    padding.append(int(math.floor(ks / 2)))\n",
    "  \n",
    "model = ResConv(\n",
    "    in_channels=1,\n",
    "    num_layers=11,\n",
    "    channels=32,\n",
    "    stride=1,\n",
    "    kernel_size=kernel_size,\n",
    "    padding=padding,\n",
    "    activation=\"gelu\",\n",
    "    activation_last_layer=\"sigmoid\",\n",
    "    conv_groups=[1] + [1] * (11 - 2) + [1],\n",
    ").eval()\n",
    "state = torch.load(\"../checkpoints/denoise/resconv-group-hcrop-bw_ds-fmnist_l-11_ks1-3_ks2-9_ch-32_stride-1_groups-1_act-gelu/snapshot.pt\")\n",
    "print(f'inputs: {state[\"num_input_steps\"]:,}')\n",
    "model.load_state_dict(state[\"state_dict\"])\n",
    "print(f\"params: {num_module_parameters(model):,}\")"
   ]
  },
  {
   "cell_type": "code",
   "execution_count": null,
   "id": "a1bbd729-50af-422b-9f82-f4e2e2acc3b7",
   "metadata": {},
   "outputs": [],
   "source": [
    "fmnist = datasets.fmnist_dataset(shape=(1, 28, 28), train=False)\n",
    "patches = next(iter(DataLoader(fmnist, batch_size=8*8)))[0]\n",
    "VF.to_pil_image(make_grid(patches))"
   ]
  },
  {
   "cell_type": "code",
   "execution_count": null,
   "id": "e5a00d2b-2777-4151-8de9-a605bf164630",
   "metadata": {},
   "outputs": [],
   "source": [
    "cropped_patches = RandomCropHalfImage()(patches)\n",
    "grid = make_grid(cropped_patches, padding=28)[:1]\n",
    "VF.to_pil_image(grid)"
   ]
  },
  {
   "cell_type": "code",
   "execution_count": null,
   "id": "6b525cbf-424f-4d42-9177-acc9c96d7ef7",
   "metadata": {},
   "outputs": [],
   "source": [
    "with torch.no_grad():\n",
    "    r_grid = model(grid.unsqueeze(0))[0]\n",
    "VF.to_pil_image(r_grid)"
   ]
  },
  {
   "cell_type": "code",
   "execution_count": null,
   "id": "8efb387c-d633-4e2d-9e39-3909eb3da599",
   "metadata": {},
   "outputs": [],
   "source": [
    "image = VF.to_tensor(PIL.Image.open(\n",
    "    #\"/home/bergi/Pictures/diffusion/cthulhu-06.jpeg\"\n",
    "    \"/home/bergi/Pictures/__diverse/HourSlack-EarsBleed-2-72SM.jpg\"\n",
    "    #\"/home/bergi/Pictures/__diverse/2000_subgenius_bobco_primer.jpg\"\n",
    "    #\"/home/bergi/Pictures/__diverse/longtime.png\"\n",
    ").convert(\"L\"))\n",
    "VF.to_pil_image(image)\n"
   ]
  },
  {
   "cell_type": "code",
   "execution_count": null,
   "id": "ef4dac66-6c57-4b1d-a8b5-f7af6d5226fb",
   "metadata": {},
   "outputs": [],
   "source": [
    "with torch.no_grad():\n",
    "    display(VF.to_pil_image(model(1.-image.unsqueeze(0))[0]))"
   ]
  },
  {
   "cell_type": "code",
   "execution_count": null,
   "id": "fdf9b25e-0956-42a0-98cc-e3a74e3872d8",
   "metadata": {},
   "outputs": [],
   "source": []
  },
  {
   "cell_type": "code",
   "execution_count": null,
   "id": "bc0ae456-53c1-4866-bfe9-f3680357db65",
   "metadata": {},
   "outputs": [],
   "source": []
  },
  {
   "cell_type": "code",
   "execution_count": null,
   "id": "0bbce628-7a52-4871-8075-72738d222d8d",
   "metadata": {},
   "outputs": [],
   "source": []
  },
  {
   "cell_type": "code",
   "execution_count": null,
   "id": "b55e9f90-f31e-476d-a3d6-4fae1960291f",
   "metadata": {},
   "outputs": [],
   "source": [
    "def perspective_transform(\n",
    "        image: torch.Tensor, \n",
    "        top: float = 1.,\n",
    "        left: float = 1.,\n",
    "        bottom: float = 1.,\n",
    "        right: float = 1.,\n",
    "):\n",
    "    h, w = image.shape[-2:]\n",
    "    top = max(-w // 2 + 1, (top - 1.) * w / 2)\n",
    "    bottom = max(-w // 2 + 1, (bottom - 1.) * w / 2)\n",
    "    left = max(-h // 2 + 1, (left - 1.) * h / 2)\n",
    "    right = max(-h // 2 + 1, (right - 1.) * h / 2)\n",
    "    return VF.perspective(\n",
    "        image,\n",
    "        [[0, 0], [w, 0], [w, h], [0, h]],\n",
    "        [[-top, -left], [w + top, -right], [w + bottom, h + right], [-bottom, h + left]],\n",
    "        interpolation=VF.InterpolationMode.BILINEAR,\n",
    "        \n",
    "    )\n",
    "\n",
    "VF.to_pil_image(perspective_transform(\n",
    "    image,\n",
    "    top=.99,\n",
    "    bottom=1.1,\n",
    "    #left=1.5,\n",
    "    #right=1.1,\n",
    "))"
   ]
  },
  {
   "cell_type": "code",
   "execution_count": null,
   "id": "b32ed6e2-ebfa-4221-bef2-2b7c2b91dc5f",
   "metadata": {},
   "outputs": [],
   "source": [
    "VF.affine?"
   ]
  }
 ],
 "metadata": {
  "kernelspec": {
   "display_name": "Python 3 (ipykernel)",
   "language": "python",
   "name": "python3"
  },
  "language_info": {
   "codemirror_mode": {
    "name": "ipython",
    "version": 3
   },
   "file_extension": ".py",
   "mimetype": "text/x-python",
   "name": "python",
   "nbconvert_exporter": "python",
   "pygments_lexer": "ipython3",
   "version": "3.8.0"
  }
 },
 "nbformat": 4,
 "nbformat_minor": 5
}
