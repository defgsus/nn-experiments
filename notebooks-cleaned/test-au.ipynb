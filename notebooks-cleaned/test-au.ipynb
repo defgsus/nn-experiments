{
 "cells": [
  {
   "cell_type": "code",
   "execution_count": null,
   "id": "49d78e3d-052c-4240-a3ac-1f9611d17eab",
   "metadata": {
    "tags": []
   },
   "outputs": [],
   "source": [
    "import sys\n",
    "sys.path.append(\"..\")\n",
    "\n",
    "import json\n",
    "import random\n",
    "import math\n",
    "import itertools\n",
    "from copy import deepcopy\n",
    "from io import BytesIO\n",
    "from pathlib import Path\n",
    "from typing import Optional, Callable, List, Tuple, Iterable, Generator, Union, Dict\n",
    "\n",
    "import PIL.Image\n",
    "import PIL.ImageDraw\n",
    "import plotly\n",
    "import plotly.express as px\n",
    "import plotly.graph_objects as go\n",
    "plotly.io.templates.default = \"plotly_dark\"\n",
    "import numpy as np\n",
    "import pandas as pd\n",
    "pd.options.plotting.backend = \"plotly\"\n",
    "from sklearn.manifold import TSNE\n",
    "from sklearn.decomposition import IncrementalPCA\n",
    "\n",
    "from tqdm import tqdm\n",
    "import torch\n",
    "import torch.nn as nn\n",
    "import torch.nn.functional as F\n",
    "from torch.utils.data import Dataset, DataLoader, TensorDataset, IterableDataset, RandomSampler\n",
    "import torchvision.transforms as VT\n",
    "import torchvision.transforms.functional as VF\n",
    "import torchaudio.transforms as AT\n",
    "import torchaudio.functional as AF\n",
    "from torchvision.utils import make_grid\n",
    "from IPython.display import display, Audio\n",
    "import torchaudio\n",
    "from torchaudio.io import StreamReader\n",
    "\n",
    "from src.datasets import *\n",
    "from src.algo import GreedyLibrary\n",
    "from src.util.image import *\n",
    "from src.util import to_torch_device, iter_batches\n",
    "from src.patchdb import PatchDB, PatchDBIndex\n",
    "from src.models.encoder import *\n",
    "from src.util.audio import *\n",
    "from src.util.files import *\n",
    "from src.util.embedding import *\n",
    "from scripts import datasets\n",
    "from src.algo import AudioUnderstander \n",
    "\n",
    "def resize(img, scale: float, mode: VF.InterpolationMode = VF.InterpolationMode.NEAREST):\n",
    "    return VF.resize(img, [max(1, int(s * scale)) for s in img.shape[-2:]], mode)"
   ]
  },
  {
   "cell_type": "markdown",
   "id": "2a3db8d3-e91a-4ce0-b65c-56a887037db1",
   "metadata": {},
   "source": [
    "# model"
   ]
  },
  {
   "cell_type": "code",
   "execution_count": null,
   "id": "2b0e5e6b-85b3-4a4d-a3fa-58f83395252d",
   "metadata": {
    "tags": []
   },
   "outputs": [],
   "source": [
    "au = AudioUnderstander.load(\"../models/au/au-1sec-3x256.pt\")\n",
    "#au.slice_size = au.sample_rate // 10\n",
    "#au.spectral_shape = (au.spectral_shape[0], au.spectral_shape[1] // 10)\n",
    "#au.drop_encoder(1)\n",
    "#au.spectral_patch_shapes"
   ]
  },
  {
   "cell_type": "code",
   "execution_count": null,
   "id": "f638313f-8a3c-4f58-ad99-e31dedf4a1e0",
   "metadata": {
    "tags": []
   },
   "outputs": [],
   "source": [
    "SHAPE = (1, 256 * 3)\n",
    "\n",
    "if 0:\n",
    "    from scripts.train_vae_spectral import SimpleVAE\n",
    "\n",
    "    vae = SimpleVAE(SHAPE, latent_dims=math.prod(SHAPE) // 12, kl_loss_weight=0.)\n",
    "    data = torch.load(\"../checkpoints/spec6-final-vae/best.pt\")\n",
    "    print(f\"inputs: {data['num_input_steps']:,}\")\n",
    "    vae.load_state_dict(data[\"state_dict\"])\n",
    "    final_encoder = vae.encoder.linear_mu\n",
    "else:\n",
    "    from scripts.train_contrastive_ds import SimpleEncoder\n",
    "    \n",
    "    m = SimpleEncoder((math.prod(SHAPE), 64))\n",
    "    #data = torch.load(\"../checkpoints/contr-au5-64-shuff50k/best.pt\")\n",
    "    #data = torch.load(\"../checkpoints/contr-au6-64-mask/snapshot.pt\")\n",
    "    data = torch.load(\"../checkpoints/contr-au7-64/snapshot.pt\")\n",
    "    data = torch.load(\"../checkpoints/contr-au9-64-cr03/best.pt\")\n",
    "    print(f\"inputs: {data['num_input_steps']:,}\")\n",
    "    m.load_state_dict(data[\"state_dict\"])\n",
    "    final_encoder = m\n",
    "    \n",
    "final_encoder"
   ]
  },
  {
   "cell_type": "markdown",
   "id": "dd9840ba-e4a4-4b37-b761-477d63f882f5",
   "metadata": {},
   "source": [
    "# data"
   ]
  },
  {
   "cell_type": "code",
   "execution_count": null,
   "id": "ac21295c-70a6-458b-974b-91f23c308c5f",
   "metadata": {
    "tags": []
   },
   "outputs": [],
   "source": [
    "ds = datasets.audio_slice_dataset(\n",
    "    path=\"~/Music\", recursive=True,\n",
    "    interleave_files=1,\n",
    "    mono=True,\n",
    "    slice_size=au.slice_size,\n",
    "    stride=au.slice_size,\n",
    "    spectral_shape=au.spectral_shape,\n",
    "    spectral_normalize=1,\n",
    "    \n",
    "    with_filename=True,\n",
    "    with_position=True,\n",
    ")\n",
    "for i, (spec, filename, pos) in zip(range(10), ds):\n",
    "    print(pos / au.sample_rate, \"\\t\", filename, spec.shape)\n",
    "    "
   ]
  },
  {
   "cell_type": "markdown",
   "id": "62871974-f56e-40a6-82ea-63c583417d83",
   "metadata": {},
   "source": [
    "# make embedding dataset"
   ]
  },
  {
   "cell_type": "code",
   "execution_count": null,
   "id": "207dad07-0753-4810-8cbe-d0c18b911234",
   "metadata": {
    "tags": []
   },
   "outputs": [],
   "source": [
    "if 0:\n",
    "    embeddings = []\n",
    "    filename_ids = []\n",
    "    filename_map = dict()\n",
    "    size_in_bytes = 0\n",
    "    last_print_size = 0\n",
    "    try:\n",
    "        for spec, filename, pos in tqdm(ds):\n",
    "            filename = str(filename)\n",
    "            embeddings.append(au.encode_spectrum(spec.squeeze(0)))\n",
    "            if filename not in filename_map:\n",
    "                filename_map[filename] = len(filename_map) + 1\n",
    "            filename_ids.append(filename_map[filename])\n",
    "            size_in_bytes += 4 * math.prod(embeddings[-1].shape)\n",
    "\n",
    "            if size_in_bytes - last_print_size > 1024 * 1024 * 100:\n",
    "                last_print_size = size_in_bytes\n",
    "                print(f\"bytes {size_in_bytes:,}, files: {len(filename_map):,}\")\n",
    "\n",
    "            if size_in_bytes >= 1024 ** 3 * 2:\n",
    "                break\n",
    "\n",
    "    except KeyboardInterrupt:\n",
    "        pass\n",
    "\n",
    "    embeddings = torch.concat([e for e in embeddings])\n",
    "    print(\"embeddings\", embeddings.shape)"
   ]
  },
  {
   "cell_type": "markdown",
   "id": "6b940147-514d-4fc7-9edc-1c171cb3c2c8",
   "metadata": {},
   "source": [
    "## save dataset"
   ]
  },
  {
   "cell_type": "code",
   "execution_count": null,
   "id": "d2af0f53-9e64-4833-a87e-46e9eda4ad66",
   "metadata": {
    "tags": []
   },
   "outputs": [],
   "source": [
    "if 0:\n",
    "    fn = \"../datasets/embeddings-au-1sec-3x256\"\n",
    "    torch.save(embeddings, f\"{fn}.pt\")\n",
    "    torch.save(torch.Tensor(filename_ids).to(torch.int64), f\"{fn}-ids.pt\")\n",
    "    Path(f\"{fn}-filename-map.json\").write_text(json.dumps({v: k for k, v in filename_map.items()}))"
   ]
  },
  {
   "cell_type": "markdown",
   "id": "7b215077-4000-4ef8-99db-5d7f20303dfb",
   "metadata": {},
   "source": [
    "# create embeddings for testing"
   ]
  },
  {
   "cell_type": "code",
   "execution_count": null,
   "id": "a7e19a5e-ee56-49b0-905b-e24448d5208e",
   "metadata": {
    "tags": []
   },
   "outputs": [],
   "source": [
    "embeddings = []\n",
    "filenames = []\n",
    "positions = []\n",
    "with torch.inference_mode():\n",
    "    try:\n",
    "        for spec, filename, pos in tqdm(ds, total=20_000):\n",
    "            bow = au.encode_spectrum(spec.squeeze(0))\n",
    "            embedding = final_encoder(bow)\n",
    "            embeddings.append(embedding)\n",
    "            filenames.append(filename)\n",
    "            positions.append(pos)\n",
    "            if len(embeddings) >= 20_000:\n",
    "                break\n",
    "    except KeyboardInterrupt:\n",
    "        pass\n",
    "\n",
    "embeddings = torch.concat([e for e in embeddings])\n",
    "embeddings_n = embeddings / embeddings.norm(dim=1, keepdim=True)\n",
    "print(embeddings.shape)"
   ]
  },
  {
   "cell_type": "code",
   "execution_count": null,
   "id": "b9450360-f60a-4a91-99f4-695039daeee1",
   "metadata": {
    "tags": []
   },
   "outputs": [],
   "source": [
    "embeddings = embeddings[:20_000]\n",
    "embeddings_n = embeddings_n[:20_000]"
   ]
  },
  {
   "cell_type": "code",
   "execution_count": null,
   "id": "b8888a13-87e8-4446-8a0f-fcee2413badb",
   "metadata": {
    "tags": []
   },
   "outputs": [],
   "source": [
    "similarity = embeddings_n @ embeddings_n.T"
   ]
  },
  {
   "cell_type": "code",
   "execution_count": null,
   "id": "7ad60767-a14f-4915-9351-540397a89a7c",
   "metadata": {
    "tags": []
   },
   "outputs": [],
   "source": [
    "px.imshow(similarity[:300, :300], height=1000)"
   ]
  },
  {
   "cell_type": "code",
   "execution_count": null,
   "id": "62fc9df0-d20a-4ebf-92eb-2c8c69b082ff",
   "metadata": {
    "tags": []
   },
   "outputs": [],
   "source": [
    "px.imshow(similarity[:300, :300], height=1000)"
   ]
  },
  {
   "cell_type": "code",
   "execution_count": null,
   "id": "953c96b3-eafb-4581-8959-54199df8784e",
   "metadata": {},
   "outputs": [],
   "source": [
    "s_min, s_max = similarity.min(), similarity.max()\n",
    "img = ((similarity - s_min) / (s_max - s_min))[:5000,:5000].unsqueeze(0)\n",
    "VF.to_pil_image(resize(img, .2, VF.InterpolationMode.BILINEAR))"
   ]
  },
  {
   "cell_type": "code",
   "execution_count": null,
   "id": "db154444-4d22-4cfe-9af4-6f3a71cc6ec2",
   "metadata": {},
   "outputs": [],
   "source": [
    "def get_similars(idx: int, count: int = 10):\n",
    "    emb = embeddings_n[idx]\n",
    "    sim = emb @ embeddings_n.T\n",
    "    best_indices = sim.argsort(descending=True)\n",
    "    return best_indices[:count], sim[best_indices][:count]\n",
    "\n",
    "def show_similars(idx: int, count: int = 10):\n",
    "    best_indices, distances = get_similars(idx, count)\n",
    "    \n",
    "    reader_map = {}    \n",
    "    for bi, dist in zip(best_indices, distances):\n",
    "        fn = filenames[bi]\n",
    "        print(float(dist), positions[bi] // au.sample_rate, filenames[bi])\n",
    "        if fn not in reader_map:\n",
    "            reader_map[fn] = StreamReader(str(fn))\n",
    "            reader_map[fn].add_audio_stream(au.slice_size, au.sample_rate)\n",
    "        reader_map[fn].seek(positions[bi] / au.sample_rate)\n",
    "        audio = next(iter(reader_map[fn].stream()))[0]#.mean(1)\n",
    "        if audio.dtype != torch.float32:\n",
    "            audio = audio.to(torch.float32) / 32767\n",
    "        audio = audio.mean(1)\n",
    "        display(plot_audio(audio, (128, 386)))\n",
    "        display(Audio(audio, rate=au.sample_rate))\n",
    "        \n",
    "#show_similars(9224)\n",
    "show_similars(9000)"
   ]
  },
  {
   "cell_type": "code",
   "execution_count": null,
   "id": "25f3bb81-43b5-4949-9e04-163247dcc30c",
   "metadata": {
    "tags": []
   },
   "outputs": [],
   "source": [
    "StreamReader?\n",
    "#.add_audio_stream?\n"
   ]
  }
 ],
 "metadata": {
  "kernelspec": {
   "display_name": "Python 3 (ipykernel)",
   "language": "python",
   "name": "python3"
  },
  "language_info": {
   "codemirror_mode": {
    "name": "ipython",
    "version": 3
   },
   "file_extension": ".py",
   "mimetype": "text/x-python",
   "name": "python",
   "nbconvert_exporter": "python",
   "pygments_lexer": "ipython3",
   "version": "3.8.0"
  }
 },
 "nbformat": 4,
 "nbformat_minor": 5
}
