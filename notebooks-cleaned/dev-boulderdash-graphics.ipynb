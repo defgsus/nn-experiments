{
 "cells": [
  {
   "cell_type": "code",
   "execution_count": null,
   "id": "961ba5ff-cf39-4520-9fe2-cecf071d39d6",
   "metadata": {},
   "outputs": [],
   "source": [
    "from init_notebook import *"
   ]
  },
  {
   "cell_type": "code",
   "execution_count": null,
   "id": "7ce24748-b307-45d5-9856-b7c3b213d868",
   "metadata": {},
   "outputs": [],
   "source": [
    "from src.algo.boulderdash import *\n",
    "\n",
    "class BoulderDashGraphics:\n",
    "\n",
    "    _graphics: Dict[int, Dict[int, np.ndarray]] = {}\n",
    "\n",
    "    @classmethod\n",
    "    def graphic(cls, object: int, size: int = 8):\n",
    "        if size not in cls._graphics:\n",
    "            cls._graphics[size] = {}\n",
    "        if object not in cls._graphics[size]:\n",
    "            cls._graphics[size][object] = cls._render(object, size)\n",
    "        return cls._graphics[size][object]\n",
    "\n",
    "    @classmethod\n",
    "    def _render(cls, object: int, size: int):\n",
    "        if object == BoulderDash.OBJECTS.Wall:\n",
    "            b = max(1, int(size / 8))\n",
    "            g = np.ones((3, size, size))\n",
    "            g[:, :b, :] *= 1.5\n",
    "            g[:, :, :b] *= 1.5\n",
    "            g[:, -b:, :] *= .7\n",
    "            g[:, :, -b:] *= .7\n",
    "            return np.clip(g * .35, 0, 1)\n",
    "\n",
    "        elif object == BoulderDash.OBJECTS.Rock:\n",
    "            yx = np.mgrid[:size, :size] / size * 2. - 1.\n",
    "            d = np.sqrt(np.square(yx[0]) + np.square(yx[1]))\n",
    "            form = (d < 1.).astype(np.float_)\n",
    "            g = form\n",
    "            b = max(1, int(size / 12))\n",
    "            g[:-b, :-b] += .2 * form[b:, b:]\n",
    "            g[b:, b:] -= .2 * form[:-b, :-b]\n",
    "            g = g[None, :, :].repeat(3, 0)\n",
    "            return np.clip(g * .6, 0, 1)\n",
    "\n",
    "        elif object == BoulderDash.OBJECTS.Sand:\n",
    "            yx = np.mgrid[:size, :size] / size * math.pi * 4\n",
    "            g = .9 + .1 * np.sin(yx[0]) * np.sin(yx[1])\n",
    "            g = g[None, :, :].repeat(3, 0)\n",
    "            g[0] *= .5\n",
    "            g[1] *= .3\n",
    "            g[2] *= .1\n",
    "            return g\n",
    "\n",
    "        elif object == BoulderDash.OBJECTS.Diamond:\n",
    "            yx = np.mgrid[:size, :size] / size * 2. - 1.\n",
    "            d = np.abs(yx[0]) + np.abs(yx[1])\n",
    "            form = (d < 1.).astype(float)\n",
    "            g = form\n",
    "            b = max(1, int(size / 12))\n",
    "            g[:-b, :-b] += .2 * form[b:, b:]\n",
    "            g[b:, b:] -= .2 * form[:-b, :-b]\n",
    "            g = g[None, :, :].repeat(3, 0)\n",
    "            g[1] *= 1.3\n",
    "            g[2] *= 1.7\n",
    "            return np.clip(g * .6, 0, 1)\n",
    "\n",
    "        elif object == BoulderDash.OBJECTS.Player:\n",
    "            yx = np.mgrid[:size, :size] / size * 2. - 1.\n",
    "            yx[0] = yx[0] * 1.5 \n",
    "            yx[1] *= 2.\n",
    "            \n",
    "            d = np.sqrt(np.square(yx[0]) + np.square(yx[1]))\n",
    "            form = (d < 1.).astype(np.float_)\n",
    "            g = form\n",
    "            b = max(1, int(size / 12))\n",
    "            g[:-b, :-b] += .2 * form[b:, b:]\n",
    "            g[b:, b:] -= .2 * form[:-b, :-b]\n",
    "            g = g[None, :, :].repeat(3, 0)\n",
    "            g[1] *= 1.5\n",
    "            return np.clip(g * .6, 0, 1)\n",
    "\n",
    "        else:  # object == BoulderDash.OBJECTS.Empty:\n",
    "            return np.zeros((3, size, size))\n",
    "\n",
    "\n",
    "graphics = []\n",
    "for i in range(BoulderDash.OBJECTS.count()):\n",
    "    graphics.append(torch.from_numpy(BoulderDashGraphics.graphic(i, 64)))\n",
    "\n",
    "VF.to_pil_image(make_grid(graphics))\n"
   ]
  },
  {
   "cell_type": "code",
   "execution_count": null,
   "id": "d6899025-2d42-4c22-a22d-48787f91ad92",
   "metadata": {},
   "outputs": [],
   "source": [
    "v = np.ndarray((1, 1))\n",
    "v.repeat(3, 0)"
   ]
  },
  {
   "cell_type": "code",
   "execution_count": null,
   "id": "59b5f46c-a438-4a60-9c33-d7977b7d31a8",
   "metadata": {},
   "outputs": [],
   "source": [
    "import inspect\n",
    "\n",
    "_checked = set()\n",
    "def check_module(module):\n",
    "    if module in _checked:\n",
    "        return\n",
    "    _checked.add(module)\n",
    "    for n in dir(np):\n",
    "        obj = getattr(np, n)\n",
    "        if \"step\" in n:\n",
    "            print(obj)\n",
    "        if inspect.ismodule(obj):\n",
    "            check_module(obj)\n",
    "check_module(np)"
   ]
  },
  {
   "cell_type": "code",
   "execution_count": null,
   "id": "6088c443-46cf-4951-8b72-dc7b31233462",
   "metadata": {},
   "outputs": [],
   "source": [
    "bd = BoulderDashGenerator().create_random((32, 32))\n",
    "image = bd.to_image(16)\n",
    "VF.to_pil_image(torch.from_numpy(image))"
   ]
  },
  {
   "cell_type": "code",
   "execution_count": null,
   "id": "45d5e7a1-a028-48f9-bf2a-52968333a573",
   "metadata": {},
   "outputs": [],
   "source": [
    "t = torch.Tensor([1])\n",
    "t.nu"
   ]
  }
 ],
 "metadata": {
  "kernelspec": {
   "display_name": "Python 3 (ipykernel)",
   "language": "python",
   "name": "python3"
  },
  "language_info": {
   "codemirror_mode": {
    "name": "ipython",
    "version": 3
   },
   "file_extension": ".py",
   "mimetype": "text/x-python",
   "name": "python",
   "nbconvert_exporter": "python",
   "pygments_lexer": "ipython3",
   "version": "3.8.0"
  }
 },
 "nbformat": 4,
 "nbformat_minor": 5
}
