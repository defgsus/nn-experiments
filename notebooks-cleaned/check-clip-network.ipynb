{
 "cells": [
  {
   "cell_type": "code",
   "execution_count": null,
   "id": "260dfb22-2158-4deb-a57e-85ce0f914595",
   "metadata": {
    "tags": []
   },
   "outputs": [],
   "source": [
    "import sys\n",
    "sys.path.append(\"..\")\n",
    "\n",
    "import random\n",
    "import math\n",
    "import itertools\n",
    "from io import BytesIO\n",
    "from pathlib import Path\n",
    "from typing import Optional, Callable, List, Tuple, Iterable, Generator, Union\n",
    "\n",
    "import PIL.Image\n",
    "import PIL.ImageDraw\n",
    "import plotly\n",
    "import plotly.express as px\n",
    "plotly.io.templates.default = \"plotly_dark\"\n",
    "import numpy as np\n",
    "import pandas as pd\n",
    "import clip\n",
    "\n",
    "from tqdm import tqdm\n",
    "import torch\n",
    "import torch.nn as nn\n",
    "import torch.nn.functional as F\n",
    "from torch.utils.data import Dataset, DataLoader, TensorDataset, IterableDataset, RandomSampler\n",
    "import torchvision.transforms as VT\n",
    "import torchvision.transforms.functional as VF\n",
    "from torchvision.utils import make_grid\n",
    "from IPython.display import display\n",
    "\n",
    "from src.datasets import *\n",
    "from src.util.image import *\n",
    "from src.util import *\n",
    "from src.algo import *\n",
    "from src.models.cnn import *"
   ]
  },
  {
   "cell_type": "code",
   "execution_count": null,
   "id": "7cb46f42-4128-4868-80a2-c9a952acc6bf",
   "metadata": {
    "tags": []
   },
   "outputs": [],
   "source": [
    "model, preproc = clip.load(\"ViT-B/32\")"
   ]
  },
  {
   "cell_type": "code",
   "execution_count": null,
   "id": "4158e929-ef20-4fc0-adf7-7b8b8ad88c65",
   "metadata": {
    "tags": []
   },
   "outputs": [],
   "source": [
    "def plot_weights(images, max_single_shape=(1024, 1024)):\n",
    "    images = images.copy()\n",
    "    max_shape = None\n",
    "    max_single_shape = list(max_single_shape)\n",
    "    for image_idx, image in enumerate(images):\n",
    "\n",
    "        if any(a > b for a, b in zip(image.shape, max_single_shape)):\n",
    "            image = VF.crop(image, 0, 0, min(image.shape[-2], max_single_shape[-2]), min(image.shape[-1], max_single_shape[-1]))\n",
    "            images[image_idx] = image\n",
    "\n",
    "        if max_shape is None:\n",
    "            max_shape = list(image.shape)\n",
    "        else:\n",
    "            for i in range(len(max_shape)):\n",
    "                max_shape[i] = max(max_shape[i], image.shape[i])\n",
    "\n",
    "    for image_idx, image in enumerate(images):\n",
    "\n",
    "        if any(a < b for a, b in zip(image.shape, max_shape)):\n",
    "            images[image_idx] = VF.pad(image, [0, 0, max_shape[-1] - image.shape[-1], max_shape[0] - image.shape[0]])\n",
    "\n",
    "        images[image_idx] = signed_to_image(images[image_idx])    \n",
    "\n",
    "    display(VF.to_pil_image(make_grid(images, nrow=10)))\n",
    "    \n",
    "images = []\n",
    "weight = model.visual.conv1.weight\n",
    "#print(weight.shape)\n",
    "#for w in weight[0, :10]:\n",
    "#    images.append(w)\n",
    "#for w in weight[:10]:\n",
    "#    images.append(w[0])\n",
    "\n",
    "for resblock in model.visual.transformer.resblocks[:20]:\n",
    "    #images.append(resblock.attn.out_proj.weight)\n",
    "    #images.append(resblock.mlp.c_fc.weight)\n",
    "    #images.append(resblock.mlp.c_proj.weight.T)\n",
    "    weight = resblock.attn.out_proj.weight#[:729, :729]\n",
    "    #print(weight.shape)\n",
    "    #images.append(weight)\n",
    "    for w in weight[:10]:\n",
    "        images.append(w.reshape(32, 24))\n",
    "    #for w in weight[:10]:\n",
    "    #    images.append(w.reshape(32, 32))\n",
    "\n",
    "plot_weights(images)"
   ]
  },
  {
   "cell_type": "code",
   "execution_count": null,
   "id": "0ba31f15-2e3c-4a75-b30b-0bc8c13490fe",
   "metadata": {
    "tags": []
   },
   "outputs": [],
   "source": [
    "768/32"
   ]
  },
  {
   "cell_type": "code",
   "execution_count": null,
   "id": "d5c6e866-3bc3-4029-ba82-e828bc4b51c4",
   "metadata": {
    "tags": []
   },
   "outputs": [],
   "source": [
    "model"
   ]
  }
 ],
 "metadata": {
  "kernelspec": {
   "display_name": "Python 3 (ipykernel)",
   "language": "python",
   "name": "python3"
  },
  "language_info": {
   "codemirror_mode": {
    "name": "ipython",
    "version": 3
   },
   "file_extension": ".py",
   "mimetype": "text/x-python",
   "name": "python",
   "nbconvert_exporter": "python",
   "pygments_lexer": "ipython3",
   "version": "3.8.0"
  }
 },
 "nbformat": 4,
 "nbformat_minor": 5
}
