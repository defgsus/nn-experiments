{
 "cells": [
  {
   "cell_type": "code",
   "execution_count": null,
   "id": "0e1fcd78-40bd-4f4f-905f-4cead40f62be",
   "metadata": {},
   "outputs": [],
   "source": [
    "import sys\n",
    "sys.path.append(\"..\")\n",
    "\n",
    "import random\n",
    "import math\n",
    "from io import BytesIO\n",
    "from pathlib import Path\n",
    "from collections import OrderedDict\n",
    "from typing import Optional, Callable, List, Tuple, Iterable, Generator, Union\n",
    "\n",
    "import PIL.Image\n",
    "import PIL.ImageDraw\n",
    "import plotly\n",
    "import plotly.express as px\n",
    "plotly.io.templates.default = \"plotly_dark\"\n",
    "\n",
    "import numpy as np\n",
    "import pandas as pd\n",
    "from tqdm import tqdm\n",
    "import torch\n",
    "import torch.nn as nn\n",
    "import torch.nn.functional as F\n",
    "from torch.utils.data import Dataset, DataLoader, TensorDataset, IterableDataset, RandomSampler\n",
    "import torchvision.transforms as VT\n",
    "import torchvision.transforms.functional as VF\n",
    "from torchvision.utils import make_grid\n",
    "from IPython.display import display\n",
    "\n",
    "from src.util.image import *\n",
    "from src.util import *\n",
    "from src.algo import *"
   ]
  },
  {
   "cell_type": "code",
   "execution_count": null,
   "id": "f59d71ea-be5c-4ee1-973c-65fcf0e8108c",
   "metadata": {},
   "outputs": [],
   "source": [
    "#def plot_state(state: torch.Tensor):\n",
    "#    if state.shape[-1] >= 256:\n",
    "#        image = state.view(1, *state.shape)\n",
    "#    else:\n"
   ]
  },
  {
   "cell_type": "code",
   "execution_count": null,
   "id": "a9f88c00-d009-4beb-a2ed-0cbeafee2f26",
   "metadata": {},
   "outputs": [],
   "source": [
    "#state = torch.Tensor([[1, 2, 3]])\n",
    "#torch.concat([state[:, -1:], state, state[:, :1]], dim=-1)\n",
    "2 ** 5"
   ]
  },
  {
   "cell_type": "code",
   "execution_count": null,
   "id": "d0c919be-979e-4ba8-ae49-6a916864bdf3",
   "metadata": {},
   "outputs": [],
   "source": []
  },
  {
   "cell_type": "code",
   "execution_count": null,
   "id": "407e875e-559f-4225-a0bb-7ba81b19f734",
   "metadata": {},
   "outputs": [],
   "source": [
    "def ca_expand(\n",
    "        input: torch.Tensor,\n",
    "        kernel: torch.Tensor,\n",
    "        iterations: int = 100,\n",
    "        num_states: int = 2,\n",
    "):\n",
    "    kernel = kernel.view(1, 1, kernel.shape[-1])\n",
    "    state = input.view(1, input.shape[-1])\n",
    "    history = [state]\n",
    "    for it in range(iterations):\n",
    "        \n",
    "        state = F.conv1d(state, kernel, padding=kernel.shape[-1] // 2) % num_states\n",
    "        history.append(state)\n",
    "    return torch.concat(history)\n",
    "        \n",
    "input = torch.zeros(257, dtype=torch.uint8)\n",
    "input[128] = 1\n",
    "#input[139] = 1\n",
    "kernel = torch.Tensor([2, 4, 1]).to(torch.uint8)\n",
    "state = ca_expand(input, kernel, num_states=5, iterations=1000)\n",
    "px.imshow(state > 0, height=state.shape[0] * 3 + 50)"
   ]
  },
  {
   "cell_type": "code",
   "execution_count": null,
   "id": "8bd2900d-bb25-4b4f-a2db-d8b5130e6d8e",
   "metadata": {},
   "outputs": [],
   "source": [
    "def plot_rules(num_states: int = 2, num_n: int = 1):\n",
    "    kernel_size = 1 + num_n * 2\n",
    "    kernels = set()\n",
    "    states = []\n",
    "    labels = []\n",
    "    for i in range(num_states ** kernel_size):\n",
    "        kernel = []\n",
    "        for k in range(kernel_size):\n",
    "            kernel.append((i // (num_states ** k)) % num_states) \n",
    "\n",
    "        input = torch.zeros(257, dtype=torch.uint8)\n",
    "        input[128] = 1\n",
    "        #input[139] = 1\n",
    "        kernel = torch.Tensor(kernel).to(torch.uint8)\n",
    "        state = ca_expand(input, kernel, num_states=num_states, iterations=256)\n",
    "        states.append(state.unsqueeze(0) * 255 // (num_states - 1))\n",
    "        labels.append(str(kernel.tolist()))\n",
    "        \n",
    "    display(VF.to_pil_image(\n",
    "        make_grid_labeled(states, nrow=4, labels=labels)\n",
    "    ))\n",
    "\n",
    "plot_rules(num_states=2, num_n=1)"
   ]
  },
  {
   "cell_type": "code",
   "execution_count": null,
   "id": "10d6b618-69c6-4861-8c82-cb1edccf41ac",
   "metadata": {},
   "outputs": [],
   "source": [
    "for i in range(1, 10):\n",
    "    state = torch.ones(i)\n",
    "    s = state.shape[-1]\n",
    "    print(i, (3 - (s - (s // 3) * 3)) % 3)\n",
    "    #state2 = F.pad(state, (1, (s - (s // 3) * 3)))\n",
    "    #print(state.shape, state2.shape)"
   ]
  },
  {
   "cell_type": "code",
   "execution_count": null,
   "id": "09ca7d6b-cf48-4278-baf7-078cd1264fc9",
   "metadata": {},
   "outputs": [],
   "source": [
    "state = torch.linspace(1, 11, 11, dtype=torch.uint8)\n",
    "l = (state.shape[-1] // 3 + 1) * 3\n",
    "print(l)\n",
    "state = F.pad(state, (1, 1 + (state.shape[-1]) % 3))\n",
    "print(state)\n",
    "for k in range(3):\n",
    "#    if k == 0:        \n",
    "#    else:\n",
    "#        pad = (0, (state.shape[-1]+k-1) % 3)\n",
    "    s = state[k:l+k].view(-1, 3)\n",
    "    print(s)\n",
    "    s = s * torch.Tensor([2 ** n for n in range(3)]).view(1, -1)#.expand(s.shape[-2], -1)\n",
    "    print(s.sum(dim=-1))"
   ]
  },
  {
   "cell_type": "code",
   "execution_count": null,
   "id": "10a87c57-e7a6-4566-9d10-57d4fba3e96c",
   "metadata": {},
   "outputs": [],
   "source": [
    "def ca_expand2(\n",
    "        input: torch.Tensor,\n",
    "        rule: int = 90,\n",
    "        iterations: int = 100,\n",
    "        num_states: int = 2,\n",
    "        num_n: int = 1,\n",
    "        dtype: torch.dtype = torch.uint8,\n",
    "):\n",
    "    num_n2 = 1 + num_n * 2\n",
    "    lookup = []\n",
    "    for k in range(num_states ** num_n2):\n",
    "        lookup.append((rule // (num_states ** k) % num_states))\n",
    "    lookup = torch.Tensor(lookup).to(dtype)\n",
    "\n",
    "    state = input.unsqueeze(0)\n",
    "    history = [state]\n",
    "    for it in range(iterations):\n",
    "        #print(state.shape)\n",
    "        index = torch.empty(state.shape[-1] + num_n*2, dtype=torch.int64)\n",
    "        state2 = F.pad(state, (num_n, (state.shape[-1] + num_n + 1) % num_n2))\n",
    "            \n",
    "        for k in range(num_n2):\n",
    "            #state2 = F.pad(state, (num_n, num_n + (1 + k) % num_n2))\n",
    "            # print(state.shape, state2.shape)\n",
    "            index2 = torch.concat([\n",
    "                state2[:, n+k::num_n2] * (num_states ** n)\n",
    "                for n in range(num_n2)\n",
    "            ]).sum(dim=0)\n",
    "            # print(index2)\n",
    "            index[k::num_n2] = index2\n",
    "        # print(lookup.shape, index.shape)\n",
    "        state = torch.index_select(lookup, 0, index)\n",
    "        state = state[:-2].unsqueeze(0)\n",
    "        #print(state)\n",
    "        history.append(state)\n",
    "    return torch.concat(history)\n",
    "        \n",
    "input = torch.zeros(33*5, dtype=torch.uint8)\n",
    "#input = torch.randint(0, 2, (33,)) \n",
    "input[input.shape[-1] // 2] = 1\n",
    "input[-10] = 1\n",
    "state = ca_expand2(input, iterations=400, rule=30)\n",
    "px.imshow(state, height=state.shape[0] * 3 + 50)\n"
   ]
  },
  {
   "cell_type": "code",
   "execution_count": null,
   "id": "493569d1-7587-4b9e-8091-e8c7759e8d3f",
   "metadata": {},
   "outputs": [],
   "source": [
    "246 / 3"
   ]
  },
  {
   "cell_type": "code",
   "execution_count": null,
   "id": "0aa172f8-17ea-4504-812f-c0268961da36",
   "metadata": {},
   "outputs": [],
   "source": [
    "def plot_rules2(num_states: int = 2, num_n: int = 1):\n",
    "    kernel_size = 1 + num_n * 2\n",
    "    states = []\n",
    "    labels = []\n",
    "    for i in range(num_states ** num_states ** kernel_size):\n",
    "        input = torch.zeros(252, dtype=torch.uint8)\n",
    "        input[input.shape[-1] // 2] = 1\n",
    "        state = ca_expand2(input, rule=i, num_states=num_states, iterations=128)\n",
    "        states.append(state.unsqueeze(0) * 255 // (num_states - 1))\n",
    "        labels.append(str(i))\n",
    "        \n",
    "    display(VF.to_pil_image(\n",
    "        make_grid_labeled(states, nrow=4, labels=labels)\n",
    "    ))\n",
    "\n",
    "plot_rules2(num_states=2, num_n=1)"
   ]
  },
  {
   "cell_type": "markdown",
   "id": "7b903c4c-696d-460f-909c-3cb851b34f9e",
   "metadata": {},
   "source": [
    "# use as \"reservoir\""
   ]
  },
  {
   "cell_type": "code",
   "execution_count": null,
   "id": "d8d58a78-3e06-48b1-8cee-c72a482737a6",
   "metadata": {},
   "outputs": [],
   "source": [
    "SIZE = 9\n",
    "data = torch.zeros((2**SIZE, SIZE), dtype=torch.uint8)\n",
    "for i in range(data.shape[0]):\n",
    "    for k in range(data.shape[1]):\n",
    "        data[i, k] = (i >> k) & 1\n",
    "\n",
    "test_indices = torch.randperm(data.shape[0])[:100]\n",
    "train_indices = torch.Tensor(sorted(set(range(data.shape[0])) - set(test_indices.tolist()))).to(torch.int64)\n",
    "data_train = data[train_indices]\n",
    "data_test = data[test_indices]\n",
    "data_train.shape, data_test.shape"
   ]
  },
  {
   "cell_type": "code",
   "execution_count": null,
   "id": "da7acc8c-21d3-40cd-98e3-ed94bba7fd59",
   "metadata": {},
   "outputs": [],
   "source": [
    "states = []\n",
    "for i, row in tqdm(enumerate(data)):\n",
    "    input = torch.zeros(33 * 5, dtype=torch.uint8)\n",
    "    x = (input.shape[0] - row.shape[0]) // 2\n",
    "    input[x: x + row.shape[0]] = row\n",
    "    state = ca_expand2(input, rule=30, iterations=100)\n",
    "    states.append(state[90:].flatten(0).unsqueeze(0))\n",
    "states = torch.concat(states)\n",
    "states_train, states_test = states[train_indices], states[test_indices]\n",
    "states.shape"
   ]
  },
  {
   "cell_type": "code",
   "execution_count": null,
   "id": "cddf7d2a-6519-4c28-b7fa-dccbb974fe20",
   "metadata": {},
   "outputs": [],
   "source": [
    "from sklearn.linear_model import Ridge\n",
    "ridge = Ridge()\n",
    "ridge.fit(states_train, data_train)\n",
    "for kind, states_, data_ in (\n",
    "        (\"train\", states_train, data_train), \n",
    "        (\"test\", states_test, data_test),\n",
    "):\n",
    "    output = (ridge.predict(states_) >= .5).astype(np.float32)\n",
    "    num_correct = np.sum(np.sum(output == np.array(data_), axis=-1) == data_.shape[-1])\n",
    "    print(f\"correct {kind:5}: {num_correct} / {data_.shape[0]}\")"
   ]
  },
  {
   "cell_type": "code",
   "execution_count": null,
   "id": "1abc88c3-2d25-46c8-8701-2a6fe74f6b55",
   "metadata": {},
   "outputs": [],
   "source": []
  },
  {
   "cell_type": "code",
   "execution_count": null,
   "id": "fd67d179-515f-4889-876a-cd0c216995ed",
   "metadata": {},
   "outputs": [],
   "source": []
  }
 ],
 "metadata": {
  "kernelspec": {
   "display_name": "Python 3 (ipykernel)",
   "language": "python",
   "name": "python3"
  },
  "language_info": {
   "codemirror_mode": {
    "name": "ipython",
    "version": 3
   },
   "file_extension": ".py",
   "mimetype": "text/x-python",
   "name": "python",
   "nbconvert_exporter": "python",
   "pygments_lexer": "ipython3",
   "version": "3.12.3"
  }
 },
 "nbformat": 4,
 "nbformat_minor": 5
}
