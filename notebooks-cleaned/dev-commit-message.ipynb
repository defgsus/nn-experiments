{
 "cells": [
  {
   "cell_type": "code",
   "execution_count": null,
   "id": "340baff0-02e2-442a-b88f-a3feedb11f6f",
   "metadata": {
    "tags": []
   },
   "outputs": [],
   "source": [
    "import sys\n",
    "sys.path.append(\"..\")\n",
    "\n",
    "import datetime\n",
    "import random\n",
    "import math\n",
    "import time\n",
    "import json\n",
    "from io import BytesIO\n",
    "from pathlib import Path\n",
    "from collections import OrderedDict\n",
    "from typing import Optional, Callable, List, Tuple, Iterable, Generator, Union, Dict\n",
    "\n",
    "import PIL.Image\n",
    "import PIL.ImageDraw\n",
    "\n",
    "from tqdm import tqdm\n",
    "import torch\n",
    "import torch.nn as nn\n",
    "import torch.nn.functional as F\n",
    "from torch.utils.data import Dataset, DataLoader, TensorDataset, IterableDataset\n",
    "import torchvision.transforms as VT\n",
    "import torchvision.transforms.functional as VF\n",
    "from torchvision.utils import make_grid\n",
    "from IPython.display import display\n",
    "import plotly\n",
    "plotly.io.templates.default = \"plotly_dark\"\n",
    "import plotly.express as px\n",
    "\n",
    "from src.datasets import *\n",
    "from src.util.image import *\n",
    "from src.util import *\n",
    "from src.util.files import *\n",
    "from src.util.embedding import *\n",
    "from src.algo import *\n",
    "from src.models.encoder import *\n",
    "from src.models.decoder import *\n",
    "from src.models.util import *"
   ]
  },
  {
   "cell_type": "code",
   "execution_count": null,
   "id": "1627b842-b6c1-43ba-b6da-dc5c9495fc4f",
   "metadata": {
    "tags": []
   },
   "outputs": [],
   "source": [
    "from src.util.gharchive import GHArchive\n",
    "gharchive = GHArchive(verbose=True)"
   ]
  },
  {
   "cell_type": "code",
   "execution_count": null,
   "id": "eea263ca-1b80-407a-8de0-66045b3ce532",
   "metadata": {
    "tags": []
   },
   "outputs": [],
   "source": [
    "def iter_commits(\n",
    "    start_date: datetime.date = datetime.date(2023, 11, 20),\n",
    "    days: int = 7,\n",
    "    message_buffer_size: int = 1_000_000,\n",
    "):\n",
    "    gharchive = GHArchive(verbose=False)\n",
    "    \n",
    "    iterables = [\n",
    "        gharchive.iter_events(\n",
    "            day=start_date + datetime.timedelta(i), \n",
    "            event_type=\"PushEvent\",\n",
    "        )\n",
    "        for i in range(days)\n",
    "    ]\n",
    "    iterable = itertools.chain(*iterables)\n",
    "\n",
    "    message_dict = {}\n",
    "    num_skipped = 0\n",
    "    num_yielded = 0\n",
    "    \n",
    "    with tqdm() as progress:\n",
    "        for event in iterable:\n",
    "            #print(json.dumps(event, indent=2))\n",
    "            data = {\n",
    "                \"repo\": event[\"repo\"][\"name\"],\n",
    "                \"date\": event[\"created_at\"],\n",
    "            }\n",
    "            for commit in event[\"payload\"][\"commits\"]:\n",
    "                message = commit[\"message\"]\n",
    "                if message in message_dict:\n",
    "                    num_skipped += 1\n",
    "                    continue\n",
    "\n",
    "                message_dict[message] = num_yielded\n",
    "\n",
    "                yield {\n",
    "                    **data,\n",
    "                    \"sha\": commit[\"sha\"],\n",
    "                    \"message\": commit[\"message\"],\n",
    "                }\n",
    "                num_yielded += 1\n",
    "        \n",
    "            progress.update(1)\n",
    "            progress.desc = (\n",
    "                f\"messages/skips {num_yielded:,}/{num_skipped:,}\"\n",
    "                f\", buffer-size {len(message_dict):,}\"\n",
    "                f\", date={data['date']}\"\n",
    "            )\n",
    "            \n",
    "            if len(message_dict) >= message_buffer_size:\n",
    "                median = sorted(message_dict.values())\n",
    "                # print(\"min/median/max\", median[0], median[len(median) // 2], median[-1])\n",
    "                median = median[len(median) // 2]\n",
    "                \n",
    "                message_dict = {\n",
    "                    msg: step\n",
    "                    for msg, step in message_dict.items()\n",
    "                    if step <= median\n",
    "                }\n",
    "                # print(\"reduced buffer to\", len(message_dict))\n",
    "                \n",
    "            \n",
    "for c in iter_commits():\n",
    "    pass"
   ]
  },
  {
   "cell_type": "code",
   "execution_count": null,
   "id": "966e56e3-cb96-4b11-930d-18c725cc022c",
   "metadata": {
    "tags": []
   },
   "outputs": [],
   "source": [
    "import gzip\n",
    "\n",
    "def write_messages(\n",
    "    filename\n",
    "):\n",
    "    with gzip.open(filename, \"wt\") as fp:\n",
    "        try:\n",
    "            for commit in iter_commits():\n",
    "                fp.write(json.dumps(commit, separators=(',', ':')) + \"\\n\")\n",
    "        \n",
    "        except KeyboardInterrupt:\n",
    "            pass\n",
    "\n",
    "write_messages(Path(\"~/prog/data/gharchive/commits.ndjson.gz\").expanduser())\n"
   ]
  },
  {
   "cell_type": "code",
   "execution_count": null,
   "id": "e0b7d156-104e-4d87-bfff-73e74b85f0d4",
   "metadata": {
    "tags": []
   },
   "outputs": [],
   "source": [
    "1_700_000 * 512 // 1024 // 1024"
   ]
  },
  {
   "cell_type": "code",
   "execution_count": null,
   "id": "6c7d02fe-9e12-46c9-870f-11220f746ea1",
   "metadata": {
    "tags": []
   },
   "outputs": [],
   "source": [
    "from src.models.clip import ClipSingleton\n",
    "ClipSingleton.encode_text?"
   ]
  },
  {
   "cell_type": "code",
   "execution_count": null,
   "id": "49fce231-3846-4827-a86b-3634b138ac97",
   "metadata": {
    "tags": []
   },
   "outputs": [],
   "source": [
    "text_batch = []\n",
    "encodings = []\n",
    "texts = []\n",
    "try:\n",
    "    for commit in tqdm(iter_ndjson(Path(\"~/prog/data/gharchive/commits.ndjson.gz\").expanduser()), total=3_500_000):\n",
    "        text_batch.append(commit[\"message\"])\n",
    "        if len(text_batch) >= 128:\n",
    "            encodings.append(\n",
    "                normalize_embedding(\n",
    "                    ClipSingleton.encode_text(text_batch, truncate=True)\n",
    "                ).cpu().float()\n",
    "            )\n",
    "            texts.extend(text_batch)\n",
    "            text_batch.clear()\n",
    "except KeyboardInterrupt:\n",
    "    pass\n",
    "\n",
    "encodings = torch.concat(encodings)\n",
    "encodings.shape"
   ]
  },
  {
   "cell_type": "code",
   "execution_count": null,
   "id": "6e5dbdf4-d725-4e2e-970d-f05a14b41108",
   "metadata": {
    "tags": []
   },
   "outputs": [],
   "source": []
  },
  {
   "cell_type": "code",
   "execution_count": null,
   "id": "dc0dd177-5c77-4d64-954d-167023d1b6e5",
   "metadata": {
    "tags": []
   },
   "outputs": [],
   "source": [
    "sim = encodings @ encodings.T"
   ]
  },
  {
   "cell_type": "code",
   "execution_count": null,
   "id": "38479f58-c472-4fe9-a324-ac8af543132a",
   "metadata": {
    "tags": []
   },
   "outputs": [],
   "source": [
    "px.imshow(sim[:100, :100], height=700)"
   ]
  },
  {
   "cell_type": "code",
   "execution_count": null,
   "id": "c5db1cf9-8ac2-4d37-9392-5c9e83b499ae",
   "metadata": {
    "tags": []
   },
   "outputs": [],
   "source": [
    "matching_indices = sim.argsort(dim=-1, descending=True)\n",
    "for row in matching_indices[:10]:\n",
    "    print()\n",
    "    print(repr(texts[row[0]]))\n",
    "    for idx in row[1:10]:\n",
    "        print(\"  \", repr(texts[idx]))"
   ]
  },
  {
   "cell_type": "code",
   "execution_count": null,
   "id": "b54ad98b-2719-4085-9aa6-def00f4d0839",
   "metadata": {},
   "outputs": [],
   "source": []
  },
  {
   "cell_type": "code",
   "execution_count": null,
   "id": "2316ecd8-b1e3-41f0-82b1-66bf9e81f535",
   "metadata": {
    "tags": []
   },
   "outputs": [],
   "source": [
    "@torch.no_grad()\n",
    "def find_messages(text: str, count: int = 20):\n",
    "    embedding = normalize_embedding(ClipSingleton.encode_text(text, truncate=True)).cpu().float()\n",
    "    sim = embedding @ encodings.T\n",
    "    best_indices = sim.argsort(dim=-1, descending=True)\n",
    "    print(repr(text))\n",
    "    for idx in best_indices[0, :count]:\n",
    "        print(f\"   {sim[0, idx]:.3f}\", repr(texts[idx]))\n",
    "    \n",
    "find_messages(\"tiredness\")"
   ]
  },
  {
   "cell_type": "code",
   "execution_count": null,
   "id": "8e7e6367-9437-4c8b-84da-8827c5329a00",
   "metadata": {},
   "outputs": [],
   "source": []
  },
  {
   "cell_type": "code",
   "execution_count": null,
   "id": "9e87c984-a223-4178-8d1e-3a1d5eddd877",
   "metadata": {},
   "outputs": [],
   "source": []
  },
  {
   "cell_type": "code",
   "execution_count": null,
   "id": "1b292f12-eb37-49ac-a10a-842d59f13023",
   "metadata": {
    "tags": []
   },
   "outputs": [],
   "source": [
    "texts[:10]"
   ]
  },
  {
   "cell_type": "code",
   "execution_count": null,
   "id": "9744e37b-fb15-45ce-a0d9-c43999266d0b",
   "metadata": {},
   "outputs": [],
   "source": []
  },
  {
   "cell_type": "code",
   "execution_count": null,
   "id": "7477f3ed-5c0f-4053-9cca-37d4701d809f",
   "metadata": {},
   "outputs": [],
   "source": []
  },
  {
   "cell_type": "code",
   "execution_count": null,
   "id": "27d10432-adff-42d4-82c7-f8e39fca62fe",
   "metadata": {},
   "outputs": [],
   "source": []
  },
  {
   "cell_type": "code",
   "execution_count": null,
   "id": "d5e2c59d-5082-4b60-8182-914e5b1595b1",
   "metadata": {},
   "outputs": [],
   "source": []
  },
  {
   "cell_type": "code",
   "execution_count": null,
   "id": "74a7297b-6288-493a-8d55-44db032b7fc6",
   "metadata": {},
   "outputs": [],
   "source": []
  },
  {
   "cell_type": "code",
   "execution_count": null,
   "id": "9564d7ae-ad4b-4d0c-b99f-f02701547b99",
   "metadata": {
    "tags": []
   },
   "outputs": [],
   "source": [
    "s = \"⚡ 优化功能选项信息\"\n",
    "[hex(ord(c)) for c in s]"
   ]
  },
  {
   "cell_type": "code",
   "execution_count": null,
   "id": "38d54a25-3e05-4284-938e-f4bf38087792",
   "metadata": {
    "tags": []
   },
   "outputs": [],
   "source": []
  },
  {
   "cell_type": "code",
   "execution_count": null,
   "id": "cc6e2725-61f6-40c0-aee9-c4edef56859c",
   "metadata": {},
   "outputs": [],
   "source": []
  },
  {
   "cell_type": "code",
   "execution_count": null,
   "id": "76c1ed4e-54eb-48e0-bf70-1684fb425f96",
   "metadata": {
    "tags": []
   },
   "outputs": [],
   "source": [
    "from scripts.github_commits import load_data\n",
    "commits, embeddings = load_data(\n",
    "    Path(\"~/prog/data/gharchive\").expanduser(), datetime.date(2023, 11, 20), 100, \"thenlper/gte-small\",\n",
    ")\n",
    "embeddings.shape"
   ]
  },
  {
   "cell_type": "code",
   "execution_count": null,
   "id": "52d775a8-9863-4ed7-acfb-def95fff37d8",
   "metadata": {
    "tags": []
   },
   "outputs": [],
   "source": [
    "limit = 5000\n",
    "\n",
    "from sklearn.manifold import TSNE\n",
    "reducer = TSNE(2, verbose=1, perplexity=20)\n",
    "positions = reducer.fit_transform(embeddings[:limit])\n",
    "\n",
    "px.scatter(x=positions[:limit, 0], y=positions[:limit, 1], height=1000)"
   ]
  },
  {
   "cell_type": "code",
   "execution_count": null,
   "id": "901afdc9-09ac-4136-a662-7d6edc5487ab",
   "metadata": {
    "tags": []
   },
   "outputs": [],
   "source": [
    "from sklearn.cluster import KMeans\n",
    "clusterer = KMeans(50, n_init=\"auto\")\n",
    "labels = clusterer.fit_predict(embeddings[:limit])"
   ]
  },
  {
   "cell_type": "code",
   "execution_count": null,
   "id": "de7b0317-2b5c-4038-a418-bec5b048f65d",
   "metadata": {
    "tags": []
   },
   "outputs": [],
   "source": [
    "px.scatter(\n",
    "    x=positions[:limit, 0], y=positions[:limit, 1], height=1000, \n",
    "    #color=[min(1000, len(c[\"message\"])) for c in commits[:limit]]\n",
    "    hover_data={\"repo\": [c[\"repo\"] for c in commits[:limit]]},\n",
    "    color=[str(c) for c in labels],\n",
    "    #color_continuous_scale=\"rainbow\",\n",
    ")"
   ]
  },
  {
   "cell_type": "code",
   "execution_count": null,
   "id": "2b22c0cb-88bf-4875-994c-709ce14bff8e",
   "metadata": {
    "tags": []
   },
   "outputs": [],
   "source": [
    "px.scatter?"
   ]
  },
  {
   "cell_type": "code",
   "execution_count": null,
   "id": "3f48ae4f-9014-484d-bf6f-7e68c5e7a60d",
   "metadata": {},
   "outputs": [],
   "source": []
  }
 ],
 "metadata": {
  "kernelspec": {
   "display_name": "Python 3 (ipykernel)",
   "language": "python",
   "name": "python3"
  },
  "language_info": {
   "codemirror_mode": {
    "name": "ipython",
    "version": 3
   },
   "file_extension": ".py",
   "mimetype": "text/x-python",
   "name": "python",
   "nbconvert_exporter": "python",
   "pygments_lexer": "ipython3",
   "version": "3.8.0"
  }
 },
 "nbformat": 4,
 "nbformat_minor": 5
}
