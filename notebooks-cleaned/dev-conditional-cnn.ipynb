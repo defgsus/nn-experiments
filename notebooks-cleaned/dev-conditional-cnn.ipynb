{
 "cells": [
  {
   "cell_type": "code",
   "execution_count": null,
   "id": "58d8572c-3080-4d54-9e29-77e798534e28",
   "metadata": {},
   "outputs": [],
   "source": [
    "from init_notebook import *"
   ]
  },
  {
   "cell_type": "code",
   "execution_count": null,
   "id": "67ee67d2-4429-4bd5-893c-46acfe4b8d9c",
   "metadata": {},
   "outputs": [],
   "source": [
    "bs = 2\n",
    "shape = (32, 24)\n",
    "feature = torch.rand(bs, 4)\n",
    "grid_x, grid_y = torch.meshgrid(torch.linspace(1, 2, 10), torch.linspace(1, 2, 10), indexing=\"xy\")\n",
    "grid_x"
   ]
  },
  {
   "cell_type": "code",
   "execution_count": null,
   "id": "bf1d4251-2bb7-4ac4-9d3e-8608069433a3",
   "metadata": {},
   "outputs": [],
   "source": [
    "torch.meshgrid?"
   ]
  },
  {
   "cell_type": "code",
   "execution_count": null,
   "id": "93ea3a93-a9cd-4f6a-a26d-5456b44f82b0",
   "metadata": {},
   "outputs": [],
   "source": [
    "class ConvLayer(nn.Module):\n",
    "\n",
    "    def __init__(\n",
    "            self,\n",
    "            in_channels: int,\n",
    "            out_channels: int,\n",
    "            kernel_size: int,\n",
    "            condition_size: int,\n",
    "            stride: int = 1,\n",
    "            padding: int = 0,\n",
    "            groups: int = 1,\n",
    "            batch_norm: bool = True,\n",
    "            batch_norm_pos: int = 0,\n",
    "            activation: Union[None, str, Callable] = \"gelu\",\n",
    "            padding_mode: str = \"zeros\",\n",
    "            transposed: bool = False,\n",
    "    ):\n",
    "        super().__init__()\n",
    "        self._batch_norm_pos = batch_norm_pos\n",
    "        self._condition_size = condition_size\n",
    "\n",
    "        if batch_norm and batch_norm_pos == 0:\n",
    "            self.bn = nn.BatchNorm2d(in_channels)\n",
    "\n",
    "        self.conv = (nn.ConvTranspose2d if transposed else nn.Conv2d)(\n",
    "            in_channels=in_channels + self._condition_size,\n",
    "            out_channels=out_channels,\n",
    "            kernel_size=kernel_size,\n",
    "            stride=stride,\n",
    "            padding=padding,\n",
    "            padding_mode=padding_mode,\n",
    "            groups=groups,\n",
    "        )\n",
    "\n",
    "        if batch_norm and batch_norm_pos == 1:\n",
    "            self.bn = nn.BatchNorm2d(out_channels)\n",
    "\n",
    "        self.act = activation_to_module(activation)\n",
    "\n",
    "        if batch_norm and batch_norm_pos == 2:\n",
    "            self.bn = nn.BatchNorm2d(out_channels)\n",
    "\n",
    "    def forward(\n",
    "            self,\n",
    "            x: torch.Tensor,\n",
    "            condition: Optional[torch.Tensor] = None,\n",
    "            output_size: Union[None, Tuple[int, int]] = None,\n",
    "    ) -> torch.Tensor:\n",
    "        if self._batch_norm_pos == 0 and hasattr(self, \"bn\"):\n",
    "            x = self.bn(x)\n",
    "\n",
    "        B, C, H, W = x.shape\n",
    "        if condition is None:\n",
    "            condition_map = torch.zeros(B, self._condition_size, H, W)\n",
    "        else:\n",
    "            # B, C -> B, C, H, W \n",
    "            condition_map = condition[:, :, None, None].expand(-1, -1, H, W)\n",
    "            \n",
    "        x = torch.concat([x, condition_map.to(x)], dim=-3)\n",
    "        \n",
    "        x = self.conv(x)\n",
    "\n",
    "        if output_size is not None and tuple(x.shape[-2:]) != output_size:\n",
    "            x = F.pad(x, (0, output_size[-1] - x.shape[-1], 0, output_size[-2] - x.shape[-2]))\n",
    "\n",
    "        if self._batch_norm_pos == 1 and hasattr(self, \"bn\"):\n",
    "            x = self.bn(x)\n",
    "\n",
    "        if self.act:\n",
    "            x = self.act(x)\n",
    "\n",
    "        if self._batch_norm_pos == 2 and hasattr(self, \"bn\"):\n",
    "            x = self.bn(x)\n",
    "\n",
    "        return x\n",
    "\n",
    "layer = ConditionalConvLayer(3, 3, 3, 5).eval()\n",
    "output = layer(torch.zeros(2, 3, 10, 10), torch.randn(2, 5))\n",
    "print(output.shape)\n",
    "VF.to_pil_image(make_grid(output))"
   ]
  }
 ],
 "metadata": {
  "kernelspec": {
   "display_name": "Python 3 (ipykernel)",
   "language": "python",
   "name": "python3"
  },
  "language_info": {
   "codemirror_mode": {
    "name": "ipython",
    "version": 3
   },
   "file_extension": ".py",
   "mimetype": "text/x-python",
   "name": "python",
   "nbconvert_exporter": "python",
   "pygments_lexer": "ipython3",
   "version": "3.8.0"
  }
 },
 "nbformat": 4,
 "nbformat_minor": 5
}
