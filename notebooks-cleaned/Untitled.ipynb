{
 "cells": [
  {
   "cell_type": "code",
   "execution_count": null,
   "id": "7a5ee405-9fb7-4555-8f2e-bbe38bccf1b8",
   "metadata": {
    "tags": []
   },
   "outputs": [],
   "source": [
    "import torch\n",
    "import torch.nn as nn\n",
    "import torch.nn.functional as F\n",
    "import plotly\n",
    "import plotly.express as px\n",
    "#plotly.options.templates.default = \"plotly_dark\""
   ]
  },
  {
   "cell_type": "code",
   "execution_count": null,
   "id": "0ed16cdd-011b-4f8a-9edf-95aba0a2f8bd",
   "metadata": {
    "tags": []
   },
   "outputs": [],
   "source": [
    "x = torch.randint(0, 9, (3, 3))\n",
    "x"
   ]
  },
  {
   "cell_type": "code",
   "execution_count": null,
   "id": "9ad61e6c-00b6-4a3f-b66e-563f1cf481a4",
   "metadata": {
    "tags": []
   },
   "outputs": [],
   "source": [
    "1. - torch.diagflat(torch.Tensor([1,1,1]))"
   ]
  },
  {
   "cell_type": "code",
   "execution_count": null,
   "id": "2ffe98ab-9e0e-4c4d-932b-9831879eb5c8",
   "metadata": {},
   "outputs": [],
   "source": [
    "nn.Conv2d\n",
    "F.conv2d\n",
    "F.pad\n",
    "t = (torch.rand(1, 3, 3) * 10).round()"
   ]
  },
  {
   "cell_type": "code",
   "execution_count": null,
   "id": "061774bf-7933-4069-af0b-801df4c11329",
   "metadata": {
    "tags": []
   },
   "outputs": [],
   "source": [
    "p = F.pad(t, (1, 1), mode=\"circular\")\n",
    "F.pad(p.permute(0, 2, 1), (1, 1), mode=\"circular\").permute(0, 2, 1)"
   ]
  },
  {
   "cell_type": "code",
   "execution_count": null,
   "id": "6ebc6bb3-c189-449e-a116-7c195640e5be",
   "metadata": {
    "tags": []
   },
   "outputs": [],
   "source": [
    "x = torch.rand(10)\n",
    "x"
   ]
  },
  {
   "cell_type": "code",
   "execution_count": null,
   "id": "050b9047-44d0-4a78-8201-0a69c1826449",
   "metadata": {
    "tags": []
   },
   "outputs": [],
   "source": [
    "x > .5"
   ]
  },
  {
   "cell_type": "code",
   "execution_count": null,
   "id": "cc458b62-6fcb-4f12-8ccb-6e1789207d1b",
   "metadata": {
    "tags": []
   },
   "outputs": [],
   "source": [
    "torch.where(x >= .5, 1, 0)"
   ]
  },
  {
   "cell_type": "code",
   "execution_count": null,
   "id": "979cb5fe-7ce1-4068-a446-bbf5e2c7b06d",
   "metadata": {
    "tags": []
   },
   "outputs": [],
   "source": [
    "y = torch.sigmoid((x - .5) * 10000)\n",
    "y"
   ]
  },
  {
   "cell_type": "code",
   "execution_count": null,
   "id": "7f2b9722-a6be-4a44-8d31-1cc31fb7da03",
   "metadata": {
    "tags": []
   },
   "outputs": [],
   "source": [
    "y1 = y.repeat(10, 1)\n",
    "y1 * y1.T"
   ]
  },
  {
   "cell_type": "code",
   "execution_count": null,
   "id": "5f1629a3-b801-4db2-9bd1-202356ae8a5f",
   "metadata": {},
   "outputs": [],
   "source": []
  },
  {
   "cell_type": "code",
   "execution_count": null,
   "id": "c75daf90-e969-4fb6-8fca-f32cfc90f441",
   "metadata": {
    "tags": []
   },
   "outputs": [],
   "source": [
    "x_sim = torch.Tensor([\n",
    "    [1, 2, 3, 4],\n",
    "    [0, 2, 3, 4],\n",
    "    [1, 2, 0, 0],\n",
    "    [1, 2, 0, 0],\n",
    "    [1, 2, 0, 0],\n",
    "    [1, 2, 0, 0],\n",
    "])\n",
    "x_dif = torch.Tensor([\n",
    "    [1, 2, 3, 4],\n",
    "    [0, 2, 3, 4],\n",
    "    [1, 2, 0, 0],\n",
    "    [0, 2, 0, 4],\n",
    "    [1, 0, 3, 0],\n",
    "    [1, 0, 0, 4],\n",
    "])\n",
    "x_rnd = torch.randn(6, 4)\n",
    "x_rep = x_rnd.repeat(10, 1)\n",
    "x_map = {\"sim\": x_sim, \"dif\": x_dif, \"rnd\": x_rnd, \"rep\": x_rep}"
   ]
  },
  {
   "cell_type": "code",
   "execution_count": null,
   "id": "44fc7c4b-fb4e-4c89-b76d-063fb6c5645c",
   "metadata": {
    "tags": []
   },
   "outputs": [],
   "source": [
    "for key, X in x_map.items():\n",
    "    m = []\n",
    "    X_max = X.abs().max()\n",
    "    for i in range(1, min(10, X.shape[0])):\n",
    "        d = X[i:] - X[:-i]\n",
    "        #print(d)\n",
    "        d = d.abs() / X_max\n",
    "        m.append(d.mean().unsqueeze(0))\n",
    "    m = torch.cat(m)\n",
    "    print(key, m.mean() * m.min(), m)#.mean()"
   ]
  },
  {
   "cell_type": "code",
   "execution_count": null,
   "id": "a0e9733c-1b5e-45b8-bbfd-d336550671b9",
   "metadata": {
    "tags": []
   },
   "outputs": [],
   "source": [
    "f = torch.fft.rfft(x_rep).real#.std(dim=0).mean()\n",
    "px.line(x_rep)\n",
    "#torch.abs(torch.corrcoef(x_rnd))#.mean()"
   ]
  },
  {
   "cell_type": "code",
   "execution_count": null,
   "id": "2600777c-79e8-4d4f-889e-8fcf797b8c5e",
   "metadata": {
    "tags": []
   },
   "outputs": [],
   "source": [
    "torch.where(torch.corrcoef(x_rep).abs() > .7, 1., 0.).mean()"
   ]
  },
  {
   "cell_type": "code",
   "execution_count": null,
   "id": "03f1bd5e-b10e-42e9-bc46-5057df7e3cca",
   "metadata": {
    "tags": []
   },
   "outputs": [],
   "source": [
    "c = torch.corrcoef(x_sim)#.mean()#dim=1)\n",
    "print(c.mean())\n",
    "c#.mean()\n",
    "#torch.diagonal(c, offset=1)"
   ]
  },
  {
   "cell_type": "code",
   "execution_count": null,
   "id": "95ca6401-5298-4092-a7ae-6c3d81c2fb92",
   "metadata": {},
   "outputs": [],
   "source": [
    "\n"
   ]
  },
  {
   "cell_type": "code",
   "execution_count": null,
   "id": "6e242ebf-29b2-4f75-88f0-38308c33c3af",
   "metadata": {
    "tags": []
   },
   "outputs": [],
   "source": [
    "for key, X in x_map.items():\n",
    "    #e = torch.special.sinc kl_divergence(X[0], X[1])\n",
    "    #print(e)"
   ]
  },
  {
   "cell_type": "code",
   "execution_count": null,
   "id": "bebf83e2-4af6-4096-b606-dbe08bcbd6c5",
   "metadata": {},
   "outputs": [],
   "source": []
  },
  {
   "cell_type": "markdown",
   "id": "10aaa6f5-98cf-4da3-aaaf-8e243ca298c5",
   "metadata": {},
   "source": [
    "## 2d conv for ca"
   ]
  },
  {
   "cell_type": "code",
   "execution_count": null,
   "id": "b01df16e-9016-4bc8-8cd7-302f9d8b5357",
   "metadata": {
    "tags": []
   },
   "outputs": [],
   "source": [
    "kernel = torch.Tensor([[[\n",
    "    [1, 1, 1],\n",
    "    [1, 0, 1],\n",
    "    [1, 1, 1],\n",
    "]]]).to(torch.uint8)\n",
    "kernel.shape"
   ]
  },
  {
   "cell_type": "code",
   "execution_count": null,
   "id": "e0e833a8-a212-4760-9666-60814d93b8ae",
   "metadata": {
    "tags": []
   },
   "outputs": [],
   "source": [
    "state = (torch.rand(5, 5) + .5).to(torch.uint8)\n",
    "state"
   ]
  },
  {
   "cell_type": "code",
   "execution_count": null,
   "id": "31e4b183-90e9-4cbf-bb26-9e1524b008fd",
   "metadata": {
    "tags": []
   },
   "outputs": [],
   "source": [
    "F.conv2d(state.unsqueeze(0), kernel, padding=1)"
   ]
  },
  {
   "cell_type": "code",
   "execution_count": null,
   "id": "1cbf9c6e-1e73-4011-ad4d-c162cb4f9d70",
   "metadata": {
    "tags": []
   },
   "outputs": [],
   "source": []
  }
 ],
 "metadata": {
  "kernelspec": {
   "display_name": "Python 3 (ipykernel)",
   "language": "python",
   "name": "python3"
  },
  "language_info": {
   "codemirror_mode": {
    "name": "ipython",
    "version": 3
   },
   "file_extension": ".py",
   "mimetype": "text/x-python",
   "name": "python",
   "nbconvert_exporter": "python",
   "pygments_lexer": "ipython3",
   "version": "3.8.0"
  }
 },
 "nbformat": 4,
 "nbformat_minor": 5
}
