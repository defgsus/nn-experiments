{
 "cells": [
  {
   "cell_type": "code",
   "execution_count": null,
   "id": "1845bb39-6321-49fa-a467-da6a469f3ba2",
   "metadata": {
    "tags": []
   },
   "outputs": [],
   "source": [
    "import sys\n",
    "sys.path.append(\"..\")\n",
    "\n",
    "import random\n",
    "import math\n",
    "import itertools\n",
    "from copy import deepcopy\n",
    "from io import BytesIO\n",
    "from pathlib import Path\n",
    "from typing import Optional, Callable, List, Tuple, Iterable, Generator, Union, Dict\n",
    "\n",
    "import PIL.Image\n",
    "import PIL.ImageDraw\n",
    "import plotly\n",
    "import plotly.express as px\n",
    "import plotly.graph_objects as go\n",
    "plotly.io.templates.default = \"plotly_dark\"\n",
    "import numpy as np\n",
    "import pandas as pd\n",
    "pd.options.plotting.backend = \"plotly\"\n",
    "\n",
    "from tqdm import tqdm\n",
    "import torch\n",
    "import torch.nn as nn\n",
    "import torch.nn.functional as F\n",
    "from torch.utils.data import Dataset, DataLoader, TensorDataset, IterableDataset, RandomSampler\n",
    "import torchvision.transforms as VT\n",
    "import torchvision.transforms.functional as VF\n",
    "from torchvision.utils import make_grid\n",
    "from IPython.display import display, Audio\n",
    "import torchaudio\n",
    "from torchaudio.io import StreamReader\n",
    "\n",
    "from src.datasets import *\n",
    "from src.algo import GreedyLibrary\n",
    "from src.util.image import *\n",
    "from src.util import to_torch_device, iter_batches\n",
    "from src.patchdb import PatchDB, PatchDBIndex\n",
    "from src.models.encoder import *\n",
    "from src.util.audio import *\n",
    "from src.util.files import *\n",
    "from scripts.train_audio_predict import AudioPredictor"
   ]
  },
  {
   "cell_type": "code",
   "execution_count": null,
   "id": "af627096-742c-4224-aeac-c1c0cd026ddb",
   "metadata": {
    "tags": []
   },
   "outputs": [],
   "source": [
    "@torch.no_grad()\n",
    "def play(audio, shape=(200, 1024), normalize=False):\n",
    "    if normalize:\n",
    "        audio_max = audio.abs().max()\n",
    "        if audio_max:\n",
    "            audio = audio / audio_max\n",
    "    display(Audio(audio.clamp(-1, 1), rate=SAMPLERATE, normalize=False))\n",
    "    display(plot_audio(audio, shape))\n",
    "    \n",
    "def read_stream(stream, seconds: float = 3.):\n",
    "    chunks = []\n",
    "    max_samples = int(seconds * SAMPLERATE)\n",
    "    num_samples = 0\n",
    "    for chunk, in stream:\n",
    "        chunks.append(chunk.mean(-1))\n",
    "        num_samples += chunks[-1].shape[-1]\n",
    "        if num_samples >= max_samples:\n",
    "            break\n",
    "    return torch.concat(chunks)[:max_samples]"
   ]
  },
  {
   "cell_type": "markdown",
   "id": "8a55b404-9d7e-47f8-a675-e6263d2a2fb2",
   "metadata": {},
   "source": [
    "# load model"
   ]
  },
  {
   "cell_type": "code",
   "execution_count": null,
   "id": "1d53272a-de7c-47bd-9f84-4bcd20e2825c",
   "metadata": {
    "tags": []
   },
   "outputs": [],
   "source": [
    "SLICE_SIZE = 1024\n",
    "LATENT_SIZE = 128\n",
    "SAMPLERATE = 44100\n",
    "NUM_INPUT_SLICES = 8\n",
    "\n",
    "    \n",
    "model = AudioPredictor(\n",
    "        slice_size=SLICE_SIZE,\n",
    "        latent_dims=LATENT_SIZE,\n",
    "        num_input_slices=NUM_INPUT_SLICES,\n",
    "        encoder=EncoderConv1d.from_torch(f\"../models/encoder1d/conv-1x{SLICE_SIZE}-{LATENT_SIZE}.pt\"),\n",
    "        decoder=EncoderConv1d.from_torch(f\"../models/encoder1d/conv-1x{SLICE_SIZE}-{LATENT_SIZE}-decoder.pt\"),\n",
    "        #predictor=nn.Linear(LATENT_SIZE * NUM_INPUT_SLICES, LATENT_SIZE),\n",
    "        predictor=nn.Sequential(\n",
    "            nn.Linear(LATENT_SIZE * NUM_INPUT_SLICES, LATENT_SIZE * NUM_INPUT_SLICES),\n",
    "            nn.ReLU(),\n",
    "            nn.Linear(LATENT_SIZE * NUM_INPUT_SLICES, LATENT_SIZE),\n",
    "        )\n",
    "    )\n",
    "data = torch.load(\"../checkpoints/audio-pred-2/best.pt\")\n",
    "print(\"steps: {:,}\".format(data[\"num_input_steps\"]))\n",
    "model.load_state_dict(data[\"state_dict\"])\n",
    "model"
   ]
  },
  {
   "cell_type": "markdown",
   "id": "0c3a59d9-9ddd-4124-9fa8-a15693fdf79d",
   "metadata": {},
   "source": [
    "# load audio"
   ]
  },
  {
   "cell_type": "code",
   "execution_count": null,
   "id": "e74428d0-e626-4fe6-918b-4a36cc740639",
   "metadata": {
    "tags": []
   },
   "outputs": [],
   "source": [
    "filename = \"/home/bergi/Music/BR80-backup/ROLAND/LIVEREC/LIVE0033-2023-09-10-poesnek.WAV\"\n",
    "#filename = \"/home/bergi/Music/Aphex Twin/Acoustica Alarm Will Sound Performs Aphex Twin/01 Cock_Ver 10.mp3\"\n",
    "filename = \"/home/bergi/Music/Ray Kurzweil The Age of Spiritual Machines/(audiobook) Ray Kurzweil - The Age of Spiritual Machines - 1 of 4.mp3\"\n",
    "\n",
    "\n",
    "reader = StreamReader(filename)\n",
    "reader.add_basic_audio_stream(SLICE_SIZE * NUM_INPUT_SLICES, sample_rate=SAMPLERATE)\n",
    "\n",
    "reader.seek(1)\n",
    "play(read_stream(reader.stream(), 10))"
   ]
  },
  {
   "cell_type": "markdown",
   "id": "de847eeb-6e25-4709-9fbe-0f26dddf806f",
   "metadata": {},
   "source": [
    "# hallucinate"
   ]
  },
  {
   "cell_type": "code",
   "execution_count": null,
   "id": "720f4c9a-4e26-4bff-ad00-299c30e3d69b",
   "metadata": {
    "tags": []
   },
   "outputs": [],
   "source": [
    "@torch.no_grad()\n",
    "def hallucinate(self, audio, num_steps: int = 1):\n",
    "    assert audio.ndim == 2, audio.ndim\n",
    "    assert audio.shape[0] == self.channels, audio.shape\n",
    "    num_audio_slices = audio.shape[1] // self.slice_size\n",
    "\n",
    "    input_audio = audio[:, -(self.slice_size * self.num_input_slices):]\n",
    "    input_audio = input_audio.view(self.num_input_slices, self.channels, self.slice_size)\n",
    "    input_embeddings = self.encoder(input_audio)\n",
    "    new_audio = []\n",
    "    for i in range(num_steps):\n",
    "        embeddings = input_embeddings.view(-1, self.channels, self.latent_dims * self.num_input_slices)\n",
    "        next_embedding = self.predictor(embeddings)\n",
    "        \n",
    "        audio_slice = self.decoder(next_embedding + 0. * next_embedding.std() * torch.randn_like(next_embedding))\n",
    "        new_audio.append(audio_slice)\n",
    "        \n",
    "        next_embedding = next_embedding \n",
    "        input_embeddings = torch.concat([input_embeddings[1:], next_embedding[0]])\n",
    "    \n",
    "    new_audio = torch.concat(new_audio, dim=-1).squeeze(0)\n",
    "    return torch.cat([audio, new_audio], dim=-1)\n",
    "\n",
    "reader.seek(1)\n",
    "wave = read_stream(reader.stream(), .6)\n",
    "play(hallucinate(model, wave.unsqueeze(0), 100), normalize=True)\n",
    "#slices, positions = encode_audio(reader.stream(), seconds=10)\n",
    "#VF.to_pil_image(signed_to_image(slices.permute(1, 0).unsqueeze(0)))"
   ]
  }
 ],
 "metadata": {
  "kernelspec": {
   "display_name": "Python 3 (ipykernel)",
   "language": "python",
   "name": "python3"
  },
  "language_info": {
   "codemirror_mode": {
    "name": "ipython",
    "version": 3
   },
   "file_extension": ".py",
   "mimetype": "text/x-python",
   "name": "python",
   "nbconvert_exporter": "python",
   "pygments_lexer": "ipython3",
   "version": "3.8.0"
  }
 },
 "nbformat": 4,
 "nbformat_minor": 5
}
