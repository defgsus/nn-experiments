{
 "cells": [
  {
   "cell_type": "code",
   "execution_count": null,
   "id": "52350454-c4ce-4d1c-bbc2-96c041fe7034",
   "metadata": {},
   "outputs": [],
   "source": [
    "from init_notebook import *"
   ]
  },
  {
   "cell_type": "code",
   "execution_count": null,
   "id": "5a65ecd1-f86c-412c-b46a-84e46f641327",
   "metadata": {},
   "outputs": [],
   "source": [
    "PATH = Path(\"../../image-scraper/export/\")\n",
    "features = []\n",
    "meta_data = []\n",
    "for i in tqdm(range(15)):\n",
    "    features.append(np.load(PATH / f\"export_imagefap_{i:04}_features.npy\"))\n",
    "    meta_data.extend(json.loads((PATH / f\"export_imagefap_{i:04}_meta.json\").read_text()))\n",
    "features = np.concatenate(features)\n",
    "for i, data in enumerate(meta_data):\n",
    "    data[\"index\"] = i\n",
    "features.shape"
   ]
  },
  {
   "cell_type": "code",
   "execution_count": null,
   "id": "374e0f21-5fba-4906-aee3-daa56eddbcc6",
   "metadata": {},
   "outputs": [],
   "source": [
    "features_norm = features / np.linalg.norm(features, axis=-1, keepdims=True)"
   ]
  },
  {
   "cell_type": "code",
   "execution_count": null,
   "id": "c136c6e7-e05e-464c-a85c-41cea0849696",
   "metadata": {},
   "outputs": [],
   "source": [
    "px.line(features_norm[:3].T)"
   ]
  },
  {
   "cell_type": "code",
   "execution_count": null,
   "id": "09402d4e-593a-48b4-bb24-b88b09477357",
   "metadata": {},
   "outputs": [],
   "source": [
    "ratings = {}\n",
    "for data in meta_data:\n",
    "    if data[\"rating\"][0][\"user\"]:\n",
    "        ratings[data[\"index\"]] = data[\"rating\"][0][\"rate\"]\n",
    "len(ratings)"
   ]
  },
  {
   "cell_type": "code",
   "execution_count": null,
   "id": "fb531fe4-1a51-4711-b1ec-9aaa468f2922",
   "metadata": {},
   "outputs": [],
   "source": [
    "from IPython.display import HTML\n",
    "\n",
    "BASE_URL = \"http://5.9.84.201/isf/\"\n",
    "def html_image(*index: int):\n",
    "    markup = []\n",
    "    for i in index:\n",
    "        img_url = BASE_URL + meta_data[i][\"thumb_filename\"][9:]\n",
    "        url = meta_data[i][\"url\"]\n",
    "        markup.append(f\"\"\"<div><a href=\"{url}\"><img src=\"{img_url}\"></div>\"\"\")\n",
    "\n",
    "    markup = \"\".join(markup)\n",
    "    return HTML(f\"\"\"<div style=\"display: flex; flex-wrap: wrap;\">{markup}</div>\"\"\")\n",
    "\n",
    "#html_image(4)\n",
    "html_image(*(i for i, r in ratings.items() if r > 0))"
   ]
  },
  {
   "cell_type": "code",
   "execution_count": null,
   "id": "990d2d09-1014-426c-8729-753a5e5a1292",
   "metadata": {},
   "outputs": [],
   "source": [
    "from sklearn.linear_model import Ridge\n",
    "#from sklearn.gaussian_process import GaussianProcessClassifier\n",
    "\n",
    "NUM_RANDOM = 0\n",
    "random_features = []\n",
    "for i in range(NUM_RANDOM):\n",
    "    while True:\n",
    "        i = random.randrange(features.shape[0])\n",
    "        if i not in ratings:\n",
    "            random_features.append(features[i])\n",
    "            break\n",
    "            \n",
    "rated_features = np.stack([features[i] for i in ratings] + random_features)\n",
    "rated_targets = np.array(list(ratings.values()) + [0] * NUM_RANDOM)\n",
    "print(rated_features.shape, rated_targets.shape)\n",
    "\n",
    "classifier = Ridge()\n",
    "#classifier = GaussianProcessClassifier()\n",
    "classifier.fit(rated_features, rated_targets)\n",
    "predicted_ratings = classifier.predict(features)\n",
    "predicted_ratings.shape"
   ]
  },
  {
   "cell_type": "code",
   "execution_count": null,
   "id": "4c782129-aa41-47d8-9e6c-87c2386518e7",
   "metadata": {},
   "outputs": [],
   "source": [
    "top_indices = predicted_ratings.argsort()[::-1]\n",
    "html_image(*top_indices[:100])"
   ]
  },
  {
   "cell_type": "code",
   "execution_count": null,
   "id": "62f91265-ea51-43ce-bbda-a44c86f52920",
   "metadata": {},
   "outputs": [],
   "source": [
    "html_image(*top_indices[200:][:1000])"
   ]
  },
  {
   "cell_type": "code",
   "execution_count": null,
   "id": "c46531d9-e749-4704-a00f-1d0668b29629",
   "metadata": {},
   "outputs": [],
   "source": [
    "positive_features = features_norm[[i for i, v in ratings.items() if v >= 1]]\n",
    "positive_features.shape\n",
    "mean_positive_feature = positive_features.mean(axis=0)\n",
    "print(mean_positive_feature.shape)\n",
    "px.line(positive_features[:5].T)"
   ]
  },
  {
   "cell_type": "code",
   "execution_count": null,
   "id": "d63609fb-33a4-4773-8f8a-bdc4d53d2c63",
   "metadata": {},
   "outputs": [],
   "source": [
    "sim = features_norm @ positive_features.T\n",
    "sim.shape"
   ]
  },
  {
   "cell_type": "code",
   "execution_count": null,
   "id": "eb6bfedc-72cd-41ae-b289-6cb97b5b9dd8",
   "metadata": {},
   "outputs": [],
   "source": [
    "sim_m = mean_positive_feature @ features_norm.T \n",
    "sim_m.shape"
   ]
  },
  {
   "cell_type": "code",
   "execution_count": null,
   "id": "93d7d1c6-0b71-47ce-95d3-068016b3f467",
   "metadata": {},
   "outputs": [],
   "source": [
    "top_indices = sim_m.argsort()[::-1]\n",
    "html_image(*top_indices[:1000])"
   ]
  }
 ],
 "metadata": {
  "kernelspec": {
   "display_name": "Python 3 (ipykernel)",
   "language": "python",
   "name": "python3"
  },
  "language_info": {
   "codemirror_mode": {
    "name": "ipython",
    "version": 3
   },
   "file_extension": ".py",
   "mimetype": "text/x-python",
   "name": "python",
   "nbconvert_exporter": "python",
   "pygments_lexer": "ipython3",
   "version": "3.8.0"
  }
 },
 "nbformat": 4,
 "nbformat_minor": 5
}
