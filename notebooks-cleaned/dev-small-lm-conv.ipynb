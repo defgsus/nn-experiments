{
 "cells": [
  {
   "cell_type": "code",
   "execution_count": null,
   "id": "64fdd68a-f2af-47df-b0ee-4fa734f2bf10",
   "metadata": {},
   "outputs": [],
   "source": [
    "from init_notebook import *\n",
    "from src.models.attention import Attention1d"
   ]
  },
  {
   "cell_type": "code",
   "execution_count": null,
   "id": "0567c3d3-b25c-4db5-9de7-697d0af221d7",
   "metadata": {},
   "outputs": [],
   "source": [
    "def plot_convs(ch: int = 64, len: int = 100):\n",
    "    def _conv(ch_in, ch_out):\n",
    "        c = nn.Conv1d(\n",
    "            ch_in, ch_out, \n",
    "            #kernel_size=3, padding=1,\n",
    "            kernel_size=13, padding=6 * dilation, \n",
    "            dilation=dilation,\n",
    "            bias=False,\n",
    "        )\n",
    "        with torch.no_grad():\n",
    "            c.weight[:] = c.weight * 4\n",
    "        return c\n",
    "        \n",
    "    states = []\n",
    "    state = torch.zeros(1, ch, len)\n",
    "    state[0, :, -1:] = 1 #torch.rand(1, ch, 1)\n",
    "    states.append(state)\n",
    "    for i in range(10):\n",
    "        dilation = 1 + i % 3\n",
    "        if i == 3:\n",
    "            state = _conv(len, len)(state.permute(0, 2, 1)).permute(0, 2, 1)\n",
    "        else:\n",
    "            state = _conv(ch, ch)(state)\n",
    "        states.append(state)\n",
    "        if i == -1:\n",
    "            c = nn.Conv1d(ch, ch * 2, 1)\n",
    "            #state = state\n",
    "            y = c(state).permute(0, 2, 1)\n",
    "            q, k = torch.split(y, y.shape[-1] // 2, dim=-1)\n",
    "            a = Attention1d()\n",
    "            state = 10*a(q, k, state.permute(0, 2, 1)).permute(0, 2, 1)\n",
    "            states.append(state)\n",
    "\n",
    "    max_len = max(s.shape[-1] for s in states)\n",
    "    grid = [\n",
    "        torch.cat([torch.ones((s.shape[-2], max_len - s.shape[-1])) * .5, s[0]], dim=-1)[:3]\n",
    "        .abs().unsqueeze(-2)\n",
    "        for s in states                                 \n",
    "    ]\n",
    "    display(VF.to_pil_image(resize(make_grid(grid, nrow=1, padding=2), 4)))\n",
    "    \n",
    "plot_convs()"
   ]
  },
  {
   "cell_type": "code",
   "execution_count": null,
   "id": "5197bf4b-d621-4ab4-a0f4-d52cf0e02f22",
   "metadata": {},
   "outputs": [],
   "source": []
  },
  {
   "cell_type": "code",
   "execution_count": null,
   "id": "3efc5622-e34f-4803-aa56-c1513bb9377c",
   "metadata": {},
   "outputs": [],
   "source": [
    "F.cross_entropy(\n",
    "    torch.zeros(16, 100),\n",
    "    torch.zeros(16, dtype=torch.long),\n",
    ")"
   ]
  },
  {
   "cell_type": "code",
   "execution_count": null,
   "id": "f54426ca-0848-4194-b587-46e4741f0b25",
   "metadata": {},
   "outputs": [],
   "source": []
  },
  {
   "cell_type": "code",
   "execution_count": null,
   "id": "be296a69-8d9d-4c76-9c02-4449e7a994a9",
   "metadata": {},
   "outputs": [],
   "source": []
  },
  {
   "cell_type": "code",
   "execution_count": null,
   "id": "9378ce20-a2d8-4893-9e7c-1e34f25b1cec",
   "metadata": {},
   "outputs": [],
   "source": []
  }
 ],
 "metadata": {
  "kernelspec": {
   "display_name": "Python 3 (ipykernel)",
   "language": "python",
   "name": "python3"
  },
  "language_info": {
   "codemirror_mode": {
    "name": "ipython",
    "version": 3
   },
   "file_extension": ".py",
   "mimetype": "text/x-python",
   "name": "python",
   "nbconvert_exporter": "python",
   "pygments_lexer": "ipython3",
   "version": "3.8.0"
  }
 },
 "nbformat": 4,
 "nbformat_minor": 5
}
