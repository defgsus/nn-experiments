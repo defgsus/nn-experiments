{
 "cells": [
  {
   "cell_type": "code",
   "execution_count": null,
   "id": "1845bb39-6321-49fa-a467-da6a469f3ba2",
   "metadata": {
    "tags": []
   },
   "outputs": [],
   "source": [
    "import sys\n",
    "sys.path.append(\"..\")\n",
    "\n",
    "import random\n",
    "import math\n",
    "import itertools\n",
    "from copy import deepcopy\n",
    "from io import BytesIO\n",
    "from pathlib import Path\n",
    "from typing import Optional, Callable, List, Tuple, Iterable, Generator, Union, Dict\n",
    "\n",
    "import PIL.Image\n",
    "import PIL.ImageDraw\n",
    "import plotly\n",
    "import plotly.express as px\n",
    "import plotly.graph_objects as go\n",
    "plotly.io.templates.default = \"plotly_dark\"\n",
    "import numpy as np\n",
    "import pandas as pd\n",
    "pd.options.plotting.backend = \"plotly\"\n",
    "\n",
    "from tqdm import tqdm\n",
    "import torch\n",
    "import torch.nn as nn\n",
    "import torch.nn.functional as F\n",
    "from torch.utils.data import Dataset, DataLoader, TensorDataset, IterableDataset, RandomSampler\n",
    "import torchvision.transforms as VT\n",
    "import torchvision.transforms.functional as VF\n",
    "from torchvision.utils import make_grid\n",
    "from IPython.display import display, Audio, HTML\n",
    "import torchaudio\n",
    "from torchaudio.io import StreamReader\n",
    "import bs4\n",
    "\n",
    "from src.datasets import *\n",
    "from src.algo import GreedyLibrary\n",
    "from src.util.image import *\n",
    "from src.util import to_torch_device\n",
    "from src.patchdb import PatchDB, PatchDBIndex\n",
    "from src.models.encoder import *\n",
    "from src.util.audio import *\n",
    "from src.util.files import *"
   ]
  },
  {
   "cell_type": "code",
   "execution_count": null,
   "id": "ef49604e-096a-49c6-8c15-dcfb5930869a",
   "metadata": {},
   "outputs": [],
   "source": [
    "source_filename = Path(\"~/prog/python/github/blog/src/audio/scrape_chords/e-chord-dump.ndjson\").expanduser()\n",
    "\n",
    "def iter_source():\n",
    "    yield from tqdm(iter_ndjson(source_filename))"
   ]
  },
  {
   "cell_type": "code",
   "execution_count": null,
   "id": "7b9933af-ea64-45b3-96ed-56695c59b4ac",
   "metadata": {},
   "outputs": [],
   "source": [
    "for i, entry in enumerate(iter_source()):\n",
    "    if i == 23:\n",
    "        for key, value in entry.items():\n",
    "            if key != \"text\":\n",
    "                print(f\"{key:10}: {value}\")\n",
    "                \n",
    "        soup = bs4.BeautifulSoup(entry[\"text\"], features=\"html.parser\")\n",
    "        print(soup)\n",
    "        break"
   ]
  },
  {
   "cell_type": "code",
   "execution_count": null,
   "id": "c0981182-c186-4178-b65d-70ab08c2dd13",
   "metadata": {},
   "outputs": [],
   "source": [
    "def html_to_text(soup):\n",
    "    converted_text = []\n",
    "    \n",
    "    def _recurse(elem):\n",
    "        tag = getattr(elem, \"name\", None)\n",
    "        has_children = hasattr(elem, \"children\")\n",
    "        is_text = isinstance(elem, bs4.element.NavigableString)\n",
    "        \n",
    "        if is_text:\n",
    "            converted_text.append(elem.text)\n",
    "\n",
    "        if has_children:\n",
    "            if tag == \"u\":\n",
    "                converted_text.append(\"*\")\n",
    "            elif tag == \"i\":\n",
    "                converted_text.append(\"~\")\n",
    "                \n",
    "            for child in elem.children:\n",
    "                _recurse(child)\n",
    "\n",
    "            if tag == \"u\":\n",
    "                converted_text.append(\"*\")\n",
    "            elif tag == \"i\":\n",
    "                converted_text.append(\"~\")\n",
    "            \n",
    "    _recurse(soup)\n",
    "\n",
    "    return \"\".join(converted_text).strip()\n",
    "\n",
    "print(html_to_text(soup))"
   ]
  },
  {
   "cell_type": "code",
   "execution_count": null,
   "id": "14af21ac-5cc7-47d1-9555-a10748056c65",
   "metadata": {},
   "outputs": [],
   "source": [
    "with NDJson(\"../datasets/echords.ndjson.gz\", \"w\") as fp:\n",
    "    for i, entry in enumerate(iter_source()):\n",
    "        soup = bs4.BeautifulSoup(entry[\"text\"], features=\"html.parser\")\n",
    "        entry[\"text\"] = html_to_text(soup) \n",
    "        fp.write(entry)"
   ]
  },
  {
   "cell_type": "code",
   "execution_count": null,
   "id": "051f0584-0398-4011-9c34-98d38173b654",
   "metadata": {},
   "outputs": [],
   "source": [
    "!ls -l ../datasets/"
   ]
  },
  {
   "cell_type": "markdown",
   "id": "a831dcbd-2fdf-4b20-b112-a4ded90610a1",
   "metadata": {},
   "source": [
    "underline"
   ]
  },
  {
   "cell_type": "code",
   "execution_count": null,
   "id": "6ea966be-01cc-4457-ada9-e15f6a1d8358",
   "metadata": {},
   "outputs": [],
   "source": []
  },
  {
   "cell_type": "code",
   "execution_count": null,
   "id": "84eddea6-0198-40cd-aae1-ca8772f2a0fe",
   "metadata": {},
   "outputs": [],
   "source": []
  },
  {
   "cell_type": "code",
   "execution_count": null,
   "id": "eb43194b-6acc-49bb-ba88-7bd98bf9c760",
   "metadata": {},
   "outputs": [],
   "source": []
  },
  {
   "cell_type": "code",
   "execution_count": null,
   "id": "f38cbc96-1d30-4f95-a690-6feff176a967",
   "metadata": {},
   "outputs": [],
   "source": [
    "class EChordsIterableDataset(IterableDataset):\n",
    "\n",
    "    def __init__(self):\n",
    "        self.filename = Path(\"~/prog/python/github/nn-experiments/datasets/echords.ndjson.gz\").expanduser()\n",
    "        assert self.filename.exists(), f\"Did not find: {self.filename}\"\n",
    "\n",
    "    def __iter__(self):\n",
    "        for data in iter_ndjson(self.filename):\n",
    "            for key, value in data.items():\n",
    "                if value is None:\n",
    "                    data[key] = \"\"\n",
    "                    \n",
    "            data[\"text\"] = data[\"text\"].replace(\"\\r\", \"\")\n",
    "            yield data\n",
    "\n",
    "\n",
    "ds = EChordsIterableDataset()\n",
    "ds = IterableShuffle(ds, 100)\n",
    "\n",
    "for entry in ds:\n",
    "    for key, value in entry.items():\n",
    "        if key != \"text\":\n",
    "            print(f\"{key:10}: {value}\")\n",
    "            \n",
    "    print(entry[\"text\"])\n",
    "    break"
   ]
  },
  {
   "cell_type": "code",
   "execution_count": null,
   "id": "c85998c7-f14f-4064-b290-c71e3cdfb6e1",
   "metadata": {},
   "outputs": [],
   "source": [
    "for entry in ds:\n",
    "    for key, value in entry.items():\n",
    "        if value is None:\n",
    "            print(key, value)"
   ]
  }
 ],
 "metadata": {
  "kernelspec": {
   "display_name": "Python 3 (ipykernel)",
   "language": "python",
   "name": "python3"
  },
  "language_info": {
   "codemirror_mode": {
    "name": "ipython",
    "version": 3
   },
   "file_extension": ".py",
   "mimetype": "text/x-python",
   "name": "python",
   "nbconvert_exporter": "python",
   "pygments_lexer": "ipython3",
   "version": "3.8.0"
  }
 },
 "nbformat": 4,
 "nbformat_minor": 5
}
