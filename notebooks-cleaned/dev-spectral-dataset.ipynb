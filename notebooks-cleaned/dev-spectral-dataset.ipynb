{
 "cells": [
  {
   "cell_type": "code",
   "execution_count": null,
   "id": "1845bb39-6321-49fa-a467-da6a469f3ba2",
   "metadata": {
    "tags": []
   },
   "outputs": [],
   "source": [
    "import sys\n",
    "sys.path.append(\"..\")\n",
    "\n",
    "import random\n",
    "import math\n",
    "import itertools\n",
    "from copy import deepcopy\n",
    "from io import BytesIO\n",
    "from pathlib import Path\n",
    "from typing import Optional, Callable, List, Tuple, Iterable, Generator, Union, Dict\n",
    "\n",
    "import PIL.Image\n",
    "import PIL.ImageDraw\n",
    "import plotly\n",
    "import plotly.express as px\n",
    "import plotly.graph_objects as go\n",
    "plotly.io.templates.default = \"plotly_dark\"\n",
    "import numpy as np\n",
    "import pandas as pd\n",
    "pd.options.plotting.backend = \"plotly\"\n",
    "from sklearn.manifold import TSNE\n",
    "\n",
    "from tqdm import tqdm\n",
    "import torch\n",
    "import torch.nn as nn\n",
    "import torch.nn.functional as F\n",
    "from torch.utils.data import Dataset, DataLoader, TensorDataset, IterableDataset, RandomSampler\n",
    "import torchvision.transforms as VT\n",
    "import torchvision.transforms.functional as VF\n",
    "import torchaudio.transforms as AT\n",
    "from torchvision.utils import make_grid\n",
    "from IPython.display import display, Audio\n",
    "import torchaudio\n",
    "from torchaudio.io import StreamReader\n",
    "\n",
    "from src.datasets import *\n",
    "from src.algo import GreedyLibrary\n",
    "from src.util.image import *\n",
    "from src.util import to_torch_device, iter_batches\n",
    "from src.patchdb import PatchDB, PatchDBIndex\n",
    "from src.models.encoder import *\n",
    "from src.util.audio import *\n",
    "from src.util.files import *\n",
    "from src.util.embedding import *\n",
    "from scripts.train_vae_audio import VAEAudioConv"
   ]
  },
  {
   "cell_type": "code",
   "execution_count": null,
   "id": "af627096-742c-4224-aeac-c1c0cd026ddb",
   "metadata": {
    "tags": []
   },
   "outputs": [],
   "source": [
    "@torch.no_grad()\n",
    "def play(audio, shape=(200, 1024), normalize=False):\n",
    "    if normalize:\n",
    "        audio_max = audio.abs().max()\n",
    "        if audio_max:\n",
    "            audio = audio / audio_max\n",
    "    display(Audio(audio.clamp(-1, 1), rate=SAMPLERATE, normalize=False))\n",
    "    display(plot_audio(audio, shape))\n",
    "    \n",
    "def read_stream(stream, seconds: float = 3.):\n",
    "    chunks = []\n",
    "    max_samples = int(seconds * SAMPLERATE)\n",
    "    num_samples = 0\n",
    "    for chunk, in stream:\n",
    "        chunks.append(chunk.mean(-1))\n",
    "        num_samples += chunks[-1].shape[-1]\n",
    "        if num_samples >= max_samples:\n",
    "            break\n",
    "    return torch.concat(chunks)[:max_samples]"
   ]
  },
  {
   "cell_type": "markdown",
   "id": "0c3a59d9-9ddd-4124-9fa8-a15693fdf79d",
   "metadata": {
    "tags": []
   },
   "source": [
    "# audio slice dataset"
   ]
  },
  {
   "cell_type": "code",
   "execution_count": null,
   "id": "11b5f57b-5467-4a46-8647-0ebf60aa872a",
   "metadata": {
    "tags": []
   },
   "outputs": [],
   "source": [
    "FILENAMES1 = ['~/Music/Alejandro Jodorowsky - [1971] El Topo OST (vinyl rip)/side1.mp3', '~/Music/Aphex Twin/Acoustica Alarm Will Sound Performs Aphex Twin/01 Cock_Ver 10.mp3', '~/Music/BR80-backup/ROLAND/LIVEREC/LIVE0000.WAV', '~/Music/BR80-backup/ROLAND/MASTERING/42FUNK.WAV', '~/Music/Bertolt Brecht & Kurt Weill - [1954] The Threepenny Opera (original off-broadway cast)/01 - prologue (spoken) gerald price.mp3', '~/Music/COIL - Absinthe/COIL - animal are you.mp3', '~/Music/COIL - Black Antlers/01-the gimp-sometimes.mp3', \"~/Music/COIL - live at All Tomorrow's Parties, April 4, 2003...and the Ambulance Died in His Arms/01 - Triple Sun Introduction.mp3\", \"~/Music/Coil - [1991] Love's Secret Domain/01 - Disco Hospital.mp3\", '~/Music/Crosby Stills  Nash & Young/carry on/Crosby Stills  Nash & Young - after the dolphin.mp3', '~/Music/Felix Kubin - Jane B. ertrinkt mit den Pferden/01 Wagner 99.mp3', \"~/Music/Hitchhiker's Guide - Radio Play/Hitchhiker'sGuideEpisode-02,mp3\", '~/Music/King Crimson/Discipline [30th Anniversary Edition] [Bonus Track]/01 Elephant Talk.mp3', \"~/Music/King Crimson/Larks' Tongues in Aspic/01 Larks' Tongues in Aspic, Pt. 1.mp3\", '~/Music/King Crimson/Three of a Perfect Pair- 30th Anniversary [Bonus Tracks]/01 Three of a Perfect Pair.mp3', '~/Music/King Crimson/Vrooom Vrooom Disc 1/01 Vrooom Vrooom.mp3', '~/Music/King Crimson/Vrooom Vrooom Disc 2/01 Conundrum.mp3', '~/Music/MODULE/42_modus.wav', '~/Music/MODULE/ATOMIK/INTRO.WAV', '~/Music/MODULE/FILMTHEA/sample.wav', '~/Music/MODULE/PATTERN/hoast84.wav', '~/Music/MODULE/TRIBB/02- MultiDrum_mp3.wav', '~/Music/MODULE/for_gonz/ATOMIK/INTRO.WAV', '~/Music/MODULE/sendung/UnitedSchneegl.wav', '~/Music/MODULE/werner/dolby/recycle samples/pianoarpeggio.wav', '~/Music/Primus/Primus - Antipop (Complete CD)(AlbumWrap)_ALBW.mp3', '~/Music/Ray Kurzweil The Age of Spiritual Machines/(audiobook) Ray Kurzweil - The Age of Spiritual Machines - 1 of 4.mp3', '~/Music/Scirocco/01 Zug.mp3', '~/Music/Symphony X/01 - Symphony X - The Damnation Game.mp3', '~/Music/VOLCANO THE BEAR - Amidst The Noise And Twigs (2007)/01 - Volcano The Bear - The Sting Of Haste.mp3', '~/Music/VOLCANO THE BEAR - Classic Erasmus Fusion (2006)/A01. Classic Erasmus Fusion.mp3', '~/Music/VOLCANO THE BEAR - Guess the Birds (2002)/01 - urchins at the harp.mp3', '~/Music/VOLCANO THE BEAR - Xvol/01. moon chorus.mp3', '~/Music/Volcano the bear - [2001] Five Hundred Boy Piano/01. Hairy Queen.mp3', '~/Music/Ys/01 emily.mp3', '~/Music/anke/DR-100_0809-mucke-tanja-traum-ist-aus.wav', '~/Music/diffusion/known-unknowns-02.wav', '~/Music/francis/scarlatti-k119.wav', '~/Music/grafft/Lotte/210429_1859.mp3', '~/Music/grafft/MUSIC/20200505_Bauchentscheidung.mp3', '~/Music/olli/24.07.19 eberhardt finaaaaaal.wav', '~/Music/record/20220624_untitled.wav', '~/Music/the who/Tommy/the who - 1921.mp3', '~/Music/theDropper/01 CD Track 01.mp3', '~/Music/yaggediyo.mp3']\n",
    "FILENAMES2 = ['~/Music/Alejandro Jodorowsky - [1971] El Topo OST (vinyl rip)/side2.mp3', '~/Music/Aphex Twin/Acoustica Alarm Will Sound Performs Aphex Twin/02 Logon Rock Witch.mp3', '~/Music/BR80-backup/ROLAND/LIVEREC/LIVE0001.WAV', '~/Music/BR80-backup/ROLAND/MASTERING/44BOND.WAV', '~/Music/Bertolt Brecht & Kurt Weill - [1954] The Threepenny Opera (original off-broadway cast)/02 - overture.mp3', '~/Music/COIL - Black Antlers/02-sex with sun ra (part 1 - saturnalia).mp3', \"~/Music/COIL - live at All Tomorrow's Parties, April 4, 2003...and the Ambulance Died in His Arms/02 - Snow Falls Into Military Temples.mp3\", \"~/Music/Coil - [1991] Love's Secret Domain/02 - Teenage Lightning 1.mp3\", '~/Music/Crosby Stills  Nash & Young/carry on/Crosby Stills  Nash & Young - almost cut my hair.mp3', '~/Music/Felix Kubin - Jane B. ertrinkt mit den Pferden/02 Vater Muss Die Stube Peitschen.mp3', \"~/Music/Hitchhiker's Guide - Radio Play/Hitchhiker'sGuideEpisode-03.mp3\", '~/Music/King Crimson/Discipline [30th Anniversary Edition] [Bonus Track]/02 Frame by Frame.mp3', \"~/Music/King Crimson/Larks' Tongues in Aspic/02 Book of Saturday.mp3\", '~/Music/King Crimson/Three of a Perfect Pair- 30th Anniversary [Bonus Tracks]/02 Modelk Man.mp3', '~/Music/King Crimson/Vrooom Vrooom Disc 1/02 Coda- Marine 475.mp3', '~/Music/King Crimson/Vrooom Vrooom Disc 2/02 Thela Hun Ginjeet.mp3', '~/Music/MODULE/43_monkeys have reached___.wav', '~/Music/MODULE/TRIBB/03- Unbenannt003_wav.wav', '~/Music/MODULE/sendung/buchstab01.wav', '~/Music/Ray Kurzweil The Age of Spiritual Machines/(audiobook) Ray Kurzweil - The Age of Spiritual Machines - 2 of 4.mp3', '~/Music/Scirocco/02 Nini Toscanè.mp3', '~/Music/Symphony X/02 - Symphony X - Dressed To Kill.mp3', '~/Music/VOLCANO THE BEAR - Amidst The Noise And Twigs (2007)/02 - Volcano The Bear - Before We Came To This Religion.mp3', '~/Music/VOLCANO THE BEAR - Classic Erasmus Fusion (2006)/A02. Did You Ever Feel Like Jesus¿.mp3', '~/Music/VOLCANO THE BEAR - Guess the Birds (2002)/02 - maureen memorium.mp3', '~/Music/VOLCANO THE BEAR - Xvol/02. snang dushko.mp3', '~/Music/Volcano the bear - [2001] Five Hundred Boy Piano/02. Seeker.mp3', '~/Music/Ys/02 monkey & bear.mp3', '~/Music/anke/DR-100_0809-mucke-tanja.wav', '~/Music/diffusion/known-unknowns-03.wav', '~/Music/francis/urdance_gsm_movt1.wav', '~/Music/grafft/Lotte/210429_1959.mp3', '~/Music/grafft/MUSIC/20200505_Eingecremt.mp3', '~/Music/olli/Du Schweigst_REV2_=FSM=__44.1-24.wav', '~/Music/the who/Tommy/the who - Amazing journey.mp3', '~/Music/theDropper/02 CD Track 02.mp3']"
   ]
  },
  {
   "cell_type": "code",
   "execution_count": null,
   "id": "e74428d0-e626-4fe6-918b-4a36cc740639",
   "metadata": {
    "tags": []
   },
   "outputs": [],
   "source": [
    "SAMPLERATE = 44100\n",
    "SLICE_SIZE = SAMPLERATE * 1\n",
    "INTERLEAVE_FILES = 1\n",
    "\n",
    "ds = AudioSliceIterableDataset(\n",
    "    #\"~/Music/\", recursive=True, \n",
    "    FILENAMES1,\n",
    "    sample_rate=SAMPLERATE,\n",
    "    slice_size=SLICE_SIZE,\n",
    "    # stride=50,\n",
    "    interleave_files=INTERLEAVE_FILES,\n",
    "    #shuffle_files=True,\n",
    "    mono=True,\n",
    "    seek_offset=0,\n",
    "    #verbose=True,\n",
    ")\n",
    "# ds = IterableShuffle(ds, 1000)\n",
    "for i, audio in zip(range(5), ds):\n",
    "    play(audio)"
   ]
  },
  {
   "cell_type": "code",
   "execution_count": null,
   "id": "07f9b724-b471-4487-b141-dc956437d3e9",
   "metadata": {
    "tags": []
   },
   "outputs": [],
   "source": [
    "count = 0\n",
    "for audio in tqdm(ds):\n",
    "    count += 1\n",
    "print(f\"{count:,.2f} seconds\")"
   ]
  },
  {
   "cell_type": "code",
   "execution_count": null,
   "id": "eef7f13e-8e79-49b1-9e49-86b216ba2c18",
   "metadata": {
    "tags": []
   },
   "outputs": [],
   "source": [
    "if 0:\n",
    "    ds = AudioSliceIterableDataset(\n",
    "        \"~/Music/\", recursive=True,\n",
    "        sample_rate=SAMPLERATE,\n",
    "        slice_size=SLICE_SIZE,\n",
    "        interleave_files=INTERLEAVE_FILES,\n",
    "        #shuffle_files=True,\n",
    "        mono=True,\n",
    "        seek_offset=0,\n",
    "        max_slices_per_file=1,\n",
    "        #verbose=True,\n",
    "        with_filename=True,\n",
    "    )\n",
    "\n",
    "    files = []\n",
    "    path_map = dict()\n",
    "    for audio, filename in ds:\n",
    "        filename = Path(filename)\n",
    "        path_map.setdefault(filename.parent, []).append(str(filename).replace(\"/home/bergi\", \"~\"))\n",
    "\n",
    "    print([\n",
    "        f[1] for f in path_map.values() if len(f) > 1\n",
    "    ])\n"
   ]
  },
  {
   "cell_type": "code",
   "execution_count": null,
   "id": "de6b1908-e341-49cd-8e59-98b3b0904f25",
   "metadata": {},
   "outputs": [],
   "source": []
  },
  {
   "cell_type": "markdown",
   "id": "de847eeb-6e25-4709-9fbe-0f26dddf806f",
   "metadata": {},
   "source": [
    "# spec dataset"
   ]
  },
  {
   "cell_type": "code",
   "execution_count": null,
   "id": "c0fd5940-2e18-4833-860e-8c95caa669ea",
   "metadata": {
    "tags": []
   },
   "outputs": [],
   "source": [
    "NUM_MEL = 128\n",
    "WIN_LENGTH = SAMPLERATE // 30\n",
    "HOP_LENGTH = SAMPLERATE // NUM_MEL\n",
    "\n",
    "ds_spec = TransformIterableDataset(\n",
    "    ds, \n",
    "    transforms=[\n",
    "        AT.MelSpectrogram(\n",
    "            sample_rate=SAMPLERATE,\n",
    "            n_fft=1024 * 2,\n",
    "            win_length=WIN_LENGTH,\n",
    "            hop_length=HOP_LENGTH,\n",
    "            n_mels=NUM_MEL,\n",
    "            #f_max=1000,\n",
    "            power=1.,\n",
    "            #mel_scale=\"slaney\",\n",
    "            #normalized=True,\n",
    "        ),\n",
    "        lambda x: (x[:, :, :NUM_MEL] / x.max()).clamp(0, 1),\n",
    "    ],\n",
    ")\n",
    "img = next(iter(ds_spec))\n",
    "print(\"spec shape:\", img.shape[-2:])\n",
    "VF.to_pil_image(VF.resize(img, [s * 2 for s in img.shape[-2:]], VF.InterpolationMode.NEAREST))"
   ]
  },
  {
   "cell_type": "code",
   "execution_count": null,
   "id": "6a9374f2-950a-4318-9281-b82fb121cc53",
   "metadata": {
    "tags": []
   },
   "outputs": [],
   "source": [
    "grid = [spec for i, spec in zip(range(5*5), ds_spec)]\n",
    "VF.to_pil_image(make_grid(grid, nrow=5))"
   ]
  },
  {
   "cell_type": "markdown",
   "id": "b5594f63-19d0-4487-8d7e-7581f5d698a8",
   "metadata": {
    "tags": []
   },
   "source": [
    "# spec patch dataset"
   ]
  },
  {
   "cell_type": "code",
   "execution_count": null,
   "id": "e646edc4-bef5-4846-9fa1-d229dd18c305",
   "metadata": {
    "tags": []
   },
   "outputs": [],
   "source": [
    "ds_patch = ImagePatchIterableDataset(\n",
    "    ds_spec,\n",
    "    shape=(8, 8),\n",
    "    #shape=(32, 32),\n",
    "    interleave_images=INTERLEAVE_FILES,\n",
    ")\n",
    "\n",
    "grid = [patch for i, patch in zip(range(64*64), ds_patch)]\n",
    "img = make_grid(grid, nrow=32)\n",
    "VF.to_pil_image(VF.resize(img, [s * 3 for s in img.shape[-2:]], VF.InterpolationMode.NEAREST))"
   ]
  },
  {
   "cell_type": "markdown",
   "id": "f1da1df7-13f0-43cd-9801-bc8dc0f019ac",
   "metadata": {},
   "source": [
    "# freq band envelope"
   ]
  },
  {
   "cell_type": "code",
   "execution_count": null,
   "id": "e9b4f47f-f6f8-4354-9dbd-757503767748",
   "metadata": {},
   "outputs": [],
   "source": [
    "ds_freqband = ImagePatchIterableDataset(\n",
    "    ds_spec,\n",
    "    shape=(8, NUM_MEL),\n",
    "    interleave_images=INTERLEAVE_FILES,\n",
    ")\n",
    "\n",
    "grid = [patch for i, patch in zip(range(64), ds_freqband)]\n",
    "VF.to_pil_image(make_grid(grid, nrow=1))"
   ]
  },
  {
   "cell_type": "markdown",
   "id": "267da903-b57f-4b6b-b86e-d6c5fa9e0476",
   "metadata": {},
   "source": [
    "# spec envelope"
   ]
  },
  {
   "cell_type": "code",
   "execution_count": null,
   "id": "0b2d3487-858b-40ad-8b6d-5c0f73282a1f",
   "metadata": {
    "tags": []
   },
   "outputs": [],
   "source": [
    "ds_env = ImagePatchIterableDataset(\n",
    "    ds_spec,\n",
    "    shape=(NUM_MEL, 8),\n",
    "    interleave_images=INTERLEAVE_FILES,\n",
    ")\n",
    "\n",
    "grid = [patch for i, patch in zip(range(64), ds_env)]\n",
    "VF.to_pil_image(make_grid(grid, nrow=32))"
   ]
  },
  {
   "cell_type": "code",
   "execution_count": null,
   "id": "42da7c8f-e283-4f32-94c9-23288a78eaed",
   "metadata": {
    "tags": []
   },
   "outputs": [],
   "source": [
    "AT.MelSpectrogram?"
   ]
  },
  {
   "cell_type": "code",
   "execution_count": null,
   "id": "d94135a9-08f8-40f6-9c0a-07b6e6a51d22",
   "metadata": {},
   "outputs": [],
   "source": []
  },
  {
   "cell_type": "code",
   "execution_count": null,
   "id": "52d48d11-94db-4dad-8c7c-9fe2a24c27d8",
   "metadata": {},
   "outputs": [],
   "source": []
  },
  {
   "cell_type": "code",
   "execution_count": null,
   "id": "16ee0474-3aad-4e91-a40f-909e9c20512a",
   "metadata": {},
   "outputs": [],
   "source": []
  }
 ],
 "metadata": {
  "kernelspec": {
   "display_name": "Python 3 (ipykernel)",
   "language": "python",
   "name": "python3"
  },
  "language_info": {
   "codemirror_mode": {
    "name": "ipython",
    "version": 3
   },
   "file_extension": ".py",
   "mimetype": "text/x-python",
   "name": "python",
   "nbconvert_exporter": "python",
   "pygments_lexer": "ipython3",
   "version": "3.8.0"
  }
 },
 "nbformat": 4,
 "nbformat_minor": 5
}
