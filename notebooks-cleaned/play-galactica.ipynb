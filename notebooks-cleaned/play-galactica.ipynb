{
 "cells": [
  {
   "cell_type": "code",
   "execution_count": null,
   "id": "03112670-d89d-4631-8a5b-c6d906ba8dc4",
   "metadata": {},
   "outputs": [],
   "source": [
    "from init_notebook import *"
   ]
  },
  {
   "cell_type": "code",
   "execution_count": null,
   "id": "ea68d98b-9468-4376-b61c-15aae714617a",
   "metadata": {},
   "outputs": [],
   "source": [
    "from transformers import AutoTokenizer, OPTForCausalLM\n",
    "\n",
    "tokenizer = AutoTokenizer.from_pretrained(\"facebook/galactica-125m\")\n",
    "model = OPTForCausalLM.from_pretrained(\"facebook/galactica-125m\", device_map=\"auto\")\n",
    "\n",
    "input_text = \"The Transformer architecture [START_REF]\"\n",
    "input_ids = tokenizer(input_text, return_tensors=\"pt\").input_ids.to(\"cuda\")\n",
    "\n",
    "outputs = model.generate(input_ids)\n",
    "print(tokenizer.decode(outputs[0]))"
   ]
  },
  {
   "cell_type": "code",
   "execution_count": null,
   "id": "042a647c-d2fa-494d-b63e-aefa3eb24cd8",
   "metadata": {},
   "outputs": [],
   "source": [
    "from transformers import AutoTokenizer, OPTForCausalLM\n",
    "from transformers.generation.configuration_utils import GenerationConfig\n",
    "\n",
    "tokenizer = AutoTokenizer.from_pretrained(\"facebook/galactica-125m\")\n",
    "model = OPTForCausalLM.from_pretrained(\"facebook/galactica-125m\")\n",
    "\n",
    "def generate(input_text: str, max_length: int = 200): \n",
    "    input_ids = tokenizer(input_text, return_tensors=\"pt\").input_ids\n",
    "\n",
    "    class Streamer:\n",
    "        def put(self, token_ids):\n",
    "            print(tokenizer.decode(token_ids[0]), end=\"\")\n",
    "        def end(self):\n",
    "            print()\n",
    "    outputs = model.generate(input_ids, streamer=Streamer(), max_length=max_length)\n",
    "    #print(tokenizer.decode(outputs[0]))\n",
    "\n",
    "generate(\n",
    "    #\"The Transformer architecture [START_REF]\"\n",
    "    #\"An unpopular new language model architecture\"# [START_REF]\"\n",
    "    #\"The new AI-fascist propaganda \",\n",
    "    \"The purpose of fascism\",\n",
    ")"
   ]
  },
  {
   "cell_type": "code",
   "execution_count": null,
   "id": "0e32be41-a00e-4c9d-a845-e894b0e81406",
   "metadata": {},
   "outputs": [],
   "source": [
    "generate(\n",
    "    #\"The Transformer architecture [START_REF]\"\n",
    "    #\"An unpopular new language model architecture\"# [START_REF]\"\n",
    "    #\"The new AI-fascist propaganda \",\n",
    "    \"The purpose of fascism\",\n",
    ")"
   ]
  },
  {
   "cell_type": "code",
   "execution_count": null,
   "id": "01a67ec1-13cf-4b8f-b4ab-2ee445d3cc19",
   "metadata": {},
   "outputs": [],
   "source": [
    "model.generate?"
   ]
  },
  {
   "cell_type": "code",
   "execution_count": null,
   "id": "f8c5bff1-0839-4d83-a9eb-8068e30f3dee",
   "metadata": {},
   "outputs": [],
   "source": [
    "GenerationConfig?"
   ]
  }
 ],
 "metadata": {
  "kernelspec": {
   "display_name": "Python 3 (ipykernel)",
   "language": "python",
   "name": "python3"
  },
  "language_info": {
   "codemirror_mode": {
    "name": "ipython",
    "version": 3
   },
   "file_extension": ".py",
   "mimetype": "text/x-python",
   "name": "python",
   "nbconvert_exporter": "python",
   "pygments_lexer": "ipython3",
   "version": "3.8.0"
  }
 },
 "nbformat": 4,
 "nbformat_minor": 5
}
