{
 "cells": [
  {
   "cell_type": "code",
   "execution_count": null,
   "id": "0de92198-3d35-45a6-a6f3-acc87d70d87f",
   "metadata": {},
   "outputs": [],
   "source": [
    "from init_notebook import *"
   ]
  },
  {
   "cell_type": "code",
   "execution_count": null,
   "id": "43c68f0d-b84a-4688-9996-1c9be16b4b3e",
   "metadata": {},
   "outputs": [],
   "source": [
    "class TextTransformer(nn.Module):\n",
    "    def __init__(\n",
    "            self,\n",
    "            vocab_size: int,\n",
    "            num_layers: int,\n",
    "            num_channels: int,\n",
    "            num_channels_mlp: int,\n",
    "            num_heads: int,\n",
    "            activation: Union[None, str, Callable] = \"relu\",\n",
    "            diagonal_embedding: bool = True,\n",
    "            symmetric_embedding: bool = True,\n",
    "            dropout: float = 0.0,\n",
    "    ):\n",
    "        super().__init__()\n",
    "        self.embedding = DiagonalEmbedding(\n",
    "            channels_in=vocab_size,\n",
    "            channels_out=num_channels,\n",
    "            diagonal=diagonal_embedding,\n",
    "            symmetric=symmetric_embedding,\n",
    "        )\n",
    "        self.transformer = nn.TransformerDecoder(\n",
    "            nn.TransformerDecoderLayer(\n",
    "                d_model=num_channels,\n",
    "                nhead=num_heads,\n",
    "                dim_feedforward=num_channels_mlp,\n",
    "                dropout=dropout,\n",
    "                activation=activation,\n",
    "                batch_first=True,\n",
    "            ),\n",
    "            num_layers=num_layers,\n",
    "        )\n",
    "\n",
    "    def forward(self, logits: torch.LongTensor) -> torch.Tensor:\n",
    "        x = self.embedding(logits)\n",
    "        x = x.permute(0, 2, 1)\n",
    "\n",
    "        x = self.transformer(x, x)\n",
    "\n",
    "        x = x.permute(0, 2, 1)\n",
    "        return self.embedding(x, reverse=True)\n",
    "\n",
    "\n",
    "model = TextTransformer(\n",
    "    vocab_size=256,\n",
    "    num_layers=2,\n",
    "    num_channels=256,\n",
    "    num_channels_mlp=256,\n",
    "    num_heads=8,\n",
    ")# .to(torch.float16)\n",
    "print(f\"params: {num_module_parameters(model):,}\")\n",
    "inp = torch.randint(0, 255, (1, 10))\n",
    "outp = model(inp)\n",
    "print(outp.shape)\n",
    "model"
   ]
  },
  {
   "cell_type": "code",
   "execution_count": null,
   "id": "1405417c-4f5d-46d2-ba55-a156af2b4c38",
   "metadata": {},
   "outputs": [],
   "source": []
  },
  {
   "cell_type": "code",
   "execution_count": null,
   "id": "f40f2a39-f196-4cf8-a488-098e2c42a544",
   "metadata": {},
   "outputs": [],
   "source": []
  },
  {
   "cell_type": "code",
   "execution_count": null,
   "id": "19956a57-1373-459a-8b1b-9cddfe311138",
   "metadata": {},
   "outputs": [],
   "source": [
    "nn.TransformerDecoderLayer?"
   ]
  },
  {
   "cell_type": "code",
   "execution_count": null,
   "id": "f80a8d29-6356-4bb0-9e51-8073d3319d43",
   "metadata": {},
   "outputs": [],
   "source": [
    "nn.TransformerDecoder?"
   ]
  },
  {
   "cell_type": "code",
   "execution_count": null,
   "id": "a7de0eaa-930d-45de-af7d-69a0153a340a",
   "metadata": {},
   "outputs": [],
   "source": []
  },
  {
   "cell_type": "code",
   "execution_count": null,
   "id": "5a0f92a8-312c-452b-96a9-e841b17d64cc",
   "metadata": {},
   "outputs": [],
   "source": []
  },
  {
   "cell_type": "code",
   "execution_count": null,
   "id": "73cf71f6-4c0c-42e6-82d8-5b45d07d1c52",
   "metadata": {},
   "outputs": [],
   "source": []
  },
  {
   "cell_type": "code",
   "execution_count": null,
   "id": "a88eb2c8-b245-4097-a5c6-b95a2140227d",
   "metadata": {},
   "outputs": [],
   "source": []
  },
  {
   "cell_type": "code",
   "execution_count": null,
   "id": "5d5943af-4fc8-4064-bc26-c232ab379681",
   "metadata": {},
   "outputs": [],
   "source": []
  },
  {
   "cell_type": "code",
   "execution_count": null,
   "id": "513cd1af-34b1-4d26-8108-dde869c47336",
   "metadata": {},
   "outputs": [],
   "source": []
  },
  {
   "cell_type": "code",
   "execution_count": null,
   "id": "ddc04830-ce45-452c-bf0a-9d559f80fafa",
   "metadata": {},
   "outputs": [],
   "source": []
  },
  {
   "cell_type": "code",
   "execution_count": null,
   "id": "3a20d7a4-1e9d-42e2-872c-4e7be8c96c4f",
   "metadata": {},
   "outputs": [],
   "source": []
  }
 ],
 "metadata": {
  "kernelspec": {
   "display_name": "Python 3 (ipykernel)",
   "language": "python",
   "name": "python3"
  },
  "language_info": {
   "codemirror_mode": {
    "name": "ipython",
    "version": 3
   },
   "file_extension": ".py",
   "mimetype": "text/x-python",
   "name": "python",
   "nbconvert_exporter": "python",
   "pygments_lexer": "ipython3",
   "version": "3.8.0"
  }
 },
 "nbformat": 4,
 "nbformat_minor": 5
}
