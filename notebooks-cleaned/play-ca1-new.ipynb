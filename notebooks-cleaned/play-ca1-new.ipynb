{
 "cells": [
  {
   "cell_type": "code",
   "execution_count": null,
   "id": "8420c9d8-d234-4371-bb68-5057bb05cfdc",
   "metadata": {},
   "outputs": [],
   "source": [
    "from init_notebook import *\n",
    "from src.algo import ca1"
   ]
  },
  {
   "cell_type": "code",
   "execution_count": null,
   "id": "49df340d-6f03-436d-8fcf-c690b6644009",
   "metadata": {},
   "outputs": [],
   "source": [
    "rules = ca1.Ca1ReplaceRules(num_neighbours=2, num_states=2)\n",
    "f\"{len(rules):,}\""
   ]
  },
  {
   "cell_type": "code",
   "execution_count": null,
   "id": "035463fc-0160-48ed-8eca-a9d63b493ff2",
   "metadata": {},
   "outputs": [],
   "source": [
    "n_steps = 200\n",
    "input = torch.zeros(n_steps * 2, dtype=torch.uint8)\n",
    "input[input.shape[-1] // 2] = 1\n",
    "state = ca1.ca1_replace_step(\n",
    "    input=input,\n",
    "    lookup=ca1.Ca1ReplaceRules(num_states=2, num_neighbours=2).lookup(1_413_716_561),\n",
    "    num_states=2,\n",
    "    num_neighbours=2,\n",
    "    iterations=n_steps,\n",
    "    wrap=True,\n",
    ")\n",
    "VF.to_pil_image(resize(state.unsqueeze(0), 2) * 255)\n",
    "#px.imshow(state, height=state.shape[0] * 7 + 50)"
   ]
  }
 ],
 "metadata": {
  "kernelspec": {
   "display_name": "Python 3 (ipykernel)",
   "language": "python",
   "name": "python3"
  },
  "language_info": {
   "codemirror_mode": {
    "name": "ipython",
    "version": 3
   },
   "file_extension": ".py",
   "mimetype": "text/x-python",
   "name": "python",
   "nbconvert_exporter": "python",
   "pygments_lexer": "ipython3",
   "version": "3.12.3"
  }
 },
 "nbformat": 4,
 "nbformat_minor": 5
}
