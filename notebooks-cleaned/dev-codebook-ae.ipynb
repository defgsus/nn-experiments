{
 "cells": [
  {
   "cell_type": "code",
   "execution_count": null,
   "id": "9246d12d-17c5-4476-a000-68a66c0b3816",
   "metadata": {
    "tags": []
   },
   "outputs": [],
   "source": [
    "import sys\n",
    "sys.path.append(\"..\")\n",
    "\n",
    "import random\n",
    "\n",
    "import time\n",
    "import math\n",
    "import random\n",
    "from io import BytesIO\n",
    "from pathlib import Path\n",
    "from typing import Optional, Callable, List, Tuple, Iterable, Generator, Optional, Union\n",
    "\n",
    "from tqdm import tqdm\n",
    "import torch\n",
    "import torch.nn as nn\n",
    "import torch.nn.functional as F\n",
    "from torch.utils.data import Dataset, DataLoader, TensorDataset, IterableDataset\n",
    "import torchvision.transforms as VT\n",
    "import torchvision.transforms.functional as VF\n",
    "from torchvision.utils import make_grid\n",
    "from sklearn.decomposition import PCA, FactorAnalysis\n",
    "from sklearn.cluster import KMeans\n",
    "\n",
    "import PIL.Image\n",
    "import PIL.ImageDraw\n",
    "import plotly\n",
    "import plotly.express as px\n",
    "plotly.io.templates.default = \"plotly_dark\"\n",
    "import numpy as np\n",
    "import pandas as pd\n",
    "\n",
    "from src.datasets import *\n",
    "from src.util import *\n",
    "from src.util.image import * \n",
    "from src.algo import Space2d, IFS\n",
    "from src.datasets import *\n",
    "from src.models.cnn import *\n",
    "from src.models.encoder import *\n",
    "from src.models.decoder import *\n",
    "from src.models.transform import *\n",
    "from src.util.embedding import *\n",
    "\n",
    "def resize(img, scale: float, aa: bool = False):\n",
    "    return VF.resize(img, [max(1, int(s * scale)) for s in img.shape[-2:]], VF.InterpolationMode.BILINEAR if aa else VF.InterpolationMode.NEAREST, antialias=aa)"
   ]
  },
  {
   "cell_type": "code",
   "execution_count": null,
   "id": "7d09c1dd-9214-4805-ab15-6adf384842a1",
   "metadata": {
    "tags": []
   },
   "outputs": [],
   "source": [
    "class CodebookAutoencoder(nn.Module):\n",
    "    def __init__(\n",
    "            self, \n",
    "            shape: Tuple[int, int, int],\n",
    "            code_size: int,\n",
    "            code_dim: int,\n",
    "            channels: Iterable[int] = (16, 24, 32),\n",
    "            kernel_size: Union[int, Iterable[int]] = (3, 4, 3),\n",
    "            space_to_depth: bool = True,\n",
    "    ):\n",
    "        super().__init__()\n",
    "        self.shape = shape\n",
    "        self.code_size = code_size\n",
    "        self.code_dim = code_dim\n",
    "        self.encoder = EncoderConv2d(shape=shape, code_size=code_size * code_dim, channels=channels, kernel_size=kernel_size, space_to_depth=space_to_depth)\n",
    "        self.decoder = DecoderConv2d(shape=shape, code_size=code_size * code_dim, channels=list(reversed(channels)), kernel_size=kernel_size, space_to_depth=space_to_depth)\n",
    "        self.code_book = nn.Embedding(code_size, code_dim)\n",
    "\n",
    "    def encode_X(self, x: torch.Tensor) -> torch.Tensor:\n",
    "        codes = self.encoder(x).view(-1, self.code_size, self.code_dim)\n",
    "        # sim = codes @ self.code_book.weight.T\n",
    "        code_book_expanded = self.code_book.weight.unsqueeze(0).expand(x.shape[0], *self.code_book.weight.shape)\n",
    "        #print(codes.shape, code_book_expanded.shape)\n",
    "        #dist = torch.linalg.norm(codes - code_book_expanded, 1., -1)\n",
    "        dist = (codes - code_book_expanded).abs()#.mean(-1)\n",
    "        print(\"dist\", dist.shape)\n",
    "        m, indices = dist.min(dim=-1)\n",
    "        # indices = sim.argsort()[..., 0]\n",
    "        print(\"indices\", indices.shape, indices.min(), indices.max())\n",
    "        return indices\n",
    "\n",
    "    def encode_Y(self, x: torch.Tensor) -> torch.Tensor:\n",
    "        codes = self.encoder(x).view(-1, self.code_size, self.code_dim)\n",
    "        sim = codes @ self.code_book.weight.T\n",
    "        #print(\"sim\", sim.shape)\n",
    "        indices = sim.argmax(dim=-2)\n",
    "        print(\"indices\", indices.shape, indices.min(), indices.max())\n",
    "        return indices\n",
    "\n",
    "    def encode(self, x: torch.Tensor) -> torch.Tensor:\n",
    "        codes = self.encoder(x).view(-1, self.code_size, self.code_dim)\n",
    "        print(\"codes\", codes.shape, self.code_book.weight.shape)\n",
    "        sim = codes @ self.code_book.weight.T\n",
    "        #print(\"sim\", sim.shape)\n",
    "        indices = sim.argmax(dim=-2)\n",
    "        print(\"indices\", indices.shape, indices.min(), indices.max())\n",
    "        return indices\n",
    "\n",
    "    def decode(self, x: torch.Tensor) -> torch.Tensor:\n",
    "        codes = self.code_book(x).view(-1, self.code_size * self.code_dim)\n",
    "        return self.decoder(codes)\n",
    "\n",
    "    def forward(self, x: torch.Tensor) -> torch.Tensor:\n",
    "        return self.decode(self.encode(x))\n",
    "\n",
    "\n",
    "with torch.no_grad():\n",
    "    ae = CodebookAutoencoder((3, 32, 32), 128, 256)\n",
    "    print(f\"params: {num_module_parameters(ae):,}\")\n",
    "    image = torch.randn(10, 3, 32, 32)\n",
    "    output = ae(image)\n",
    "print(output.shape)\n",
    "VF.to_pil_image(resize(make_grid(output).clamp(0, 1), 2))"
   ]
  },
  {
   "cell_type": "code",
   "execution_count": null,
   "id": "d0d2abf4-ebf8-44d8-9014-63d8154cbfb6",
   "metadata": {
    "tags": []
   },
   "outputs": [],
   "source": []
  },
  {
   "cell_type": "code",
   "execution_count": null,
   "id": "2f8f2ed5-999f-4f82-a0ec-96ca3b7a627e",
   "metadata": {},
   "outputs": [],
   "source": []
  },
  {
   "cell_type": "code",
   "execution_count": null,
   "id": "61ef74a5-a5cc-4b31-a698-a5993ae79df4",
   "metadata": {
    "tags": []
   },
   "outputs": [],
   "source": [
    "from experiments.datasets import rpg_tile_dataset_3x32x32\n",
    "ds = rpg_tile_dataset_3x32x32((1, 32, 32), validation=True)"
   ]
  },
  {
   "cell_type": "code",
   "execution_count": null,
   "id": "95907c34-84a5-4f1c-b27a-bb5446d588cf",
   "metadata": {
    "tags": []
   },
   "outputs": [],
   "source": [
    "ae = CodebookAutoencoder((1, 32, 32), 128, 128)\n",
    "ae.load_state_dict(torch.load(\"../checkpoints/ae/codebook1/snapshot.pt\")[\"state_dict\"])"
   ]
  },
  {
   "cell_type": "code",
   "execution_count": null,
   "id": "6dfdf876-1ec4-4521-9786-36f7cb6c6b23",
   "metadata": {
    "tags": []
   },
   "outputs": [],
   "source": [
    "with torch.no_grad():\n",
    "    images = torch.concat([ds[i][0].unsqueeze(0) for i in range(10)])\n",
    "    print(images.shape)\n",
    "    repros = ae(images)\n",
    "    display(VF.to_pil_image(make_grid(images, nrow=len(images))))\n",
    "    display(VF.to_pil_image(make_grid(repros, nrow=len(images))))\n",
    "    print(F.l1_loss(repros, images))"
   ]
  },
  {
   "cell_type": "code",
   "execution_count": null,
   "id": "2d9c06f2-f114-44e2-ad60-13c5d784aac9",
   "metadata": {
    "tags": []
   },
   "outputs": [],
   "source": []
  },
  {
   "cell_type": "code",
   "execution_count": null,
   "id": "b6b8ea9c-68cc-4011-85e6-de98d0805035",
   "metadata": {
    "tags": []
   },
   "outputs": [],
   "source": []
  },
  {
   "cell_type": "code",
   "execution_count": null,
   "id": "9077c03f-e717-4af0-95ff-5a6e85485819",
   "metadata": {
    "tags": []
   },
   "outputs": [],
   "source": [
    "from src.models.encoder.vqvae import *\n",
    "vae = VQVAE(\n",
    "    in_channel=1,\n",
    "    channel=256,\n",
    "    n_res_block=2,\n",
    "    n_res_channel=64,\n",
    "    embed_dim=16,\n",
    "    n_embed=1024,\n",
    ")\n",
    "vae.load_state_dict(torch.load(\"../checkpoints/ae/vqvae4/snapshot.pt\")[\"state_dict\"])\n",
    "vae = vae.eval()"
   ]
  },
  {
   "cell_type": "code",
   "execution_count": null,
   "id": "95033d84-f54e-4a9f-bf4a-ac7eab72578e",
   "metadata": {
    "tags": []
   },
   "outputs": [],
   "source": [
    "with torch.inference_mode():\n",
    "    #image = torch.randn(10, 1, 32, 32)\n",
    "    image = resize(torch.concat([ds[i][0].unsqueeze(0) for i in range(10)]), 1, aa=False)\n",
    "    output, diff = vae(image)\n",
    "    codes = vae.encode(image)\n",
    "    print(\"codes\", [c.shape for c in codes])\n",
    "    print(\"codes\", [(c.mean(), c.std()) for c in codes[:2]])\n",
    "    print(\"reduction\", math.prod(image.shape[-3:]) / (math.prod(codes[0].shape[-3:]) + math.prod(codes[1].shape[-3:])))\n",
    "print(output.shape, diff.shape)\n",
    "VF.to_pil_image(resize(make_grid(output).clamp(0, 1), 2))"
   ]
  },
  {
   "cell_type": "code",
   "execution_count": null,
   "id": "58d18c99-7ae6-4501-a600-4991a4fb4ff5",
   "metadata": {
    "tags": []
   },
   "outputs": [],
   "source": [
    "32*32, (2*4*4 + 2*8*8)"
   ]
  },
  {
   "cell_type": "code",
   "execution_count": null,
   "id": "3db7657d-8dfe-4f2a-8263-603a207ff65b",
   "metadata": {
    "tags": []
   },
   "outputs": [],
   "source": [
    "with torch.inference_mode():\n",
    "    features = torch.randn(10, 64, 1, 1) * .2, torch.randn(10, 64, 2, 2) * 0.6\n",
    "    output = vae.decode(*features)\n",
    "    print(\"out:\", output.shape)\n",
    "VF.to_pil_image(resize(make_grid(output).clamp(0, 1), 2))"
   ]
  },
  {
   "cell_type": "code",
   "execution_count": null,
   "id": "81677673-112f-4608-8aae-b62f7a0a4014",
   "metadata": {
    "tags": []
   },
   "outputs": [],
   "source": [
    "q = Quantize(12, 1000)#.eval()"
   ]
  },
  {
   "cell_type": "code",
   "execution_count": null,
   "id": "c102bf42-d585-488d-a023-fd9f9e19de31",
   "metadata": {
    "tags": []
   },
   "outputs": [],
   "source": [
    "print(q(torch.ones(2, 12)))\n",
    "print(list(q.buffers()))"
   ]
  },
  {
   "cell_type": "code",
   "execution_count": null,
   "id": "1b9cc75c-b6c7-45d9-aa76-9d4a2e915945",
   "metadata": {
    "tags": []
   },
   "outputs": [],
   "source": [
    "from src.models.encoder.vqvae import *\n",
    "\n",
    "class Autoencoder(nn.Module):\n",
    "    def __init__(\n",
    "            self, \n",
    "            shape: Tuple[int, int, int],\n",
    "            code_size: int,\n",
    "            channel=128,\n",
    "            n_res_block=2,\n",
    "            n_res_channel=32,\n",
    "    ):\n",
    "        super().__init__()\n",
    "        self.encoder = nn.Sequential()\n",
    "        self.encoder.add_module(\"enc_b\", Encoder(shape[0], channel, n_res_block, n_res_channel, stride=4))\n",
    "        self.encoder.add_module(\"enc_t\", Encoder(channel, channel, n_res_block, n_res_channel, stride=2))\n",
    "        \n",
    "        with torch.no_grad():\n",
    "            enc_shape = self.encoder(torch.empty(1, *shape)).shape[-3:]\n",
    "            print(enc_shape)\n",
    "        \n",
    "        self.encoder.add_module(\"flatteb\", nn.Flatten(1))\n",
    "        self.encoder.add_module(\"linear\", nn.Linear(math.prod(enc_shape), code_size))\n",
    "        \n",
    "        self.decoder = nn.Sequential()\n",
    "        self.decoder.add_module(\"linear\", nn.Linear(code_size, math.prod(enc_shape)))\n",
    "        self.decoder.add_module(\"reshape\", Reshape(enc_shape))\n",
    "        self.decoder.add_module(\"dec\", Decoder(\n",
    "            channel,\n",
    "            shape[0],\n",
    "            channel,\n",
    "            n_res_block,\n",
    "            n_res_channel,\n",
    "            stride=6,\n",
    "        ))\n",
    "    \n",
    "    def forward(self, x):\n",
    "        return self.decoder(self.encoder(x))\n",
    "    \n",
    "with torch.no_grad():\n",
    "    ae = Autoencoder((3, 32, 32), 128)\n",
    "    print(f\"params: {num_module_parameters(ae):,}\")\n",
    "    image = torch.randn(10, 3, 32, 32)\n",
    "    output = ae(image)\n",
    "print(output.shape)\n",
    "VF.to_pil_image(resize(make_grid(output).clamp(0, 1), 2))"
   ]
  },
  {
   "cell_type": "code",
   "execution_count": null,
   "id": "3a1224ab-233b-421a-b118-052def63dae6",
   "metadata": {},
   "outputs": [],
   "source": []
  },
  {
   "cell_type": "code",
   "execution_count": null,
   "id": "e27bc0ee-4722-46af-ac74-0ec6b3a1c275",
   "metadata": {},
   "outputs": [],
   "source": []
  },
  {
   "cell_type": "code",
   "execution_count": null,
   "id": "fabcb723-6492-431a-ac73-5f857ee9c0be",
   "metadata": {},
   "outputs": [],
   "source": []
  },
  {
   "cell_type": "code",
   "execution_count": null,
   "id": "797b9b23-6e98-4c01-a87f-11769a6da04c",
   "metadata": {},
   "outputs": [],
   "source": []
  },
  {
   "cell_type": "code",
   "execution_count": null,
   "id": "7d687f96-cf9e-4928-bd99-7ccb1320324e",
   "metadata": {
    "tags": []
   },
   "outputs": [],
   "source": [
    "class Sobel(nn.Module):\n",
    "    def __init__(\n",
    "            self,\n",
    "            magnitude: bool = True,\n",
    "            direction: bool = True,\n",
    "            padding: int = 0,\n",
    "    ):\n",
    "        super().__init__()\n",
    "        self.magnitude = magnitude\n",
    "        self.direction = direction\n",
    "        self.padding = padding\n",
    "        self.kernel_1 = nn.Parameter(torch.Tensor([[[\n",
    "            [1, 0, -1], [2, 0, -2], [1, 0, -1]\n",
    "        ]]]), requires_grad=False)\n",
    "        self.kernel_2 = nn.Parameter(torch.Tensor([[[\n",
    "            [1, 2, 1], [0, 0, 0], [-1, -2, -1]\n",
    "        ]]]), requires_grad=False)\n",
    "\n",
    "    def forward(self, x):\n",
    "        g1 = F.conv2d(x, self.kernel_1, padding=self.padding)\n",
    "        g2 = F.conv2d(x, self.kernel_2, padding=self.padding)\n",
    "\n",
    "        if self.magnitude:\n",
    "            mag = torch.sqrt(g1 ** 2 + g2 ** 2)\n",
    "\n",
    "        if self.direction:\n",
    "            dir = torch.atan2(g1, g2)\n",
    "\n",
    "        if self.magnitude:\n",
    "            if not self.direction:\n",
    "                return mag\n",
    "            else:\n",
    "                return torch.concat([mag, dir], dim=1)\n",
    "        else:\n",
    "            if self.direction:\n",
    "                return dir\n",
    "            else:\n",
    "                raise ValueError(\"Must define at least one of `magnitude` or `direction`\")\n",
    "\n",
    "display(VF.to_pil_image(resize(make_grid(images, nrow=20), 3)))\n",
    "display(VF.to_pil_image(resize(make_grid(Sobel(direction=True, padding=1)(images), nrow=20), 3)))\n",
    "Sobel(direction=True)(images).shape\n"
   ]
  },
  {
   "cell_type": "code",
   "execution_count": null,
   "id": "0cd07797-2199-4bef-9806-b5a2431ed304",
   "metadata": {
    "tags": []
   },
   "outputs": [],
   "source": [
    "F.conv2d?"
   ]
  }
 ],
 "metadata": {
  "kernelspec": {
   "display_name": "Python 3 (ipykernel)",
   "language": "python",
   "name": "python3"
  },
  "language_info": {
   "codemirror_mode": {
    "name": "ipython",
    "version": 3
   },
   "file_extension": ".py",
   "mimetype": "text/x-python",
   "name": "python",
   "nbconvert_exporter": "python",
   "pygments_lexer": "ipython3",
   "version": "3.8.0"
  }
 },
 "nbformat": 4,
 "nbformat_minor": 5
}
