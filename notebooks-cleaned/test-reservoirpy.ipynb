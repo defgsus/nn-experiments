{
 "cells": [
  {
   "cell_type": "code",
   "execution_count": null,
   "id": "cbe6814d-5b74-4735-af2c-4814e3c5c4fd",
   "metadata": {
    "tags": []
   },
   "outputs": [],
   "source": [
    "import sys\n",
    "sys.path.append(\"..\")\n",
    "\n",
    "import numpy as np\n",
    "import pandas as pd\n",
    "import plotly\n",
    "import plotly.express as px\n",
    "plotly.io.templates.default = \"plotly_dark\"\n",
    "pd.options.plotting.backend = \"plotly\"\n",
    "from IPython.display import display, HTML, Audio\n",
    "\n",
    "import reservoirpy\n",
    "reservoirpy.verbosity(0)\n",
    "from reservoirpy.nodes import Reservoir, Ridge, Input, IPReservoir\n",
    "\n",
    "from src.algo import numpy_perlin_noise_2d"
   ]
  },
  {
   "cell_type": "code",
   "execution_count": null,
   "id": "fa4477bb-f1a8-4101-b368-1fe9fe5a54f1",
   "metadata": {
    "tags": []
   },
   "outputs": [],
   "source": []
  },
  {
   "cell_type": "code",
   "execution_count": null,
   "id": "3cec8acb-7638-4a32-9495-8311607403f9",
   "metadata": {
    "tags": []
   },
   "outputs": [],
   "source": [
    "data_df_list = []\n",
    "for i in range(1, 31):\n",
    "    data_df_list.append(pd.read_csv(f\"/home/bergi/prog/python/github/parking-data/csv/2023/2023-01/2023-01-{i:02}.csv\"))\n",
    "data_df = pd.concat(data_df_list)\n",
    "data_df[\"timestamp\"] = pd.to_datetime(data_df[\"timestamp\"])\n",
    "data_df = data_df.set_index(\"timestamp\").resample(\"1h\").mean()\n",
    "data_df[\"parken-mannheim-Hauptbahnhof-P4-Parkhaus\"].plot()\n",
    "#reservoir.feedback()"
   ]
  },
  {
   "cell_type": "code",
   "execution_count": null,
   "id": "4eef0b1a-b393-489b-a605-63876310bb0d",
   "metadata": {
    "tags": []
   },
   "outputs": [],
   "source": [
    "(data_df.isna()).sum(axis=0).sort_values()"
   ]
  },
  {
   "cell_type": "code",
   "execution_count": null,
   "id": "a9b1c255-1563-4576-ac19-f8bb7315411c",
   "metadata": {
    "tags": []
   },
   "outputs": [],
   "source": [
    "data_df[\"parken-mannheim-Hauptbahnhof-P1-Tiefgarage\"].plot()\n"
   ]
  },
  {
   "cell_type": "code",
   "execution_count": null,
   "id": "43333cfb-6668-4fdd-ae57-1a287e46d9b7",
   "metadata": {
    "tags": []
   },
   "outputs": [],
   "source": [
    "reservoir = Reservoir(100, lr=0.5, sr=0.9)\n",
    "reservoir"
   ]
  },
  {
   "cell_type": "code",
   "execution_count": null,
   "id": "a77cbfca-527b-4ade-ad7e-aea9e850031b",
   "metadata": {
    "tags": []
   },
   "outputs": [],
   "source": [
    "data = np.linspace(0, 1, 100).reshape(1, -1)\n",
    "reservoir.reset()\n",
    "states = np.concatenate([\n",
    "    reservoir(data)\n",
    "    for i in range(50)\n",
    "])\n",
    "states.shape\n",
    "px.line(states[:, :10])\n",
    "#print(reservoir.state())\n",
    "#px.line(reservoir.state().T)\n",
    "#px.line(.T)"
   ]
  },
  {
   "cell_type": "code",
   "execution_count": null,
   "id": "5371a907-dff9-4b8f-899b-13cff405d385",
   "metadata": {
    "tags": []
   },
   "outputs": [],
   "source": [
    "data = np.linspace(0, 6*np.pi, 100)\n",
    "data = np.sin(data) + np.sin(data * 3.)\n",
    "#data = np.sin(data + np.sin(data * 14)) * np.sin(data * 3.1)\n",
    "X = data[:-1]\n",
    "X_target = data[1:] #np.random.binomial(data > 0, .5)\n",
    "px.line(pd.DataFrame({\"train\": X, \"test\": X_target}))"
   ]
  },
  {
   "cell_type": "code",
   "execution_count": null,
   "id": "39481f9d-c381-4c8d-bf6b-854045b2f1be",
   "metadata": {
    "tags": []
   },
   "outputs": [],
   "source": [
    "\n",
    "from reservoirpy.nodes import IPReservoir, NVAR\n",
    "\n",
    "def predict_series(input_series):\n",
    "    if input_series.ndim == 1:\n",
    "        input_series = input_series.reshape(1, -1, 1)\n",
    "    elif input_series.ndim == 2:\n",
    "        input_series = input_series.reshape(input_series.shape[0], -1, 1)\n",
    "        \n",
    "    #input_series = input_series.reshape(-1, 1)\n",
    "    target_series = input_series[:, 1:]\n",
    "    input_series = input_series[:, :-1]\n",
    "\n",
    "    data = Input()\n",
    "    res1 = Reservoir(\n",
    "        1000, lr=.5, sr=.9,\n",
    "        #rc_connectivity=.1,\n",
    "        activation=lambda x: np.sin(x * 2.)\n",
    "    )\n",
    "    res2 = IPReservoir(1000, lr=.5, sr=.9, rc_connectivity=.5)\n",
    "    #res2 = Reservoir(1000, lr=1., rc_connectivity=.1)\n",
    "    readout1 = Ridge(ridge=1e-7) \n",
    "    #readout2 = Ridge(ridge=1e-7) \n",
    "    #res2 <<= readout1\n",
    "    \n",
    "    #path1 = [data >> res1, data >> res2] >> readout1\n",
    "    #path2 = res1 >> res2\n",
    "    #model = path1 & path2\n",
    "    model = [data >> res1] >> readout1\n",
    "    \n",
    "    model.fit(input_series, target_series)\n",
    "    #model.fit(input_series, {readout1.name: target_series, readout2.name: target_series})\n",
    "    output = model.run(input_series, reset=True)\n",
    "    if isinstance(output, list):\n",
    "        output = np.concatenate([o[None, ...] for o in output])\n",
    "    elif output.ndim == 2:\n",
    "        output = output.reshape(1, -1, 1)\n",
    "        \n",
    "    # print(target_series.shape, output.shape)\n",
    "    error_l1 = np.abs(target_series - output).mean()\n",
    "    error_l2 = np.sqrt(((target_series - output) ** 2).sum())\n",
    "    display(px.line(\n",
    "        pd.DataFrame({\n",
    "            \"targets\": target_series[0].reshape(-1), \n",
    "            \"output\": output[0].reshape(-1), \n",
    "            \"error\": (target_series - output)[0].reshape(-1)\n",
    "        }),\n",
    "        title=f\"error l1 {error_l1:.3f}, l2 {error_l2:.3f}\",\n",
    "    ))\n",
    "    \n",
    "    #inp = input_series[:]\n",
    "    output1 = model.run(input_series, reset=True)\n",
    "    if isinstance(output1, list):\n",
    "        output1 = np.concatenate([o[None, ...] for o in output1])\n",
    "    elif output1.ndim == 2:\n",
    "        output1 = output1.reshape(1, -1, 1)\n",
    "    output1 = output1[0]\n",
    "    output2 = np.zeros((30000, 1))\n",
    "    x = output1[-1]\n",
    "    for i in range(output2.shape[0]):\n",
    "        x = model(x)\n",
    "        output2[i] = x\n",
    "    #print(output1.shape, output2.shape)\n",
    "    display(px.line(\n",
    "        np.concatenate([output1, output2])[:1000 + output1.shape[0]],\n",
    "        title=f\"{min(1000, output2.shape[0])} prediction after {output1.shape[0]} steps\",\n",
    "    ))\n",
    "    display(Audio(output2.reshape(-1), rate=22050))\n",
    "\n",
    "#data = numpy_perlin_noise_2d((10, 200), (10, 10))\n",
    "data = np.linspace(0, 2.*np.pi, 1000)\n",
    "data = np.sin(data) + .3 * np.sin(data * 3.)\n",
    "predict_series(data)"
   ]
  },
  {
   "cell_type": "code",
   "execution_count": null,
   "id": "607a849d-ff84-4940-9a09-cddf1db69d35",
   "metadata": {
    "tags": []
   },
   "outputs": [],
   "source": []
  },
  {
   "cell_type": "markdown",
   "id": "ebf1c9e7-dede-4d90-b90c-fa76b95bbfda",
   "metadata": {
    "tags": []
   },
   "source": [
    "# class prediction"
   ]
  },
  {
   "cell_type": "code",
   "execution_count": null,
   "id": "52124f88-cfb7-416b-b461-9f6cbd599a20",
   "metadata": {
    "tags": []
   },
   "outputs": [],
   "source": [
    "import torchtext.datasets\n",
    "ds = torchtext.datasets.EnWik9()\n",
    "wiki_texts = []\n",
    "for line, _ in zip(ds, range(1000)):\n",
    "    if len(line) > 300:\n",
    "        wiki_texts.append(line[:3000])\n",
    "display(wiki_texts[:10])\n",
    "display([decode_text(encode_text(t)) for t in wiki_texts[:10]])"
   ]
  },
  {
   "cell_type": "code",
   "execution_count": null,
   "id": "24b1453a-8cd1-4004-aac8-d71ae85a5426",
   "metadata": {
    "tags": []
   },
   "outputs": [],
   "source": [
    "def encode_sequence(sequence, num_classes: int):\n",
    "    output = np.zeros((len(sequence), num_classes))\n",
    "    for i, s in enumerate(sequence):\n",
    "        output[i, s] = 1.\n",
    "    return output\n",
    "\n",
    "CHAR_MAPPING = {}\n",
    "for c in \" ,.:/[]0123456789\":\n",
    "    CHAR_MAPPING[c] = len(CHAR_MAPPING)\n",
    "for c in range(ord('a'), ord('z') + 1):\n",
    "    CHAR_MAPPING[chr(c)] = len(CHAR_MAPPING)\n",
    "CODE_MAPPING = {\n",
    "    v: k \n",
    "    for k, v in CHAR_MAPPING.items()\n",
    "}\n",
    "def encode_text(text: str) -> np.ndarray:\n",
    "    classes = [\n",
    "        CHAR_MAPPING[c]\n",
    "        for c in text.lower()\n",
    "        if c in CHAR_MAPPING\n",
    "    ]\n",
    "    return encode_sequence(classes, num_classes=len(CHAR_MAPPING))\n",
    "\n",
    "def decode_text(code: np.ndarray) -> str:\n",
    "    text = []\n",
    "    for classes in code:\n",
    "        c = np.argmax(classes)\n",
    "        text.append(CODE_MAPPING.get(c, \"?\"))\n",
    "    return \"\".join(text)\n",
    "    \n",
    "#encode_sequence([0, 1, 2, 3, 2, 1, 0], 4)\n",
    "decode_text(encode_text(\"abc defz\"))\n",
    "#CHAR_MAPPING"
   ]
  },
  {
   "cell_type": "code",
   "execution_count": null,
   "id": "84879df0-b2be-4728-aa2f-97335c6f719f",
   "metadata": {
    "tags": []
   },
   "outputs": [],
   "source": []
  },
  {
   "cell_type": "code",
   "execution_count": null,
   "id": "708ade72-3239-4b4a-8a7d-ecd1fc91badf",
   "metadata": {
    "tags": []
   },
   "outputs": [],
   "source": [
    "def predict_text(*text, max_length: int = 100, wormup: int = 0, noise: float = 0.):\n",
    "    input_series = [\n",
    "        encode_text(t)[None, :max_length, :]\n",
    "        for t in text\n",
    "    ]\n",
    "    max_len = max(code.shape[1] for code in input_series)\n",
    "    input_series = np.concatenate([\n",
    "        np.pad(s, [(0, 0), (0, max_len - s.shape[1]), (0, 0)])\n",
    "        for s in input_series\n",
    "    ])\n",
    "    target_series = input_series[:, 1:]\n",
    "    input_series = input_series[:, :-1]\n",
    "    \n",
    "    data = Input()\n",
    "    res1 = Reservoir(\n",
    "        1000, lr=.5, sr=.9,\n",
    "        rc_connectivity=.9,\n",
    "        activation=lambda x: np.sin(x * 2.),\n",
    "        noise_rc=noise,\n",
    "    )\n",
    "    #res2 = IPReservoir(1000, lr=.5, sr=.9, rc_connectivity=.5)\n",
    "    #res2 = Reservoir(1000, lr=1., rc_connectivity=.1)\n",
    "    readout1 = Ridge(ridge=1e-7) \n",
    "    model = [data >> res1] >> readout1\n",
    "    \n",
    "    model.fit(input_series, target_series, warmup=wormup)\n",
    "    #model.fit(input_series, {readout1.name: target_series, readout2.name: target_series})\n",
    "    output = model.run(input_series, reset=True)\n",
    "    if isinstance(output, list):\n",
    "        output = np.concatenate([o[None, ...] for o in output])\n",
    "    elif output.ndim == 2:\n",
    "        output = output.reshape(1, -1, output.shape[-1])\n",
    "    \n",
    "    def _plot_img(series, title):\n",
    "        s = series[0].T.copy()\n",
    "        s[s == 0] = np.nan\n",
    "        display(px.imshow(s, title=title, aspect=False))\n",
    "    \n",
    "    error_l1 = np.abs(target_series - output).mean()\n",
    "    error_l2 = np.sqrt(((target_series - output) ** 2).sum())\n",
    "\n",
    "    if 1:\n",
    "        _plot_img(target_series, \"targets\")\n",
    "        _plot_img(-(target_series - output), f\"output error l1 {error_l1:.3f}, l2 {error_l2:.3f}\")\n",
    "        display(px.line(\n",
    "            pd.DataFrame({\n",
    "                \"targets\": target_series[0, :, 0].reshape(-1), \n",
    "                \"output\": output[0, :, 0].reshape(-1), \n",
    "                \"error\": (target_series - output)[0, :, 0].reshape(-1)\n",
    "            }),\n",
    "            title=f\"first class, {error_l1:.3f}, l2 {error_l2:.3f}\",\n",
    "        ))\n",
    "    \n",
    "    output = model.run(input_series[:1, :input_series.shape[1] // 2], reset=True)\n",
    "    \n",
    "    if isinstance(output, list):\n",
    "        output = np.concatenate([o[None, ...] for o in output])\n",
    "    elif output.ndim == 2:\n",
    "        output = output.reshape(1, -1, output.shape[-1])\n",
    "    \n",
    "    output = output[0]\n",
    "    output2 = np.zeros((1000, output.shape[-1]))\n",
    "    x = output[-1]\n",
    "    for i in range(output2.shape[0]):\n",
    "        x = model(x)\n",
    "        klass = np.argmax(x)\n",
    "        x[:] = 0\n",
    "        x[:, klass] = 1\n",
    "        output2[i] = x\n",
    "    \n",
    "    output2 = np.concatenate([output, output2])\n",
    "    out_text = decode_text(output2)\n",
    "    print(out_text)\n",
    "\n",
    "predict_text(\n",
    "    *wiki_texts[:10],\n",
    "    #\"a simple text to learn to predict the next character. this is usually done with recurrent networks\"\n",
    "    #\" which are kind of hard to train. in reservoir computing we only train the readout module\"\n",
    "    #\" and let the reservoir rnn simply do its magic without intereferring\",\n",
    "    #\"a second text that has nothing to do with the first except that it uses the same characters\"\n",
    "    #\" and the same language.\",\n",
    "    noise=0.0,\n",
    ")"
   ]
  },
  {
   "cell_type": "code",
   "execution_count": null,
   "id": "f6561647-96bd-4061-a2a6-d9bf42d7c673",
   "metadata": {
    "tags": []
   },
   "outputs": [],
   "source": []
  },
  {
   "cell_type": "code",
   "execution_count": null,
   "id": "0219b3a9-0d5f-4a8c-90c6-814334c29387",
   "metadata": {
    "tags": []
   },
   "outputs": [],
   "source": []
  },
  {
   "cell_type": "code",
   "execution_count": null,
   "id": "5ac14c29-e3b3-422a-916c-59818aa89dc7",
   "metadata": {},
   "outputs": [],
   "source": []
  },
  {
   "cell_type": "code",
   "execution_count": null,
   "id": "748fd195-4124-4873-affd-dd7dd3de1a40",
   "metadata": {
    "tags": []
   },
   "outputs": [],
   "source": []
  },
  {
   "cell_type": "code",
   "execution_count": null,
   "id": "46a4e889-a0d5-4032-ab72-764d31e4bed8",
   "metadata": {
    "tags": []
   },
   "outputs": [],
   "source": [
    "def act(x):\n",
    "    return np.sin(x * 1.3)\n",
    "    #return np.clip(x, 0, 10)\n",
    "\n",
    "res = Reservoir(100, seed=42, sr=.9, rc_connectivity=.9, activation=act, noise_rc=.1)\n",
    "#inp = np.linspace(0, 10*np.pi*2, 100).reshape(-1, 1)\n",
    "inp = np.zeros((100, 1))\n",
    "inp[0] = 1.\n",
    "outp = res.run(inp, reset=True)\n",
    "display(px.imshow(outp.T))\n",
    "px.line(outp[:, :10])"
   ]
  },
  {
   "cell_type": "code",
   "execution_count": null,
   "id": "f1f473c2-25d8-4fab-815d-fbc22bd0084d",
   "metadata": {
    "tags": []
   },
   "outputs": [],
   "source": [
    "r = Reservoir(50, lr=0.1, sr=0.9, rc_connectivity=.5)\n",
    "r(np.random.random((1, 100)))\n",
    "px.imshow(r.W.toarray(), height=500)"
   ]
  },
  {
   "cell_type": "code",
   "execution_count": null,
   "id": "7fb51c63-4c4c-404f-971c-22dfbb14672d",
   "metadata": {
    "tags": []
   },
   "outputs": [],
   "source": [
    "Reservoir?"
   ]
  },
  {
   "cell_type": "code",
   "execution_count": null,
   "id": "c48658d0-39ef-443a-b0da-f858e1cce811",
   "metadata": {},
   "outputs": [],
   "source": []
  },
  {
   "cell_type": "code",
   "execution_count": null,
   "id": "e0a87699-6d80-4e0c-90cc-32e7d9a93aa6",
   "metadata": {},
   "outputs": [],
   "source": []
  },
  {
   "cell_type": "code",
   "execution_count": null,
   "id": "1c7b910e-e298-4171-9721-d18517b98824",
   "metadata": {},
   "outputs": [],
   "source": []
  },
  {
   "cell_type": "code",
   "execution_count": null,
   "id": "a904f8c8-3d59-41a6-872b-f55cadf740aa",
   "metadata": {},
   "outputs": [],
   "source": []
  },
  {
   "cell_type": "code",
   "execution_count": null,
   "id": "6b5257df-9061-46ab-b648-d3600d762755",
   "metadata": {},
   "outputs": [],
   "source": []
  },
  {
   "cell_type": "code",
   "execution_count": null,
   "id": "9dec535d-9b8c-48ab-aa4a-def3e03a6316",
   "metadata": {},
   "outputs": [],
   "source": []
  }
 ],
 "metadata": {
  "kernelspec": {
   "display_name": "Python 3 (ipykernel)",
   "language": "python",
   "name": "python3"
  },
  "language_info": {
   "codemirror_mode": {
    "name": "ipython",
    "version": 3
   },
   "file_extension": ".py",
   "mimetype": "text/x-python",
   "name": "python",
   "nbconvert_exporter": "python",
   "pygments_lexer": "ipython3",
   "version": "3.8.0"
  }
 },
 "nbformat": 4,
 "nbformat_minor": 5
}
