{
 "cells": [
  {
   "cell_type": "code",
   "execution_count": null,
   "id": "31c71695-2241-4eca-9d9d-185cee6ce071",
   "metadata": {},
   "outputs": [],
   "source": [
    "from init_notebook import *"
   ]
  },
  {
   "cell_type": "code",
   "execution_count": null,
   "id": "529f5185-2e1c-429d-8717-af99a822c883",
   "metadata": {},
   "outputs": [],
   "source": [
    "from experiments.datasets import *"
   ]
  },
  {
   "cell_type": "code",
   "execution_count": null,
   "id": "5a976c27-210a-44fd-b994-a8975a8e4e10",
   "metadata": {},
   "outputs": [],
   "source": [
    "next(iter(TeletextIterableDataset()))"
   ]
  },
  {
   "cell_type": "markdown",
   "id": "91219282-9066-4b23-84dd-e88efdccb53f",
   "metadata": {},
   "source": [
    "# get used characters "
   ]
  },
  {
   "cell_type": "code",
   "execution_count": null,
   "id": "d23bab41-7942-48c3-936c-ab947c713d94",
   "metadata": {},
   "outputs": [],
   "source": [
    "character_counts = {}\n",
    "try:\n",
    "    for text, meta in tqdm(TeletextIterableDataset()):\n",
    "        for c in text:\n",
    "            character_counts[c] = character_counts.get(c, 0) + 1\n",
    "except KeyboardInterrupt:\n",
    "    pass\n",
    "len(character_counts)"
   ]
  },
  {
   "cell_type": "code",
   "execution_count": null,
   "id": "252639af-91b8-4549-8fc6-eba3f870bc87",
   "metadata": {},
   "outputs": [],
   "source": [
    "from src.util.text_encoder import TextEncoder\n",
    "text_encoder = TextEncoder(\"bytefreq\")\n",
    "\n",
    "def embed_text(text: str):\n",
    "    return text_encoder.encode([text])[0].numpy().astype(np.float16)\n",
    "\n",
    "display(px.bar(embed_text(\"Hello!\")))"
   ]
  },
  {
   "cell_type": "code",
   "execution_count": null,
   "id": "62226b48-3376-414e-8434-777455822dc6",
   "metadata": {},
   "outputs": [],
   "source": [
    "NUM_FEATURES = 10_000\n",
    "embeddings = []\n",
    "try:\n",
    "    for text, meta in tqdm(\n",
    "            TeletextIterableDataset()\n",
    "            .shuffle(100_000)\n",
    "            .limit(NUM_FEATURES)\n",
    "    ):\n",
    "        embeddings.append(embed_text(text))\n",
    "        \n",
    "except KeyboardInterrupt:\n",
    "    pass\n",
    "    \n",
    "embeddings = np.stack(embeddings)\n",
    "embeddings.shape"
   ]
  },
  {
   "cell_type": "code",
   "execution_count": null,
   "id": "8b078ec5-0513-4162-a973-0a01b2f363f9",
   "metadata": {},
   "outputs": [],
   "source": [
    "px.bar(embeddings.mean(0))"
   ]
  },
  {
   "cell_type": "code",
   "execution_count": null,
   "id": "afe6e37a-bbe7-400d-9607-de983b76f9c2",
   "metadata": {},
   "outputs": [],
   "source": [
    "NUM_CLUSTERS = 10\n",
    "\n",
    "from sklearn.cluster import KMeans, SpectralClustering\n",
    "\n",
    "#clusterer = SpectralClustering(n_clusters=10)\n",
    "clusterer = KMeans(n_clusters=NUM_CLUSTERS, n_init=\"auto\")\n",
    "\n",
    "cluster_labels = clusterer.fit_predict(embeddings)"
   ]
  },
  {
   "cell_type": "code",
   "execution_count": null,
   "id": "519cb71b-20bc-42fd-8563-e5bf30e0f256",
   "metadata": {},
   "outputs": [],
   "source": [
    "px.bar(np.histogram(cluster_labels, clusterer.n_clusters, (0, clusterer.n_clusters))[0])"
   ]
  },
  {
   "cell_type": "code",
   "execution_count": null,
   "id": "167fe7ee-d5f7-40e7-88a7-a50611143bc5",
   "metadata": {},
   "outputs": [],
   "source": [
    "num_shown = {}\n",
    "try:\n",
    "    for text, meta in tqdm(\n",
    "            TeletextIterableDataset()\n",
    "            # .shuffle(100_000)\n",
    "            .limit(NUM_FEATURES)\n",
    "    ):\n",
    "        embed = embed_text(text)[None, :]\n",
    "        l = clusterer.predict(embed)[0]\n",
    "        num_shown[l] = num_shown.get(l, 0) + 1\n",
    "        if num_shown[l] < 2:\n",
    "            print(f\"----- {l} ----\")\n",
    "            print(text)\n",
    "            \n",
    "except KeyboardInterrupt:\n",
    "    pass\n",
    "    "
   ]
  },
  {
   "cell_type": "code",
   "execution_count": null,
   "id": "dbe2d5c5-c83e-4165-b550-2077b240e84f",
   "metadata": {},
   "outputs": [],
   "source": [
    "np.save?"
   ]
  }
 ],
 "metadata": {
  "kernelspec": {
   "display_name": "Python 3 (ipykernel)",
   "language": "python",
   "name": "python3"
  },
  "language_info": {
   "codemirror_mode": {
    "name": "ipython",
    "version": 3
   },
   "file_extension": ".py",
   "mimetype": "text/x-python",
   "name": "python",
   "nbconvert_exporter": "python",
   "pygments_lexer": "ipython3",
   "version": "3.8.0"
  }
 },
 "nbformat": 4,
 "nbformat_minor": 5
}
