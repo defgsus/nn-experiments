{
 "cells": [
  {
   "cell_type": "code",
   "execution_count": null,
   "id": "65dd5096-b06e-4b91-8c93-746da1754856",
   "metadata": {},
   "outputs": [],
   "source": [
    "from init_notebook import *"
   ]
  },
  {
   "cell_type": "code",
   "execution_count": null,
   "id": "f8a2ba24-16a8-476d-9393-daaf7396e121",
   "metadata": {},
   "outputs": [],
   "source": []
  },
  {
   "cell_type": "code",
   "execution_count": null,
   "id": "6125179b-6682-47ba-bfc6-e402b6eee6b1",
   "metadata": {},
   "outputs": [],
   "source": [
    "model = TotalCALayer(\n",
    "    birth=  (0, 0, 0, 1, 0, 0, 0, 0, 0),\n",
    "    survive=(0, 0, 1, 1, 0, 0, 0, 0, 0),\n",
    "    iterations=1,\n",
    ")"
   ]
  },
  {
   "cell_type": "code",
   "execution_count": null,
   "id": "eeec8332-f4ac-45d5-9707-6113376c873c",
   "metadata": {},
   "outputs": [],
   "source": [
    "target_image = torch.zeros(1, 128, 128)\n",
    "target_image[:, 60:68, 60:68] = 1.\n",
    "image_param = nn.Parameter(torch.rand_like(target_image).bernoulli(), requires_grad=True)\n",
    "\n",
    "optimizer = torch.optim.SGD([image_param], 0.01)\n",
    "loss_func = nn.L1Loss()\n",
    "\n",
    "grad_max = 0.\n",
    "with tqdm(range(1000)) as progress:\n",
    "    for i in progress:\n",
    "        output = model(image_param)\n",
    "        if i % 100 == -1:\n",
    "            display(VF.to_pil_image(\n",
    "                make_grid([image_param, output])\n",
    "            ))\n",
    "        loss = loss_func(output, target_image)\n",
    "        optimizer.zero_grad()\n",
    "        loss.backward()\n",
    "        optimizer.step()\n",
    "        grad_max = max(grad_max, image_param.grad.max().item())\n",
    "        progress.set_postfix({\"loss\": loss.item(), \"grad_max\": grad_max})\n"
   ]
  },
  {
   "cell_type": "code",
   "execution_count": null,
   "id": "6dea0d0f-fa6c-42be-b634-43c921081890",
   "metadata": {},
   "outputs": [],
   "source": [
    "inp = torch.rand(3, 3)\n",
    "display(inp)\n",
    "F.tanhshrink(inp / .1).round()"
   ]
  },
  {
   "cell_type": "code",
   "execution_count": null,
   "id": "1e506a25-70ba-436d-a108-96d7c5299253",
   "metadata": {},
   "outputs": [],
   "source": [
    "x = torch.linspace(-2, 2, 100)\n",
    "y = F.tanhshrink(x / .1) * .1\n",
    "px.line(x=x, y=y)"
   ]
  },
  {
   "cell_type": "code",
   "execution_count": null,
   "id": "2885598e-3b12-4508-9736-bf0d35c4eeae",
   "metadata": {},
   "outputs": [],
   "source": [
    "x = torch.linspace(-1, 1, 100)\n",
    "y = F.sigmoid(1000. * (x - .5)) \n",
    "px.line(x=x, y=y)"
   ]
  },
  {
   "cell_type": "code",
   "execution_count": null,
   "id": "190b204a-aef3-483b-9b76-1ce03ced8c3a",
   "metadata": {},
   "outputs": [],
   "source": [
    "torch.where(inp >= .5, 1., 0.)"
   ]
  }
 ],
 "metadata": {
  "kernelspec": {
   "display_name": "Python 3 (ipykernel)",
   "language": "python",
   "name": "python3"
  },
  "language_info": {
   "codemirror_mode": {
    "name": "ipython",
    "version": 3
   },
   "file_extension": ".py",
   "mimetype": "text/x-python",
   "name": "python",
   "nbconvert_exporter": "python",
   "pygments_lexer": "ipython3",
   "version": "3.12.3"
  }
 },
 "nbformat": 4,
 "nbformat_minor": 5
}
