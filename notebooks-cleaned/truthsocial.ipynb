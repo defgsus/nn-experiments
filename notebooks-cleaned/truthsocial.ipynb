{
 "cells": [
  {
   "cell_type": "code",
   "execution_count": null,
   "id": "9d464cdf-7b4a-4b70-92c3-e8be4ca91f29",
   "metadata": {
    "tags": []
   },
   "outputs": [],
   "source": [
    "import websockets"
   ]
  },
  {
   "cell_type": "code",
   "execution_count": null,
   "id": "7182cfef-76f2-4dbe-99e2-763245ad6a18",
   "metadata": {
    "tags": []
   },
   "outputs": [],
   "source": [
    "connect?"
   ]
  },
  {
   "cell_type": "code",
   "execution_count": null,
   "id": "fd6079a3-887a-4d4e-91db-d9b215c567d2",
   "metadata": {
    "tags": []
   },
   "outputs": [],
   "source": [
    "import asyncio\n",
    "from websockets.sync.client import connect\n",
    "\n",
    "def hello():\n",
    "    with connect(\"wss://truthsocial.com\", open_timeout=1) as websocket:\n",
    "        #websocket.send(\"Hello world!\")\n",
    "        message = websocket.recv()\n",
    "        print(f\"Received: {message}\")\n",
    "\n",
    "hello()\n",
    "#c = websockets.connect()"
   ]
  },
  {
   "cell_type": "code",
   "execution_count": null,
   "id": "d0c88d82-faba-4e86-99a6-2957d09cd0d6",
   "metadata": {
    "tags": []
   },
   "outputs": [],
   "source": [
    "websockets?"
   ]
  }
 ],
 "metadata": {
  "kernelspec": {
   "display_name": "Python 3 (ipykernel)",
   "language": "python",
   "name": "python3"
  },
  "language_info": {
   "codemirror_mode": {
    "name": "ipython",
    "version": 3
   },
   "file_extension": ".py",
   "mimetype": "text/x-python",
   "name": "python",
   "nbconvert_exporter": "python",
   "pygments_lexer": "ipython3",
   "version": "3.8.0"
  }
 },
 "nbformat": 4,
 "nbformat_minor": 5
}
