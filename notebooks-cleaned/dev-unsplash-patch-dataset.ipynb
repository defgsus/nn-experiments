{
 "cells": [
  {
   "cell_type": "code",
   "execution_count": null,
   "id": "6961e309-4de0-433c-9a0d-702fce6f6a33",
   "metadata": {},
   "outputs": [],
   "source": [
    "from init_notebook import *"
   ]
  },
  {
   "cell_type": "code",
   "execution_count": null,
   "id": "aac75353-bb81-4b18-976b-adb89da73ea4",
   "metadata": {},
   "outputs": [],
   "source": [
    "dsu = UnsplashDataset(data=(\"tensor\",), max_size=160, cache_size=200)"
   ]
  },
  {
   "cell_type": "code",
   "execution_count": null,
   "id": "f18d6684-9b7c-42b6-8c45-4f713e15e84a",
   "metadata": {},
   "outputs": [],
   "source": [
    "ds = (\n",
    "    dsu.repeat(3, per_item=True)\n",
    "    .random_crop_all((96, 96))\n",
    "    #.to_iterable()\n",
    "    #.shuffle(max_shuffle=200*3)\n",
    "    .transform([lambda i: set_image_channels(i, 3)])\n",
    ")"
   ]
  },
  {
   "cell_type": "code",
   "execution_count": null,
   "id": "f24d664f-2509-4dc9-8fa0-141e3bd913b1",
   "metadata": {},
   "outputs": [],
   "source": [
    "for i in tqdm(ds):\n",
    "    pass\n",
    "dsu._cache_misses"
   ]
  },
  {
   "cell_type": "code",
   "execution_count": null,
   "id": "53203a24-b7c5-47b9-8c7e-35edc3171010",
   "metadata": {},
   "outputs": [],
   "source": [
    "images = [i[0] for i in ds.limit(64)]\n",
    "VF.to_pil_image(make_grid(images))"
   ]
  },
  {
   "cell_type": "code",
   "execution_count": null,
   "id": "ea48b951-e584-4529-b686-920ce509a928",
   "metadata": {},
   "outputs": [],
   "source": []
  },
  {
   "cell_type": "code",
   "execution_count": null,
   "id": "b7ddfb33-0820-47a4-8666-61ac46a30038",
   "metadata": {},
   "outputs": [],
   "source": [
    "for i in tqdm(DataLoader(ds, batch_size=64, num_workers=2)):\n",
    "    pass"
   ]
  },
  {
   "cell_type": "code",
   "execution_count": null,
   "id": "751a0a20-aac7-4480-8aab-3b5c2650c219",
   "metadata": {},
   "outputs": [],
   "source": []
  },
  {
   "cell_type": "code",
   "execution_count": null,
   "id": "ee7c0ba8-1a5d-405f-8ed2-1da9fdf5d8ca",
   "metadata": {},
   "outputs": [],
   "source": []
  },
  {
   "cell_type": "code",
   "execution_count": null,
   "id": "3389df79-a3f6-473d-8de8-2349f833ca81",
   "metadata": {},
   "outputs": [],
   "source": [
    "from src import config\n",
    "max_size = 160\n",
    "min_size = 96\n",
    "store_path = config.BIG_DATASETS_PATH / \"unsplash\" / f\"images-maxs{new_size}\"\n",
    "os.makedirs(store_path, exist_ok=True)\n",
    "for image, data in tqdm(UnsplashDataset(max_size=640, data=(\"pil\", \"data\"))):\n",
    "    w, h = image.width, image.height\n",
    "    if w >= h:\n",
    "        new_w = max_size\n",
    "        new_h = h * max_size // w\n",
    "        if new_h < min_size:\n",
    "            fac = min_size / new_h\n",
    "            new_h = max(min_size, int(new_h * fac))\n",
    "            new_w = max(min_size, int(new_w * fac))\n",
    "    else:\n",
    "        new_h = max_size\n",
    "        new_w = w * max_size // h\n",
    "        if new_w < min_size:\n",
    "            fac = min_size / new_w\n",
    "            new_h = max(min_size, int(new_h * fac))\n",
    "            new_w = max(min_size, int(new_w * fac))\n",
    "\n",
    "    assert new_w >= min_size, new_h >= min_size\n",
    "    image = VF.resize(image, (new_h, new_w), antialias=True)\n",
    "    #if data[\"photo_id\"] == \"bqyrVuu7X_o\":\n",
    "    #    print(w, h, \"->\", new_w, new_h)    \n",
    "    #    image = VF.resize(image, (new_h, new_w), antialias=True)\n",
    "    #    display(image)\n",
    "    #    break\n",
    "    #display(image)\n",
    "    image.save(store_path / f'{data[\"photo_id\"]}.png')\n",
    "    "
   ]
  },
  {
   "cell_type": "code",
   "execution_count": null,
   "id": "7acc3f9c-f5ad-4298-9bec-b1d425c9dc6d",
   "metadata": {},
   "outputs": [],
   "source": [
    "144*144*3*3"
   ]
  },
  {
   "cell_type": "code",
   "execution_count": null,
   "id": "7b8b3533-238c-4c74-8c4a-ab8b975f7e1c",
   "metadata": {},
   "outputs": [],
   "source": [
    "81216 * 564"
   ]
  },
  {
   "cell_type": "code",
   "execution_count": null,
   "id": "c5aa7f72-05d9-4d1c-a805-c7514d6d3618",
   "metadata": {},
   "outputs": [],
   "source": [
    "3*96*96 / (24*24)"
   ]
  },
  {
   "cell_type": "code",
   "execution_count": null,
   "id": "ae047b51-8973-47b4-82aa-5288cce64dc5",
   "metadata": {},
   "outputs": [],
   "source": [
    "max_shuffle = 10\n",
    "indices = []\n",
    "stack = []\n",
    "for i in tqdm(range(100)):\n",
    "    stack.append(i)\n",
    "    if len(stack) >= max_shuffle:\n",
    "        indices.append(stack.pop(random.randrange(len(stack))))\n",
    "while stack:\n",
    "    indices.append(stack.pop(random.randrange(len(stack))))\n",
    "indices"
   ]
  },
  {
   "cell_type": "code",
   "execution_count": null,
   "id": "2ea46a71-0777-4691-bfb0-2c066c43171a",
   "metadata": {},
   "outputs": [],
   "source": []
  },
  {
   "cell_type": "code",
   "execution_count": null,
   "id": "c684c2d9-6aff-4102-8cca-bbc2f28abd94",
   "metadata": {},
   "outputs": [],
   "source": []
  },
  {
   "cell_type": "code",
   "execution_count": null,
   "id": "7d108f19-a7cc-4dd2-9b09-6dc4c7bd598a",
   "metadata": {},
   "outputs": [],
   "source": []
  }
 ],
 "metadata": {
  "kernelspec": {
   "display_name": "Python 3 (ipykernel)",
   "language": "python",
   "name": "python3"
  },
  "language_info": {
   "codemirror_mode": {
    "name": "ipython",
    "version": 3
   },
   "file_extension": ".py",
   "mimetype": "text/x-python",
   "name": "python",
   "nbconvert_exporter": "python",
   "pygments_lexer": "ipython3",
   "version": "3.8.0"
  }
 },
 "nbformat": 4,
 "nbformat_minor": 5
}
