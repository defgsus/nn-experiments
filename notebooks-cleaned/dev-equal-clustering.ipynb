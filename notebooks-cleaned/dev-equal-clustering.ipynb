{
 "cells": [
  {
   "cell_type": "code",
   "execution_count": null,
   "id": "22e1b43c-9c5b-43cf-8cab-8ea14388764d",
   "metadata": {
    "tags": []
   },
   "outputs": [],
   "source": [
    "import sys\n",
    "sys.path.append(\"..\")\n",
    "\n",
    "import random\n",
    "import math\n",
    "import itertools\n",
    "from io import BytesIO\n",
    "from pathlib import Path\n",
    "from typing import Optional, Callable, List, Tuple, Iterable, Generator, Union\n",
    "\n",
    "import PIL.Image\n",
    "import PIL.ImageDraw\n",
    "import plotly\n",
    "import plotly.express as px\n",
    "plotly.io.templates.default = \"plotly_dark\"\n",
    "import numpy as np\n",
    "import pandas as pd\n",
    "\n",
    "from tqdm import tqdm\n",
    "import torch\n",
    "import torch.nn as nn\n",
    "import torch.nn.functional as F\n",
    "from torch.utils.data import Dataset, DataLoader, TensorDataset, IterableDataset, RandomSampler\n",
    "import torchvision.transforms as VT\n",
    "import torchvision.transforms.functional as VF\n",
    "from torchvision.utils import make_grid\n",
    "from IPython.display import display\n",
    "\n",
    "from src.datasets import *\n",
    "from src.util.image import *\n",
    "from src.util import *\n",
    "from src.algo import *\n",
    "from src.models.cnn import *\n",
    "from src.cluster import *"
   ]
  },
  {
   "cell_type": "code",
   "execution_count": null,
   "id": "e0e3c66d-b129-401f-b772-463f73f0d1e5",
   "metadata": {
    "tags": []
   },
   "outputs": [],
   "source": [
    "def plot_histogram(labels, sorted: bool = False):\n",
    "    counts, _ = np.histogram(labels, bins=int(labels.max()) + 1)\n",
    "    if sorted:\n",
    "        counts.sort()\n",
    "    if counts.shape[0] > 1000:\n",
    "        return px.line(counts)\n",
    "    else:\n",
    "        return px.bar(counts)"
   ]
  },
  {
   "cell_type": "code",
   "execution_count": null,
   "id": "a7794bc2-7c1a-4976-88b7-38713d373130",
   "metadata": {
    "tags": []
   },
   "outputs": [],
   "source": [
    "!ls ../datasets/"
   ]
  },
  {
   "cell_type": "code",
   "execution_count": null,
   "id": "926408f7-a7f3-4cd9-84e0-a699148db59f",
   "metadata": {
    "tags": []
   },
   "outputs": [],
   "source": [
    "features = torch.load(\"../datasets/kali-uint8-64x64-CLIP.pt\")#[:10000]\n",
    "features.shape"
   ]
  },
  {
   "cell_type": "code",
   "execution_count": null,
   "id": "3e8ff8eb-9083-437f-89a5-47a21f339620",
   "metadata": {
    "tags": []
   },
   "outputs": [],
   "source": [
    "torch.zeros((3, 2), dtype=torch.float32)"
   ]
  },
  {
   "cell_type": "code",
   "execution_count": null,
   "id": "e0a3bfc3-a8ae-4cf4-8c6e-c02fc936d443",
   "metadata": {
    "tags": []
   },
   "outputs": [],
   "source": [
    "from sklearn import cluster\n",
    "#clusterer = cluster.KMeans(1000, random_state=23, n_init=1, verbose=2)\n",
    "clusterer = cluster.MiniBatchKMeans(1000, batch_size=1024, random_state=23, n_init=1, verbose=2)\n",
    "dl = DataLoader(features, batch_size=1024)\n",
    "for batch in tqdm(dl):\n",
    "    clusterer.partial_fit(batch)"
   ]
  },
  {
   "cell_type": "code",
   "execution_count": null,
   "id": "4e8f6b3f-174f-4d3b-bd7b-a8ee040181cf",
   "metadata": {
    "tags": []
   },
   "outputs": [],
   "source": [
    "labels = clusterer.predict(features)\n",
    "plot_histogram(labels, sorted=True)"
   ]
  },
  {
   "cell_type": "code",
   "execution_count": null,
   "id": "2f88e01b-a8e9-41ed-b990-44510630a96b",
   "metadata": {
    "tags": []
   },
   "outputs": [],
   "source": [
    "clusterer = AutoCluster(\n",
    "    distance_threshold=.01,\n",
    "    max_n_clusters=100,\n",
    "    verbose=True,\n",
    ")\n",
    "labels = clusterer.fit_transform(np.random.rand(10000, 512))\n",
    "plot_histogram(labels, sorted=True)"
   ]
  },
  {
   "cell_type": "code",
   "execution_count": null,
   "id": "3e3e8ea5-4fbf-47b5-964c-5dea35f40e01",
   "metadata": {
    "tags": []
   },
   "outputs": [],
   "source": [
    "labels"
   ]
  },
  {
   "cell_type": "code",
   "execution_count": null,
   "id": "e1ab0d54-a420-4e21-96b7-66d7f150d621",
   "metadata": {
    "tags": []
   },
   "outputs": [],
   "source": []
  },
  {
   "cell_type": "code",
   "execution_count": null,
   "id": "e92fbd1a-8a63-4d0b-9d98-d7091ef69619",
   "metadata": {
    "tags": []
   },
   "outputs": [],
   "source": []
  },
  {
   "cell_type": "code",
   "execution_count": null,
   "id": "899ab30d-6f72-477d-9c1e-46803fd7a101",
   "metadata": {},
   "outputs": [],
   "source": []
  }
 ],
 "metadata": {
  "kernelspec": {
   "display_name": "Python 3 (ipykernel)",
   "language": "python",
   "name": "python3"
  },
  "language_info": {
   "codemirror_mode": {
    "name": "ipython",
    "version": 3
   },
   "file_extension": ".py",
   "mimetype": "text/x-python",
   "name": "python",
   "nbconvert_exporter": "python",
   "pygments_lexer": "ipython3",
   "version": "3.8.0"
  }
 },
 "nbformat": 4,
 "nbformat_minor": 5
}
