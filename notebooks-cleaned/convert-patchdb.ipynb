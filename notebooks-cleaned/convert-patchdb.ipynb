{
 "cells": [
  {
   "cell_type": "code",
   "execution_count": null,
   "id": "09cea0a8-5885-455d-b2ec-bc1780e9e8bb",
   "metadata": {
    "tags": []
   },
   "outputs": [],
   "source": [
    "import sys\n",
    "sys.path.append(\"..\")\n",
    "\n",
    "import random\n",
    "import math\n",
    "import itertools\n",
    "from copy import deepcopy\n",
    "from io import BytesIO\n",
    "from pathlib import Path\n",
    "from typing import Optional, Callable, List, Tuple, Iterable, Generator, Union, Dict\n",
    "\n",
    "import PIL.Image\n",
    "import PIL.ImageDraw\n",
    "import plotly\n",
    "import plotly.express as px\n",
    "import plotly.graph_objects as go\n",
    "plotly.io.templates.default = \"plotly_dark\"\n",
    "import numpy as np\n",
    "import pandas as pd\n",
    "pd.options.plotting.backend = \"plotly\"\n",
    "\n",
    "from tqdm import tqdm\n",
    "import torch\n",
    "import torch.nn as nn\n",
    "import torch.nn.functional as F\n",
    "from torch.utils.data import Dataset, DataLoader, TensorDataset, IterableDataset, RandomSampler\n",
    "import torchvision.transforms as VT\n",
    "import torchvision.transforms.functional as VF\n",
    "from torchvision.utils import make_grid\n",
    "from IPython.display import display\n",
    "\n",
    "from src.datasets import *\n",
    "from src.algo import GreedyLibrary\n",
    "from src.util.image import *\n",
    "from src.util import to_torch_device\n",
    "from src.patchdb import PatchDB\n",
    "from src.models.encoder import *"
   ]
  },
  {
   "cell_type": "code",
   "execution_count": null,
   "id": "6e048363-e777-43be-95b4-ccb370352dfe",
   "metadata": {
    "tags": []
   },
   "outputs": [],
   "source": [
    "!ls -l ../db/*.patchdb"
   ]
  },
  {
   "cell_type": "markdown",
   "id": "fcfdfa02-2f96-4e4b-9066-94e25e0057ac",
   "metadata": {},
   "source": [
    "# load patchdb"
   ]
  },
  {
   "cell_type": "code",
   "execution_count": null,
   "id": "49e73644-2537-44e5-b219-2e25d3f2b0dc",
   "metadata": {
    "tags": []
   },
   "outputs": [],
   "source": [
    "db = PatchDB(\n",
    "    #\"../db/photos-1x32x32-2.patchdb\", \n",
    "    #\"../db/photos-bigpatch-1x32x32.patchdb\",\n",
    "    #\"../db/kali-1x32x32.patchdb\",\n",
    "    #\"../db/diverse-1x32x32-3b.patchdb\",\n",
    "    \"../db/hyperplane-1x32x32-convall1.patchdb\",\n",
    "    \n",
    "    #encoder=encoder,\n",
    "    patch_shape=(1, 32, 32),\n",
    "    verbose=True, limit=1_000_000, \n",
    ")\n",
    "index = db.index()\n",
    "print(f\"{index.size} patches, {len(index.filenames())} images\")"
   ]
  },
  {
   "cell_type": "markdown",
   "id": "5a563772-8492-49d7-9350-8072132bd607",
   "metadata": {},
   "source": [
    "# select new encoder"
   ]
  },
  {
   "cell_type": "code",
   "execution_count": null,
   "id": "a32ea055-bc8c-4edd-83a3-8405097fe52c",
   "metadata": {
    "tags": []
   },
   "outputs": [],
   "source": [
    "!ls -l ../models/encoder2d/"
   ]
  },
  {
   "cell_type": "code",
   "execution_count": null,
   "id": "27999171-f3d0-4233-bb09-f180b11ec09a",
   "metadata": {
    "tags": []
   },
   "outputs": [],
   "source": [
    "if 0:\n",
    "    # copy from training\n",
    "    torch.save(\n",
    "        torch.load(\"../checkpoints/rbm3/best.pt\")[\"state_dict\"],\n",
    "        \"../models/encoder2d/boltzman-1x32x32-128-photo.pt\",\n",
    "    )\n",
    "    \n",
    "#encoder = BoltzmanEncoder2d.from_torch(\"../models/encoder2d/boltzman-1x32x32-128-photo-300M.pt\")\n",
    "encoder = EncoderConv2d.from_torch(\"../models/encoder2d/conv-1x32x32-128-all1.pt\")\n",
    "\n",
    "encoder.device"
   ]
  },
  {
   "cell_type": "code",
   "execution_count": null,
   "id": "bdd5d7f3-3256-4ae3-9bea-e083533e4dfd",
   "metadata": {
    "tags": []
   },
   "outputs": [],
   "source": [
    "db2 = db.to_new_patchdb(\n",
    "    filename=\"../db/hyperplane-inv-1x32x32-convall1.patchdb\",\n",
    "    encoder=encoder,\n",
    "    transforms=[lambda x: 1. - x],\n",
    ")"
   ]
  },
  {
   "cell_type": "code",
   "execution_count": null,
   "id": "997d8b91-4bf6-4b81-ade9-3a6da161a440",
   "metadata": {},
   "outputs": [],
   "source": []
  }
 ],
 "metadata": {
  "kernelspec": {
   "display_name": "Python 3 (ipykernel)",
   "language": "python",
   "name": "python3"
  },
  "language_info": {
   "codemirror_mode": {
    "name": "ipython",
    "version": 3
   },
   "file_extension": ".py",
   "mimetype": "text/x-python",
   "name": "python",
   "nbconvert_exporter": "python",
   "pygments_lexer": "ipython3",
   "version": "3.8.0"
  }
 },
 "nbformat": 4,
 "nbformat_minor": 5
}
