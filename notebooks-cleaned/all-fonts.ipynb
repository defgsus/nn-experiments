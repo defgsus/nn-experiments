{
 "cells": [
  {
   "cell_type": "code",
   "execution_count": null,
   "id": "1a5df0e9-6e65-4525-8fb6-0f8907ba6258",
   "metadata": {},
   "outputs": [],
   "source": [
    "from pathlib import Path\n",
    "import PIL.Image, PIL.ImageDraw, PIL.ImageFont\n",
    "from torchvision.utils import make_grid\n",
    "import torchvision.transforms.functional as VF"
   ]
  },
  {
   "cell_type": "code",
   "execution_count": null,
   "id": "97d4b8b7-e6c9-4094-a915-0bab922a4761",
   "metadata": {},
   "outputs": [],
   "source": [
    "fontfiles = list(\n",
    "    Path(\"/usr/share/fonts/truetype/\")\n",
    "    .rglob(\"*.?tf\")\n",
    ")\n",
    "len(fontfiles)"
   ]
  },
  {
   "cell_type": "code",
   "execution_count": null,
   "id": "66cadf93-f18d-4d07-b630-085c6e508853",
   "metadata": {},
   "outputs": [],
   "source": [
    "images = []\n",
    "for fontfile in fontfiles:#[:10]:\n",
    "    try:\n",
    "        font = PIL.ImageFont.truetype(str(fontfile), 20)\n",
    "    except Exception as e:\n",
    "        print(f\"{fontfile}: {type(e).__name__}: {e}\")\n",
    "        continue\n",
    "    image = PIL.Image.new(\"RGB\", (200, 40))\n",
    "    draw = PIL.ImageDraw.ImageDraw(image)\n",
    "    text= fontfile.name\n",
    "    draw.text((5, 3), text, font=font, fill=(255, 255, 255))\n",
    "    images.append( VF.to_tensor(image) )\n",
    "\n",
    "display(VF.to_pil_image(make_grid(images)))"
   ]
  },
  {
   "cell_type": "code",
   "execution_count": null,
   "id": "2ff9972b-3e2a-4e82-b62a-9fe74b2114f4",
   "metadata": {},
   "outputs": [],
   "source": [
    "\n",
    "\n",
    "font = PIL.ImageFont.truetype(\n",
    "    #\"/home/bergi/.local/share/fonts/LEMONMILK-LIGHTITALIC.OTF\"\n",
    "    #\"/home/bergi/.local/share/fonts/LEMONMILK-MEDIUMITALIC.OTF\"\n",
    "    #\"/home/bergi/.local/share/fonts/unscii-16-full.ttf\"\n",
    "    \"/usr/share/fonts/truetype/open-sans/OpenSans-ExtraBold.ttf\"\n",
    "    , 25)\n",
    "image = PIL.Image.new(\"RGB\", (200, 40))\n",
    "draw = PIL.ImageDraw.ImageDraw(image)\n",
    "draw.text((30, 7), \"hello world\", font=font, fill=(255, 255, 255))\n",
    "image = VF.to_tensor(image)\n",
    "#image = (image + torch.rand_like(image[:1]) * .2).clamp(0, 1)\n",
    "VF.to_pil_image(image)"
   ]
  }
 ],
 "metadata": {
  "kernelspec": {
   "display_name": "Python 3 (ipykernel)",
   "language": "python",
   "name": "python3"
  },
  "language_info": {
   "codemirror_mode": {
    "name": "ipython",
    "version": 3
   },
   "file_extension": ".py",
   "mimetype": "text/x-python",
   "name": "python",
   "nbconvert_exporter": "python",
   "pygments_lexer": "ipython3",
   "version": "3.8.0"
  }
 },
 "nbformat": 4,
 "nbformat_minor": 5
}
