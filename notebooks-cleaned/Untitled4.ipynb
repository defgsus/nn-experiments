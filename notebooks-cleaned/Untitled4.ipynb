{
 "cells": [
  {
   "cell_type": "code",
   "execution_count": null,
   "id": "dd96e43b-65ba-40c0-ad7b-fa0123c1170b",
   "metadata": {},
   "outputs": [],
   "source": [
    "import torch\n",
    "import open_clip"
   ]
  },
  {
   "cell_type": "code",
   "execution_count": null,
   "id": "9d7a9542-2461-4f3e-bd6d-41072f1700d9",
   "metadata": {},
   "outputs": [],
   "source": [
    "t = torch.rand(64)\n",
    "t[:, None, None, None].repeat(1, 1, 10, 10).shape"
   ]
  },
  {
   "cell_type": "code",
   "execution_count": null,
   "id": "327d699e-ba5d-437f-9285-0863972a3cce",
   "metadata": {},
   "outputs": [],
   "source": [
    "model, train_preproc, preproc = open_clip.create_model_and_transforms(\"hf-hub:chs20/fare4-clip\")"
   ]
  },
  {
   "cell_type": "code",
   "execution_count": null,
   "id": "c75b63e7-5958-4641-8c01-4aa4150d28dc",
   "metadata": {},
   "outputs": [],
   "source": [
    "model(torch.rand(1, 3, 230, 230))\n"
   ]
  }
 ],
 "metadata": {
  "kernelspec": {
   "display_name": "Python 3 (ipykernel)",
   "language": "python",
   "name": "python3"
  },
  "language_info": {
   "codemirror_mode": {
    "name": "ipython",
    "version": 3
   },
   "file_extension": ".py",
   "mimetype": "text/x-python",
   "name": "python",
   "nbconvert_exporter": "python",
   "pygments_lexer": "ipython3",
   "version": "3.8.0"
  }
 },
 "nbformat": 4,
 "nbformat_minor": 5
}
