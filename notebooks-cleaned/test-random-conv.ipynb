{
 "cells": [
  {
   "cell_type": "code",
   "execution_count": null,
   "id": "47a21f59-3d70-46c7-8fa6-21384c3b7788",
   "metadata": {},
   "outputs": [],
   "source": [
    "from init_notebook import *\n",
    "from src.util.binarydb import BinaryDB"
   ]
  },
  {
   "cell_type": "code",
   "execution_count": null,
   "id": "6679c615-a784-4acc-afa3-43fe05a20874",
   "metadata": {},
   "outputs": [],
   "source": [
    "db = BinaryDB(\n",
    "    config.PROJECT_PATH / \"cache\" / \"random_pca\" / \"db2.sqlite\",\n",
    ")"
   ]
  },
  {
   "cell_type": "code",
   "execution_count": null,
   "id": "6c50143b-133b-41a0-94d3-6eeda0b426c1",
   "metadata": {},
   "outputs": [],
   "source": [
    "param_map = {}\n",
    "for id, meta in db.iter_meta():\n",
    "    param_id = db.to_id(meta[\"params\"])\n",
    "    param_map.setdefault(param_id, []).append(meta)"
   ]
  },
  {
   "cell_type": "code",
   "execution_count": null,
   "id": "eaeca0e5-a85c-49df-af45-3b355b32fbe6",
   "metadata": {},
   "outputs": [],
   "source": [
    "rows = []\n",
    "for trials in param_map.values():\n",
    "    if len(trials) < 4:\n",
    "        continue\n",
    "    row = {\n",
    "        **{\n",
    "            f\"{key}-{i}\": v\n",
    "            for key, value in trials[0][\"params\"].items()\n",
    "            for i, v in enumerate(value)\n",
    "            if key not in (\"activation\", \"channels\")\n",
    "        },\n",
    "        **{\n",
    "            key: np.array([t[\"result\"][key] for t in trials]).mean()\n",
    "            for key in trials[0][\"result\"].keys()\n",
    "        },\n",
    "        \"min_val_acc\": min(t[\"result\"][\"val_accuracy\"] for t in trials),\n",
    "        \"max_val_acc\": max(t[\"result\"][\"val_accuracy\"] for t in trials),\n",
    "        \"trails\": len(trials),\n",
    "        \"config\": \", \".join(f\"{key}=\" + \",\".join(str(v) for v in value) for key, value in trials[0][\"params\"].items() if key not in (\"activation\",)),\n",
    "    }\n",
    "    rows.append(row)\n",
    "\n",
    "df = pd.DataFrame(rows).sort_values(\"val_accuracy\")\n",
    "def _norm(x):\n",
    "    return (x - x.min()) / (x.max() - x.min())\n",
    "df[\"fitness\"] = _norm(df[\"val_accuracy\"]) + .3 * _norm(df[\"throughput\"])\n",
    "df = df.sort_values(\"fitness\")\n",
    "df_configs = df.pop(\"config\")\n",
    "df.tail(50)"
   ]
  },
  {
   "cell_type": "code",
   "execution_count": null,
   "id": "36478825-52bc-4d8c-834b-98a40e02a864",
   "metadata": {},
   "outputs": [],
   "source": [
    "px.scatter(\n",
    "    df, \n",
    "    x=\"throughput\", y=\"val_accuracy\", \n",
    "    hover_name=df_configs,\n",
    "    color=\"ratio\",\n",
    "    hover_data=(\"fitness\", \"throughput\", \"min_val_acc\", \"max_val_acc\"),\n",
    ")"
   ]
  },
  {
   "cell_type": "code",
   "execution_count": null,
   "id": "53d9758b-9530-4a49-a9a6-776323627d3b",
   "metadata": {},
   "outputs": [],
   "source": [
    "px.scatter(\n",
    "    df, \n",
    "    #x=\"throughput\", \n",
    "    x=\"ratio\",\n",
    "    y=\"val_accuracy\", \n",
    "    hover_name=df_configs,\n",
    "    color=\"throughput\",\n",
    "    hover_data=(\"fitness\", \"throughput\", \"min_val_acc\", \"max_val_acc\"),\n",
    ")"
   ]
  },
  {
   "cell_type": "code",
   "execution_count": null,
   "id": "613eded6-0d5c-4651-8d60-2aba417b0aa1",
   "metadata": {},
   "outputs": [],
   "source": []
  },
  {
   "cell_type": "code",
   "execution_count": null,
   "id": "4002c0fa-7059-4a70-9a2a-7c7a21f84fe1",
   "metadata": {},
   "outputs": [],
   "source": [
    "px.scatter(\n",
    "    df, \n",
    "    x=\"throughput\", y=\"ratio\", \n",
    "    hover_name=df_configs,\n",
    "    color=\"val_accuracy\",\n",
    "    hover_data=(\"val_accuracy\", \"fitness\", \"throughput\", \"min_val_acc\", \"max_val_acc\"),\n",
    ")"
   ]
  },
  {
   "cell_type": "code",
   "execution_count": null,
   "id": "be02b857-ae12-491c-b164-b7eec3d5f01b",
   "metadata": {},
   "outputs": [],
   "source": [
    "df[(df[\"kernel_size-0\"] == 3) & (df[\"kernel_size-1\"] == 3) & (df[\"kernel_size-2\"] == 3) & (df[\"stride-0\"] == 2)]"
   ]
  },
  {
   "cell_type": "code",
   "execution_count": null,
   "id": "2e33d89d-2742-4468-9ff8-dc11acbb93cd",
   "metadata": {},
   "outputs": [],
   "source": [
    "import graphviz\n",
    "\n",
    "def plot_conv(\n",
    "    kernel_size: List[int],\n",
    "    stride: List[int],\n",
    "    dilation: List[int],\n",
    "):\n",
    "    g = graphviz.Graph()\n",
    "    size = kernel_size[0] + 2\n",
    "    for layer_idx in range(len(kernel_size)):\n",
    "        ks = kernel_size[layer_idx]\n",
    "        st = stride[layer_idx]\n",
    "        for cell_idx in range(size):\n",
    "            g.node(f\"L{layer_idx}/{cell_idx}\")\n",
    "            if layer_idx > 0:\n",
    "                g.edge(f\"C{layer_idx-1}/{cell_idx}\", f\"L{layer_idx}/{cell_idx}\")\n",
    "        for cell_idx in range(ks):\n",
    "            g.node(f\"C{layer_idx}/{cell_idx}\")\n",
    "            for i in range(size - ks//2):\n",
    "                g.edge(f\"L{layer_idx}/{i*st+cell_idx}\", f\"C{layer_idx}/{cell_idx}\")\n",
    "        size = size - ks//2\n",
    "    return g\n",
    "\n",
    "plot_conv((9, 3, 3), (3, 1, 2), (2, 3, 1))"
   ]
  },
  {
   "cell_type": "code",
   "execution_count": null,
   "id": "8b7e3878-f14f-4bc5-9eec-7653b44b1e23",
   "metadata": {},
   "outputs": [],
   "source": [
    "from scripts.test_random_conv import ConvModel\n",
    "m = ConvModel((64, 64, 64), (9, 3, 3), (3, 1, 2), (2, 3, 1), (\"relu\", \"relu\", \"relu\"))\n",
    "display(m)\n",
    "m(torch.ones(1, 3, 96, 96)).shape"
   ]
  },
  {
   "cell_type": "code",
   "execution_count": null,
   "id": "c22f6731-e20f-4338-9eb3-cc1cf44ea51c",
   "metadata": {},
   "outputs": [],
   "source": []
  },
  {
   "cell_type": "code",
   "execution_count": null,
   "id": "8b25b519-52de-467d-9373-12c37ea15685",
   "metadata": {},
   "outputs": [],
   "source": [
    "corr = df.corr(\n",
    "    #\"pearson\"\n",
    "    #\"spearman\"\n",
    "    \"kendall\"\n",
    ")\n",
    "px.imshow(corr, height=1000)"
   ]
  },
  {
   "cell_type": "code",
   "execution_count": null,
   "id": "f59fd11c-5be9-4d87-87e9-113de3f4ec61",
   "metadata": {},
   "outputs": [],
   "source": [
    "from sklearn.decomposition import PCA\n",
    "df_one = df# / df.max()\n",
    "pca = PCA(df.shape[1])\n",
    "pca.fit(df_one)"
   ]
  },
  {
   "cell_type": "code",
   "execution_count": null,
   "id": "f2f1eb24-1356-444b-afa2-ace47fbf6791",
   "metadata": {},
   "outputs": [],
   "source": [
    "corr = pd.DataFrame(pca.transform(df_one)).corr()\n",
    "corr[corr.abs() < 0.01] = np.nan\n",
    "px.imshow(corr, height=1000)"
   ]
  },
  {
   "cell_type": "code",
   "execution_count": null,
   "id": "3a42b55e-c8cb-4113-aa0e-de4cb68ffe4e",
   "metadata": {},
   "outputs": [],
   "source": []
  },
  {
   "cell_type": "code",
   "execution_count": null,
   "id": "39e03b74-72e2-4bd2-a5b6-64c7bc60cba7",
   "metadata": {},
   "outputs": [],
   "source": []
  },
  {
   "cell_type": "code",
   "execution_count": null,
   "id": "018ff71c-00db-4289-a0e0-98cb19d7ff6f",
   "metadata": {},
   "outputs": [],
   "source": []
  }
 ],
 "metadata": {
  "kernelspec": {
   "display_name": "Python 3 (ipykernel)",
   "language": "python",
   "name": "python3"
  },
  "language_info": {
   "codemirror_mode": {
    "name": "ipython",
    "version": 3
   },
   "file_extension": ".py",
   "mimetype": "text/x-python",
   "name": "python",
   "nbconvert_exporter": "python",
   "pygments_lexer": "ipython3",
   "version": "3.12.3"
  }
 },
 "nbformat": 4,
 "nbformat_minor": 5
}
